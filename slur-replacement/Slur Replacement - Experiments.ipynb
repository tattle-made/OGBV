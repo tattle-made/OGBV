{
 "cells": [
  {
   "cell_type": "markdown",
   "metadata": {},
   "source": [
    "### Slur Replacement \n",
    "\n",
    "- Exact Matching\n",
    "- Approximate Matching\n",
    "\n",
    "\n",
    "Slurs occur in the following ways\n",
    " - handle?\n",
    " - keyword\n",
    " - hashtag"
   ]
  },
  {
   "cell_type": "code",
   "execution_count": 2,
   "metadata": {},
   "outputs": [
    {
     "name": "stdout",
     "output_type": "stream",
     "text": [
      "time: 380 µs (started: 2022-02-10 12:25:28 +05:30)\n"
     ]
    }
   ],
   "source": [
    "#!pip install -qq ipython-autotime\n",
    "\n",
    "%load_ext autotime"
   ]
  },
  {
   "cell_type": "markdown",
   "metadata": {},
   "source": [
    "### Data"
   ]
  },
  {
   "cell_type": "code",
   "execution_count": 3,
   "metadata": {},
   "outputs": [
    {
     "name": "stdout",
     "output_type": "stream",
     "text": [
      "time: 421 µs (started: 2022-02-10 12:25:29 +05:30)\n"
     ]
    }
   ],
   "source": [
    "import warnings\n",
    "\n",
    "warnings.filterwarnings(\"ignore\")"
   ]
  },
  {
   "cell_type": "code",
   "execution_count": 4,
   "metadata": {},
   "outputs": [
    {
     "data": {
      "text/html": [
       "<div>\n",
       "<style scoped>\n",
       "    .dataframe tbody tr th:only-of-type {\n",
       "        vertical-align: middle;\n",
       "    }\n",
       "\n",
       "    .dataframe tbody tr th {\n",
       "        vertical-align: top;\n",
       "    }\n",
       "\n",
       "    .dataframe thead th {\n",
       "        text-align: right;\n",
       "    }\n",
       "</style>\n",
       "<table border=\"1\" class=\"dataframe\">\n",
       "  <thead>\n",
       "    <tr style=\"text-align: right;\">\n",
       "      <th></th>\n",
       "      <th>ID</th>\n",
       "      <th>Repost</th>\n",
       "      <th>Mentions</th>\n",
       "      <th>Timestamp Of Creation</th>\n",
       "      <th>Type</th>\n",
       "      <th>Timestamp Of Scraping</th>\n",
       "      <th>Tweet</th>\n",
       "      <th>Video</th>\n",
       "      <th>Date</th>\n",
       "      <th>Search</th>\n",
       "      <th>...</th>\n",
       "      <th>Source</th>\n",
       "      <th>Likes Count</th>\n",
       "      <th>User Rt ID</th>\n",
       "      <th>Hashtags</th>\n",
       "      <th>Translate</th>\n",
       "      <th>Near</th>\n",
       "      <th>Quote URL</th>\n",
       "      <th>User Rt</th>\n",
       "      <th>Trans Dest</th>\n",
       "      <th>Retweet ID</th>\n",
       "    </tr>\n",
       "  </thead>\n",
       "  <tbody>\n",
       "    <tr>\n",
       "      <th>0</th>\n",
       "      <td>619dbbaade83f8b60cc9ac45</td>\n",
       "      <td>0</td>\n",
       "      <td>[]</td>\n",
       "      <td>2020-11-24 23:25:10 IST</td>\n",
       "      <td>hashtag</td>\n",
       "      <td>20211124094226</td>\n",
       "      <td>Y does police torture in “Custody”. B’cos it c...</td>\n",
       "      <td>0.0</td>\n",
       "      <td>2020-11-24</td>\n",
       "      <td>#RheaChakraborty</td>\n",
       "      <td>...</td>\n",
       "      <td>NaN</td>\n",
       "      <td>2.0</td>\n",
       "      <td>NaN</td>\n",
       "      <td>[\"bhartisingharrested\" \"bhartisingh\" \"bharti\" ...</td>\n",
       "      <td>NaN</td>\n",
       "      <td>NaN</td>\n",
       "      <td>NaN</td>\n",
       "      <td>NaN</td>\n",
       "      <td>NaN</td>\n",
       "      <td>NaN</td>\n",
       "    </tr>\n",
       "    <tr>\n",
       "      <th>1</th>\n",
       "      <td>619dbbaade83f8b60cc9ac46</td>\n",
       "      <td>0</td>\n",
       "      <td>NaN</td>\n",
       "      <td>2020-11-24 22:31:26 IST</td>\n",
       "      <td>hashtag</td>\n",
       "      <td>20211124094226</td>\n",
       "      <td>Proof strangulation mark on Sushant's neck &amp;am...</td>\n",
       "      <td>NaN</td>\n",
       "      <td>NaN</td>\n",
       "      <td>#RheaChakraborty</td>\n",
       "      <td>...</td>\n",
       "      <td>NaN</td>\n",
       "      <td>NaN</td>\n",
       "      <td>NaN</td>\n",
       "      <td>NaN</td>\n",
       "      <td>NaN</td>\n",
       "      <td>NaN</td>\n",
       "      <td>NaN</td>\n",
       "      <td>NaN</td>\n",
       "      <td>NaN</td>\n",
       "      <td>NaN</td>\n",
       "    </tr>\n",
       "    <tr>\n",
       "      <th>2</th>\n",
       "      <td>619dbbaade83f8b60cc9ac47</td>\n",
       "      <td>0</td>\n",
       "      <td>NaN</td>\n",
       "      <td>2020-11-24 21:48:05 IST</td>\n",
       "      <td>hashtag</td>\n",
       "      <td>20211124094226</td>\n",
       "      <td>#RheaChakraborty So many days passed, CBI coul...</td>\n",
       "      <td>NaN</td>\n",
       "      <td>NaN</td>\n",
       "      <td>#RheaChakraborty</td>\n",
       "      <td>...</td>\n",
       "      <td>NaN</td>\n",
       "      <td>NaN</td>\n",
       "      <td>NaN</td>\n",
       "      <td>NaN</td>\n",
       "      <td>NaN</td>\n",
       "      <td>NaN</td>\n",
       "      <td>NaN</td>\n",
       "      <td>NaN</td>\n",
       "      <td>NaN</td>\n",
       "      <td>NaN</td>\n",
       "    </tr>\n",
       "    <tr>\n",
       "      <th>3</th>\n",
       "      <td>619dbbaade83f8b60cc9ac48</td>\n",
       "      <td>0</td>\n",
       "      <td>NaN</td>\n",
       "      <td>2020-11-24 20:20:02 IST</td>\n",
       "      <td>hashtag</td>\n",
       "      <td>20211124094226</td>\n",
       "      <td>How is #RheaChakraborty ??</td>\n",
       "      <td>NaN</td>\n",
       "      <td>NaN</td>\n",
       "      <td>#RheaChakraborty</td>\n",
       "      <td>...</td>\n",
       "      <td>NaN</td>\n",
       "      <td>NaN</td>\n",
       "      <td>NaN</td>\n",
       "      <td>NaN</td>\n",
       "      <td>NaN</td>\n",
       "      <td>NaN</td>\n",
       "      <td>NaN</td>\n",
       "      <td>NaN</td>\n",
       "      <td>NaN</td>\n",
       "      <td>NaN</td>\n",
       "    </tr>\n",
       "    <tr>\n",
       "      <th>4</th>\n",
       "      <td>619dbbaade83f8b60cc9ac49</td>\n",
       "      <td>0</td>\n",
       "      <td>NaN</td>\n",
       "      <td>2020-11-24 18:52:59 IST</td>\n",
       "      <td>hashtag</td>\n",
       "      <td>20211124094226</td>\n",
       "      <td>All members of yuva shiv sena party of the lik...</td>\n",
       "      <td>NaN</td>\n",
       "      <td>NaN</td>\n",
       "      <td>#RheaChakraborty</td>\n",
       "      <td>...</td>\n",
       "      <td>NaN</td>\n",
       "      <td>NaN</td>\n",
       "      <td>NaN</td>\n",
       "      <td>NaN</td>\n",
       "      <td>NaN</td>\n",
       "      <td>NaN</td>\n",
       "      <td>NaN</td>\n",
       "      <td>NaN</td>\n",
       "      <td>NaN</td>\n",
       "      <td>NaN</td>\n",
       "    </tr>\n",
       "  </tbody>\n",
       "</table>\n",
       "<p>5 rows × 40 columns</p>\n",
       "</div>"
      ],
      "text/plain": [
       "                         ID Repost Mentions    Timestamp Of Creation     Type  \\\n",
       "0  619dbbaade83f8b60cc9ac45      0       []  2020-11-24 23:25:10 IST  hashtag   \n",
       "1  619dbbaade83f8b60cc9ac46      0      NaN  2020-11-24 22:31:26 IST  hashtag   \n",
       "2  619dbbaade83f8b60cc9ac47      0      NaN  2020-11-24 21:48:05 IST  hashtag   \n",
       "3  619dbbaade83f8b60cc9ac48      0      NaN  2020-11-24 20:20:02 IST  hashtag   \n",
       "4  619dbbaade83f8b60cc9ac49      0      NaN  2020-11-24 18:52:59 IST  hashtag   \n",
       "\n",
       "   Timestamp Of Scraping                                              Tweet  \\\n",
       "0         20211124094226  Y does police torture in “Custody”. B’cos it c...   \n",
       "1         20211124094226  Proof strangulation mark on Sushant's neck &am...   \n",
       "2         20211124094226  #RheaChakraborty So many days passed, CBI coul...   \n",
       "3         20211124094226                         How is #RheaChakraborty ??   \n",
       "4         20211124094226  All members of yuva shiv sena party of the lik...   \n",
       "\n",
       "   Video        Date            Search  ... Source Likes Count User Rt ID  \\\n",
       "0    0.0  2020-11-24  #RheaChakraborty  ...    NaN         2.0        NaN   \n",
       "1    NaN         NaN  #RheaChakraborty  ...    NaN         NaN        NaN   \n",
       "2    NaN         NaN  #RheaChakraborty  ...    NaN         NaN        NaN   \n",
       "3    NaN         NaN  #RheaChakraborty  ...    NaN         NaN        NaN   \n",
       "4    NaN         NaN  #RheaChakraborty  ...    NaN         NaN        NaN   \n",
       "\n",
       "                                            Hashtags  Translate  Near  \\\n",
       "0  [\"bhartisingharrested\" \"bhartisingh\" \"bharti\" ...        NaN   NaN   \n",
       "1                                                NaN        NaN   NaN   \n",
       "2                                                NaN        NaN   NaN   \n",
       "3                                                NaN        NaN   NaN   \n",
       "4                                                NaN        NaN   NaN   \n",
       "\n",
       "  Quote URL  User Rt Trans Dest Retweet ID  \n",
       "0       NaN      NaN        NaN        NaN  \n",
       "1       NaN      NaN        NaN        NaN  \n",
       "2       NaN      NaN        NaN        NaN  \n",
       "3       NaN      NaN        NaN        NaN  \n",
       "4       NaN      NaN        NaN        NaN  \n",
       "\n",
       "[5 rows x 40 columns]"
      ]
     },
     "execution_count": 4,
     "metadata": {},
     "output_type": "execute_result"
    },
    {
     "name": "stdout",
     "output_type": "stream",
     "text": [
      "time: 14 s (started: 2022-02-10 12:25:29 +05:30)\n"
     ]
    }
   ],
   "source": [
    "import pandas as pd\n",
    "\n",
    "twitter_data = pd.read_csv('twitter_data_jan6.csv')\n",
    "twitter_data.head()"
   ]
  },
  {
   "cell_type": "code",
   "execution_count": 5,
   "metadata": {},
   "outputs": [
    {
     "data": {
      "text/plain": [
       "(498872, 40)"
      ]
     },
     "execution_count": 5,
     "metadata": {},
     "output_type": "execute_result"
    },
    {
     "name": "stdout",
     "output_type": "stream",
     "text": [
      "time: 2.1 ms (started: 2022-02-10 12:25:43 +05:30)\n"
     ]
    }
   ],
   "source": [
    "twitter_data.shape"
   ]
  },
  {
   "cell_type": "code",
   "execution_count": 6,
   "metadata": {},
   "outputs": [
    {
     "name": "stdout",
     "output_type": "stream",
     "text": [
      "time: 195 ms (started: 2022-02-10 12:25:43 +05:30)\n"
     ]
    }
   ],
   "source": [
    "slurs_list = list(twitter_data['Search'])"
   ]
  },
  {
   "cell_type": "code",
   "execution_count": 7,
   "metadata": {
    "scrolled": true
   },
   "outputs": [
    {
     "data": {
      "text/plain": [
       "498872"
      ]
     },
     "execution_count": 7,
     "metadata": {},
     "output_type": "execute_result"
    },
    {
     "name": "stdout",
     "output_type": "stream",
     "text": [
      "time: 98.2 ms (started: 2022-02-10 12:25:43 +05:30)\n"
     ]
    }
   ],
   "source": [
    "len(slurs_list)"
   ]
  },
  {
   "cell_type": "code",
   "execution_count": 8,
   "metadata": {},
   "outputs": [
    {
     "data": {
      "text/plain": [
       "430"
      ]
     },
     "execution_count": 8,
     "metadata": {},
     "output_type": "execute_result"
    },
    {
     "name": "stdout",
     "output_type": "stream",
     "text": [
      "time: 148 ms (started: 2022-02-10 12:25:44 +05:30)\n"
     ]
    }
   ],
   "source": [
    "len(set(slurs_list))"
   ]
  },
  {
   "cell_type": "markdown",
   "metadata": {},
   "source": [
    "### Update slurs list to remove handles (& reply)"
   ]
  },
  {
   "cell_type": "code",
   "execution_count": 9,
   "metadata": {},
   "outputs": [
    {
     "data": {
      "text/plain": [
       "keyword    269682\n",
       "handle     124894\n",
       "reply       84953\n",
       "hashtag     19343\n",
       "Name: Type, dtype: int64"
      ]
     },
     "execution_count": 9,
     "metadata": {},
     "output_type": "execute_result"
    },
    {
     "name": "stdout",
     "output_type": "stream",
     "text": [
      "time: 190 ms (started: 2022-02-10 12:25:44 +05:30)\n"
     ]
    }
   ],
   "source": [
    "twitter_data['Type'].value_counts()"
   ]
  },
  {
   "cell_type": "code",
   "execution_count": 10,
   "metadata": {},
   "outputs": [
    {
     "name": "stdout",
     "output_type": "stream",
     "text": [
      "time: 385 ms (started: 2022-02-10 12:25:44 +05:30)\n"
     ]
    }
   ],
   "source": [
    "remain_data = twitter_data[twitter_data['Type'] !='handle']"
   ]
  },
  {
   "cell_type": "code",
   "execution_count": 11,
   "metadata": {},
   "outputs": [
    {
     "name": "stdout",
     "output_type": "stream",
     "text": [
      "time: 164 ms (started: 2022-02-10 12:25:44 +05:30)\n"
     ]
    }
   ],
   "source": [
    "remain_data = remain_data[remain_data['Type'] != 'reply']"
   ]
  },
  {
   "cell_type": "code",
   "execution_count": 12,
   "metadata": {},
   "outputs": [
    {
     "data": {
      "text/plain": [
       "array(['hashtag', 'keyword'], dtype=object)"
      ]
     },
     "execution_count": 12,
     "metadata": {},
     "output_type": "execute_result"
    },
    {
     "name": "stdout",
     "output_type": "stream",
     "text": [
      "time: 24 ms (started: 2022-02-10 12:25:44 +05:30)\n"
     ]
    }
   ],
   "source": [
    "remain_data['Type'].unique()"
   ]
  },
  {
   "cell_type": "code",
   "execution_count": 13,
   "metadata": {},
   "outputs": [
    {
     "name": "stdout",
     "output_type": "stream",
     "text": [
      "time: 114 ms (started: 2022-02-10 12:25:44 +05:30)\n"
     ]
    }
   ],
   "source": [
    "slurs_list_updated =  remain_data['Search'].unique()"
   ]
  },
  {
   "cell_type": "code",
   "execution_count": 14,
   "metadata": {},
   "outputs": [
    {
     "data": {
      "text/plain": [
       "array(['#RheaChakraborty', '#498A', '#FeministMafia', '#carryminatiroast',\n",
       "       '#JusticeForSwapnilPandey', '#ArrestRanaAyyub', '#BoycottFabIndia',\n",
       "       '#DomesticViolence', '#Dowry', '#FalseCases', '#feministsaretrash',\n",
       "       '#GenderBiasedLaws', '#HiteshaChandranee', '#Love_Nahi_Jeehad_Hai',\n",
       "       '#justiceforcabdriver', '#MensCommission', '#MensLivesMatter',\n",
       "       '#PotentialLegalTerrorist', '#MenToo', '#womenaretrash',\n",
       "       'Presstitutes', 'liberal', '#அத்தை', '#SpeakUpMen', '#RanaAyyub',\n",
       "       '#sullideals', '#PussyPower', '#reservation_kills_merit',\n",
       "       '#reservation', '#superstraight', '#RandiKutiya',\n",
       "       '#save_Hindu_Girls', 'जिहादी', 'pseudohindus', 'chrislamocommies',\n",
       "       'Sanghans', 'nationalists', 'whore', 'faggot', 'love jihad',\n",
       "       'रंडी', 'रण्डी', 'libtard', 'रंडीखाना', 'Deshdrohi Chinese',\n",
       "       'रण्डी रोना', 'लुल्ली', 'गांड', 'कुतिया', 'कुत्ती', 'कमीनी',\n",
       "       'அத்தை', 'டிகி', 'அரவாணி', 'அலி', 'கல்லு', 'பொன்ஸ்', 'ஒன்பது',\n",
       "       'मुजरा', 'हिजड़ा', 'बदसूरत', 'बलात्कार', 'लिब्राण्डू', 'नंगी_पुंगी',\n",
       "       'पागल औरत', 'Rape/R@pe/R@p3', 'Bitch', 'Victim_card', 'sekoolar',\n",
       "       'sickular', 'sc0undrel', 'R@ndi', 'Feminazi', 'Chinese corona',\n",
       "       'பொம்பள பொருக்கி', 'ங்கோத்தா', 'கோத்தா', 'தாயோளி', 'தேவ்டியா பையா',\n",
       "       'தேவ்டியா', 'சூத்து', 'லெஸ்பியன்', 'ஊம்பு', 'புண்ட',\n",
       "       'ஐட்டம்/அயிட்டம்', 'சாமான்', 'கூதி', 'ஆட்டக்காரி', 'வேசை', 'வேச',\n",
       "       'பொதுச் சொத்து', 'ஊர் மேய்றது', 'பொட்டை', 'மாங்கா', 'கோழி', 'முலை',\n",
       "       'பறத்தாயோலி', 'ஓக்க', 'தேவடியா_மவன்', 'தேவடியா பசங்களா', 'புண்டை',\n",
       "       'atrocity_act', 'arrestlucknowgirl', 'FakeCaseWaliBiwi', 'Gasti',\n",
       "       '#lovejihad', '#Misandry', '#piddilover', '#pseudohindus',\n",
       "       '#Rheality_today', '#Sanghans', '#SaveOurSons', '#SCSTAct', '🍑',\n",
       "       '#जिहादी_मुक्त_नवरात्रि', '#ஓத்த', 'आतंकवादी', 'कचरा', 'कंजर',\n",
       "       'कटा लुंड', 'कलमुंही', 'कसाई', 'काम_वाली_बाई', 'काला टेंट',\n",
       "       'काली कलूटी', 'काले तवे', 'किन्नर', 'कुल्टा', 'ख़ुसरा',\n",
       "       'गटर पैदाइश', 'गणिका', 'गद्दार', 'गधी', 'घटिया औरत', 'चंडाल',\n",
       "       'चंडाल_चौकड़ी', 'चमचा', 'चमार', 'चरित्रहीन', 'चाटुकार', 'चालू औरत',\n",
       "       'चुदाई', 'चुसल्मान', 'चुस्लामि', 'चुस्लिम', 'चूची', 'चूड़ा', 'चूस',\n",
       "       'छिनाल', 'जंगली', 'जली', 'जाहिल_औरत', 'जूता खायेगी',\n",
       "       'जोरू का गुलाम', 'झूठी औरत', 'छुतीये', 'तवाइफ़', 'दलाल', 'देहातन',\n",
       "       'देहाती औरत', 'दो कौड़ी की औरत', 'दोगली', 'धोबी', 'नल्ली', 'नाजायज़',\n",
       "       'नाल', 'पनौती', 'पिछवाड़ा', 'पेल', 'पैर की जूती', 'पॉटी',\n",
       "       'फेमिनिजम', 'बत्तमीज़', 'बहन की लोड़ी', 'बहन चोद', 'बहनजी',\n",
       "       'बाज़ारू औरत', 'बीबी', 'बुरखा धत्त', 'बुरखे वाली', 'बुल्ली',\n",
       "       'बेहूदा औरत', 'बैल बुद्धि', 'भंगी', 'भड़वा', 'भद्दी औरत', 'भांड',\n",
       "       'भांड औरत', 'भाड़े का टट्टू', 'भारत तेरे टुकड़े गैंग', 'भूतनी के',\n",
       "       'भोंकना', 'भोसड़ीwala', 'मर क्यों नहीं जाती', 'महार',\n",
       "       'मा के भोसड़े', 'मादरजात', 'मुलिया', 'मुँह मैं ले', 'मूत',\n",
       "       'मेडम जी', 'मोटी भैंस', 'म्लेच्छा', 'रांड', 'लानती', 'लेस्बियन',\n",
       "       'लोड़ू', 'लौड़ा', 'लौड़े', 'विक्टिम कार्ड', 'शरिया', 'साली', 'सुल्ली',\n",
       "       'सूअर', 'सूअर की औलाद', 'सौ टका टंच माल', 'स्कर्ट वाली बाई',\n",
       "       'हगना', 'हबशी', 'हरामजादी', 'हरामी', 'हलाला', 'हिजरा',\n",
       "       'हिज़रापंती', 'हिलाओगी', 'मादरचोद', 'भोस्डीके', 'टट्टी',\n",
       "       'जा नाली साफ़ करके आ', 'आंटी', 'லூசு கூ', 'பொட்டை நாய்', 'லூசு',\n",
       "       'தேவிடியாளுக்கு பொறந்தவன்', 'தேவிடியா புண்ட', 'சூத்தடி', 'கூFire',\n",
       "       '#छक्का', '#கொம்மா', '#ங்கோத்தா', '#சாமான்',\n",
       "       '#பெரியாராவது_மயிராவது', '#பொட்டை', '#முட்டாஉபி',\n",
       "       'anti national tukde', '498a', 'bimbo', 'toxic aunty',\n",
       "       'toilet saaf', 'buzlim', 'Characterless woman', 'chinky',\n",
       "       'Black Pepper', 'dull-it', 'Dynast Sycophants', 'Ferrorists',\n",
       "       'Izzlam', 'Katwa', 'Muzlim', 'naachne waali', 'ola u uber',\n",
       "       'Pak agents', 'pheminist', 'pissfull', 'Rice bags', 'scumbags',\n",
       "       'secular', 'Sissy', 'dented-painted', 'Toilet + saaf',\n",
       "       'Sunflowerண்டை_emoji', 'Sunflowerண்டை', 'Scumreds', 'samlaingik',\n",
       "       'ma ki chui', 'Jersey cow', 'burnol'], dtype=object)"
      ]
     },
     "execution_count": 14,
     "metadata": {},
     "output_type": "execute_result"
    },
    {
     "name": "stdout",
     "output_type": "stream",
     "text": [
      "time: 97.8 ms (started: 2022-02-10 12:25:45 +05:30)\n"
     ]
    }
   ],
   "source": [
    "slurs_list_updated"
   ]
  },
  {
   "cell_type": "markdown",
   "metadata": {},
   "source": [
    "#### Split 'Rape/R@/pe'"
   ]
  },
  {
   "cell_type": "code",
   "execution_count": 15,
   "metadata": {},
   "outputs": [
    {
     "name": "stdout",
     "output_type": "stream",
     "text": [
      "time: 103 ms (started: 2022-02-10 12:25:45 +05:30)\n"
     ]
    }
   ],
   "source": [
    "import itertools\n",
    "\n",
    "slurs_list_updated = [slur.split('/') for slur in slurs_list_updated]\n",
    "slurs_list_updated = list(itertools.chain(*slurs_list_updated))"
   ]
  },
  {
   "cell_type": "code",
   "execution_count": 16,
   "metadata": {},
   "outputs": [
    {
     "data": {
      "text/plain": [
       "280"
      ]
     },
     "execution_count": 16,
     "metadata": {},
     "output_type": "execute_result"
    },
    {
     "name": "stdout",
     "output_type": "stream",
     "text": [
      "time: 110 ms (started: 2022-02-10 12:25:45 +05:30)\n"
     ]
    }
   ],
   "source": [
    "len(slurs_list_updated)"
   ]
  },
  {
   "cell_type": "code",
   "execution_count": 17,
   "metadata": {},
   "outputs": [
    {
     "name": "stdout",
     "output_type": "stream",
     "text": [
      "time: 138 ms (started: 2022-02-10 12:25:45 +05:30)\n"
     ]
    }
   ],
   "source": [
    "#len(set(slurs_list))"
   ]
  },
  {
   "cell_type": "code",
   "execution_count": 18,
   "metadata": {},
   "outputs": [
    {
     "name": "stdout",
     "output_type": "stream",
     "text": [
      "time: 108 ms (started: 2022-02-10 12:25:45 +05:30)\n"
     ]
    }
   ],
   "source": [
    "slurs_set = set(slurs_list_updated)"
   ]
  },
  {
   "cell_type": "code",
   "execution_count": 19,
   "metadata": {},
   "outputs": [
    {
     "data": {
      "text/plain": [
       "280"
      ]
     },
     "execution_count": 19,
     "metadata": {},
     "output_type": "execute_result"
    },
    {
     "name": "stdout",
     "output_type": "stream",
     "text": [
      "time: 94.8 ms (started: 2022-02-10 12:25:45 +05:30)\n"
     ]
    }
   ],
   "source": [
    "len(slurs_set)"
   ]
  },
  {
   "cell_type": "markdown",
   "metadata": {},
   "source": [
    "#### List of slurs"
   ]
  },
  {
   "cell_type": "code",
   "execution_count": 20,
   "metadata": {
    "scrolled": true
   },
   "outputs": [
    {
     "data": {
      "text/plain": [
       "{'#498A',\n",
       " '#ArrestRanaAyyub',\n",
       " '#BoycottFabIndia',\n",
       " '#DomesticViolence',\n",
       " '#Dowry',\n",
       " '#FalseCases',\n",
       " '#FeministMafia',\n",
       " '#GenderBiasedLaws',\n",
       " '#HiteshaChandranee',\n",
       " '#JusticeForSwapnilPandey',\n",
       " '#Love_Nahi_Jeehad_Hai',\n",
       " '#MenToo',\n",
       " '#MensCommission',\n",
       " '#MensLivesMatter',\n",
       " '#Misandry',\n",
       " '#PotentialLegalTerrorist',\n",
       " '#PussyPower',\n",
       " '#RanaAyyub',\n",
       " '#RandiKutiya',\n",
       " '#RheaChakraborty',\n",
       " '#Rheality_today',\n",
       " '#SCSTAct',\n",
       " '#Sanghans',\n",
       " '#SaveOurSons',\n",
       " '#SpeakUpMen',\n",
       " '#carryminatiroast',\n",
       " '#feministsaretrash',\n",
       " '#justiceforcabdriver',\n",
       " '#lovejihad',\n",
       " '#piddilover',\n",
       " '#pseudohindus',\n",
       " '#reservation',\n",
       " '#reservation_kills_merit',\n",
       " '#save_Hindu_Girls',\n",
       " '#sullideals',\n",
       " '#superstraight',\n",
       " '#womenaretrash',\n",
       " '#छक्का',\n",
       " '#जिहादी_मुक्त_नवरात्रि',\n",
       " '#அத்தை',\n",
       " '#ஓத்த',\n",
       " '#கொம்மா',\n",
       " '#ங்கோத்தா',\n",
       " '#சாமான்',\n",
       " '#பெரியாராவது_மயிராவது',\n",
       " '#பொட்டை',\n",
       " '#முட்டாஉபி',\n",
       " '498a',\n",
       " 'Bitch',\n",
       " 'Black Pepper',\n",
       " 'Characterless woman',\n",
       " 'Chinese corona',\n",
       " 'Deshdrohi Chinese',\n",
       " 'Dynast Sycophants',\n",
       " 'FakeCaseWaliBiwi',\n",
       " 'Feminazi',\n",
       " 'Ferrorists',\n",
       " 'Gasti',\n",
       " 'Izzlam',\n",
       " 'Jersey cow',\n",
       " 'Katwa',\n",
       " 'Muzlim',\n",
       " 'Pak agents',\n",
       " 'Presstitutes',\n",
       " 'R@ndi',\n",
       " 'R@p3',\n",
       " 'R@pe',\n",
       " 'Rape',\n",
       " 'Rice bags',\n",
       " 'Sanghans',\n",
       " 'Scumreds',\n",
       " 'Sissy',\n",
       " 'Sunflowerண்டை',\n",
       " 'Sunflowerண்டை_emoji',\n",
       " 'Toilet + saaf',\n",
       " 'Victim_card',\n",
       " 'anti national tukde',\n",
       " 'arrestlucknowgirl',\n",
       " 'atrocity_act',\n",
       " 'bimbo',\n",
       " 'burnol',\n",
       " 'buzlim',\n",
       " 'chinky',\n",
       " 'chrislamocommies',\n",
       " 'dented-painted',\n",
       " 'dull-it',\n",
       " 'faggot',\n",
       " 'liberal',\n",
       " 'libtard',\n",
       " 'love jihad',\n",
       " 'ma ki chui',\n",
       " 'naachne waali',\n",
       " 'nationalists',\n",
       " 'ola u uber',\n",
       " 'pheminist',\n",
       " 'pissfull',\n",
       " 'pseudohindus',\n",
       " 'samlaingik',\n",
       " 'sc0undrel',\n",
       " 'scumbags',\n",
       " 'secular',\n",
       " 'sekoolar',\n",
       " 'sickular',\n",
       " 'toilet saaf',\n",
       " 'toxic aunty',\n",
       " 'whore',\n",
       " 'आंटी',\n",
       " 'आतंकवादी',\n",
       " 'कंजर',\n",
       " 'कचरा',\n",
       " 'कटा लुंड',\n",
       " 'कमीनी',\n",
       " 'कलमुंही',\n",
       " 'कसाई',\n",
       " 'काम_वाली_बाई',\n",
       " 'काला टेंट',\n",
       " 'काली कलूटी',\n",
       " 'काले तवे',\n",
       " 'किन्नर',\n",
       " 'कुतिया',\n",
       " 'कुत्ती',\n",
       " 'कुल्टा',\n",
       " 'गटर पैदाइश',\n",
       " 'गणिका',\n",
       " 'गद्दार',\n",
       " 'गधी',\n",
       " 'गांड',\n",
       " 'घटिया औरत',\n",
       " 'चंडाल',\n",
       " 'चंडाल_चौकड़ी',\n",
       " 'चमचा',\n",
       " 'चमार',\n",
       " 'चरित्रहीन',\n",
       " 'चाटुकार',\n",
       " 'चालू औरत',\n",
       " 'चुदाई',\n",
       " 'चुसल्मान',\n",
       " 'चुस्लामि',\n",
       " 'चुस्लिम',\n",
       " 'चूची',\n",
       " 'चूस',\n",
       " 'चूड़ा',\n",
       " 'छिनाल',\n",
       " 'छुतीये',\n",
       " 'जंगली',\n",
       " 'जली',\n",
       " 'जा नाली साफ़ करके आ',\n",
       " 'जाहिल_औरत',\n",
       " 'जिहादी',\n",
       " 'जूता खायेगी',\n",
       " 'जोरू का गुलाम',\n",
       " 'झूठी औरत',\n",
       " 'टट्टी',\n",
       " 'तवाइफ़',\n",
       " 'दलाल',\n",
       " 'देहातन',\n",
       " 'देहाती औरत',\n",
       " 'दो कौड़ी की औरत',\n",
       " 'दोगली',\n",
       " 'धोबी',\n",
       " 'नंगी_पुंगी',\n",
       " 'नल्ली',\n",
       " 'नाजायज़',\n",
       " 'नाल',\n",
       " 'पनौती',\n",
       " 'पागल औरत',\n",
       " 'पिछवाड़ा',\n",
       " 'पेल',\n",
       " 'पैर की जूती',\n",
       " 'पॉटी',\n",
       " 'फेमिनिजम',\n",
       " 'बत्तमीज़',\n",
       " 'बदसूरत',\n",
       " 'बलात्कार',\n",
       " 'बहन की लोड़ी',\n",
       " 'बहन चोद',\n",
       " 'बहनजी',\n",
       " 'बाज़ारू औरत',\n",
       " 'बीबी',\n",
       " 'बुरखा धत्त',\n",
       " 'बुरखे वाली',\n",
       " 'बुल्ली',\n",
       " 'बेहूदा औरत',\n",
       " 'बैल बुद्धि',\n",
       " 'भंगी',\n",
       " 'भद्दी औरत',\n",
       " 'भांड',\n",
       " 'भांड औरत',\n",
       " 'भारत तेरे टुकड़े गैंग',\n",
       " 'भाड़े का टट्टू',\n",
       " 'भूतनी के',\n",
       " 'भोंकना',\n",
       " 'भोसड़ीwala',\n",
       " 'भोस्डीके',\n",
       " 'भड़वा',\n",
       " 'मर क्यों नहीं जाती',\n",
       " 'महार',\n",
       " 'मा के भोसड़े',\n",
       " 'मादरचोद',\n",
       " 'मादरजात',\n",
       " 'मुँह मैं ले',\n",
       " 'मुजरा',\n",
       " 'मुलिया',\n",
       " 'मूत',\n",
       " 'मेडम जी',\n",
       " 'मोटी भैंस',\n",
       " 'म्लेच्छा',\n",
       " 'रंडी',\n",
       " 'रंडीखाना',\n",
       " 'रण्डी',\n",
       " 'रण्डी रोना',\n",
       " 'रांड',\n",
       " 'लानती',\n",
       " 'लिब्राण्डू',\n",
       " 'लुल्ली',\n",
       " 'लेस्बियन',\n",
       " 'लोड़ू',\n",
       " 'लौड़ा',\n",
       " 'लौड़े',\n",
       " 'विक्टिम कार्ड',\n",
       " 'शरिया',\n",
       " 'साली',\n",
       " 'सुल्ली',\n",
       " 'सूअर',\n",
       " 'सूअर की औलाद',\n",
       " 'सौ टका टंच माल',\n",
       " 'स्कर्ट वाली बाई',\n",
       " 'हगना',\n",
       " 'हबशी',\n",
       " 'हरामजादी',\n",
       " 'हरामी',\n",
       " 'हलाला',\n",
       " 'हिजरा',\n",
       " 'हिज़रापंती',\n",
       " 'हिजड़ा',\n",
       " 'हिलाओगी',\n",
       " 'ख़ुसरा',\n",
       " 'அத்தை',\n",
       " 'அயிட்டம்',\n",
       " 'அரவாணி',\n",
       " 'அலி',\n",
       " 'ஆட்டக்காரி',\n",
       " 'ஊம்பு',\n",
       " 'ஊர் மேய்றது',\n",
       " 'ஐட்டம்',\n",
       " 'ஒன்பது',\n",
       " 'ஓக்க',\n",
       " 'கல்லு',\n",
       " 'கூFire',\n",
       " 'கூதி',\n",
       " 'கோத்தா',\n",
       " 'கோழி',\n",
       " 'ங்கோத்தா',\n",
       " 'சாமான்',\n",
       " 'சூத்தடி',\n",
       " 'சூத்து',\n",
       " 'டிகி',\n",
       " 'தாயோளி',\n",
       " 'தேவடியா பசங்களா',\n",
       " 'தேவடியா_மவன்',\n",
       " 'தேவிடியா புண்ட',\n",
       " 'தேவிடியாளுக்கு பொறந்தவன்',\n",
       " 'தேவ்டியா',\n",
       " 'தேவ்டியா பையா',\n",
       " 'பறத்தாயோலி',\n",
       " 'புண்ட',\n",
       " 'புண்டை',\n",
       " 'பொட்டை',\n",
       " 'பொட்டை நாய்',\n",
       " 'பொதுச் சொத்து',\n",
       " 'பொன்ஸ்',\n",
       " 'பொம்பள பொருக்கி',\n",
       " 'மாங்கா',\n",
       " 'முலை',\n",
       " 'லூசு',\n",
       " 'லூசு கூ',\n",
       " 'லெஸ்பியன்',\n",
       " 'வேச',\n",
       " 'வேசை',\n",
       " '🍑'}"
      ]
     },
     "execution_count": 20,
     "metadata": {},
     "output_type": "execute_result"
    },
    {
     "name": "stdout",
     "output_type": "stream",
     "text": [
      "time: 13.1 ms (started: 2022-02-10 12:25:48 +05:30)\n"
     ]
    }
   ],
   "source": [
    "slurs_set"
   ]
  },
  {
   "cell_type": "markdown",
   "metadata": {},
   "source": [
    "#### Tweets with Rape keyword"
   ]
  },
  {
   "cell_type": "code",
   "execution_count": 21,
   "metadata": {},
   "outputs": [
    {
     "name": "stdout",
     "output_type": "stream",
     "text": [
      "time: 46.1 ms (started: 2022-02-10 12:25:50 +05:30)\n"
     ]
    }
   ],
   "source": [
    "rape_tweets = list(twitter_data[twitter_data['Search']=='Rape/R@pe/R@p3']['Tweet'])"
   ]
  },
  {
   "cell_type": "code",
   "execution_count": 22,
   "metadata": {},
   "outputs": [
    {
     "data": {
      "text/plain": [
       "['When people post potentially triggering content, why don’t they write the word out and instead choose to ‘censor’ it? Coz we mute words like “rape” and then tweets still pop up with “r*pe” or “r@p3” or “r/pe” or a dozen other variations. It’s very... 🥴🤧',\n",
       " 'like stop typing rape as r@p3 or r*pe or anything like that bc then someone who had rape blacklisted could still get it on the tl and inadvertently be triggered   just at the top of tweet: tw // rape   easy.',\n",
       " 'The guy that tried to rape me when I was 17 died a couple days.   Hm. Sad.',\n",
       " 'During the day, RSS terrorists kidnap and rape underage girls and then either kill them after the rape or release them alive.  This is the true face of India. #IndiaIsNotSafeforWomen #Pakistanissafeforwomen  @UN  @UNHumanRights',\n",
       " '@IYC 😂😂😂 tmhri shayari same waise h jaisi pappu ko batein...ek rape peedit ladki k maa baap ka chehra dikhana tum galat nhi mante pr lecture pelna h har topic pr',\n",
       " '@estherk_k I sometimes wonder if it is just Twitter, but then I remember statues really are falling, gravestones being desecrated, books rewritten or banned, shows and movies censored or ditched, woman-only jobs given to men in dresses, rape crisis centres taken over by TRA misogynists...',\n",
       " '@amyalkon @CHSommers This guy didn\\'t need rape to have more than 50 children and half a dozen wives. He just have to ask the maiden for a ride on his horse, and some of them will offer their bodies as a \"horse\", hahahaha',\n",
       " \"@PatrickChristys Yes but he didn't ask to be exempted from the law did he? Or rape anybody...because the Royals you care about dot dot dot\",\n",
       " '@LocalMalaysian @sn0flak @MalangKhostay Why is rape of young boys the most common thing between Muslim countries?',\n",
       " \"@Scarlet55525651 @MercShefali @Ahsan05734734 @khanumarfa Yeah, that's what I said. A country in which majority of people worship goddesses has the most problems involving women like rape, female foeticide, murder for dowry etc. Ironic, isn't it?\"]"
      ]
     },
     "execution_count": 22,
     "metadata": {},
     "output_type": "execute_result"
    },
    {
     "name": "stdout",
     "output_type": "stream",
     "text": [
      "time: 3.01 ms (started: 2022-02-10 12:25:51 +05:30)\n"
     ]
    }
   ],
   "source": [
    "rape_tweets[:10]"
   ]
  },
  {
   "cell_type": "markdown",
   "metadata": {},
   "source": [
    "\n",
    "#### Tweets with रण्डी Keyword"
   ]
  },
  {
   "cell_type": "code",
   "execution_count": 23,
   "metadata": {},
   "outputs": [
    {
     "name": "stdout",
     "output_type": "stream",
     "text": [
      "time: 40.7 ms (started: 2022-02-10 12:25:51 +05:30)\n"
     ]
    }
   ],
   "source": [
    "randi_tweets = list(twitter_data[twitter_data['Search']=='रण्डी']['Tweet'])"
   ]
  },
  {
   "cell_type": "code",
   "execution_count": 24,
   "metadata": {},
   "outputs": [
    {
     "data": {
      "text/plain": [
       "['@sharma_4114 @alok_ajay रण्डी रोना कौन सा शब्द है, 16साल से बिहार में सरकार है फिर भी आज अपनी नाकामी छुपाने के लिए दूसरों को कोश रहे हो। बिहार अब एक ही काम करने पर बदलेगा हर 5साल में सरकार बदलने पर',\n",
       " '@Subhash94363966 @AmitShah @narendramodi सेफाई में जो रण्डी नचा रहे थे तब ये ज्ञान कहा था',\n",
       " '@hisaurabhshah @SrBachchan राजनीति तुम जेसे रण्डी भरवा का खेल नहीं है',\n",
       " '@Bestum_best @SreenivasanJain This is not crying, it is रण्डी रोना',\n",
       " '@Atheist_Krishna जब कुछ लोग हज हाउस बनवा रहे थे तब ये अपने बिल में छुपा था और अब ये सब देखकर इसका रण्डी रोना शुरू हो गया... ढोंगी सेकुलर...',\n",
       " '@SreenivasanJain रण्डी रोना चालू हो गया तुमलोगो का.. उनके बारे में भी बताओ जिन्होंने ने सेकुलर संविधान की कसम खा के हज हाउस बनवाए... #KashiVishwanathCorridor',\n",
       " '@vinodkapri @rohitt_tripathi अत्याचारी पुलिस । देश में पुलिस एक रण्डी की तरह हो है। जब चाहे लगी रहती है।',\n",
       " '@pbhushan1 प्रशांत भूषण वकालत किसलिए करता है re बेवकूफ। ट्विटर में रण्डी राग अलापने के लिए क्या ? अब तू किसी काम का नही है। जूते सिलना सुरू कर।',\n",
       " 'मैं बच्चे तो करूंगा लेकिन नहीं चाहूंगा वो मेरी तरह हों, जो मां के सुख को ताक पर रखकर, उनके सुकून को भूलकर अपने प्रेम के रण्डी रोने में रातें जागकर बिताएगा.. कभी नहीं...!!!',\n",
       " '@_Ekla_Chalo_Re_ @AMISHDEVGAN अबे नँगे जब रोटी खिला नही सकता तो बच्चे पैदा क्यों करता है तुम्हरे तो रोज का यही रण्डी रोना है तो क्या धार्मिक कार्य न करें']"
      ]
     },
     "execution_count": 24,
     "metadata": {},
     "output_type": "execute_result"
    },
    {
     "name": "stdout",
     "output_type": "stream",
     "text": [
      "time: 3.93 ms (started: 2022-02-10 12:25:51 +05:30)\n"
     ]
    }
   ],
   "source": [
    "randi_tweets[:10]"
   ]
  },
  {
   "cell_type": "markdown",
   "metadata": {},
   "source": [
    "#### Tweets with tamil keyword லூசு"
   ]
  },
  {
   "cell_type": "code",
   "execution_count": 25,
   "metadata": {},
   "outputs": [
    {
     "name": "stdout",
     "output_type": "stream",
     "text": [
      "time: 83.7 ms (started: 2022-02-10 12:25:54 +05:30)\n"
     ]
    }
   ],
   "source": [
    "tamilslur_tweets = list(twitter_data[twitter_data['Search']=='லூசு']['Tweet'])[:100]"
   ]
  },
  {
   "cell_type": "code",
   "execution_count": 26,
   "metadata": {},
   "outputs": [
    {
     "data": {
      "text/plain": [
       "['@BJP4TamilNadu ஏற்கனவே அடிக்கல் நாட்டின இடத்துல செங்கல் கூட இல்லை..இந்த நாய் என்னடான்னா இன்னும் நெறய இடத்துல அடிக்கல் நாடனும்னு சொல்றான்..லூசாடா நீ..நட்டுனதே காணல..அதுக்குள்ள குஜராத்திலா. அய்யோ இவன் லூசா இல்ல லூசு மாதிரி நடிக்குறானானு தெரியல...',\n",
       " '@DrShivaaPhD நேத்து ஒருத்தன் வந்தான் பாரு லூசு பையன் இவன் அண்ணன் ,அவன் இவனுக்கு மேல mental புண்ட ah iruppan போல, நீ பண்ணறது தான் correct apadiye play பண்ணு\" சொள்ளுறான்',\n",
       " '@sugumar_am அட லூசு பயலே! கல்யாணவீட்டிற்கு மொய் கூட இப்ப ஆயிரம் ரூபாய்க்கு மேல் வைக்கிறானுக. நீ எந்த காலத்தில இருக்கிறாய் சுடல.....😭😭😭😭',\n",
       " 'லூசு சங்கிகள்லாம் தமிழனுக்கு புத்தாண்டு சித்திரையில்னு வாட்சப் ஸ்டேடஸ்ல உருண்டுட்டு கிடக்கானுக 😂 சோ தட் உரக்க சொல்லுவோம் HAPPY NEW YEAR !!!',\n",
       " '@itz_crazykichu லூசு லூசுண்ணு சொல்லிட்டான் பாரு..😖😖😖 என் தங்கச்சி யா..😖😖 பாரும்ம இவன் வள்ளலா @sangeetha112233  உன்ன லூசுண்ணு சொல்றான்..  https://t.co/ZN3E2myEeS',\n",
       " '@Narayanan3 அட நம்ம லூசு நாரபயல்',\n",
       " '@BoneyKapoor @PawanKalyan @shrutihaasan @i_nivethathomas @yoursanjali @AnanyaNagalla @SVC_official @BayViewProjOffl @MusicThaman டேய் தண்ட புண்டை தடிமாட்டு புண்டை ஊல புண்டை செட்டு புண்டை மட புண்டை கிழட்டு புண்டை போனி புண்டை லூசு புண்டை 😡😡😡😡😡😡😡😡😡😡😡😡😡😡😡',\n",
       " '@idumbaikarthi நீ ஏண்டா குடிக்குற ..  மதுவிலக்கை அமல் படுத்தினா எங்க விற்க போறாங்க   போடா லூசு பயலே',\n",
       " '@DILIPDRAVID 😂😂 லூசு',\n",
       " '@Narayanan3 லூசு நாராயணன்  https://t.co/Ktv7rUcE0n',\n",
       " '@urs_master @Spartan_Ajith7 உன்னை ஓ&amp;தவன் டா ....  இந்த மாதிரி 6,7மாதம் முன்னாடி வாய் பேசி தான் #June22Blackday டேக் போட்டு விஜய் அண்ணா சூத்தடிச்சாங்க டா லூசு கூதி',\n",
       " 'அது தில்லு இல்ல ,லூசு அப்படித்தான் பேசும் பாலாஜி ஒரு லூசு திகூ #lowlifebala',\n",
       " '@prakasht_ விஸ் பண்ணினதே எனக்கு தான் லூசு',\n",
       " '@Arunkum87519064 @SuryanFM அப்டி ஓரமா போய் ஊம்பு டா லூசு.. 😏',\n",
       " '@BoneyKapoor லூசு புண்ட போய் தூங்கு Happy new year 💐',\n",
       " '@silenttwits3 லூசு வாழ்த்துக்கள் இந்த வருடம் மேர்ஜ் நடக்க.. 😃🙌',\n",
       " '@idumbaikarthi அட லூசு',\n",
       " '1hrs more னு ட்விட் போட போறன் இப்போ இந்த லூசு ******   #Valimai  https://t.co/cFY3S8r1fB',\n",
       " '#BalajiMurugaDoss  வளர்ப்பு அப்படி அதான் லூசு டைண்பு மாதிரி பேசுறான். அவன வளர்த்தவ @ArchanaChandhok  அப்ப அப்படி த்தான இருப்பான்  #BalajiMurugaDoss  #BiggbossTamil4',\n",
       " '@Scorpion1033 Jii..அது மரை கழன்ட டைப்... நாதக லூசு',\n",
       " '@Prema04957918 ரொம்ப ஏங்காதே லூசு',\n",
       " '@Prema04957918 அட போ லூசு என்னமோ.பன்னு உனக்கு ஒருத்தன் வருவான் இரு அதுவரை',\n",
       " 'லூசு கூதி மாதிரி காமெடி பண்ணாதடா முட்டா புண்ட',\n",
       " 'தாமரைய சப்போர்ட் பண்றவனுக பெரும் லூசு கூதிங்களா இருக்கானுக..  Verified  #BiggBossTamil5',\n",
       " '@Sivavijay08 @p_nikumar லூசு பயலே. மோடி ஆட்சியில் தான் டா 45 ஆண்டுகளில் இல்லாத அளவுக்கு வேலை இல்லா திண்டாட்டம் அதிகரித்துள்ளது. 2018 ல தான் அதிகம்.',\n",
       " '@SowdhaMani7 லூசு',\n",
       " '@Sivavijay08 @p_nikumar நான் லூசு இல்லை டா சங்கி. நீ தான் லூசு.',\n",
       " '@sathik1979 ஒரே நாள் ₹10-₹20 உயர்த்தினால் கஷ்டம்டா லூசு..  https://t.co/wEpMLOPeZY',\n",
       " '@DrSharmila15 @annamalai_k ஏய் லூசு, தமிழ் புத்தாண்டு போட்டு வேற வச்சிருக்கான் , எங்களுக்கு சித்திரை மாதம் தமிழ் புத்தாண்டு.தத்தியை தளபதி னு எத்துக்கிட்ட அப்படி தான்',\n",
       " '@CTR_Nirmalkumar இல்லடா no corona ன்னு சொன்ன corona போய் விடும் ...உன்ன மாறி லூசு கிருக்கணுக எல்லாம் எப்படி டா இருக்கீங்க ..',\n",
       " 'உனக்கு லாம் ஏன்டா லவ்வு புண்ட லூசு புண்ட @BeastVj_ 🥵🥵😤',\n",
       " '#Priyanka worst da #BiggBossTamil #BiggBoss5Tamil #Amir இவன் ஒரு லூசு paadathi paya. Epa paaru #thamarai kitta than வீரத்த kaatuvaru. Atha #nariyanka #pavni kitta kaattu man',\n",
       " '@DavidSu39202573 @HariCSstone எல்லாம் என் ப்ரோஃபைலில் தெளிவாக இருக்கு. உன்னைய மாதிரி ப்ரோஃபைல்ல லூசு மாதிரி எழுதி வெச்சுட்டு மனிதன்னு சொல்ற கேணையன் நான் இல்ல மனிதா..🤗',\n",
       " '@Rascal1_ பாதி லூசு பயலுவ ஆர்வகோளாறு ல இந்த ட்விட் ல தான் உருண்டுட்டு இருக்கானுக',\n",
       " 'இப்ப அவன் என்ன தப்பா கேட்டுட்டான்.. லூசு குடை மாதிரி ரிப்ளே பண்ற! என்ன சொன்னாலும் நாலு பேர் RT பண்றாங்கனு கண்டதையும் காமெடினு பேசாதிங்கடா..',\n",
       " '@Sri_Sri_yd லூசு கபோதி ங்க இவனும்',\n",
       " '@I_m_PraS அதான் டா இதான் டா லூசு புண்ட நீ தான் டா  ❤️',\n",
       " '@Moorthy67592878 @PThillaiarasu @SeemanOfficial @NaamTamilarOrg அவனுக்கு அடிப்படை அரசியல் புரிதல் இருந்தான் ஏன் கேக்க போரான், வெறும் நாக்பூர் ஸ்கிரிப்ட் படிச்சு வந்தவன் லூசு தாயோளி...',\n",
       " '@lawranceramsam லவ்வுலயே லூசு மாதிரி போய்கிட்டு இருக்கக்கூடாது. காசு இருந்தாதான் நிம்மதியா லவ் பண்ண முடியும்... தொலஞ்சது போகட்டும்.. காசு சேத்துக்கலாம் இனி.. 💪',\n",
       " '@DrSharmila15 @annamalai_k அட லூசு சூரியனுக்கு தான் தை பொங்கல் கொண்டாடு வாங்க ...நீ போய் உன் பீகார் ல ஹோலி கொண்டாடு #GoBackModi  https://t.co/dIJhvhR62F',\n",
       " '@Unapologetics12 @CTR_Nirmalkumar Solar Deity ன்னா என்னனு படிச்சிட்டு வாடா லூசு கோயான்..அரை அறிவோட சுத்துனா.. இப்படித்தான் முக்கா மண்டையனுகளுக்கு சப்போர்ட் பண்ண வேண்டி வரும்..',\n",
       " '@chirrup_s @Siva47230682 @thatsTamil அட லூசு முருக பெருமான் நெற்றிகண் அக்னியில் இருந்து பிறந்தவர் அவரை கிண்டல் செய்கிறாயா?மனிதன் விந்துவிளிருத்து பிறக்கும் பொழுது கடவுளின் சக்தியால் எதிளிருந்தும் பிறக்க வைக்கமுடியும்.',\n",
       " '@kambamrani பேடி லூசு கூதி',\n",
       " '@ChitraPriya19 @MaaMethai @karthikgnath @PRAKASH_TNBJP @CAO_asthina @Selvara55058214 @24477_91765 @MANI32292528 @twitsof_pilot @GokulRamachan14 @BabuVedhapuri @gayathr33537584 @shbundela @FBI ஒழுங்கா டேக் பண்றத விட்டு ஆம்பள மாதிரி tweet போடு. உனக்கு சொல்லிட்டேன் y இப்படி லூசு மாதிரி பண்றே',\n",
       " '@Arunan22 நீ பாவாடைதான அப்படிதான் ஒளறுவ 😂😂😂 லூசு கிரிஸ்டோபரன்',\n",
       " '@TNMakkal டேய் லூசு இது',\n",
       " '@Arunan22 அடேங்கப்பா உனக்கு  சோறு போடற ஓனரை சொன்னவுடன் ரொம்ப ரோசம் வருதா ? லூசு',\n",
       " '@Arunan22 அடே  வி......... புரோக்கர் பயளே கம்மனாட்டிகள் என்ற போர்வையில் சீனத்து சப்பமூக்கனுக்கு கூட்டி கொடுக்கும் வேலைதானே  உங்க கொள்ளை பொத்திக்கிட்டு இருடா லூசு.',\n",
       " '@news7tamil @INCTamilNadu @arivalayam @BJP4TamilNadu @mkstalin இரண்டு மூடர் சங்கி மங்கி லூசு',\n",
       " '@Arunan22 சன் குழுமம் கார்ப்பரேட்தானேடா 200 ரூபாய் கொத்தடிமை லூசு.',\n",
       " '@Arunan22 போங்க லூசு',\n",
       " '@SanghiPrince @MajorSimhan @Dharmaselva11 ஏண்டா சொங்கி நான் #GoBackModi ன்னு போட்டு கிழிச்சுட்டு இருக்கேன் இங்க வந்து மெண்டல் மாதிரி இளிச்சுக்கிட்டு இருக்க லூசு சொங்கி 🤣🤣🤣🤣🤪🤪',\n",
       " '@Arunan22 ஏன்டா லூசு பிஜேபி ஆட்சிக்கு வந்து 7 வருடம் ஆச்சு எங்குடா சிறுபான்மையினர் தாக்க பட்டு உள்ளார்கள்.ஆனால்.கம்மி ஆளும் கேரளாவில் கிறிஸ்தவர்கள் முஸ்லிம்கள் அடித்து கொள்கிறார்கள்',\n",
       " '@FreakyBoy_Offcl லூசு புண்ட',\n",
       " '@CTR_Nirmalkumar அடேய் லூசு',\n",
       " '@FreakyBoy_Offcl லூசு கூதி',\n",
       " '@Shivsaravan @BAN_NEET அடேய் லூசு புண்ட... யாருடா நீ மாங்கா மடையா😂',\n",
       " '@Arunan22 அவர் கார்ப்பரேட் கம்பெனிகள்னு சொன்னது சன் டிவி நிறுவனங்கள்.. திமுக குடும்பத்துக்கு சொந்தமான கார்ப்பரேட் நிறுவனங்கள். மருத்துவமனைகள்.. பார்மாசூட்டிகல் கம்பெனிகள். சாராய ஆலைகள் இதைத்தான்..   மோடிக்கு சொந்தமான கார்ப்பரேட் கம்பெனி பேர் ஒண்ணே  ஒண்ணு சொல் பாப்போம்.. லூசு அருணன்..',\n",
       " 'லூசு தாத்தா 😏',\n",
       " '@sankar_pandi @ILANGOSUYAMPIR1 @Arunan22 லூசு அருணன்.',\n",
       " '@JadAntony @devpromoth @SeemanOfficial கடைசி வரை திமுகவை திட்டி கொண்டே இருப்பான் லூசு',\n",
       " 'போடா லூசு புண்ட',\n",
       " '@devpromoth அந்த லூசு, இதை 2019 தேர்தலில் இருந்து சொல்லிட்டு வரான், திமுகவிற்கு பிஜேபி கொள்கை ரீதியான எதிரி, என்றைக்கும் கூட்டணி வைக்க மாட்டோம் என்று எங்கள் தலைவர் பலமுறை கூறிவிட்டார்... இந்த நாய் சாமான் பிஜேபிக்கு ஓட்டு கேட்டுவிட்டு ஒலருது...',\n",
       " '@VijayFansTrends @actorvijay @ManobalaV மாஃபியா தாயோளி இந்த லூசு கூதியான் தான.  https://t.co/Cg5oEx8O0E',\n",
       " '10வருசமா பல்லுபடாம ப்பிக்கிட்டு இருந்தியா லூசு',\n",
       " '@vanakkam777 @Manju_Chennai @mkstalin டேய் லூசு  என்னடா தெரியனும்',\n",
       " '@Arjunatweets @Itz_Kishore7 லூசு புண்டை இதுவே CP டா பொண்டுக',\n",
       " '@SidTweep இல்ல லூசு ஒன்லி promo 😁',\n",
       " 'லூசு கூதி',\n",
       " '@lulukumar1234 @rajinikanth @kabirkhankk @therealkapildev @RanveerOfficial @JiivaOfficial பாரதிராஜா படத்தை கூட தலைவர் பாராட்டி தான் டா பேசுவாரு. லூசு பயலே',\n",
       " '@DrSharmila15 @savukku எதிர்கட்சியாக இருக்கும் போது கருப்பு கொடி காட்டலாம், முதல்வர் ஆக இருக்கும் போது புரோட்டாகால் படி விமான நிலையத்தில் வரவேற்றுதான் ஆகனும்...  இந்த லூசு 2019ல் இருந்து திமுக பிஜேபி கூட்டணி அமையும் என்று கத்திட்டு இருந்தான் ஒன்னும் நடக்கல...',\n",
       " '@prak_jaibhim @VanniArasu_VCK வன்னிய பார்த்தா அப்படி தெரியலையே, பைத்தியகார லூசு பீஸ் மாதிரி இருக்கானே',\n",
       " '@savukku உன் கட்சிக்காரரை காங்கிரஸ் கட்சியில் ஒரு கட்சிக் கொடி கட்ட துப்பு இல்லை வந்து பேச வந்துட்டான் லூசு பையன்',\n",
       " '@Sairam2392 லூசு அப்படியெல்லாம் பேசாத எல்லாம் சரியாகிவிடும்',\n",
       " '@vanakkam777 @Manju_Chennai @mkstalin டேய் நீ fake id என்பதால் தான் ஒரளவுக்கு பதில் ஒரிஜினல் id ல வா விவரமாக பேசலாம் லூசு சங்கி.உன்னை ராங்ராஜ் பாண்டே மயிறுதாஸ் பேச்சை கேட்டால் இப்படி தான் பேசுவ',\n",
       " '@vanakkam777 @Manju_Chennai @mkstalin Dai lusu pundai ஓன்றிய அரசே பணம் இல்லன்னு சொல்லிட்டு விக்கிறங்க. தமிழ்நாட்டு அமெரிக்கா பணம் கொடுக்குமா லூசு சங்கி',\n",
       " '@news7tamil @SeemanOfficial @NaamTamilarOrg சங்கி சீமான் ஒரு லூசு.  அவருக்கு என்ன எதை வேண்டுமானாலும் உளறிக் கொட்டுவார்.',\n",
       " '@Arunan22 யாரு.. பாஜக..கஞ்சிக்கு செத்தவர்களா... நீ..என்னடா..மயிரே கர்ணன்.. பரம்பரைல வந்தவனா.. கிரிப்டோ &amp; சீன கைக்கூலி தானே.. 25 கோடி ஓனர்கிட்ட... பிச்சை எடுத்த உண்டி குளுக்கி.. லூசு.. நீ.. பேசற... அதான்.. WB, மணிப்பூர்னு தொடச்சி எறிஞ்சிட்டமே.. இன்னுமா ஆணவம் அடங்கல..',\n",
       " '@devpromoth சங்கி சீமான் ஒரு லூசு.  என்ன வேண்டுமானாலும் பேசுவார்  அவருக்கு எல்லாம் பதில் சொல்ல வேண்டிய அவசியம் கிடையாது.',\n",
       " '@DonUpdates_in இந்த லூசு இதை 2019ல் சொல்லிகிட்டு வரான்... 😁😀',\n",
       " '@tadarahim7 வாடா லூசு ஓசாமா படத்தை பைக்கில் வச்சுட்டு தமிழக முஸ்லிம்களை பழிச்சொல்லுக்கு ஆளாக்கியவன் தானே நீ தடா ரஹீமாம் சுதந்திர போராட்டத்திலாயா தடாவில் உள்ள போனே',\n",
       " '@Albertshah6 @JSKGopi வந்துட்டான் லூசு பாரர்பபணீயமே மாயை...',\n",
       " '@AK179010 டேய் லூசு பயலே ஒரு மாநில அரசு பிரதமரை திரும்பிப் போ என்று சொல்ல முடியாது, ஆனால் தொண்டர்கள் நாங்கள் என்றுமே #GoBackModi தான் டா',\n",
       " '@appaavi_kidd பொண்ணுங்க எதுக்கு இந்த லூசு கொய்ந்த பின்னால சுத்தறாங்க? நகையெல்லாம் கொடுக்கறாங்க .....நம்ப முடியலியே...',\n",
       " '@Manojku38000500 இவன் லூசா இல்ல லூசு மாதிரி நடிக்கிறேனா....',\n",
       " '@kailasatweets மனு தர்ம துரோகியா இந்த லூசு!..',\n",
       " '@DeepaTwitz லூசு,😜',\n",
       " 'போடி லூசு முண்ட 🤣 போன தர வாங்கினது போறாதுன்னு திருப்பி வந்துட்டா எங்களுக்கு தான் உன்னோட bias and ignorance, brown sep0y activism தாங்க முடியல',\n",
       " '@bullet_tweet @Meenakrish_ மாம்ஸ் நீ இல்ல மீனா அக்கா தான் லூசு',\n",
       " '@vijaylaxmisrik1 @Arunan22 லூசு அருணா உனக்கு இந்த அசிங்கம் தேவையா 😂😂',\n",
       " '@Culprit_Sandy @AzarVijay5 யார் அந்த லூசு கூதி🙂',\n",
       " '@sathik1979 @Narayanan3 டேய் மட ... கேஸ் விலை 3 டாலரில் இருந்து 6 டாலர் ஏறினால் விலை ஏறாமல் இருக்குமா?? லூசு ...  https://t.co/UyOWqL0PYd',\n",
       " '@greatapache1 @JSKGopi வந்துண்டாண் லூசு...திராவிடமே மாயை...',\n",
       " '@ranjanikovai ஏன் கனகு லூசா லூசு மாதிரியா பிடிச்சதே இது தான்  https://t.co/zBMSfUxk6D',\n",
       " '@Madhanblacky2 லூசு புண்ட',\n",
       " '@Meenakrish_ லூசு🏃🏻🏃🏻',\n",
       " '@kabilan_velu இவன் காமெடிய கேட்டு கேட்டு போரடிச்சி போச்சு லூசு பய',\n",
       " '@Meenakrish_ @maduraiboy007 லூசு இரு கேக்குறேன்',\n",
       " '@Arunan22 மென்டெல் நீ லூசா இல்லா லூசு மாதறி நடிக்கிறியா.',\n",
       " '@Arunan22 யோவ் லூசு உங்க ஓனர் ஏன் இப்போதெல்லாம் அம்பானி அதானி பற்றி பேசுவதில்லை ஏனென்றால் இப்பொழுது அவர்கள் உங்க ஓனரின் தொழில் பார்ட்னர்கள்.. ரொம்ப கூவாத அந்த நாலு 🍖🍖🍖🍖 நல்லி எலும்பும் கிடைக்காது அப்புறம்']"
      ]
     },
     "execution_count": 26,
     "metadata": {},
     "output_type": "execute_result"
    },
    {
     "name": "stdout",
     "output_type": "stream",
     "text": [
      "time: 9.36 ms (started: 2022-02-10 12:25:55 +05:30)\n"
     ]
    }
   ],
   "source": [
    "tamilslur_tweets"
   ]
  },
  {
   "cell_type": "markdown",
   "metadata": {},
   "source": [
    "#### 50 Random Tweets in English"
   ]
  },
  {
   "cell_type": "code",
   "execution_count": 27,
   "metadata": {},
   "outputs": [
    {
     "name": "stdout",
     "output_type": "stream",
     "text": [
      "time: 885 µs (started: 2022-02-10 12:25:58 +05:30)\n"
     ]
    }
   ],
   "source": [
    "lang_data = twitter_data.groupby(['Language'])"
   ]
  },
  {
   "cell_type": "code",
   "execution_count": 28,
   "metadata": {},
   "outputs": [
    {
     "name": "stdout",
     "output_type": "stream",
     "text": [
      "time: 137 ms (started: 2022-02-10 12:25:58 +05:30)\n"
     ]
    }
   ],
   "source": [
    "en_data = lang_data.get_group('en')"
   ]
  },
  {
   "cell_type": "code",
   "execution_count": 29,
   "metadata": {},
   "outputs": [
    {
     "name": "stdout",
     "output_type": "stream",
     "text": [
      "time: 31 ms (started: 2022-02-10 12:25:59 +05:30)\n"
     ]
    }
   ],
   "source": [
    "random_en_tweets = list(en_data['Tweet'].sample(frac=0.001))"
   ]
  },
  {
   "cell_type": "code",
   "execution_count": null,
   "metadata": {
    "scrolled": true
   },
   "outputs": [],
   "source": []
  },
  {
   "cell_type": "code",
   "execution_count": null,
   "metadata": {},
   "outputs": [],
   "source": []
  },
  {
   "cell_type": "markdown",
   "metadata": {},
   "source": [
    "### Queries"
   ]
  },
  {
   "cell_type": "markdown",
   "metadata": {},
   "source": [
    "\n",
    "- are handle names considered as slur?\n",
    "- splitting by space,doesn't tokenize few tokens with punctuations\n",
    "\n",
    "\n",
    "- implementation from extension standpoint?\n",
    "- Tackle corner cases like Fccckk,fagggot .. --> (1)\n",
    "\n",
    "\n",
    "**What's the Ideal Approximate string matching for our use case?**\n",
    "\n",
    "- Find the right threshold-score\n",
    "- Find the right edit distance\n",
    "\n",
    "  score more suitable than distance,as dist needs to be much precised?\n",
    "  with score,we can accomodate more approximate matchings\n",
    "\n",
    "**Problems with edit distance?**\n",
    "- corner cases in (1) are not handled properly\n",
    "\n",
    "**Handling Corner case**\n",
    "\n",
    "- Replace that substring(with multiple occurences of a char) with a single character -> perform the string matching\n",
    "\n",
    "\n",
    "**Any other corner cases**\n",
    "- ? "
   ]
  },
  {
   "cell_type": "markdown",
   "metadata": {},
   "source": [
    "### Case 1 : Exact Matching\n",
    "\n",
    "- case insensitive\n",
    "- lowercase the slurs for exact matching\n",
    "- splitting by 'space' for tokenizing the tweet\n",
    "    "
   ]
  },
  {
   "cell_type": "code",
   "execution_count": null,
   "metadata": {},
   "outputs": [],
   "source": []
  },
  {
   "cell_type": "code",
   "execution_count": 30,
   "metadata": {},
   "outputs": [
    {
     "data": {
      "text/plain": [
       "176"
      ]
     },
     "execution_count": 30,
     "metadata": {},
     "output_type": "execute_result"
    },
    {
     "name": "stdout",
     "output_type": "stream",
     "text": [
      "time: 6.1 ms (started: 2022-02-10 12:26:02 +05:30)\n"
     ]
    }
   ],
   "source": [
    "len(random_en_tweets)"
   ]
  },
  {
   "cell_type": "code",
   "execution_count": 31,
   "metadata": {},
   "outputs": [
    {
     "name": "stdout",
     "output_type": "stream",
     "text": [
      "time: 1.46 ms (started: 2022-02-10 12:26:02 +05:30)\n"
     ]
    }
   ],
   "source": [
    "slurs_list = list(slurs_set)\n",
    "slurs_list = [slur.lower() for slur in slurs_list]"
   ]
  },
  {
   "cell_type": "code",
   "execution_count": 32,
   "metadata": {},
   "outputs": [
    {
     "data": {
      "text/plain": [
       "280"
      ]
     },
     "execution_count": 32,
     "metadata": {},
     "output_type": "execute_result"
    },
    {
     "name": "stdout",
     "output_type": "stream",
     "text": [
      "time: 2.44 ms (started: 2022-02-10 12:26:02 +05:30)\n"
     ]
    }
   ],
   "source": [
    "len(slurs_list)"
   ]
  },
  {
   "cell_type": "code",
   "execution_count": 33,
   "metadata": {},
   "outputs": [
    {
     "name": "stdout",
     "output_type": "stream",
     "text": [
      "time: 247 µs (started: 2022-02-10 12:26:02 +05:30)\n"
     ]
    }
   ],
   "source": [
    "#slurs_list.append('Rape')"
   ]
  },
  {
   "cell_type": "code",
   "execution_count": 34,
   "metadata": {},
   "outputs": [
    {
     "name": "stdout",
     "output_type": "stream",
     "text": [
      "time: 1.11 ms (started: 2022-02-10 12:26:02 +05:30)\n"
     ]
    }
   ],
   "source": [
    "def replace_slur(tweet,slurs_list):\n",
    "    \n",
    "    print(\"Original:\\n\",tweet)\n",
    "    \n",
    "    slurs_count_dict = {slur:0 for slur in slurs_list}\n",
    "    \n",
    "    for token in tweet.split(' '):\n",
    "        \n",
    "        if token.lower() in slurs_count_dict:\n",
    "            \n",
    "            tweet = tweet.replace(token,'<replace>')\n",
    "            \n",
    "    return tweet"
   ]
  },
  {
   "cell_type": "code",
   "execution_count": 35,
   "metadata": {},
   "outputs": [
    {
     "name": "stdout",
     "output_type": "stream",
     "text": [
      "Original:\n",
      " #Showik confesses to procuring drugs for #SushantSinghRajput at sister #RheaChakraborty's behest  https://t.co/sm5axor6zK\n"
     ]
    },
    {
     "data": {
      "text/plain": [
       "\"#Showik confesses to procuring drugs for #SushantSinghRajput at sister #RheaChakraborty's behest  https://t.co/sm5axor6zK\""
      ]
     },
     "execution_count": 35,
     "metadata": {},
     "output_type": "execute_result"
    },
    {
     "name": "stdout",
     "output_type": "stream",
     "text": [
      "time: 7.34 ms (started: 2022-02-10 12:26:03 +05:30)\n"
     ]
    }
   ],
   "source": [
    "replace_slur(random_en_tweets[40],slurs_list)"
   ]
  },
  {
   "cell_type": "markdown",
   "metadata": {},
   "source": [
    "### Case 2 : Approximate Matching\n",
    "\n",
    "- using fuzzywuzzy (Levenstein distance)[+]\n",
    "\n",
    "    - using fuzzy score\n",
    "    - using edit distance\n",
    "    \n",
    "- using DamerauLevenshtein "
   ]
  },
  {
   "cell_type": "markdown",
   "metadata": {},
   "source": [
    "#### Work flow of  Slur Replacment\n",
    "\n",
    "Case 1 \n",
    "\n",
    "Exact\n",
    "\n",
    "- -> Given a tweet -> \n",
    "\n",
    "  -> find the token in the tweet which matches with any of the slur in slurs list ->\n",
    "  \n",
    "  -> replace the token with 'replace' token\n",
    "\n",
    "Case 2\n",
    "\n",
    "Approximate \n",
    "\n",
    "-  -> Given a tweet -> \n",
    "\n",
    "   -> compare the tweet with all slurs in the slurs list ->\n",
    "   \n",
    "   -> find the matching slur with highest similarity score -> \n",
    "   \n",
    "   -> find the matching token in the tweet (using edit distance) ->\n",
    "   \n",
    "   -> replace the found matching token with 'replace' token\n",
    "   "
   ]
  },
  {
   "cell_type": "markdown",
   "metadata": {},
   "source": [
    "#### Using Fuzzywuzzy (LEvenstein dist.)"
   ]
  },
  {
   "cell_type": "code",
   "execution_count": 36,
   "metadata": {},
   "outputs": [
    {
     "name": "stdout",
     "output_type": "stream",
     "text": [
      "time: 351 ms (started: 2022-02-10 12:26:04 +05:30)\n"
     ]
    }
   ],
   "source": [
    "from fuzzywuzzy import process\n",
    "from fuzzywuzzy import fuzz\n",
    "\n",
    "import Levenshtein as lev"
   ]
  },
  {
   "cell_type": "code",
   "execution_count": 37,
   "metadata": {},
   "outputs": [
    {
     "name": "stdout",
     "output_type": "stream",
     "text": [
      "time: 644 µs (started: 2022-02-10 12:26:05 +05:30)\n"
     ]
    }
   ],
   "source": [
    "def edit_distance(s1,s2):\n",
    "    \n",
    "    return lev.distance(s1.lower(),s2.lower())"
   ]
  },
  {
   "cell_type": "code",
   "execution_count": 38,
   "metadata": {},
   "outputs": [
    {
     "name": "stdout",
     "output_type": "stream",
     "text": [
      "time: 126 ms (started: 2022-02-10 12:26:05 +05:30)\n"
     ]
    }
   ],
   "source": [
    "def replace_with_token(tweet,slur,token,replace_token='<replace>'):\n",
    "    \n",
    "    return tweet.replace(token,slur).replace(slur,replace_token)"
   ]
  },
  {
   "cell_type": "code",
   "execution_count": 39,
   "metadata": {},
   "outputs": [
    {
     "name": "stdout",
     "output_type": "stream",
     "text": [
      "time: 93.9 ms (started: 2022-02-10 12:26:05 +05:30)\n"
     ]
    }
   ],
   "source": [
    "def replace_slurs_score(tweet,slurs_list,threshold_score):\n",
    "    \n",
    "    print(f'original tweet : {tweet}')\n",
    "    check = 0\n",
    "    #slur_list = ['rape']\n",
    "    #slurs_list.append('Rape')\n",
    "    \n",
    "    print(process.extract(tweet,slurs_list,limit = 20))\n",
    "    \n",
    "    print(process.extract(tweet,slurs_list))\n",
    "    match = process.extract(tweet,slurs_list,limit = 10)[0][0]\n",
    "    \n",
    "    score = process.extract(tweet,slurs_list,limit = 10)[0][1]\n",
    "    print(f'score  : {score}')\n",
    "    print(f'threshold score : {threshold_score}')\n",
    "    print(f'match slur : {match}')\n",
    "    min_dist = 1000\n",
    "    \n",
    "    for token in tweet.split(' '):\n",
    "        \n",
    "        dis = lev.distance(token,match)\n",
    "        \n",
    "        if dis <= min_dist and score >= threshold_score:\n",
    "        \n",
    "            replace_token = token\n",
    "            min_dist = dis\n",
    "            check = 1\n",
    "    \n",
    "    if check == 0:\n",
    "        return tweet\n",
    "    \n",
    "    else:\n",
    "        print(f'\\nfinal tweet ')\n",
    "        return replace_with_token(tweet,match,replace_token)"
   ]
  },
  {
   "cell_type": "code",
   "execution_count": 40,
   "metadata": {},
   "outputs": [
    {
     "name": "stdout",
     "output_type": "stream",
     "text": [
      "time: 107 ms (started: 2022-02-10 12:26:05 +05:30)\n"
     ]
    }
   ],
   "source": [
    "def replace_slurs_score_v2(tweet,slurs_list,threshold_score):\n",
    "    \n",
    "    print(f'original tweet : {tweet}')\n",
    "    check = 0\n",
    "    \n",
    "    #slur_list = ['rape']\n",
    "    #slurs_list.append('Rape')\n",
    "    \n",
    "    print(process.extract(tweet,slurs_list,limit = 20))\n",
    "    \n",
    "    match_dict = dict(process.extract(tweet,slurs_list,limit = 20))\n",
    "    \n",
    "    print(match_dict.keys())\n",
    "    matches = match_dict.keys()\n",
    "    \n",
    "    # to compare the distance of top 20 matching slurs to find the right matching\n",
    "    \n",
    "    dis_dict = {}\n",
    "    \n",
    "    for match in matches:\n",
    "\n",
    "        for token in tweet.split(' '):\n",
    "\n",
    "            dis = lev.distance(token,match)\n",
    "            dis_dict[dis] = (token,match)\n",
    "    \n",
    "    print(\"\\n\")\n",
    "    dis_dict = sorted(dis_dict.items())\n",
    "    print(dis_dict[0])\n",
    "    \n",
    "    #for token in tweet.split(' ')\n",
    "    print(dis_dict[0][1][0])\n",
    "    final_tweet = tweet.replace(dis_dict[0][1][0],'<replace>')   \n",
    "    return final_tweet\n",
    "        \n",
    "    \n",
    "#     if dis <= min_dist and score >= threshold_score:\n",
    "\n",
    "#         replace_token = token\n",
    "#         min_dist = dis\n",
    "#         check = 1\n",
    "\n",
    "#     if check == 0:\n",
    "#         return tweet        \n",
    "\n",
    "#     else:\n",
    "#         print(f'\\nfinal tweet ')\n",
    "#         return replace_with_token(tweet,match,replace_token)\n",
    "\n",
    "\n",
    "#     print(process.extract(tweet,slurs_list))\n",
    "#     match_dict = dict(process.extract(tweet,slurs_list,limit = 10))\n",
    "    \n",
    "#     score_dict = dict(process.extract(tweet,slurs_list,limit = 10)[0][1])\n",
    "    \n",
    "#     print(f'score  : {score_dict}')\n",
    "#     print(f'threshold score : {threshold_score}')\n",
    "#     print(f'match slur : {match_dict}')\n",
    "    \n",
    "    \n",
    "#     min_dist = 1000\n",
    "    \n",
    "#     for token in tweet.split(' '):\n",
    "        \n",
    "#         dis = lev.distance(token,match)\n",
    "        \n",
    "#         if dis <= min_dist and score >= threshold_score:\n",
    "        \n",
    "#             replace_token = token\n",
    "#             min_dist = dis\n",
    "#             check = 1\n",
    "    \n",
    "#     if check == 0:\n",
    "#         return tweet\n",
    "    \n",
    "#     else:\n",
    "#         print(f'\\nfinal tweet ')\n",
    "#         return replace_with_token(tweet,match,replace_token)"
   ]
  },
  {
   "cell_type": "code",
   "execution_count": 41,
   "metadata": {},
   "outputs": [
    {
     "name": "stdout",
     "output_type": "stream",
     "text": [
      "time: 70 ms (started: 2022-02-10 12:26:05 +05:30)\n"
     ]
    }
   ],
   "source": [
    "def replace_slurs_score_v3(tweet,slurs_list,threshold_score):\n",
    "    \n",
    "    print(f'original tweet : {tweet}')\n",
    "    check = 0\n",
    "    \n",
    "    #slur_list = ['rape']\n",
    "    #slurs_list.append('Rape')\n",
    "    \n",
    "    print(process.extract(tweet,slurs_list,limit = 20))\n",
    "    \n",
    "    match_dict = dict(process.extract(tweet,slurs_list,limit = 20))\n",
    "    \n",
    "    print(match_dict.keys())\n",
    "    matches = match_dict.keys()\n",
    "    \n",
    "    # to compare the distance of top 20 matching slurs to find the right matching\n",
    "    \n",
    "    dis_dict = {}\n",
    "    \n",
    "    for match in matches:\n",
    "\n",
    "        for token in tweet.split(' '):\n",
    "\n",
    "            dis = lev.distance(token,match)\n",
    "            #dis_dict[dis] = (token,match)\n",
    "            if dis in dis_dict:\n",
    "                dis_dict[dis].append([(token,match)])\n",
    "            \n",
    "            else:\n",
    "                dis_dict[dis] = [(token,match)]\n",
    "            \n",
    "    print(\"\\n\")\n",
    "    \n",
    "    #print(dis_dict)\n",
    "    dis_dict = sorted(dis_dict.items())\n",
    "    print(dis_dict[0])\n",
    "    \n",
    "    "
   ]
  },
  {
   "cell_type": "code",
   "execution_count": 42,
   "metadata": {},
   "outputs": [
    {
     "name": "stdout",
     "output_type": "stream",
     "text": [
      "original tweet : @LocalMalaysian @sn0flak @MalangKhostay Why is raepe of young boys the most common thing between Muslim countries?\n",
      "[('chinese corona', 51), ('muzlim', 50), ('#menscommission', 49), ('rape', 45), ('chrislamocommies', 45), ('r@pe', 43), ('#menslivesmatter', 42), ('#domesticviolence', 40), ('buzlim', 40), ('characterless woman', 40), ('#carryminatiroast', 40), ('dented-painted', 39), ('sunflowerண்டை_emoji', 38), ('#justiceforcabdriver', 38), ('#feministsaretrash', 37), ('deshdrohi chinese', 37), ('sanghans', 37), ('dynast sycophants', 37), ('#sanghans', 37), ('#justiceforswapnilpandey', 37)]\n",
      "[('chinese corona', 51), ('muzlim', 50), ('#menscommission', 49), ('rape', 45), ('chrislamocommies', 45)]\n",
      "score  : 51\n",
      "threshold score : 50\n",
      "match slur : chinese corona\n",
      "\n",
      "final tweet \n"
     ]
    },
    {
     "data": {
      "text/plain": [
       "'@LocalMalaysian @sn0flak @MalangKhostay Why is raepe of young boys the most common thing <replace> Muslim countries?'"
      ]
     },
     "execution_count": 42,
     "metadata": {},
     "output_type": "execute_result"
    },
    {
     "name": "stdout",
     "output_type": "stream",
     "text": [
      "time: 157 ms (started: 2022-02-10 12:26:05 +05:30)\n"
     ]
    }
   ],
   "source": [
    "new_tweet = '@LocalMalaysian @sn0flak @MalangKhostay Why is raepe of young boys the most common thing between Muslim countries?'\n",
    "\n",
    "#replace_slurs_score_v2(new_tweet,slurs_list,10)\n",
    "replace_slurs_score(new_tweet,slurs_list,50)"
   ]
  },
  {
   "cell_type": "markdown",
   "metadata": {},
   "source": [
    "#### Version with Top 20"
   ]
  },
  {
   "cell_type": "code",
   "execution_count": 43,
   "metadata": {},
   "outputs": [
    {
     "name": "stdout",
     "output_type": "stream",
     "text": [
      "original tweet : @LocalMalaysian @sn0flak @MalangKhostay Why is raepe of young boys the most common thing between Muslim countries?\n",
      "[('chinese corona', 51), ('muzlim', 50), ('#menscommission', 49), ('rape', 45), ('chrislamocommies', 45), ('r@pe', 43), ('#menslivesmatter', 42), ('#domesticviolence', 40), ('buzlim', 40), ('characterless woman', 40), ('#carryminatiroast', 40), ('dented-painted', 39), ('sunflowerண்டை_emoji', 38), ('#justiceforcabdriver', 38), ('#feministsaretrash', 37), ('deshdrohi chinese', 37), ('sanghans', 37), ('dynast sycophants', 37), ('#sanghans', 37), ('#justiceforswapnilpandey', 37)]\n",
      "dict_keys(['chinese corona', 'muzlim', '#menscommission', 'rape', 'chrislamocommies', 'r@pe', '#menslivesmatter', '#domesticviolence', 'buzlim', 'characterless woman', '#carryminatiroast', 'dented-painted', 'sunflowerண்டை_emoji', '#justiceforcabdriver', '#feministsaretrash', 'deshdrohi chinese', 'sanghans', 'dynast sycophants', '#sanghans', '#justiceforswapnilpandey'])\n",
      "\n",
      "\n",
      "(1, ('raepe', 'rape'))\n",
      "raepe\n"
     ]
    },
    {
     "data": {
      "text/plain": [
       "'@LocalMalaysian @sn0flak @MalangKhostay Why is <replace> of young boys the most common thing between Muslim countries?'"
      ]
     },
     "execution_count": 43,
     "metadata": {},
     "output_type": "execute_result"
    },
    {
     "name": "stdout",
     "output_type": "stream",
     "text": [
      "time: 72.3 ms (started: 2022-02-10 12:26:07 +05:30)\n"
     ]
    }
   ],
   "source": [
    "replace_slurs_score_v2(new_tweet,slurs_list,10)"
   ]
  },
  {
   "cell_type": "code",
   "execution_count": 44,
   "metadata": {},
   "outputs": [
    {
     "name": "stdout",
     "output_type": "stream",
     "text": [
      "original tweet : @LocalMalaysian @sn0flak @MalangKhostay Why is raepe of young boys the most common thing between Muslim countries?\n",
      "[('chinese corona', 51), ('muzlim', 50), ('#menscommission', 49), ('rape', 45), ('chrislamocommies', 45), ('r@pe', 43), ('#menslivesmatter', 42), ('#domesticviolence', 40), ('buzlim', 40), ('characterless woman', 40), ('#carryminatiroast', 40), ('dented-painted', 39), ('sunflowerண்டை_emoji', 38), ('#justiceforcabdriver', 38), ('#feministsaretrash', 37), ('deshdrohi chinese', 37), ('sanghans', 37), ('dynast sycophants', 37), ('#sanghans', 37), ('#justiceforswapnilpandey', 37)]\n",
      "dict_keys(['chinese corona', 'muzlim', '#menscommission', 'rape', 'chrislamocommies', 'r@pe', '#menslivesmatter', '#domesticviolence', 'buzlim', 'characterless woman', '#carryminatiroast', 'dented-painted', 'sunflowerண்டை_emoji', '#justiceforcabdriver', '#feministsaretrash', 'deshdrohi chinese', 'sanghans', 'dynast sycophants', '#sanghans', '#justiceforswapnilpandey'])\n",
      "\n",
      "\n",
      "(1, ('raepe', 'rape'))\n",
      "raepe\n"
     ]
    },
    {
     "data": {
      "text/plain": [
       "'@LocalMalaysian @sn0flak @MalangKhostay Why is <replace> of young boys the most common thing between Muslim countries?'"
      ]
     },
     "execution_count": 44,
     "metadata": {},
     "output_type": "execute_result"
    },
    {
     "name": "stdout",
     "output_type": "stream",
     "text": [
      "time: 68.4 ms (started: 2022-02-10 12:26:07 +05:30)\n"
     ]
    }
   ],
   "source": [
    "replace_slurs_score_v2(new_tweet,slurs_list,10)"
   ]
  },
  {
   "cell_type": "code",
   "execution_count": 45,
   "metadata": {},
   "outputs": [
    {
     "name": "stdout",
     "output_type": "stream",
     "text": [
      "original tweet : @LocalMalaysian @sn0flak @MalangKhostay Why is raepe of young boys the most common thing between Muslim countries?\n",
      "[('chinese corona', 51), ('muzlim', 50), ('#menscommission', 49), ('rape', 45), ('chrislamocommies', 45), ('r@pe', 43), ('#menslivesmatter', 42), ('#domesticviolence', 40), ('buzlim', 40), ('characterless woman', 40), ('#carryminatiroast', 40), ('dented-painted', 39), ('sunflowerண்டை_emoji', 38), ('#justiceforcabdriver', 38), ('#feministsaretrash', 37), ('deshdrohi chinese', 37), ('sanghans', 37), ('dynast sycophants', 37), ('#sanghans', 37), ('#justiceforswapnilpandey', 37)]\n",
      "[('chinese corona', 51), ('muzlim', 50), ('#menscommission', 49), ('rape', 45), ('chrislamocommies', 45)]\n",
      "score  : 51\n",
      "threshold score : 10\n",
      "match slur : chinese corona\n",
      "\n",
      "final tweet \n"
     ]
    },
    {
     "data": {
      "text/plain": [
       "'@LocalMalaysian @sn0flak @MalangKhostay Why is raepe of young boys the most common thing <replace> Muslim countries?'"
      ]
     },
     "execution_count": 45,
     "metadata": {},
     "output_type": "execute_result"
    },
    {
     "name": "stdout",
     "output_type": "stream",
     "text": [
      "time: 129 ms (started: 2022-02-10 12:26:08 +05:30)\n"
     ]
    }
   ],
   "source": [
    "new_tweet = '@LocalMalaysian @sn0flak @MalangKhostay Why is raepe of young boys the most common thing between Muslim countries?'\n",
    "\n",
    "replace_slurs_score(new_tweet,slurs_list,10)"
   ]
  },
  {
   "cell_type": "code",
   "execution_count": 46,
   "metadata": {},
   "outputs": [
    {
     "name": "stdout",
     "output_type": "stream",
     "text": [
      "time: 933 µs (started: 2022-02-10 12:26:10 +05:30)\n"
     ]
    }
   ],
   "source": [
    "def replace_slurs_dist(tweet,slurs_list,dist):\n",
    "    \n",
    "    match = process.extract(tweet,slurs_list)[0][0]\n",
    "\n",
    "    for token in tweet.split(' '):\n",
    "\n",
    "        dis = lev.distance(token,match)\n",
    "\n",
    "        if dis <= dist:\n",
    "\n",
    "            tweet = replace_with_token(tweet,match,token)\n",
    "        \n",
    "    return tweet"
   ]
  },
  {
   "cell_type": "code",
   "execution_count": 47,
   "metadata": {},
   "outputs": [
    {
     "name": "stdout",
     "output_type": "stream",
     "text": [
      "original tweet : #Showik confesses to procuring drugs for #SushantSinghRajput at sister #RheaChakraborty's behest  https://t.co/sm5axor6zK\n",
      "[('#rheachakraborty', 90), ('dynast sycophants', 42), ('anti national tukde', 42), ('deshdrohi chinese', 40), ('#menslivesmatter', 40), ('#hiteshachandranee', 40), ('#carryminatiroast', 40), ('#justiceforswapnilpandey', 39), ('#justiceforcabdriver', 38), ('characterless woman', 38), ('#feministsaretrash', 37), ('sanghans', 37), ('#sanghans', 37), ('#dowry', 36), ('gasti', 36), ('#arrestranaayyub', 36), ('chrislamocommies', 34), ('#domesticviolence', 34), ('sc0undrel', 34), ('chinese corona', 34)]\n",
      "[('#rheachakraborty', 90), ('dynast sycophants', 42), ('anti national tukde', 42), ('deshdrohi chinese', 40), ('#menslivesmatter', 40)]\n",
      "score  : 90\n",
      "threshold score : 80\n",
      "match slur : #rheachakraborty\n",
      "\n",
      "final tweet \n"
     ]
    },
    {
     "data": {
      "text/plain": [
       "'#Showik confesses to procuring drugs for #SushantSinghRajput at sister <replace> behest  https://t.co/sm5axor6zK'"
      ]
     },
     "execution_count": 47,
     "metadata": {},
     "output_type": "execute_result"
    },
    {
     "name": "stdout",
     "output_type": "stream",
     "text": [
      "time: 125 ms (started: 2022-02-10 12:26:11 +05:30)\n"
     ]
    }
   ],
   "source": [
    "# threshold 80\n",
    "replace_slurs_score(random_en_tweets[40],slurs_list,80)"
   ]
  },
  {
   "cell_type": "code",
   "execution_count": 48,
   "metadata": {},
   "outputs": [
    {
     "name": "stdout",
     "output_type": "stream",
     "text": [
      "original tweet : #Showik confesses to procuring drugs for #SushantSinghRajput at sister #RheaChakraborty's behest  https://t.co/sm5axor6zK\n",
      "[('#rheachakraborty', 90), ('dynast sycophants', 42), ('anti national tukde', 42), ('deshdrohi chinese', 40), ('#menslivesmatter', 40), ('#hiteshachandranee', 40), ('#carryminatiroast', 40), ('#justiceforswapnilpandey', 39), ('#justiceforcabdriver', 38), ('characterless woman', 38), ('#feministsaretrash', 37), ('sanghans', 37), ('#sanghans', 37), ('#dowry', 36), ('gasti', 36), ('#arrestranaayyub', 36), ('chrislamocommies', 34), ('#domesticviolence', 34), ('sc0undrel', 34), ('chinese corona', 34)]\n",
      "[('#rheachakraborty', 90), ('dynast sycophants', 42), ('anti national tukde', 42), ('deshdrohi chinese', 40), ('#menslivesmatter', 40)]\n",
      "score  : 90\n",
      "threshold score : 40\n",
      "match slur : #rheachakraborty\n",
      "\n",
      "final tweet \n"
     ]
    },
    {
     "data": {
      "text/plain": [
       "'#Showik confesses to procuring drugs for #SushantSinghRajput at sister <replace> behest  https://t.co/sm5axor6zK'"
      ]
     },
     "execution_count": 48,
     "metadata": {},
     "output_type": "execute_result"
    },
    {
     "name": "stdout",
     "output_type": "stream",
     "text": [
      "time: 125 ms (started: 2022-02-10 12:26:11 +05:30)\n"
     ]
    }
   ],
   "source": [
    "# threshold 40\n",
    "replace_slurs_score(random_en_tweets[40],slurs_list,40)"
   ]
  },
  {
   "cell_type": "code",
   "execution_count": null,
   "metadata": {},
   "outputs": [],
   "source": []
  },
  {
   "cell_type": "code",
   "execution_count": 49,
   "metadata": {},
   "outputs": [
    {
     "name": "stdout",
     "output_type": "stream",
     "text": [
      "original tweet : The guy that tried to rape me when I was 17 died a couple days.   Hm. Sad.\n",
      "[('rape', 60), ('ma ki chui', 51), ('जूता खायेगी', 45), ('भाड़े का टट्टू', 45), ('தேவ்டியா பையா', 45), ('मुँह मैं ले', 45), ('r@pe', 45), ('பொதுச் சொத்து', 45), ('मा के भोसड़े', 45), ('பொட்டை நாய்', 45), ('#sullideals', 45), ('पैर की जूती', 45), ('anti national tukde', 42), ('विक्टिम कार्ड', 41), ('toilet + saaf', 41), ('जोरू का गुलाम', 41), ('toilet saaf', 40), ('#genderbiasedlaws', 40), ('dented-painted', 39), ('सौ टका टंच माल', 39)]\n",
      "[('rape', 60), ('ma ki chui', 51), ('जूता खायेगी', 45), ('भाड़े का टट्टू', 45), ('தேவ்டியா பையா', 45)]\n",
      "score  : 60\n",
      "threshold score : 60\n",
      "match slur : rape\n",
      "\n",
      "final tweet \n"
     ]
    },
    {
     "data": {
      "text/plain": [
       "'The guy that tried to <replace> me when I was 17 died a couple days.   Hm. Sad.'"
      ]
     },
     "execution_count": 49,
     "metadata": {},
     "output_type": "execute_result"
    },
    {
     "name": "stdout",
     "output_type": "stream",
     "text": [
      "time: 129 ms (started: 2022-02-10 12:26:12 +05:30)\n"
     ]
    }
   ],
   "source": [
    "# threshold 60\n",
    "replace_slurs_score(rape_tweets[2],slurs_list,60)"
   ]
  },
  {
   "cell_type": "code",
   "execution_count": 50,
   "metadata": {},
   "outputs": [
    {
     "name": "stdout",
     "output_type": "stream",
     "text": [
      "original tweet : The guy that tried to rape me when I was 17 died a couple days.   Hm. Sad.\n",
      "[('rape', 60), ('ma ki chui', 51), ('जूता खायेगी', 45), ('भाड़े का टट्टू', 45), ('தேவ்டியா பையா', 45), ('मुँह मैं ले', 45), ('r@pe', 45), ('பொதுச் சொத்து', 45), ('मा के भोसड़े', 45), ('பொட்டை நாய்', 45), ('#sullideals', 45), ('पैर की जूती', 45), ('anti national tukde', 42), ('विक्टिम कार्ड', 41), ('toilet + saaf', 41), ('जोरू का गुलाम', 41), ('toilet saaf', 40), ('#genderbiasedlaws', 40), ('dented-painted', 39), ('सौ टका टंच माल', 39)]\n",
      "[('rape', 60), ('ma ki chui', 51), ('जूता खायेगी', 45), ('भाड़े का टट्टू', 45), ('தேவ்டியா பையா', 45)]\n",
      "score  : 60\n",
      "threshold score : 90\n",
      "match slur : rape\n"
     ]
    },
    {
     "data": {
      "text/plain": [
       "'The guy that tried to rape me when I was 17 died a couple days.   Hm. Sad.'"
      ]
     },
     "execution_count": 50,
     "metadata": {},
     "output_type": "execute_result"
    },
    {
     "name": "stdout",
     "output_type": "stream",
     "text": [
      "time: 117 ms (started: 2022-02-10 12:26:13 +05:30)\n"
     ]
    }
   ],
   "source": [
    "# threshold 90\n",
    "replace_slurs_score(rape_tweets[2],slurs_list,90)"
   ]
  },
  {
   "cell_type": "markdown",
   "metadata": {},
   "source": [
    "#### Using fastDamerau Levenshtein\n",
    "\n",
    "- Levenstein + Transposition"
   ]
  },
  {
   "cell_type": "code",
   "execution_count": 51,
   "metadata": {
    "scrolled": false
   },
   "outputs": [
    {
     "name": "stdout",
     "output_type": "stream",
     "text": [
      "time: 481 µs (started: 2022-02-10 12:26:13 +05:30)\n"
     ]
    }
   ],
   "source": [
    "#!pip install fastDamerauLevenshtein"
   ]
  },
  {
   "cell_type": "code",
   "execution_count": 52,
   "metadata": {},
   "outputs": [
    {
     "name": "stdout",
     "output_type": "stream",
     "text": [
      "time: 12 ms (started: 2022-02-10 12:26:13 +05:30)\n"
     ]
    }
   ],
   "source": [
    "from fastDamerauLevenshtein import damerauLevenshtein"
   ]
  },
  {
   "cell_type": "code",
   "execution_count": 53,
   "metadata": {},
   "outputs": [
    {
     "data": {
      "text/plain": [
       "4.0"
      ]
     },
     "execution_count": 53,
     "metadata": {},
     "output_type": "execute_result"
    },
    {
     "name": "stdout",
     "output_type": "stream",
     "text": [
      "time: 2.24 ms (started: 2022-02-10 12:26:13 +05:30)\n"
     ]
    }
   ],
   "source": [
    "damerauLevenshtein('rape','r@ppppe',similarity=False)"
   ]
  },
  {
   "cell_type": "code",
   "execution_count": 54,
   "metadata": {},
   "outputs": [
    {
     "data": {
      "text/plain": [
       "0.5"
      ]
     },
     "execution_count": 54,
     "metadata": {},
     "output_type": "execute_result"
    },
    {
     "name": "stdout",
     "output_type": "stream",
     "text": [
      "time: 3.76 ms (started: 2022-02-10 12:26:13 +05:30)\n"
     ]
    }
   ],
   "source": [
    "#def replace_slurs_fastDL(tweet):\n",
    "    \n",
    "from fastDamerauLevenshtein import damerauLevenshtein\n",
    "damerauLevenshtein('ca', 'abc', similarity=False)  # expected result: 2.0\n",
    "damerauLevenshtein('car', 'cars', similarity=True)  # expected result: 0.75\n",
    "damerauLevenshtein(['ab', 'bc'], ['ab'], similarity=False)  # expected result: 1.0\n",
    "damerauLevenshtein(['ab', 'bc'], ['ab'], similarity=True)  # expected result: 0.5"
   ]
  },
  {
   "cell_type": "code",
   "execution_count": 55,
   "metadata": {},
   "outputs": [
    {
     "data": {
      "text/plain": [
       "3.0"
      ]
     },
     "execution_count": 55,
     "metadata": {},
     "output_type": "execute_result"
    },
    {
     "name": "stdout",
     "output_type": "stream",
     "text": [
      "time: 4.59 ms (started: 2022-02-10 12:26:14 +05:30)\n"
     ]
    }
   ],
   "source": [
    "#no of edits\n",
    "damerauLevenshtein('fuck','fuckkkk',similarity=False)"
   ]
  },
  {
   "cell_type": "code",
   "execution_count": 56,
   "metadata": {},
   "outputs": [
    {
     "data": {
      "text/plain": [
       "0.5714285714285714"
      ]
     },
     "execution_count": 56,
     "metadata": {},
     "output_type": "execute_result"
    },
    {
     "name": "stdout",
     "output_type": "stream",
     "text": [
      "time: 3.06 ms (started: 2022-02-10 12:26:14 +05:30)\n"
     ]
    }
   ],
   "source": [
    "#score\n",
    "damerauLevenshtein('fuck','fuckkkk',similarity=True)"
   ]
  },
  {
   "cell_type": "code",
   "execution_count": 57,
   "metadata": {},
   "outputs": [
    {
     "data": {
      "text/plain": [
       "0.6666666666666666"
      ]
     },
     "execution_count": 57,
     "metadata": {},
     "output_type": "execute_result"
    },
    {
     "name": "stdout",
     "output_type": "stream",
     "text": [
      "time: 5.43 ms (started: 2022-02-10 12:26:14 +05:30)\n"
     ]
    }
   ],
   "source": [
    "damerauLevenshtein('fuck','fuckkk',similarity=True)"
   ]
  },
  {
   "cell_type": "code",
   "execution_count": 58,
   "metadata": {},
   "outputs": [
    {
     "data": {
      "text/plain": [
       "0.8"
      ]
     },
     "execution_count": 58,
     "metadata": {},
     "output_type": "execute_result"
    },
    {
     "name": "stdout",
     "output_type": "stream",
     "text": [
      "time: 3.63 ms (started: 2022-02-10 12:26:14 +05:30)\n"
     ]
    }
   ],
   "source": [
    "damerauLevenshtein('fuck','fuckk',similarity=True)"
   ]
  },
  {
   "cell_type": "markdown",
   "metadata": {},
   "source": [
    "#### util function for Damerau Levenstein"
   ]
  },
  {
   "cell_type": "code",
   "execution_count": 59,
   "metadata": {},
   "outputs": [
    {
     "name": "stdout",
     "output_type": "stream",
     "text": [
      "time: 2.04 ms (started: 2022-02-10 12:26:14 +05:30)\n"
     ]
    }
   ],
   "source": [
    "ada = max([damerauLevenshtein('I am an asshole',i) for i in slurs_list])"
   ]
  },
  {
   "cell_type": "code",
   "execution_count": 60,
   "metadata": {},
   "outputs": [
    {
     "data": {
      "text/plain": [
       "0.26666666666666666"
      ]
     },
     "execution_count": 60,
     "metadata": {},
     "output_type": "execute_result"
    },
    {
     "name": "stdout",
     "output_type": "stream",
     "text": [
      "time: 5.92 ms (started: 2022-02-10 12:26:14 +05:30)\n"
     ]
    }
   ],
   "source": [
    "ada"
   ]
  },
  {
   "cell_type": "code",
   "execution_count": 61,
   "metadata": {},
   "outputs": [
    {
     "name": "stdout",
     "output_type": "stream",
     "text": [
      "time: 1.37 ms (started: 2022-02-10 12:26:15 +05:30)\n"
     ]
    }
   ],
   "source": [
    "def replace_slurs_fastDL_score(tweet,slurs_list,threshold_score):\n",
    "    \n",
    "    print(f'tweet : {tweet}')\n",
    "    check = 0\n",
    "    \n",
    "    score_list = [damerauLevenshtein(tweet,i) for i in slurs_list]\n",
    "    score = max(score_list)\n",
    "    print(f'score : {score}')\n",
    "    print(f'threshold score : {threshold_score}')\n",
    "    match_slur = slurs_list[score_list.index(score)]\n",
    "    print(f'match slur : {match_slur}')\n",
    "    for token in tweet.split(' '):\n",
    "        \n",
    "        dis = lev.distance(token,match_slur)\n",
    "        min_dist = 1000\n",
    "        \n",
    "        if dis <= min_dist and score >= threshold_score:\n",
    "        \n",
    "            replace_token = token\n",
    "            min_dist = dis\n",
    "            check = 1\n",
    "    \n",
    "    if check == 0:\n",
    "        print('\\nfinal tweet')\n",
    "        return tweet\n",
    "    \n",
    "    else:\n",
    "        print('\\nfinal tweet')\n",
    "        return replace_with_token(tweet,match_slur,replace_token)  \n",
    "        "
   ]
  },
  {
   "cell_type": "markdown",
   "metadata": {},
   "source": [
    "#### using Damerau Levenstein"
   ]
  },
  {
   "cell_type": "code",
   "execution_count": 62,
   "metadata": {},
   "outputs": [
    {
     "name": "stdout",
     "output_type": "stream",
     "text": [
      "tweet : The guy that tried to rape me when I was 17 died a couple days.   Hm. Sad.\n",
      "score : 0.14864864864864866\n",
      "threshold score : 0.5\n",
      "match slur : anti national tukde\n",
      "\n",
      "final tweet\n"
     ]
    },
    {
     "data": {
      "text/plain": [
       "'The guy that tried to rape me when I was 17 died a couple days.   Hm. Sad.'"
      ]
     },
     "execution_count": 62,
     "metadata": {},
     "output_type": "execute_result"
    },
    {
     "name": "stdout",
     "output_type": "stream",
     "text": [
      "time: 14 ms (started: 2022-02-10 12:26:15 +05:30)\n"
     ]
    }
   ],
   "source": [
    "# threshold score 0.5\n",
    "replace_slurs_fastDL_score(rape_tweets[2],slurs_list,0.5)"
   ]
  },
  {
   "cell_type": "code",
   "execution_count": 63,
   "metadata": {},
   "outputs": [
    {
     "name": "stdout",
     "output_type": "stream",
     "text": [
      "tweet : The guy that tried to rape me when I was 17 died a couple days.   Hm. Sad.\n",
      "score : 0.14864864864864866\n",
      "threshold score : 0.1\n",
      "match slur : anti national tukde\n",
      "\n",
      "final tweet\n"
     ]
    },
    {
     "data": {
      "text/plain": [
       "'The guy that tried to rape me when I was 17 died a couple days.   Hm. <replace>'"
      ]
     },
     "execution_count": 63,
     "metadata": {},
     "output_type": "execute_result"
    },
    {
     "name": "stdout",
     "output_type": "stream",
     "text": [
      "time: 13.2 ms (started: 2022-02-10 12:26:16 +05:30)\n"
     ]
    }
   ],
   "source": [
    "replace_slurs_fastDL_score(rape_tweets[2],slurs_list,0.1)"
   ]
  },
  {
   "cell_type": "markdown",
   "metadata": {},
   "source": [
    "#### using Fuzzywuzzy (Levenstein)"
   ]
  },
  {
   "cell_type": "code",
   "execution_count": 64,
   "metadata": {},
   "outputs": [
    {
     "name": "stdout",
     "output_type": "stream",
     "text": [
      "original tweet : The guy that tried to rape me when I was 17 died a couple days.   Hm. Sad.\n",
      "[('rape', 60), ('ma ki chui', 51), ('जूता खायेगी', 45), ('भाड़े का टट्टू', 45), ('தேவ்டியா பையா', 45), ('मुँह मैं ले', 45), ('r@pe', 45), ('பொதுச் சொத்து', 45), ('मा के भोसड़े', 45), ('பொட்டை நாய்', 45), ('#sullideals', 45), ('पैर की जूती', 45), ('anti national tukde', 42), ('विक्टिम कार्ड', 41), ('toilet + saaf', 41), ('जोरू का गुलाम', 41), ('toilet saaf', 40), ('#genderbiasedlaws', 40), ('dented-painted', 39), ('सौ टका टंच माल', 39)]\n",
      "[('rape', 60), ('ma ki chui', 51), ('जूता खायेगी', 45), ('भाड़े का टट्टू', 45), ('தேவ்டியா பையா', 45)]\n",
      "score  : 60\n",
      "threshold score : 50\n",
      "match slur : rape\n",
      "\n",
      "final tweet \n"
     ]
    },
    {
     "data": {
      "text/plain": [
       "'The guy that tried to <replace> me when I was 17 died a couple days.   Hm. Sad.'"
      ]
     },
     "execution_count": 64,
     "metadata": {},
     "output_type": "execute_result"
    },
    {
     "name": "stdout",
     "output_type": "stream",
     "text": [
      "time: 176 ms (started: 2022-02-10 12:26:17 +05:30)\n"
     ]
    }
   ],
   "source": [
    "replace_slurs_score(rape_tweets[2],slurs_list,50)"
   ]
  },
  {
   "cell_type": "code",
   "execution_count": 65,
   "metadata": {},
   "outputs": [
    {
     "name": "stdout",
     "output_type": "stream",
     "text": [
      "original tweet : The guy that tried to rape me when I was 17 died a couple days.   Hm. Sad.\n",
      "[('rape', 60), ('ma ki chui', 51), ('जूता खायेगी', 45), ('भाड़े का टट्टू', 45), ('தேவ்டியா பையா', 45), ('मुँह मैं ले', 45), ('r@pe', 45), ('பொதுச் சொத்து', 45), ('मा के भोसड़े', 45), ('பொட்டை நாய்', 45), ('#sullideals', 45), ('पैर की जूती', 45), ('anti national tukde', 42), ('विक्टिम कार्ड', 41), ('toilet + saaf', 41), ('जोरू का गुलाम', 41), ('toilet saaf', 40), ('#genderbiasedlaws', 40), ('dented-painted', 39), ('सौ टका टंच माल', 39)]\n",
      "[('rape', 60), ('ma ki chui', 51), ('जूता खायेगी', 45), ('भाड़े का टट्टू', 45), ('தேவ்டியா பையா', 45)]\n",
      "score  : 60\n",
      "threshold score : 90\n",
      "match slur : rape\n"
     ]
    },
    {
     "data": {
      "text/plain": [
       "'The guy that tried to rape me when I was 17 died a couple days.   Hm. Sad.'"
      ]
     },
     "execution_count": 65,
     "metadata": {},
     "output_type": "execute_result"
    },
    {
     "name": "stdout",
     "output_type": "stream",
     "text": [
      "time: 122 ms (started: 2022-02-10 12:26:17 +05:30)\n"
     ]
    }
   ],
   "source": [
    "replace_slurs_score(rape_tweets[2],slurs_list,90)"
   ]
  },
  {
   "cell_type": "code",
   "execution_count": null,
   "metadata": {},
   "outputs": [],
   "source": []
  },
  {
   "cell_type": "code",
   "execution_count": 66,
   "metadata": {},
   "outputs": [
    {
     "name": "stdout",
     "output_type": "stream",
     "text": [
      "original tweet : Raape is a heinous crime and cuplrits should be punished\n",
      "[('secular', 61), ('dull-it', 51), ('#saveoursons', 50), ('rice bags', 50), ('pheminist', 50), ('sickular', 45), ('rape', 45), ('dented-painted', 45), ('nationalists', 45), ('#pseudohindus', 45), ('sanghans', 45), ('#misandry', 45), ('chinese corona', 45), ('pseudohindus', 45), ('#sanghans', 45), ('scumreds', 45), ('love jihad', 45), ('pissfull', 45), ('ola u uber', 45), ('ma ki chui', 45)]\n",
      "dict_keys(['secular', 'dull-it', '#saveoursons', 'rice bags', 'pheminist', 'sickular', 'rape', 'dented-painted', 'nationalists', '#pseudohindus', 'sanghans', '#misandry', 'chinese corona', 'pseudohindus', '#sanghans', 'scumreds', 'love jihad', 'pissfull', 'ola u uber', 'ma ki chui'])\n",
      "\n",
      "\n",
      "(2, ('Raape', 'rape'))\n",
      "Raape\n"
     ]
    },
    {
     "data": {
      "text/plain": [
       "'<replace> is a heinous crime and cuplrits should be punished'"
      ]
     },
     "execution_count": 66,
     "metadata": {},
     "output_type": "execute_result"
    },
    {
     "name": "stdout",
     "output_type": "stream",
     "text": [
      "time: 98.6 ms (started: 2022-02-10 12:26:17 +05:30)\n"
     ]
    }
   ],
   "source": [
    "test_tweet = 'Raape is a heinous crime and cuplrits should be punished'\n",
    "\n",
    "replace_slurs_score_v2(test_tweet,slurs_list,10)"
   ]
  },
  {
   "cell_type": "code",
   "execution_count": 67,
   "metadata": {},
   "outputs": [
    {
     "name": "stdout",
     "output_type": "stream",
     "text": [
      "original tweet : Rapee is a heinous crime and cuplrits should be punished\n",
      "[('secular', 61), ('rape', 60), ('dull-it', 51), ('#saveoursons', 50), ('rice bags', 50), ('pheminist', 50), ('sickular', 45), ('dented-painted', 45), ('nationalists', 45), ('#pseudohindus', 45), ('sanghans', 45), ('#misandry', 45), ('chinese corona', 45), ('pseudohindus', 45), ('r@pe', 45), ('#sanghans', 45), ('scumreds', 45), ('love jihad', 45), ('pissfull', 45), ('ola u uber', 45)]\n",
      "dict_keys(['secular', 'rape', 'dull-it', '#saveoursons', 'rice bags', 'pheminist', 'sickular', 'dented-painted', 'nationalists', '#pseudohindus', 'sanghans', '#misandry', 'chinese corona', 'pseudohindus', 'r@pe', '#sanghans', 'scumreds', 'love jihad', 'pissfull', 'ola u uber'])\n",
      "\n",
      "\n",
      "(2, ('Rapee', 'rape'))\n",
      "Rapee\n"
     ]
    },
    {
     "data": {
      "text/plain": [
       "'<replace> is a heinous crime and cuplrits should be punished'"
      ]
     },
     "execution_count": 67,
     "metadata": {},
     "output_type": "execute_result"
    },
    {
     "name": "stdout",
     "output_type": "stream",
     "text": [
      "time: 115 ms (started: 2022-02-10 12:26:17 +05:30)\n"
     ]
    }
   ],
   "source": [
    "test_tweet = 'Rapee is a heinous crime and cuplrits should be punished'\n",
    "\n",
    "replace_slurs_score_v2(test_tweet,slurs_list,50)"
   ]
  },
  {
   "cell_type": "markdown",
   "metadata": {},
   "source": [
    "#### testing for hindi keyword (रण्डी)"
   ]
  },
  {
   "cell_type": "code",
   "execution_count": 68,
   "metadata": {},
   "outputs": [
    {
     "data": {
      "text/plain": [
       "'@hisaurabhshah @SrBachchan राजनीति तुम जेसे रण्डी भरवा का खेल नहीं है'"
      ]
     },
     "execution_count": 68,
     "metadata": {},
     "output_type": "execute_result"
    },
    {
     "name": "stdout",
     "output_type": "stream",
     "text": [
      "time: 4.66 ms (started: 2022-02-10 12:26:17 +05:30)\n"
     ]
    }
   ],
   "source": [
    "randi_tweets[2]"
   ]
  },
  {
   "cell_type": "code",
   "execution_count": 69,
   "metadata": {},
   "outputs": [
    {
     "name": "stdout",
     "output_type": "stream",
     "text": [
      "original tweet : @hisaurabhshah @SrBachchan राजनीति तुम जेसे रण्डी भरवा का खेल नहीं है\n",
      "[('जूता खायेगी', 86), ('रण्डी रोना', 86), ('सौ टका टंच माल', 86), ('चंडाल_चौकड़ी', 86), ('भाड़े का टट्टू', 86), ('हिज़रापंती', 86), ('विक्टिम कार्ड', 86), ('मुँह मैं ले', 86), ('बाज़ारू औरत', 86), ('जाहिल_औरत', 86), ('मर क्यों नहीं जाती', 86), ('बहन की लोड़ी', 86), ('भारत तेरे टुकड़े गैंग', 86), ('काला टेंट', 86), ('मोटी भैंस', 86), ('बुरखा धत्त', 86), ('लिब्राण्डू', 86), ('स्कर्ट वाली बाई', 86), ('जोरू का गुलाम', 86), ('मा के भोसड़े', 86)]\n",
      "[('जूता खायेगी', 86), ('रण्डी रोना', 86), ('सौ टका टंच माल', 86), ('चंडाल_चौकड़ी', 86), ('भाड़े का टट्टू', 86)]\n",
      "score  : 86\n",
      "threshold score : 50\n",
      "match slur : जूता खायेगी\n",
      "\n",
      "final tweet \n"
     ]
    },
    {
     "data": {
      "text/plain": [
       "'@hisaurabhshah @SrBachchan राजनीति तुम जेसे रण्डी भरवा का <replace> नहीं है'"
      ]
     },
     "execution_count": 69,
     "metadata": {},
     "output_type": "execute_result"
    },
    {
     "name": "stdout",
     "output_type": "stream",
     "text": [
      "time: 155 ms (started: 2022-02-10 12:26:18 +05:30)\n"
     ]
    }
   ],
   "source": [
    "replace_slurs_score(randi_tweets[2],slurs_list,50)"
   ]
  },
  {
   "cell_type": "code",
   "execution_count": 70,
   "metadata": {},
   "outputs": [
    {
     "name": "stdout",
     "output_type": "stream",
     "text": [
      "original tweet : @Subhash94363966 @AmitShah @narendramodi सेफाई में जो रण्डी नचा रहे थे तब ये ज्ञान कहा था\n",
      "[('सौ टका टंच माल', 86), ('विक्टिम कार्ड', 86), ('मर क्यों नहीं जाती', 86), ('स्कर्ट वाली बाई', 86), ('जोरू का गुलाम', 86), ('सूअर की औलाद', 86), ('काम_वाली_बाई', 86), ('#जिहादी_मुक्त_नवरात्रि', 86), ('जा नाली साफ़ करके आ', 86), ('रण्डी', 60), ('#hiteshachandranee', 58), ('कमीनी', 57), ('जूता खायेगी', 57), ('भोस्डीके', 57), ('रण्डी रोना', 57), ('चुस्लिम', 57), ('बीबी', 57), ('चंडाल_चौकड़ी', 57), ('रंडीखाना', 57), ('म्लेच्छा', 57)]\n",
      "[('सौ टका टंच माल', 86), ('विक्टिम कार्ड', 86), ('मर क्यों नहीं जाती', 86), ('स्कर्ट वाली बाई', 86), ('जोरू का गुलाम', 86)]\n",
      "score  : 86\n",
      "threshold score : 50\n",
      "match slur : सौ टका टंच माल\n",
      "\n",
      "final tweet \n"
     ]
    },
    {
     "data": {
      "text/plain": [
       "'@Subhash94363966 @AmitShah @narendramodi सेफाई में जो रण्डी नचा रहे थे तब ये ज्ञान <replace> था'"
      ]
     },
     "execution_count": 70,
     "metadata": {},
     "output_type": "execute_result"
    },
    {
     "name": "stdout",
     "output_type": "stream",
     "text": [
      "time: 174 ms (started: 2022-02-10 12:26:18 +05:30)\n"
     ]
    }
   ],
   "source": [
    "replace_slurs_score(randi_tweets[1],slurs_list,50)"
   ]
  },
  {
   "cell_type": "code",
   "execution_count": 71,
   "metadata": {},
   "outputs": [
    {
     "name": "stdout",
     "output_type": "stream",
     "text": [
      "original tweet : @LocalMalaysian @sn0flak @MalangKhostay Why is rape of young boys the most common thing between Muslim countries?\n",
      "[('rape', 60), ('chinese corona', 51), ('muzlim', 50), ('#menscommission', 49), ('chrislamocommies', 45), ('r@pe', 45), ('#menslivesmatter', 42), ('#domesticviolence', 40), ('buzlim', 40), ('characterless woman', 40), ('#carryminatiroast', 40), ('dented-painted', 39), ('sunflowerண்டை_emoji', 38), ('#justiceforcabdriver', 38), ('#feministsaretrash', 37), ('deshdrohi chinese', 37), ('sanghans', 37), ('dynast sycophants', 37), ('#sanghans', 37), ('#justiceforswapnilpandey', 37)]\n",
      "[('rape', 60), ('chinese corona', 51), ('muzlim', 50), ('#menscommission', 49), ('chrislamocommies', 45)]\n",
      "score  : 60\n",
      "threshold score : 50\n",
      "match slur : rape\n",
      "\n",
      "final tweet \n"
     ]
    },
    {
     "data": {
      "text/plain": [
       "'@LocalMalaysian @sn0flak @MalangKhostay Why is <replace> of young boys the most common thing between Muslim countries?'"
      ]
     },
     "execution_count": 71,
     "metadata": {},
     "output_type": "execute_result"
    },
    {
     "name": "stdout",
     "output_type": "stream",
     "text": [
      "time: 170 ms (started: 2022-02-10 12:26:18 +05:30)\n"
     ]
    }
   ],
   "source": [
    "replace_slurs_score(rape_tweets[8],slurs_list,50)"
   ]
  },
  {
   "cell_type": "code",
   "execution_count": 72,
   "metadata": {},
   "outputs": [
    {
     "name": "stdout",
     "output_type": "stream",
     "text": [
      "original tweet : @LocalMalaysian @sn0flak @MalangKhostay Why is raepe of young boys the most common thing between Muslim countries?\n",
      "[('chinese corona', 51), ('muzlim', 50), ('#menscommission', 49), ('rape', 45), ('chrislamocommies', 45), ('r@pe', 43), ('#menslivesmatter', 42), ('#domesticviolence', 40), ('buzlim', 40), ('characterless woman', 40), ('#carryminatiroast', 40), ('dented-painted', 39), ('sunflowerண்டை_emoji', 38), ('#justiceforcabdriver', 38), ('#feministsaretrash', 37), ('deshdrohi chinese', 37), ('sanghans', 37), ('dynast sycophants', 37), ('#sanghans', 37), ('#justiceforswapnilpandey', 37)]\n",
      "[('chinese corona', 51), ('muzlim', 50), ('#menscommission', 49), ('rape', 45), ('chrislamocommies', 45)]\n",
      "score  : 51\n",
      "threshold score : 10\n",
      "match slur : chinese corona\n",
      "\n",
      "final tweet \n"
     ]
    },
    {
     "data": {
      "text/plain": [
       "'@LocalMalaysian @sn0flak @MalangKhostay Why is raepe of young boys the most common thing <replace> Muslim countries?'"
      ]
     },
     "execution_count": 72,
     "metadata": {},
     "output_type": "execute_result"
    },
    {
     "name": "stdout",
     "output_type": "stream",
     "text": [
      "time: 129 ms (started: 2022-02-10 12:26:19 +05:30)\n"
     ]
    }
   ],
   "source": [
    "new_tweet = '@LocalMalaysian @sn0flak @MalangKhostay Why is raepe of young boys the most common thing between Muslim countries?'\n",
    "\n",
    "replace_slurs_score(new_tweet,slurs_list,10)"
   ]
  },
  {
   "cell_type": "code",
   "execution_count": 73,
   "metadata": {},
   "outputs": [
    {
     "name": "stdout",
     "output_type": "stream",
     "text": [
      "original tweet : @LocalMalaysian @sn0flak @MalangKhostay Why is raepe of young boys the most common thing between Muslim countries?\n",
      "[('chinese corona', 51), ('muzlim', 50), ('#menscommission', 49), ('rape', 45), ('chrislamocommies', 45), ('r@pe', 43), ('#menslivesmatter', 42), ('#domesticviolence', 40), ('buzlim', 40), ('characterless woman', 40), ('#carryminatiroast', 40), ('dented-painted', 39), ('sunflowerண்டை_emoji', 38), ('#justiceforcabdriver', 38), ('#feministsaretrash', 37), ('deshdrohi chinese', 37), ('sanghans', 37), ('dynast sycophants', 37), ('#sanghans', 37), ('#justiceforswapnilpandey', 37)]\n",
      "dict_keys(['chinese corona', 'muzlim', '#menscommission', 'rape', 'chrislamocommies', 'r@pe', '#menslivesmatter', '#domesticviolence', 'buzlim', 'characterless woman', '#carryminatiroast', 'dented-painted', 'sunflowerண்டை_emoji', '#justiceforcabdriver', '#feministsaretrash', 'deshdrohi chinese', 'sanghans', 'dynast sycophants', '#sanghans', '#justiceforswapnilpandey'])\n",
      "\n",
      "\n",
      "(1, ('raepe', 'rape'))\n",
      "raepe\n"
     ]
    },
    {
     "data": {
      "text/plain": [
       "'@LocalMalaysian @sn0flak @MalangKhostay Why is <replace> of young boys the most common thing between Muslim countries?'"
      ]
     },
     "execution_count": 73,
     "metadata": {},
     "output_type": "execute_result"
    },
    {
     "name": "stdout",
     "output_type": "stream",
     "text": [
      "time: 98.2 ms (started: 2022-02-10 12:26:19 +05:30)\n"
     ]
    }
   ],
   "source": [
    "new_tweet = '@LocalMalaysian @sn0flak @MalangKhostay Why is raepe of young boys the most common thing between Muslim countries?'\n",
    "\n",
    "replace_slurs_score_v2(new_tweet,slurs_list,10)"
   ]
  },
  {
   "cell_type": "markdown",
   "metadata": {},
   "source": [
    "#### Slur v2 (Hindi)\n"
   ]
  },
  {
   "cell_type": "code",
   "execution_count": 74,
   "metadata": {},
   "outputs": [
    {
     "name": "stdout",
     "output_type": "stream",
     "text": [
      "original tweet : @Subhash94363966 @AmitShah @narendramodi सेफाई में जो रण्डी नचा रहे थे तब ये ज्ञान कहा था\n",
      "[('सौ टका टंच माल', 86), ('विक्टिम कार्ड', 86), ('मर क्यों नहीं जाती', 86), ('स्कर्ट वाली बाई', 86), ('जोरू का गुलाम', 86), ('सूअर की औलाद', 86), ('काम_वाली_बाई', 86), ('#जिहादी_मुक्त_नवरात्रि', 86), ('जा नाली साफ़ करके आ', 86), ('रण्डी', 60), ('#hiteshachandranee', 58), ('कमीनी', 57), ('जूता खायेगी', 57), ('भोस्डीके', 57), ('रण्डी रोना', 57), ('चुस्लिम', 57), ('बीबी', 57), ('चंडाल_चौकड़ी', 57), ('रंडीखाना', 57), ('म्लेच्छा', 57)]\n",
      "dict_keys(['सौ टका टंच माल', 'विक्टिम कार्ड', 'मर क्यों नहीं जाती', 'स्कर्ट वाली बाई', 'जोरू का गुलाम', 'सूअर की औलाद', 'काम_वाली_बाई', '#जिहादी_मुक्त_नवरात्रि', 'जा नाली साफ़ करके आ', 'रण्डी', '#hiteshachandranee', 'कमीनी', 'जूता खायेगी', 'भोस्डीके', 'रण्डी रोना', 'चुस्लिम', 'बीबी', 'चंडाल_चौकड़ी', 'रंडीखाना', 'म्लेच्छा'])\n",
      "\n",
      "\n",
      "(0, ('रण्डी', 'रण्डी'))\n",
      "रण्डी\n"
     ]
    },
    {
     "data": {
      "text/plain": [
       "'@Subhash94363966 @AmitShah @narendramodi सेफाई में जो <replace> नचा रहे थे तब ये ज्ञान कहा था'"
      ]
     },
     "execution_count": 74,
     "metadata": {},
     "output_type": "execute_result"
    },
    {
     "name": "stdout",
     "output_type": "stream",
     "text": [
      "time: 141 ms (started: 2022-02-10 12:26:20 +05:30)\n"
     ]
    }
   ],
   "source": [
    "replace_slurs_score_v2(randi_tweets[1],slurs_list,50)"
   ]
  },
  {
   "cell_type": "markdown",
   "metadata": {},
   "source": [
    "#### Slur v2 (Tamil)\n",
    "\n",
    "slur - லூசு"
   ]
  },
  {
   "cell_type": "code",
   "execution_count": 75,
   "metadata": {},
   "outputs": [
    {
     "name": "stdout",
     "output_type": "stream",
     "text": [
      "da\n",
      "time: 834 µs (started: 2022-02-10 12:26:20 +05:30)\n"
     ]
    }
   ],
   "source": [
    "slur = 'லூசு'\n",
    "\n",
    "if slur in slurs_list:\n",
    "    \n",
    "    print('da')"
   ]
  },
  {
   "cell_type": "code",
   "execution_count": 76,
   "metadata": {},
   "outputs": [
    {
     "data": {
      "text/plain": [
       "'@urs_master @Spartan_Ajith7 உன்னை ஓ&amp;தவன் டா ....  இந்த மாதிரி 6,7மாதம் முன்னாடி வாய் பேசி தான் #June22Blackday டேக் போட்டு விஜய் அண்ணா சூத்தடிச்சாங்க டா லூசு கூதி'"
      ]
     },
     "execution_count": 76,
     "metadata": {},
     "output_type": "execute_result"
    },
    {
     "name": "stdout",
     "output_type": "stream",
     "text": [
      "time: 2.03 ms (started: 2022-02-10 12:26:20 +05:30)\n"
     ]
    }
   ],
   "source": [
    "tamilslur_tweets[10]"
   ]
  },
  {
   "cell_type": "code",
   "execution_count": 77,
   "metadata": {},
   "outputs": [
    {
     "name": "stdout",
     "output_type": "stream",
     "text": [
      "original tweet : @urs_master @Spartan_Ajith7 உன்னை ஓ&amp;தவன் டா ....  இந்த மாதிரி 6,7மாதம் முன்னாடி வாய் பேசி தான் #June22Blackday டேக் போட்டு விஜய் அண்ணா சூத்தடிச்சாங்க டா லூசு கூதி\n",
      "[('தேவிடியாளுக்கு பொறந்தவன்', 86), ('லூசு', 60), ('கூதி', 60), ('டிகி', 60), ('லூசு கூ', 60), ('சூத்தடி', 60), ('sunflowerண்டை_emoji', 57), ('#பெரியாராவது_மயிராவது', 57), ('#சாமான்', 57), ('தேவடியா பசங்களா', 57), ('அயிட்டம்', 57), ('பொட்டை', 57), ('தேவடியா_மவன்', 57), ('கோழி', 57), ('தேவ்டியா பையா', 57), ('மாங்கா', 57), ('அத்தை', 57), ('தேவிடியா புண்ட', 57), ('ங்கோத்தா', 57), ('லெஸ்பியன்', 57)]\n",
      "dict_keys(['தேவிடியாளுக்கு பொறந்தவன்', 'லூசு', 'கூதி', 'டிகி', 'லூசு கூ', 'சூத்தடி', 'sunflowerண்டை_emoji', '#பெரியாராவது_மயிராவது', '#சாமான்', 'தேவடியா பசங்களா', 'அயிட்டம்', 'பொட்டை', 'தேவடியா_மவன்', 'கோழி', 'தேவ்டியா பையா', 'மாங்கா', 'அத்தை', 'தேவிடியா புண்ட', 'ங்கோத்தா', 'லெஸ்பியன்'])\n",
      "\n",
      "\n",
      "(0, [('லூசு', 'லூசு'), [('கூதி', 'கூதி')]])\n",
      "time: 73.3 ms (started: 2022-02-10 12:26:21 +05:30)\n"
     ]
    }
   ],
   "source": [
    "replace_slurs_score_v3(tamilslur_tweets[10],slurs_list,10)"
   ]
  },
  {
   "cell_type": "code",
   "execution_count": 78,
   "metadata": {},
   "outputs": [
    {
     "name": "stdout",
     "output_type": "stream",
     "text": [
      "original tweet : @urs_master @Spartan_Ajith7 உன்னை ஓ&amp;தவன் டா ....  இந்த மாதிரி 6,7மாதம் முன்னாடி வாய் பேசி தான் #June22Blackday டேக் போட்டு விஜய் அண்ணா சூத்தடிச்சாங்க டா லூசு கூதி\n",
      "[('தேவிடியாளுக்கு பொறந்தவன்', 86), ('லூசு', 60), ('கூதி', 60), ('டிகி', 60), ('லூசு கூ', 60), ('சூத்தடி', 60), ('sunflowerண்டை_emoji', 57), ('#பெரியாராவது_மயிராவது', 57), ('#சாமான்', 57), ('தேவடியா பசங்களா', 57), ('அயிட்டம்', 57), ('பொட்டை', 57), ('தேவடியா_மவன்', 57), ('கோழி', 57), ('தேவ்டியா பையா', 57), ('மாங்கா', 57), ('அத்தை', 57), ('தேவிடியா புண்ட', 57), ('ங்கோத்தா', 57), ('லெஸ்பியன்', 57)]\n",
      "dict_keys(['தேவிடியாளுக்கு பொறந்தவன்', 'லூசு', 'கூதி', 'டிகி', 'லூசு கூ', 'சூத்தடி', 'sunflowerண்டை_emoji', '#பெரியாராவது_மயிராவது', '#சாமான்', 'தேவடியா பசங்களா', 'அயிட்டம்', 'பொட்டை', 'தேவடியா_மவன்', 'கோழி', 'தேவ்டியா பையா', 'மாங்கா', 'அத்தை', 'தேவிடியா புண்ட', 'ங்கோத்தா', 'லெஸ்பியன்'])\n",
      "\n",
      "\n",
      "(0, [('லூசு', 'லூசு'), [('கூதி', 'கூதி')]])\n",
      "time: 73.4 ms (started: 2022-02-10 12:26:21 +05:30)\n"
     ]
    }
   ],
   "source": [
    "replace_slurs_score_v3(tamilslur_tweets[10],slurs_list,10)"
   ]
  },
  {
   "cell_type": "code",
   "execution_count": 79,
   "metadata": {},
   "outputs": [
    {
     "name": "stdout",
     "output_type": "stream",
     "text": [
      "original tweet : @LocalMalaysian @sn0flak @MalangKhostay Why is raepe of young boys the most common thing between Muslim countries?\n",
      "[('chinese corona', 51), ('muzlim', 50), ('#menscommission', 49), ('rape', 45), ('chrislamocommies', 45), ('r@pe', 43), ('#menslivesmatter', 42), ('#domesticviolence', 40), ('buzlim', 40), ('characterless woman', 40), ('#carryminatiroast', 40), ('dented-painted', 39), ('sunflowerண்டை_emoji', 38), ('#justiceforcabdriver', 38), ('#feministsaretrash', 37), ('deshdrohi chinese', 37), ('sanghans', 37), ('dynast sycophants', 37), ('#sanghans', 37), ('#justiceforswapnilpandey', 37)]\n",
      "dict_keys(['chinese corona', 'muzlim', '#menscommission', 'rape', 'chrislamocommies', 'r@pe', '#menslivesmatter', '#domesticviolence', 'buzlim', 'characterless woman', '#carryminatiroast', 'dented-painted', 'sunflowerண்டை_emoji', '#justiceforcabdriver', '#feministsaretrash', 'deshdrohi chinese', 'sanghans', 'dynast sycophants', '#sanghans', '#justiceforswapnilpandey'])\n",
      "\n",
      "\n",
      "(1, [('raepe', 'rape')])\n",
      "time: 132 ms (started: 2022-02-10 12:26:21 +05:30)\n"
     ]
    }
   ],
   "source": [
    "replace_slurs_score_v3(new_tweet,slurs_list,10)"
   ]
  },
  {
   "cell_type": "markdown",
   "metadata": {},
   "source": [
    "#### Token Partial Score"
   ]
  },
  {
   "cell_type": "code",
   "execution_count": 80,
   "metadata": {},
   "outputs": [
    {
     "data": {
      "text/plain": [
       "'@LocalMalaysian @sn0flak @MalangKhostay Why is raepe of young boys the most common thing between Muslim countries?'"
      ]
     },
     "execution_count": 80,
     "metadata": {},
     "output_type": "execute_result"
    },
    {
     "name": "stdout",
     "output_type": "stream",
     "text": [
      "time: 3.39 ms (started: 2022-02-10 12:26:21 +05:30)\n"
     ]
    }
   ],
   "source": [
    "new_tweet"
   ]
  },
  {
   "cell_type": "code",
   "execution_count": 81,
   "metadata": {},
   "outputs": [
    {
     "data": {
      "text/plain": [
       "75"
      ]
     },
     "execution_count": 81,
     "metadata": {},
     "output_type": "execute_result"
    },
    {
     "name": "stdout",
     "output_type": "stream",
     "text": [
      "time: 2.25 ms (started: 2022-02-10 12:26:21 +05:30)\n"
     ]
    }
   ],
   "source": [
    "fuzz.partial_ratio(new_tweet,'rape')"
   ]
  },
  {
   "cell_type": "code",
   "execution_count": 82,
   "metadata": {},
   "outputs": [
    {
     "data": {
      "text/plain": [
       "80"
      ]
     },
     "execution_count": 82,
     "metadata": {},
     "output_type": "execute_result"
    },
    {
     "name": "stdout",
     "output_type": "stream",
     "text": [
      "time: 2.03 ms (started: 2022-02-10 12:26:22 +05:30)\n"
     ]
    }
   ],
   "source": [
    "fuzz.partial_ratio(new_tweet,'raape')"
   ]
  },
  {
   "cell_type": "code",
   "execution_count": 83,
   "metadata": {},
   "outputs": [
    {
     "data": {
      "text/plain": [
       "48"
      ]
     },
     "execution_count": 83,
     "metadata": {},
     "output_type": "execute_result"
    },
    {
     "name": "stdout",
     "output_type": "stream",
     "text": [
      "time: 4 ms (started: 2022-02-10 12:26:22 +05:30)\n"
     ]
    }
   ],
   "source": [
    "fuzz.WRatio(new_tweet,'raape')"
   ]
  },
  {
   "cell_type": "code",
   "execution_count": 84,
   "metadata": {},
   "outputs": [
    {
     "data": {
      "text/plain": [
       "45"
      ]
     },
     "execution_count": 84,
     "metadata": {},
     "output_type": "execute_result"
    },
    {
     "name": "stdout",
     "output_type": "stream",
     "text": [
      "time: 3.99 ms (started: 2022-02-10 12:26:22 +05:30)\n"
     ]
    }
   ],
   "source": [
    "fuzz.WRatio(new_tweet,'rape')"
   ]
  },
  {
   "cell_type": "code",
   "execution_count": 85,
   "metadata": {},
   "outputs": [
    {
     "data": {
      "text/plain": [
       "[('chinese corona', 51),\n",
       " ('muzlim', 50),\n",
       " ('#menscommission', 49),\n",
       " ('rape', 45),\n",
       " ('chrislamocommies', 45),\n",
       " ('r@pe', 43),\n",
       " ('#menslivesmatter', 42),\n",
       " ('#domesticviolence', 40),\n",
       " ('buzlim', 40),\n",
       " ('characterless woman', 40),\n",
       " ('#carryminatiroast', 40),\n",
       " ('dented-painted', 39),\n",
       " ('sunflowerண்டை_emoji', 38),\n",
       " ('#justiceforcabdriver', 38),\n",
       " ('#feministsaretrash', 37),\n",
       " ('deshdrohi chinese', 37),\n",
       " ('sanghans', 37),\n",
       " ('dynast sycophants', 37),\n",
       " ('#sanghans', 37),\n",
       " ('#justiceforswapnilpandey', 37)]"
      ]
     },
     "execution_count": 85,
     "metadata": {},
     "output_type": "execute_result"
    },
    {
     "name": "stdout",
     "output_type": "stream",
     "text": [
      "time: 114 ms (started: 2022-02-10 12:26:22 +05:30)\n"
     ]
    }
   ],
   "source": [
    "process.extract(new_tweet,slurs_list,scorer=fuzz.WRatio,limit=20)"
   ]
  },
  {
   "cell_type": "code",
   "execution_count": 86,
   "metadata": {},
   "outputs": [
    {
     "data": {
      "text/plain": [
       "[('chrislamocommies', 22),\n",
       " ('dynast sycophants', 22),\n",
       " ('#menscommission', 21),\n",
       " ('#potentiallegalterrorist', 21),\n",
       " ('deshdrohi chinese', 20),\n",
       " ('sunflowerண்டை_emoji', 20),\n",
       " ('anti national tukde', 20),\n",
       " ('characterless woman', 20),\n",
       " ('#justiceforswapnilpandey', 19),\n",
       " ('#menslivesmatter', 19),\n",
       " ('#carryminatiroast', 19),\n",
       " ('presstitutes', 18),\n",
       " ('#reservation_kills_merit', 18),\n",
       " ('#feministsaretrash', 17),\n",
       " ('#domesticviolence', 17),\n",
       " ('chinese corona', 17),\n",
       " ('भारत तेरे टुकड़े गैंग', 17),\n",
       " ('#love_nahi_jeehad_hai', 17),\n",
       " ('fakecasewalibiwi', 17),\n",
       " ('#justiceforcabdriver', 17)]"
      ]
     },
     "execution_count": 86,
     "metadata": {},
     "output_type": "execute_result"
    },
    {
     "name": "stdout",
     "output_type": "stream",
     "text": [
      "time: 67.2 ms (started: 2022-02-10 12:26:22 +05:30)\n"
     ]
    }
   ],
   "source": [
    "process.extract(new_tweet,slurs_list,scorer=fuzz.ratio,limit=20)"
   ]
  },
  {
   "cell_type": "code",
   "execution_count": 87,
   "metadata": {},
   "outputs": [
    {
     "name": "stdout",
     "output_type": "stream",
     "text": [
      "time: 102 ms (started: 2022-02-10 12:26:22 +05:30)\n"
     ]
    }
   ],
   "source": [
    "new_tweet ='@LocalMalaysian @sn0flak @MalangKhostay Why is Raepe of young boys the most common thing between Muslim countries?'"
   ]
  },
  {
   "cell_type": "code",
   "execution_count": 88,
   "metadata": {},
   "outputs": [
    {
     "data": {
      "text/plain": [
       "[('muzlim', 83),\n",
       " ('rape', 75),\n",
       " ('buzlim', 67),\n",
       " ('sanghans', 62),\n",
       " ('#sanghans', 62),\n",
       " ('samlaingik', 60),\n",
       " ('chinese corona', 57),\n",
       " ('sc0undrel', 56),\n",
       " ('pheminist', 56),\n",
       " ('chrislamocommies', 50),\n",
       " ('#menscommission', 50),\n",
       " ('faggot', 50),\n",
       " ('r@pe', 50),\n",
       " ('கூfire', 50),\n",
       " ('scumreds', 50),\n",
       " ('izzlam', 50),\n",
       " ('रांड', 50),\n",
       " ('jersey cow', 50),\n",
       " ('भांड', 50),\n",
       " ('r@p3', 50)]"
      ]
     },
     "execution_count": 88,
     "metadata": {},
     "output_type": "execute_result"
    },
    {
     "name": "stdout",
     "output_type": "stream",
     "text": [
      "time: 64.3 ms (started: 2022-02-10 12:26:22 +05:30)\n"
     ]
    }
   ],
   "source": [
    "process.extract(new_tweet,slurs_list,scorer=fuzz.partial_ratio,limit=20)"
   ]
  },
  {
   "cell_type": "code",
   "execution_count": 89,
   "metadata": {},
   "outputs": [
    {
     "data": {
      "text/plain": [
       "[('muzlim', 83),\n",
       " ('rape', 75),\n",
       " ('buzlim', 67),\n",
       " ('sanghans', 62),\n",
       " ('#sanghans', 62),\n",
       " ('samlaingik', 60),\n",
       " ('chinese corona', 57),\n",
       " ('sc0undrel', 56),\n",
       " ('pheminist', 56),\n",
       " ('chrislamocommies', 50),\n",
       " ('#menscommission', 50),\n",
       " ('faggot', 50),\n",
       " ('r@pe', 50),\n",
       " ('கூfire', 50),\n",
       " ('scumreds', 50),\n",
       " ('izzlam', 50),\n",
       " ('रांड', 50),\n",
       " ('jersey cow', 50),\n",
       " ('भांड', 50),\n",
       " ('r@p3', 50)]"
      ]
     },
     "execution_count": 89,
     "metadata": {},
     "output_type": "execute_result"
    },
    {
     "name": "stdout",
     "output_type": "stream",
     "text": [
      "time: 36.1 ms (started: 2022-02-10 12:26:23 +05:30)\n"
     ]
    }
   ],
   "source": [
    "process.extract(new_tweet,slurs_list,scorer=fuzz.partial_ratio,limit=20)"
   ]
  },
  {
   "cell_type": "code",
   "execution_count": 90,
   "metadata": {},
   "outputs": [
    {
     "data": {
      "text/plain": [
       "'@urs_master @Spartan_Ajith7 உன்னை ஓ&amp;தவன் டா ....  இந்த மாதிரி 6,7மாதம் முன்னாடி வாய் பேசி தான் #June22Blackday டேக் போட்டு விஜய் அண்ணா சூத்தடிச்சாங்க டா லூசு கூதி'"
      ]
     },
     "execution_count": 90,
     "metadata": {},
     "output_type": "execute_result"
    },
    {
     "name": "stdout",
     "output_type": "stream",
     "text": [
      "time: 3.89 ms (started: 2022-02-10 12:26:23 +05:30)\n"
     ]
    }
   ],
   "source": [
    "tamilslur_tweets[10]"
   ]
  },
  {
   "cell_type": "code",
   "execution_count": 91,
   "metadata": {},
   "outputs": [
    {
     "data": {
      "text/plain": [
       "[('லூசு', 100),\n",
       " ('கூதி', 100),\n",
       " ('டிகி', 100),\n",
       " ('லூசு கூ', 100),\n",
       " ('சூத்தடி', 100),\n",
       " ('#சாமான்', 80),\n",
       " ('மாங்கா', 80),\n",
       " ('பொட்டை நாய்', 80),\n",
       " ('சாமான்', 80),\n",
       " ('கோத்தா', 80),\n",
       " ('சூத்து', 80),\n",
       " ('அத்தை', 75),\n",
       " ('#அத்தை', 75),\n",
       " ('ங்கோத்தா', 71),\n",
       " ('#ங்கோத்தா', 71),\n",
       " ('தேவ்டியா', 71),\n",
       " ('கோழி', 67),\n",
       " ('தேவ்டியா பையா', 67),\n",
       " ('பொதுச் சொத்து', 67),\n",
       " ('வேச', 67)]"
      ]
     },
     "execution_count": 91,
     "metadata": {},
     "output_type": "execute_result"
    },
    {
     "name": "stdout",
     "output_type": "stream",
     "text": [
      "time: 13.1 ms (started: 2022-02-10 12:26:23 +05:30)\n"
     ]
    }
   ],
   "source": [
    "process.extract(tamilslur_tweets[10],slurs_list,scorer=fuzz.partial_ratio,limit=20)"
   ]
  },
  {
   "cell_type": "code",
   "execution_count": 92,
   "metadata": {},
   "outputs": [
    {
     "data": {
      "text/plain": [
       "[('தேவிடியாளுக்கு பொறந்தவன்', 86),\n",
       " ('லூசு', 60),\n",
       " ('கூதி', 60),\n",
       " ('டிகி', 60),\n",
       " ('லூசு கூ', 60),\n",
       " ('சூத்தடி', 60),\n",
       " ('sunflowerண்டை_emoji', 57),\n",
       " ('#பெரியாராவது_மயிராவது', 57),\n",
       " ('#சாமான்', 57),\n",
       " ('தேவடியா பசங்களா', 57),\n",
       " ('அயிட்டம்', 57),\n",
       " ('பொட்டை', 57),\n",
       " ('தேவடியா_மவன்', 57),\n",
       " ('கோழி', 57),\n",
       " ('தேவ்டியா பையா', 57),\n",
       " ('மாங்கா', 57),\n",
       " ('அத்தை', 57),\n",
       " ('தேவிடியா புண்ட', 57),\n",
       " ('ங்கோத்தா', 57),\n",
       " ('லெஸ்பியன்', 57)]"
      ]
     },
     "execution_count": 92,
     "metadata": {},
     "output_type": "execute_result"
    },
    {
     "name": "stdout",
     "output_type": "stream",
     "text": [
      "time: 44.2 ms (started: 2022-02-10 12:26:23 +05:30)\n"
     ]
    }
   ],
   "source": [
    "process.extract(tamilslur_tweets[10],slurs_list,scorer=fuzz.WRatio,limit=20)"
   ]
  },
  {
   "cell_type": "markdown",
   "metadata": {},
   "source": [
    "#### Fuzzy util function with partial ratio scorer"
   ]
  },
  {
   "cell_type": "code",
   "execution_count": 93,
   "metadata": {},
   "outputs": [
    {
     "name": "stdout",
     "output_type": "stream",
     "text": [
      "time: 1.29 ms (started: 2022-02-10 12:26:23 +05:30)\n"
     ]
    }
   ],
   "source": [
    "def replace_slurs_score_v3(tweet,slurs_list,threshold_score):\n",
    "    \n",
    "    print(f'original tweet : {tweet}')\n",
    "    check = 0\n",
    "    \n",
    "    #slur_list = ['rape']\n",
    "    #slurs_list.append('Rape')\n",
    "    \n",
    "    print(process.extract(tweet,slurs_list,limit = 20))\n",
    "    \n",
    "    match_dict = dict(process.extract(tweet,slurs_list,limit = 20))\n",
    "    \n",
    "    print(match_dict.keys())\n",
    "    matches = match_dict.keys()\n",
    "    \n",
    "    # to compare the distance of top 20 matching slurs to find the right matching\n",
    "    \n",
    "    dis_dict = {}\n",
    "    \n",
    "    for match in matches:\n",
    "\n",
    "        for token in tweet.split(' '):\n",
    "\n",
    "            dis = lev.distance(token,match)\n",
    "            #dis_dict[dis] = (token,match)\n",
    "            if dis in dis_dict:\n",
    "                dis_dict[dis].append([(token,match)])\n",
    "            \n",
    "            else:\n",
    "                dis_dict[dis] = [(token,match)]\n",
    "            \n",
    "    print(\"\\n\")\n",
    "    \n",
    "    #print(dis_dict)\n",
    "    dis_dict = sorted(dis_dict.items())\n",
    "    print(dis_dict[0])"
   ]
  },
  {
   "cell_type": "code",
   "execution_count": 94,
   "metadata": {},
   "outputs": [
    {
     "name": "stdout",
     "output_type": "stream",
     "text": [
      "time: 2.95 ms (started: 2022-02-10 12:26:24 +05:30)\n"
     ]
    }
   ],
   "source": [
    "def replace_slurs_score_v4(tweet,slurs_list,threshold_score):\n",
    "    \n",
    "    #print(f'original tweet : {tweet}')\n",
    "    check = 0\n",
    "     \n",
    "    #print(process.extract(tweet,slurs_list,limit = 10,scorer=fuzz.partial_ratio))\n",
    "    \n",
    "    match_dict = dict(process.extract(tweet,slurs_list,limit = 10,scorer=fuzz.partial_ratio))\n",
    "    \n",
    "    print(match_dict)\n",
    "    matches = match_dict.keys()\n",
    "    \n",
    "    # to compare the distance of top 10 matching slurs to find the right matching\n",
    "    dis_dict = {}\n",
    "    token_slur_dict = {}\n",
    "    \n",
    "    \n",
    "    for slur in matches:\n",
    "        \n",
    "        for token in tweet.split(' '):\n",
    "            \n",
    "            \"\"\"\n",
    "            Can add memoization here\n",
    "            \n",
    "            -Check if the distance b/w token and match is already calculated\n",
    "            \"\"\"\n",
    "            \n",
    "            if (token,slur) not in token_slur_dict:\n",
    "                \n",
    "                dis = lev.distance(token,slur)\n",
    "                \n",
    "                if token == 'SiCKular' and slur == 'sickular':\n",
    "                    print(f'distance : {dis}')\n",
    "                \n",
    "                token_slur_dict[(token,slur)] = dis\n",
    "            \n",
    "                if dis in dis_dict:\n",
    "                    dis_dict[dis].append((token,slur))\n",
    "            \n",
    "                else:\n",
    "                    dis_dict[dis] = [(token,slur)]\n",
    "            \n",
    "    #print(\"\\n\")\n",
    "    \n",
    "    #print(dis_dict)\n",
    "    \n",
    "    dist_sort = sorted(dis_dict.items())\n",
    "    print(dist_sort)\n",
    "    ##print(dist_sort[0])\n",
    "    #print(type(dist_sort[0]))\n",
    "\n",
    "    \n",
    "    for match in dist_sort[0][1]:\n",
    "        \n",
    "        #print(match_dict[match[1]])\n",
    "        #print(match)\n",
    "        \n",
    "        #if match_dict[match[1]] >= threshold_score and (match[0].lower()!='muslim' or match[0].lower()!='muslims'):\n",
    "        if match_dict[match[1]] >= threshold_score and match[0] not in ['Muslim','muslim','Muslims','muslims']:\n",
    "        \n",
    "            tweet = tweet.replace(match[0],'<replace>')\n",
    "    \n",
    "    return tweet"
   ]
  },
  {
   "cell_type": "code",
   "execution_count": 95,
   "metadata": {},
   "outputs": [
    {
     "name": "stdout",
     "output_type": "stream",
     "text": [
      "{'muzlim': 83, 'rape': 75, 'buzlim': 67, 'sanghans': 62, '#sanghans': 62, 'samlaingik': 60, 'chinese corona': 57, 'sc0undrel': 56, 'pheminist': 56, 'chrislamocommies': 50}\n",
      "[(2, [('Muslim', 'muzlim'), ('Raepe', 'rape'), ('Muslim', 'buzlim')]), (3, [('the', 'rape')]), (4, [('Why', 'rape'), ('is', 'rape'), ('of', 'rape'), ('boys', 'rape'), ('most', 'rape')]), (5, [('is', 'muzlim'), ('most', 'muzlim'), ('young', 'rape'), ('thing', 'rape'), ('is', 'buzlim'), ('boys', 'buzlim')]), (6, [('Why', 'muzlim'), ('Raepe', 'muzlim'), ('of', 'muzlim'), ('young', 'muzlim'), ('boys', 'muzlim'), ('the', 'muzlim'), ('common', 'muzlim'), ('thing', 'muzlim'), ('common', 'rape'), ('between', 'rape'), ('Muslim', 'rape'), ('Why', 'buzlim'), ('Raepe', 'buzlim'), ('of', 'buzlim'), ('young', 'buzlim'), ('the', 'buzlim'), ('most', 'buzlim'), ('common', 'buzlim'), ('thing', 'buzlim'), ('between', 'buzlim'), ('thing', 'sanghans'), ('countries?', 'sc0undrel'), ('most', 'pheminist'), ('thing', 'pheminist')]), (7, [('@sn0flak', 'muzlim'), ('between', 'muzlim'), ('@sn0flak', 'buzlim'), ('@sn0flak', 'sanghans'), ('Why', 'sanghans'), ('is', 'sanghans'), ('Raepe', 'sanghans'), ('young', 'sanghans'), ('boys', 'sanghans'), ('the', 'sanghans'), ('common', 'sanghans'), ('between', 'sanghans'), ('@sn0flak', '#sanghans'), ('young', '#sanghans'), ('thing', '#sanghans'), ('thing', 'samlaingik'), ('young', 'sc0undrel'), ('is', 'pheminist'), ('the', 'pheminist'), ('common', 'pheminist')]), (8, [('countries?', 'muzlim'), ('@sn0flak', 'rape'), ('countries?', 'buzlim'), ('of', 'sanghans'), ('most', 'sanghans'), ('Muslim', 'sanghans'), ('countries?', 'sanghans'), ('Why', '#sanghans'), ('is', '#sanghans'), ('Raepe', '#sanghans'), ('boys', '#sanghans'), ('the', '#sanghans'), ('common', '#sanghans'), ('between', '#sanghans'), ('countries?', '#sanghans'), ('@sn0flak', 'samlaingik'), ('young', 'samlaingik'), ('common', 'samlaingik'), ('Muslim', 'samlaingik'), ('@sn0flak', 'sc0undrel'), ('Raepe', 'sc0undrel'), ('the', 'sc0undrel'), ('common', 'sc0undrel'), ('thing', 'sc0undrel'), ('between', 'sc0undrel'), ('Muslim', 'sc0undrel'), ('Why', 'pheminist'), ('Raepe', 'pheminist'), ('young', 'pheminist'), ('boys', 'pheminist'), ('between', 'pheminist'), ('Muslim', 'pheminist'), ('countries?', 'pheminist')]), (9, [('countries?', 'rape'), ('of', '#sanghans'), ('most', '#sanghans'), ('Muslim', '#sanghans'), ('is', 'samlaingik'), ('Raepe', 'samlaingik'), ('most', 'samlaingik'), ('between', 'samlaingik'), ('Why', 'sc0undrel'), ('is', 'sc0undrel'), ('of', 'sc0undrel'), ('boys', 'sc0undrel'), ('most', 'sc0undrel'), ('@sn0flak', 'pheminist'), ('of', 'pheminist')]), (10, [('@MalangKhostay', 'sanghans'), ('@MalangKhostay', '#sanghans'), ('Why', 'samlaingik'), ('of', 'samlaingik'), ('boys', 'samlaingik'), ('the', 'samlaingik'), ('countries?', 'samlaingik')]), (11, [('@MalangKhostay', 'samlaingik'), ('common', 'chinese corona'), ('thing', 'chinese corona'), ('between', 'chinese corona'), ('@MalangKhostay', 'pheminist')]), (12, [('@LocalMalaysian', 'sanghans'), ('@LocalMalaysian', '#sanghans'), ('@LocalMalaysian', 'samlaingik'), ('is', 'chinese corona'), ('Raepe', 'chinese corona'), ('young', 'chinese corona'), ('the', 'chinese corona'), ('countries?', 'chinese corona'), ('common', 'chrislamocommies'), ('countries?', 'chrislamocommies')]), (13, [('@LocalMalaysian', 'muzlim'), ('@MalangKhostay', 'muzlim'), ('@MalangKhostay', 'rape'), ('@LocalMalaysian', 'buzlim'), ('@MalangKhostay', 'buzlim'), ('@sn0flak', 'chinese corona'), ('@MalangKhostay', 'chinese corona'), ('Why', 'chinese corona'), ('of', 'chinese corona'), ('boys', 'chinese corona'), ('most', 'chinese corona'), ('Muslim', 'chinese corona'), ('@MalangKhostay', 'sc0undrel'), ('Muslim', 'chrislamocommies')]), (14, [('@LocalMalaysian', 'rape'), ('@LocalMalaysian', 'chinese corona'), ('@LocalMalaysian', 'sc0undrel'), ('@LocalMalaysian', 'pheminist'), ('@LocalMalaysian', 'chrislamocommies'), ('@sn0flak', 'chrislamocommies'), ('@MalangKhostay', 'chrislamocommies'), ('is', 'chrislamocommies'), ('Raepe', 'chrislamocommies'), ('boys', 'chrislamocommies'), ('the', 'chrislamocommies'), ('most', 'chrislamocommies'), ('thing', 'chrislamocommies')]), (15, [('Why', 'chrislamocommies'), ('of', 'chrislamocommies'), ('young', 'chrislamocommies'), ('between', 'chrislamocommies')])]\n"
     ]
    },
    {
     "data": {
      "text/plain": [
       "'@LocalMalaysian @sn0flak @MalangKhostay Why is <replace> of young boys the most common thing between Muslim countries?'"
      ]
     },
     "execution_count": 95,
     "metadata": {},
     "output_type": "execute_result"
    },
    {
     "name": "stdout",
     "output_type": "stream",
     "text": [
      "time: 16.6 ms (started: 2022-02-10 12:26:24 +05:30)\n"
     ]
    }
   ],
   "source": [
    "replace_slurs_score_v4(new_tweet,slurs_list,50)"
   ]
  },
  {
   "cell_type": "code",
   "execution_count": 96,
   "metadata": {},
   "outputs": [
    {
     "name": "stdout",
     "output_type": "stream",
     "text": [
      "{'muzlim': 83, 'rape': 75, 'buzlim': 67, 'sanghans': 62, '#sanghans': 62, 'samlaingik': 60, 'chinese corona': 57, 'sc0undrel': 56, 'pheminist': 56, 'chrislamocommies': 50}\n",
      "[(2, [('Muslim', 'muzlim'), ('Raepe', 'rape'), ('Muslim', 'buzlim')]), (3, [('the', 'rape')]), (4, [('Why', 'rape'), ('is', 'rape'), ('of', 'rape'), ('boys', 'rape'), ('most', 'rape')]), (5, [('is', 'muzlim'), ('most', 'muzlim'), ('young', 'rape'), ('thing', 'rape'), ('is', 'buzlim'), ('boys', 'buzlim')]), (6, [('Why', 'muzlim'), ('Raepe', 'muzlim'), ('of', 'muzlim'), ('young', 'muzlim'), ('boys', 'muzlim'), ('the', 'muzlim'), ('common', 'muzlim'), ('thing', 'muzlim'), ('common', 'rape'), ('between', 'rape'), ('Muslim', 'rape'), ('Why', 'buzlim'), ('Raepe', 'buzlim'), ('of', 'buzlim'), ('young', 'buzlim'), ('the', 'buzlim'), ('most', 'buzlim'), ('common', 'buzlim'), ('thing', 'buzlim'), ('between', 'buzlim'), ('thing', 'sanghans'), ('countries?', 'sc0undrel'), ('most', 'pheminist'), ('thing', 'pheminist')]), (7, [('@sn0flak', 'muzlim'), ('between', 'muzlim'), ('@sn0flak', 'buzlim'), ('@sn0flak', 'sanghans'), ('Why', 'sanghans'), ('is', 'sanghans'), ('Raepe', 'sanghans'), ('young', 'sanghans'), ('boys', 'sanghans'), ('the', 'sanghans'), ('common', 'sanghans'), ('between', 'sanghans'), ('@sn0flak', '#sanghans'), ('young', '#sanghans'), ('thing', '#sanghans'), ('thing', 'samlaingik'), ('young', 'sc0undrel'), ('is', 'pheminist'), ('the', 'pheminist'), ('common', 'pheminist')]), (8, [('countries?', 'muzlim'), ('@sn0flak', 'rape'), ('countries?', 'buzlim'), ('of', 'sanghans'), ('most', 'sanghans'), ('Muslim', 'sanghans'), ('countries?', 'sanghans'), ('Why', '#sanghans'), ('is', '#sanghans'), ('Raepe', '#sanghans'), ('boys', '#sanghans'), ('the', '#sanghans'), ('common', '#sanghans'), ('between', '#sanghans'), ('countries?', '#sanghans'), ('@sn0flak', 'samlaingik'), ('young', 'samlaingik'), ('common', 'samlaingik'), ('Muslim', 'samlaingik'), ('@sn0flak', 'sc0undrel'), ('Raepe', 'sc0undrel'), ('the', 'sc0undrel'), ('common', 'sc0undrel'), ('thing', 'sc0undrel'), ('between', 'sc0undrel'), ('Muslim', 'sc0undrel'), ('Why', 'pheminist'), ('Raepe', 'pheminist'), ('young', 'pheminist'), ('boys', 'pheminist'), ('between', 'pheminist'), ('Muslim', 'pheminist'), ('countries?', 'pheminist')]), (9, [('countries?', 'rape'), ('of', '#sanghans'), ('most', '#sanghans'), ('Muslim', '#sanghans'), ('is', 'samlaingik'), ('Raepe', 'samlaingik'), ('most', 'samlaingik'), ('between', 'samlaingik'), ('Why', 'sc0undrel'), ('is', 'sc0undrel'), ('of', 'sc0undrel'), ('boys', 'sc0undrel'), ('most', 'sc0undrel'), ('@sn0flak', 'pheminist'), ('of', 'pheminist')]), (10, [('@MalangKhostay', 'sanghans'), ('@MalangKhostay', '#sanghans'), ('Why', 'samlaingik'), ('of', 'samlaingik'), ('boys', 'samlaingik'), ('the', 'samlaingik'), ('countries?', 'samlaingik')]), (11, [('@MalangKhostay', 'samlaingik'), ('common', 'chinese corona'), ('thing', 'chinese corona'), ('between', 'chinese corona'), ('@MalangKhostay', 'pheminist')]), (12, [('@LocalMalaysian', 'sanghans'), ('@LocalMalaysian', '#sanghans'), ('@LocalMalaysian', 'samlaingik'), ('is', 'chinese corona'), ('Raepe', 'chinese corona'), ('young', 'chinese corona'), ('the', 'chinese corona'), ('countries?', 'chinese corona'), ('common', 'chrislamocommies'), ('countries?', 'chrislamocommies')]), (13, [('@LocalMalaysian', 'muzlim'), ('@MalangKhostay', 'muzlim'), ('@MalangKhostay', 'rape'), ('@LocalMalaysian', 'buzlim'), ('@MalangKhostay', 'buzlim'), ('@sn0flak', 'chinese corona'), ('@MalangKhostay', 'chinese corona'), ('Why', 'chinese corona'), ('of', 'chinese corona'), ('boys', 'chinese corona'), ('most', 'chinese corona'), ('Muslim', 'chinese corona'), ('@MalangKhostay', 'sc0undrel'), ('Muslim', 'chrislamocommies')]), (14, [('@LocalMalaysian', 'rape'), ('@LocalMalaysian', 'chinese corona'), ('@LocalMalaysian', 'sc0undrel'), ('@LocalMalaysian', 'pheminist'), ('@LocalMalaysian', 'chrislamocommies'), ('@sn0flak', 'chrislamocommies'), ('@MalangKhostay', 'chrislamocommies'), ('is', 'chrislamocommies'), ('Raepe', 'chrislamocommies'), ('boys', 'chrislamocommies'), ('the', 'chrislamocommies'), ('most', 'chrislamocommies'), ('thing', 'chrislamocommies')]), (15, [('Why', 'chrislamocommies'), ('of', 'chrislamocommies'), ('young', 'chrislamocommies'), ('between', 'chrislamocommies')])]\n"
     ]
    },
    {
     "data": {
      "text/plain": [
       "'@LocalMalaysian @sn0flak @MalangKhostay Why is <replace> of young boys the most common thing between Muslim countries?'"
      ]
     },
     "execution_count": 96,
     "metadata": {},
     "output_type": "execute_result"
    },
    {
     "name": "stdout",
     "output_type": "stream",
     "text": [
      "time: 18.9 ms (started: 2022-02-10 12:26:24 +05:30)\n"
     ]
    }
   ],
   "source": [
    "replace_slurs_score_v4(new_tweet,slurs_list,20)"
   ]
  },
  {
   "cell_type": "code",
   "execution_count": 97,
   "metadata": {},
   "outputs": [
    {
     "name": "stdout",
     "output_type": "stream",
     "text": [
      "{'லூசு': 100, 'கூதி': 100, 'டிகி': 100, 'லூசு கூ': 100, 'சூத்தடி': 100, '#சாமான்': 80, 'மாங்கா': 80, 'பொட்டை நாய்': 80, 'சாமான்': 80, 'கோத்தா': 80}\n",
      "[(0, [('லூசு', 'லூசு'), ('கூதி', 'கூதி')]), (2, [('டேக்', 'டிகி')]), (3, [('பேசி', 'லூசு'), ('கூதி', 'லூசு'), ('பேசி', 'கூதி'), ('லூசு', 'கூதி'), ('டா', 'டிகி'), ('பேசி', 'டிகி'), ('கூதி', 'டிகி'), ('லூசு', 'லூசு கூ'), ('தான்', 'சாமான்')]), (4, [('டா', 'லூசு'), ('....', 'லூசு'), ('', 'லூசு'), ('இந்த', 'லூசு'), ('வாய்', 'லூசு'), ('தான்', 'லூசு'), ('டேக்', 'லூசு'), ('டா', 'கூதி'), ('....', 'கூதி'), ('', 'கூதி'), ('இந்த', 'கூதி'), ('மாதிரி', 'கூதி'), ('வாய்', 'கூதி'), ('தான்', 'கூதி'), ('டேக்', 'கூதி'), ('....', 'டிகி'), ('', 'டிகி'), ('இந்த', 'டிகி'), ('மாதிரி', 'டிகி'), ('வாய்', 'டிகி'), ('தான்', 'டிகி'), ('விஜய்', 'டிகி'), ('லூசு', 'டிகி'), ('கூதி', 'சூத்தடி'), ('தான்', '#சாமான்'), ('மாதிரி', 'மாங்கா'), ('வாய்', 'மாங்கா'), ('தான்', 'மாங்கா'), ('அண்ணா', 'மாங்கா'), ('வாய்', 'சாமான்'), ('இந்த', 'கோத்தா'), ('போட்டு', 'கோத்தா'), ('அண்ணா', 'கோத்தா'), ('கூதி', 'கோத்தா')]), (5, [('உன்னை', 'லூசு'), ('போட்டு', 'லூசு'), ('விஜய்', 'லூசு'), ('அண்ணா', 'லூசு'), ('உன்னை', 'கூதி'), ('விஜய்', 'கூதி'), ('அண்ணா', 'கூதி'), ('உன்னை', 'டிகி'), ('போட்டு', 'டிகி'), ('அண்ணா', 'டிகி'), ('இந்த', 'சூத்தடி'), ('மாதிரி', 'சூத்தடி'), ('முன்னாடி', 'சூத்தடி'), ('போட்டு', 'சூத்தடி'), ('6,7மாதம்', '#சாமான்'), ('வாய்', '#சாமான்'), ('உன்னை', 'மாங்கா'), ('டா', 'மாங்கா'), ('இந்த', 'மாங்கா'), ('முன்னாடி', 'மாங்கா'), ('டேக்', 'மாங்கா'), ('போட்டு', 'மாங்கா'), ('உன்னை', 'சாமான்'), ('டா', 'சாமான்'), ('மாதிரி', 'சாமான்'), ('6,7மாதம்', 'சாமான்'), ('டேக்', 'சாமான்'), ('விஜய்', 'சாமான்'), ('உன்னை', 'கோத்தா'), ('டா', 'கோத்தா'), ('மாதிரி', 'கோத்தா'), ('வாய்', 'கோத்தா'), ('தான்', 'கோத்தா'), ('டேக்', 'கோத்தா')]), (6, [('மாதிரி', 'லூசு'), ('போட்டு', 'கூதி'), ('பேசி', 'லூசு கூ'), ('டேக்', 'லூசு கூ'), ('கூதி', 'லூசு கூ'), ('உன்னை', 'சூத்தடி'), ('டா', 'சூத்தடி'), ('வாய்', 'சூத்தடி'), ('பேசி', 'சூத்தடி'), ('தான்', 'சூத்தடி'), ('டேக்', 'சூத்தடி'), ('அண்ணா', 'சூத்தடி'), ('லூசு', 'சூத்தடி'), ('உன்னை', '#சாமான்'), ('டா', '#சாமான்'), ('மாதிரி', '#சாமான்'), ('டேக்', '#சாமான்'), ('விஜய்', '#சாமான்'), ('அண்ணா', '#சாமான்'), ('....', 'மாங்கா'), ('', 'மாங்கா'), ('பேசி', 'மாங்கா'), ('விஜய்', 'மாங்கா'), ('லூசு', 'மாங்கா'), ('கூதி', 'மாங்கா'), ('....', 'சாமான்'), ('', 'சாமான்'), ('இந்த', 'சாமான்'), ('பேசி', 'சாமான்'), ('போட்டு', 'சாமான்'), ('அண்ணா', 'சாமான்'), ('லூசு', 'சாமான்'), ('கூதி', 'சாமான்'), ('....', 'கோத்தா'), ('', 'கோத்தா'), ('முன்னாடி', 'கோத்தா'), ('பேசி', 'கோத்தா'), ('விஜய்', 'கோத்தா'), ('லூசு', 'கோத்தா')]), (7, [('6,7மாதம்', 'கூதி'), ('முன்னாடி', 'கூதி'), ('முன்னாடி', 'டிகி'), ('உன்னை', 'லூசு கூ'), ('டா', 'லூசு கூ'), ('....', 'லூசு கூ'), ('', 'லூசு கூ'), ('இந்த', 'லூசு கூ'), ('மாதிரி', 'லூசு கூ'), ('வாய்', 'லூசு கூ'), ('தான்', 'லூசு கூ'), ('போட்டு', 'லூசு கூ'), ('விஜய்', 'லூசு கூ'), ('அண்ணா', 'லூசு கூ'), ('....', 'சூத்தடி'), ('', 'சூத்தடி'), ('6,7மாதம்', 'சூத்தடி'), ('விஜய்', 'சூத்தடி'), ('சூத்தடிச்சாங்க', 'சூத்தடி'), ('....', '#சாமான்'), ('', '#சாமான்'), ('இந்த', '#சாமான்'), ('முன்னாடி', '#சாமான்'), ('பேசி', '#சாமான்'), ('போட்டு', '#சாமான்'), ('லூசு', '#சாமான்'), ('கூதி', '#சாமான்'), ('6,7மாதம்', 'மாங்கா'), ('போட்டு', 'பொட்டை நாய்'), ('முன்னாடி', 'சாமான்'), ('6,7மாதம்', 'கோத்தா')]), (8, [('6,7மாதம்', 'லூசு'), ('முன்னாடி', 'லூசு'), ('6,7மாதம்', 'டிகி'), ('6,7மாதம்', 'லூசு கூ'), ('முன்னாடி', 'லூசு கூ'), ('ஓ&amp;தவன்', '#சாமான்'), ('வாய்', 'பொட்டை நாய்'), ('ஓ&amp;தவன்', 'சாமான்')]), (9, [('ஓ&amp;தவன்', 'கூதி'), ('ஓ&amp;தவன்', 'சூத்தடி'), ('உன்னை', 'பொட்டை நாய்'), ('டா', 'பொட்டை நாய்'), ('முன்னாடி', 'பொட்டை நாய்'), ('தான்', 'பொட்டை நாய்'), ('டேக்', 'பொட்டை நாய்'), ('விஜய்', 'பொட்டை நாய்'), ('அண்ணா', 'பொட்டை நாய்'), ('ஓ&amp;தவன்', 'கோத்தா')]), (10, [('ஓ&amp;தவன்', 'லூசு'), ('ஓ&amp;தவன்', 'டிகி'), ('ஓ&amp;தவன்', 'லூசு கூ'), ('ஓ&amp;தவன்', 'மாங்கா'), ('ஓ&amp;தவன்', 'பொட்டை நாய்'), ('இந்த', 'பொட்டை நாய்'), ('6,7மாதம்', 'பொட்டை நாய்'), ('பேசி', 'பொட்டை நாய்'), ('சூத்தடிச்சாங்க', 'பொட்டை நாய்'), ('சூத்தடிச்சாங்க', 'கோத்தா')]), (11, [('@urs_master', 'லூசு'), ('@urs_master', 'கூதி'), ('சூத்தடிச்சாங்க', 'கூதி'), ('@urs_master', 'டிகி'), ('@urs_master', 'லூசு கூ'), ('@urs_master', 'சூத்தடி'), ('@urs_master', '#சாமான்'), ('சூத்தடிச்சாங்க', '#சாமான்'), ('@urs_master', 'மாங்கா'), ('சூத்தடிச்சாங்க', 'மாங்கா'), ('@urs_master', 'பொட்டை நாய்'), ('....', 'பொட்டை நாய்'), ('', 'பொட்டை நாய்'), ('மாதிரி', 'பொட்டை நாய்'), ('லூசு', 'பொட்டை நாய்'), ('கூதி', 'பொட்டை நாய்'), ('@urs_master', 'சாமான்'), ('சூத்தடிச்சாங்க', 'சாமான்'), ('@urs_master', 'கோத்தா')]), (12, [('சூத்தடிச்சாங்க', 'லூசு'), ('சூத்தடிச்சாங்க', 'டிகி'), ('சூத்தடிச்சாங்க', 'லூசு கூ')]), (14, [('#June22Blackday', '#சாமான்')]), (15, [('@Spartan_Ajith7', 'லூசு'), ('#June22Blackday', 'லூசு'), ('@Spartan_Ajith7', 'கூதி'), ('#June22Blackday', 'கூதி'), ('@Spartan_Ajith7', 'டிகி'), ('#June22Blackday', 'டிகி'), ('@Spartan_Ajith7', 'லூசு கூ'), ('#June22Blackday', 'லூசு கூ'), ('@Spartan_Ajith7', 'சூத்தடி'), ('#June22Blackday', 'சூத்தடி'), ('@Spartan_Ajith7', '#சாமான்'), ('@Spartan_Ajith7', 'மாங்கா'), ('#June22Blackday', 'மாங்கா'), ('@Spartan_Ajith7', 'பொட்டை நாய்'), ('#June22Blackday', 'பொட்டை நாய்'), ('@Spartan_Ajith7', 'சாமான்'), ('#June22Blackday', 'சாமான்'), ('@Spartan_Ajith7', 'கோத்தா'), ('#June22Blackday', 'கோத்தா')])]\n"
     ]
    },
    {
     "data": {
      "text/plain": [
       "'@urs_master @Spartan_Ajith7 உன்னை ஓ&amp;தவன் டா ....  இந்த மாதிரி 6,7மாதம் முன்னாடி வாய் பேசி தான் #June22Blackday டேக் போட்டு விஜய் அண்ணா சூத்தடிச்சாங்க டா <replace> <replace>'"
      ]
     },
     "execution_count": 97,
     "metadata": {},
     "output_type": "execute_result"
    },
    {
     "name": "stdout",
     "output_type": "stream",
     "text": [
      "time: 17.9 ms (started: 2022-02-10 12:26:24 +05:30)\n"
     ]
    }
   ],
   "source": [
    "replace_slurs_score_v4(tamilslur_tweets[10],slurs_list,20)"
   ]
  },
  {
   "cell_type": "markdown",
   "metadata": {},
   "source": [
    "#### Optimization ; reduced the run time from 118 ms to 82 ms"
   ]
  },
  {
   "cell_type": "markdown",
   "metadata": {},
   "source": [
    "### Result analysis\n",
    "\n",
    "- create a csv file for each of the languages and analyze the results"
   ]
  },
  {
   "cell_type": "code",
   "execution_count": 98,
   "metadata": {},
   "outputs": [
    {
     "name": "stdout",
     "output_type": "stream",
     "text": [
      "time: 1.34 ms (started: 2022-02-10 12:26:26 +05:30)\n"
     ]
    }
   ],
   "source": [
    "def get_lang_data(data,lang='en',count=100):\n",
    "    \n",
    "    group_data_lang = data.groupby(['Language'])\n",
    "    \n",
    "    lang_data = group_data_lang.get_group(lang)\n",
    "    lang_data_random = lang_data.sample(frac=count/lang_data.shape[0])\n",
    "    \n",
    "    return lang_data_random"
   ]
  },
  {
   "cell_type": "markdown",
   "metadata": {},
   "source": [
    "#### 100 random tweets in each lang"
   ]
  },
  {
   "cell_type": "code",
   "execution_count": 141,
   "metadata": {},
   "outputs": [
    {
     "name": "stdout",
     "output_type": "stream",
     "text": [
      "time: 7.92 ms (started: 2022-02-10 12:40:13 +05:30)\n"
     ]
    }
   ],
   "source": [
    "slur_results_df = pd.read_csv('Slur Replacement Results - English.csv')\n",
    "slur_results_df = slur_results_df.iloc[:,[0,1,3]]\n",
    "# slur_results.columns = ['Tweet ID','Tweet','replaced_tweet','']"
   ]
  },
  {
   "cell_type": "code",
   "execution_count": 143,
   "metadata": {},
   "outputs": [
    {
     "name": "stdout",
     "output_type": "stream",
     "text": [
      "time: 658 µs (started: 2022-02-10 12:40:40 +05:30)\n"
     ]
    }
   ],
   "source": [
    "slur_results_df.columns = ['Tweet ID','Tweet','Search']"
   ]
  },
  {
   "cell_type": "code",
   "execution_count": 144,
   "metadata": {},
   "outputs": [
    {
     "name": "stdout",
     "output_type": "stream",
     "text": [
      "time: 203 ms (started: 2022-02-10 12:40:43 +05:30)\n"
     ]
    }
   ],
   "source": [
    "en_lang_data = slur_results_df.copy()\n",
    "hi_lang_data = get_lang_data(twitter_data,lang='hi')\n",
    "ta_lang_data = get_lang_data(twitter_data,lang='ta')"
   ]
  },
  {
   "cell_type": "code",
   "execution_count": 133,
   "metadata": {},
   "outputs": [
    {
     "name": "stdout",
     "output_type": "stream",
     "text": [
      "time: 309 µs (started: 2022-02-10 12:35:54 +05:30)\n"
     ]
    }
   ],
   "source": [
    "# for tweet in en_lang_data.iterrows():\n",
    "    \n",
    "#     print(tweet[1])\n",
    "#     break"
   ]
  },
  {
   "cell_type": "code",
   "execution_count": 101,
   "metadata": {
    "collapsed": true
   },
   "outputs": [
    {
     "name": "stdout",
     "output_type": "stream",
     "text": [
      "{'லூசு': 100, 'கூதி': 100, 'டிகி': 100, 'லூசு கூ': 100, 'சூத்தடி': 100, '#சாமான்': 80, 'மாங்கா': 80, 'பொட்டை நாய்': 80, 'சாமான்': 80, 'கோத்தா': 80}\n",
      "[(0, [('லூசு', 'லூசு'), ('கூதி', 'கூதி')]), (2, [('டேக்', 'டிகி')]), (3, [('பேசி', 'லூசு'), ('கூதி', 'லூசு'), ('பேசி', 'கூதி'), ('லூசு', 'கூதி'), ('டா', 'டிகி'), ('பேசி', 'டிகி'), ('கூதி', 'டிகி'), ('லூசு', 'லூசு கூ'), ('தான்', 'சாமான்')]), (4, [('டா', 'லூசு'), ('....', 'லூசு'), ('', 'லூசு'), ('இந்த', 'லூசு'), ('வாய்', 'லூசு'), ('தான்', 'லூசு'), ('டேக்', 'லூசு'), ('டா', 'கூதி'), ('....', 'கூதி'), ('', 'கூதி'), ('இந்த', 'கூதி'), ('மாதிரி', 'கூதி'), ('வாய்', 'கூதி'), ('தான்', 'கூதி'), ('டேக்', 'கூதி'), ('....', 'டிகி'), ('', 'டிகி'), ('இந்த', 'டிகி'), ('மாதிரி', 'டிகி'), ('வாய்', 'டிகி'), ('தான்', 'டிகி'), ('விஜய்', 'டிகி'), ('லூசு', 'டிகி'), ('கூதி', 'சூத்தடி'), ('தான்', '#சாமான்'), ('மாதிரி', 'மாங்கா'), ('வாய்', 'மாங்கா'), ('தான்', 'மாங்கா'), ('அண்ணா', 'மாங்கா'), ('வாய்', 'சாமான்'), ('இந்த', 'கோத்தா'), ('போட்டு', 'கோத்தா'), ('அண்ணா', 'கோத்தா'), ('கூதி', 'கோத்தா')]), (5, [('உன்னை', 'லூசு'), ('போட்டு', 'லூசு'), ('விஜய்', 'லூசு'), ('அண்ணா', 'லூசு'), ('உன்னை', 'கூதி'), ('விஜய்', 'கூதி'), ('அண்ணா', 'கூதி'), ('உன்னை', 'டிகி'), ('போட்டு', 'டிகி'), ('அண்ணா', 'டிகி'), ('இந்த', 'சூத்தடி'), ('மாதிரி', 'சூத்தடி'), ('முன்னாடி', 'சூத்தடி'), ('போட்டு', 'சூத்தடி'), ('6,7மாதம்', '#சாமான்'), ('வாய்', '#சாமான்'), ('உன்னை', 'மாங்கா'), ('டா', 'மாங்கா'), ('இந்த', 'மாங்கா'), ('முன்னாடி', 'மாங்கா'), ('டேக்', 'மாங்கா'), ('போட்டு', 'மாங்கா'), ('உன்னை', 'சாமான்'), ('டா', 'சாமான்'), ('மாதிரி', 'சாமான்'), ('6,7மாதம்', 'சாமான்'), ('டேக்', 'சாமான்'), ('விஜய்', 'சாமான்'), ('உன்னை', 'கோத்தா'), ('டா', 'கோத்தா'), ('மாதிரி', 'கோத்தா'), ('வாய்', 'கோத்தா'), ('தான்', 'கோத்தா'), ('டேக்', 'கோத்தா')]), (6, [('மாதிரி', 'லூசு'), ('போட்டு', 'கூதி'), ('பேசி', 'லூசு கூ'), ('டேக்', 'லூசு கூ'), ('கூதி', 'லூசு கூ'), ('உன்னை', 'சூத்தடி'), ('டா', 'சூத்தடி'), ('வாய்', 'சூத்தடி'), ('பேசி', 'சூத்தடி'), ('தான்', 'சூத்தடி'), ('டேக்', 'சூத்தடி'), ('அண்ணா', 'சூத்தடி'), ('லூசு', 'சூத்தடி'), ('உன்னை', '#சாமான்'), ('டா', '#சாமான்'), ('மாதிரி', '#சாமான்'), ('டேக்', '#சாமான்'), ('விஜய்', '#சாமான்'), ('அண்ணா', '#சாமான்'), ('....', 'மாங்கா'), ('', 'மாங்கா'), ('பேசி', 'மாங்கா'), ('விஜய்', 'மாங்கா'), ('லூசு', 'மாங்கா'), ('கூதி', 'மாங்கா'), ('....', 'சாமான்'), ('', 'சாமான்'), ('இந்த', 'சாமான்'), ('பேசி', 'சாமான்'), ('போட்டு', 'சாமான்'), ('அண்ணா', 'சாமான்'), ('லூசு', 'சாமான்'), ('கூதி', 'சாமான்'), ('....', 'கோத்தா'), ('', 'கோத்தா'), ('முன்னாடி', 'கோத்தா'), ('பேசி', 'கோத்தா'), ('விஜய்', 'கோத்தா'), ('லூசு', 'கோத்தா')]), (7, [('6,7மாதம்', 'கூதி'), ('முன்னாடி', 'கூதி'), ('முன்னாடி', 'டிகி'), ('உன்னை', 'லூசு கூ'), ('டா', 'லூசு கூ'), ('....', 'லூசு கூ'), ('', 'லூசு கூ'), ('இந்த', 'லூசு கூ'), ('மாதிரி', 'லூசு கூ'), ('வாய்', 'லூசு கூ'), ('தான்', 'லூசு கூ'), ('போட்டு', 'லூசு கூ'), ('விஜய்', 'லூசு கூ'), ('அண்ணா', 'லூசு கூ'), ('....', 'சூத்தடி'), ('', 'சூத்தடி'), ('6,7மாதம்', 'சூத்தடி'), ('விஜய்', 'சூத்தடி'), ('சூத்தடிச்சாங்க', 'சூத்தடி'), ('....', '#சாமான்'), ('', '#சாமான்'), ('இந்த', '#சாமான்'), ('முன்னாடி', '#சாமான்'), ('பேசி', '#சாமான்'), ('போட்டு', '#சாமான்'), ('லூசு', '#சாமான்'), ('கூதி', '#சாமான்'), ('6,7மாதம்', 'மாங்கா'), ('போட்டு', 'பொட்டை நாய்'), ('முன்னாடி', 'சாமான்'), ('6,7மாதம்', 'கோத்தா')]), (8, [('6,7மாதம்', 'லூசு'), ('முன்னாடி', 'லூசு'), ('6,7மாதம்', 'டிகி'), ('6,7மாதம்', 'லூசு கூ'), ('முன்னாடி', 'லூசு கூ'), ('ஓ&amp;தவன்', '#சாமான்'), ('வாய்', 'பொட்டை நாய்'), ('ஓ&amp;தவன்', 'சாமான்')]), (9, [('ஓ&amp;தவன்', 'கூதி'), ('ஓ&amp;தவன்', 'சூத்தடி'), ('உன்னை', 'பொட்டை நாய்'), ('டா', 'பொட்டை நாய்'), ('முன்னாடி', 'பொட்டை நாய்'), ('தான்', 'பொட்டை நாய்'), ('டேக்', 'பொட்டை நாய்'), ('விஜய்', 'பொட்டை நாய்'), ('அண்ணா', 'பொட்டை நாய்'), ('ஓ&amp;தவன்', 'கோத்தா')]), (10, [('ஓ&amp;தவன்', 'லூசு'), ('ஓ&amp;தவன்', 'டிகி'), ('ஓ&amp;தவன்', 'லூசு கூ'), ('ஓ&amp;தவன்', 'மாங்கா'), ('ஓ&amp;தவன்', 'பொட்டை நாய்'), ('இந்த', 'பொட்டை நாய்'), ('6,7மாதம்', 'பொட்டை நாய்'), ('பேசி', 'பொட்டை நாய்'), ('சூத்தடிச்சாங்க', 'பொட்டை நாய்'), ('சூத்தடிச்சாங்க', 'கோத்தா')]), (11, [('@urs_master', 'லூசு'), ('@urs_master', 'கூதி'), ('சூத்தடிச்சாங்க', 'கூதி'), ('@urs_master', 'டிகி'), ('@urs_master', 'லூசு கூ'), ('@urs_master', 'சூத்தடி'), ('@urs_master', '#சாமான்'), ('சூத்தடிச்சாங்க', '#சாமான்'), ('@urs_master', 'மாங்கா'), ('சூத்தடிச்சாங்க', 'மாங்கா'), ('@urs_master', 'பொட்டை நாய்'), ('....', 'பொட்டை நாய்'), ('', 'பொட்டை நாய்'), ('மாதிரி', 'பொட்டை நாய்'), ('லூசு', 'பொட்டை நாய்'), ('கூதி', 'பொட்டை நாய்'), ('@urs_master', 'சாமான்'), ('சூத்தடிச்சாங்க', 'சாமான்'), ('@urs_master', 'கோத்தா')]), (12, [('சூத்தடிச்சாங்க', 'லூசு'), ('சூத்தடிச்சாங்க', 'டிகி'), ('சூத்தடிச்சாங்க', 'லூசு கூ')]), (14, [('#June22Blackday', '#சாமான்')]), (15, [('@Spartan_Ajith7', 'லூசு'), ('#June22Blackday', 'லூசு'), ('@Spartan_Ajith7', 'கூதி'), ('#June22Blackday', 'கூதி'), ('@Spartan_Ajith7', 'டிகி'), ('#June22Blackday', 'டிகி'), ('@Spartan_Ajith7', 'லூசு கூ'), ('#June22Blackday', 'லூசு கூ'), ('@Spartan_Ajith7', 'சூத்தடி'), ('#June22Blackday', 'சூத்தடி'), ('@Spartan_Ajith7', '#சாமான்'), ('@Spartan_Ajith7', 'மாங்கா'), ('#June22Blackday', 'மாங்கா'), ('@Spartan_Ajith7', 'பொட்டை நாய்'), ('#June22Blackday', 'பொட்டை நாய்'), ('@Spartan_Ajith7', 'சாமான்'), ('#June22Blackday', 'சாமான்'), ('@Spartan_Ajith7', 'கோத்தா'), ('#June22Blackday', 'கோத்தா')])]\n"
     ]
    },
    {
     "data": {
      "text/plain": [
       "'@urs_master @Spartan_Ajith7 உன்னை ஓ&amp;தவன் டா ....  இந்த மாதிரி 6,7மாதம் முன்னாடி வாய் பேசி தான் #June22Blackday டேக் போட்டு விஜய் அண்ணா சூத்தடிச்சாங்க டா <replace> <replace>'"
      ]
     },
     "execution_count": 101,
     "metadata": {},
     "output_type": "execute_result"
    },
    {
     "name": "stdout",
     "output_type": "stream",
     "text": [
      "time: 15.4 ms (started: 2022-02-10 12:26:29 +05:30)\n"
     ]
    }
   ],
   "source": [
    "replace_slurs_score_v4(tamilslur_tweets[10],slurs_list,20)"
   ]
  },
  {
   "cell_type": "code",
   "execution_count": null,
   "metadata": {},
   "outputs": [],
   "source": [
    "\n"
   ]
  },
  {
   "cell_type": "code",
   "execution_count": 164,
   "metadata": {},
   "outputs": [
    {
     "name": "stdout",
     "output_type": "stream",
     "text": [
      "original tweet : What really is #genderequality personally and professionally, why are genders in a hierarchy battle, how are we collectively making things worse and far from improving... and sooooo much more 🤯 #metoo #mentoo  https://t.co/KObua7lExs\n",
      "{'#MenToo': 83, 'R@pe': 75, 'Feminazi': 62, 'ma ki chui': 60, 'Chinese corona': 57, 'dull-it': 57, 'Rice bags': 56, 'Toilet + saaf': 54, '#GenderBiasedLaws': 50, 'love jihad': 50}\n",
      "token,slur : #mentoo #MenToo\n",
      "71\n",
      "original tweet : You'd expect a movement respecting individual autonomy to also be decent and respect individuals. You wanna make fun of bad people, sure, but don't be a bitch to everyone you disagree with.\n",
      "{'Bitch': 100, 'R@ndi': 80, '#MenToo': 67, '#reservation': 64, 'ola u uber': 60, 'Black Pepper': 58, 'dull-it': 57, 'pheminist': 56, '#MensCommission': 50, 'गांड': 50}\n",
      "token,slur : bitch Bitch\n",
      "80\n",
      "original tweet : @digpatra Dnt know how sir but I had known this would happen, this was all to divide the Stupid Sickular Hindu votes! They succeeded,now the massacre is on! Our COWARD Center allowed 1000s of Hindu murdered in day light, painful to see the Havoc, really ashamed of!\n",
      "{'sickular': 100, 'Rape': 75, 'secular': 71, 'pissfull': 62, 'whore': 60, 'R@ndi': 60, 'Gasti': 60, 'pseudohindus': 58, '#pseudohindus': 58, 'liberal': 57}\n",
      "token,slur : Sickular sickular\n",
      "88\n",
      "original tweet : @KerriSackville @Dom_Perrottet Perrotet is a dangerous Liberal tool\n",
      "{'liberal': 100, '#sullideals': 60, 'ola u uber': 60, 'libtard': 57, 'toilet saaf': 55, 'Toilet + saaf': 54, '#PotentialLegalTerrorist': 52, '#MenToo': 50, 'Presstitutes': 50, 'faggot': 50}\n",
      "token,slur : Liberal liberal\n",
      "86\n",
      "original tweet : @bainjal What's New? Journalists do all sorts of things - from embarrassing to shocking to horrific!  What are You Acting Coy ABOUT ?? !!\n",
      "{'nationalists': 67, 'burnol': 67, '#womenaretrash': 62, 'Gasti': 60, 'Ferrorists': 60, 'Sissy': 60, 'libtard': 57, 'dull-it': 57, '#carryminatiroast': 50, '#MensCommission': 50}\n",
      "original tweet : Delhi govt, DWC should break silence on Jaising's 'forgive convicts' remark: Shazia Ilmi  https://t.co/9am55mTHw2 @BJP4India\n",
      "{'R@ndi': 60, 'Victim_card': 55, '#DomesticViolence': 50, '#MensCommission': 50, '#sullideals': 50, 'Sanghans': 50, 'nationalists': 50, 'गांड': 50, 'Rape': 50, 'R@pe': 50}\n",
      "original tweet : Haryana News: Couple reached Rewari court after marriage, lover thrashed fiercely on rumor of love jihad  https://t.co/vsm11POFKz\n",
      "{'love jihad': 100, '#lovejihad': 89, '#womenaretrash': 62, 'naachne waali': 62, 'Ferrorists': 60, 'Jersey cow': 60, 'liberal': 57, '#RheaChakraborty': 53, 'गांड': 50, 'Rape': 50}\n",
      "token,slur : love jihad love jihad\n",
      "90\n",
      "original tweet : @bprerna Biggest burn 🔥🔥 of the Century.. 😂😂😂😂\n",
      "{'burnol': 67, 'Gasti': 60, 'Rice bags': 56, '#MenToo': 50, 'Rape': 50, 'R@pe': 50, 'Feminazi': 50, 'தேவ்டியா பையா': 50, 'பொதுச் சொத்து': 50, 'कटा लुंड': 50}\n",
      "token,slur : burn burnol\n",
      "80\n",
      "original tweet : @HasibaAmin Sadly! it took 7 years to recognize.\n",
      "{'dull-it': 71, '#Misandry': 62, 'Gasti': 60, '#MenToo': 50, 'Sanghans': 50, 'गांड': 50, 'R@pe': 50, 'R@p3': 50, 'Feminazi': 50, 'Chinese corona': 50}\n",
      "original tweet : @rohini_sgh And those who counter view are Bhakts. 😁\n",
      "{'Rice bags': 67, 'Sanghans': 62, '#Sanghans': 62, 'whore': 60, 'R@ndi': 60, 'pheminist': 56, '#MenToo': 50, '#Misandry': 50, 'கூFire': 50, 'chinky': 50}\n",
      "token,slur : who whore\n",
      "75\n",
      "original tweet : @nanditadas @anujdreammedia  https://t.co/HhpHudOzIC pleas help me youre only my hope , #rajveer i want to se the world  https://t.co/kp9ToHlCqs\n",
      "{'R@pe': 75, 'whore': 60, 'libtard': 57, '#RandiKutiya': 55, '#SaveOurSons': 55, '#FalseCases': 50, '#MenToo': 50, '#SpeakUpMen': 50, 'nationalists': 50, 'love jihad': 50}\n",
      "original tweet : @_sabanaqvi the message is the same APP won 4 Cong 1 BJP 0  Msg will remail same they will give all 7MPs to BJP. BJP wants that only. any doubts.\n",
      "{'Izzlam': 67, 'Bitch': 60, 'Pak agents': 60, '#RanaAyyub': 56, 'anti national tukde': 53, '#FalseCases': 50, '#sullideals': 50, 'Sanghans': 50, 'love jihad': 50, 'Rape': 50}\n",
      "original tweet : @rohini_sgh @thewire_in @newslaundry @scroll_in @newsclickin This is precisely what the leftist do.. self claim themselves as the only people that are  saving the democracy while actually, they are the ones that are completely sold out to foreign countries and run propaganda toolkits..\n",
      "{'R@pe': 75, 'nationalists': 67, '#Misandry': 62, '#Dowry': 60, 'whore': 60, 'Bitch': 60, 'Sissy': 60, 'dull-it': 57, 'pheminist': 56, '#reservation': 55}\n",
      "original tweet : @Iamasmamahmood @Go_Movie_Mango Ask your daughter to do ghar wapsi.\n",
      "{'Sanghans': 62, '#Sanghans': 62, 'R@ndi': 60, 'Gasti': 60, 'Katwa': 60, '#MenToo': 50, 'faggot': 50, 'गांड': 50, 'Rape': 50, 'R@pe': 50}\n",
      "original tweet : Tooth in pain 🦷😥 I’m bout ready to knock this bitch out wit a hammer 😵‍💫🔨\n",
      "{'Bitch': 100, 'bimbo': 60, '#reservation': 55, 'toilet saaf': 55, 'Rape': 50, 'R@pe': 50, 'Feminazi': 50, 'தேவ்டியா பையா': 50, 'பொதுச் சொத்து': 50, 'कटा लुंड': 50}\n",
      "token,slur : bitch Bitch\n",
      "80\n",
      "original tweet : Feminists want special right to make sexist &amp; hateful Generalization against men in the name of expressing emotions.  Men(&amp; women) with values must challenge this.  This feminist entitlement is one Evidence that #Feminism is abt matriachy &amp; not equality.10/n #feministsaretrash ⬇️  https://t.co/WgWqEtRrsl\n",
      "{'Feminazi': 75, '#feministsaretrash': 71, '#FeministMafia': 69, '#womenaretrash': 69, 'Sanghans': 62, '#Sanghans': 62, 'Bitch': 60, 'Ferrorists': 60, 'nationalists': 58, 'libtard': 57}\n",
      "token,slur : Feminists Feminazi\n",
      "71\n",
      "token,slur : #feministsaretrash #feministsaretrash\n",
      "100\n",
      "token,slur : #Feminism #FeministMafia\n",
      "70\n",
      "original tweet : @Suhelseth Oppositions in india are good for nothing.. If they can't help its ok but don't add the agony.. Today things are tough because of oppositions n their cunning attitude.\n",
      "{'R@ndi': 60, 'dull-it': 57, 'anti national tukde': 53, '#FalseCases': 50, '#sullideals': 50, 'faggot': 50, 'Rape': 50, 'R@pe': 50, 'R@p3': 50, 'Chinese corona': 50}\n",
      "original tweet : @MamataOfficial Congratulations 💐\n",
      "{'Gasti': 60, 'Katwa': 60, '#reservation': 55, 'nationalists': 50, 'Rape': 50, 'Chinese corona': 50, 'atrocity_act': 50, 'buzlim': 50, 'Muzlim': 50, 'samlaingik': 50}\n",
      "original tweet : Remember who plundered the @RBI reserves? Remember why Urjit Patel quit. Answer Narendera Modi\n",
      "{'#womenaretrash': 62, 'whore': 60, 'R@ndi': 60, 'dull-it': 57, 'sc0undrel': 56, '#reservation': 55, 'Rape': 50, 'R@pe': 50, 'R@p3': 50, 'Chinese corona': 50}\n",
      "token,slur : who whore\n",
      "75\n",
      "original tweet : @determinedkabir Sir, no book should be pulped after having been commissioned. If you don’t have the tolerance to understand keep being as binary as you seem\n",
      "{'#MensCommission': 86, 'Sissy': 60, 'liberal': 57, 'dented-painted': 57, 'toxic aunty': 55, '#DomesticViolence': 50, '#MenToo': 50, 'गांड': 50, 'Rape': 50, 'R@pe': 50}\n",
      "original tweet : @Mizzling_Gaze I remember cockroach in hostel daal. When confronted mess manager said its bhuna hua pyaz. Thankfully, I was the local student and had home made tiffin. Felt bad for my hosteler friends.\n",
      "{'கூFire': 67, 'chinky': 67, 'Izzlam': 67, 'Muzlim': 67, '#Dowry': 60, 'whore': 60, 'R@ndi': 60, 'anti national tukde': 58, 'dull-it': 57, 'secular': 57}\n",
      "original tweet : When will we have laws to protect citizens, irrespective of gender. Such laws create the divide in society #mentoo\n",
      "{'#MenToo': 100, '#GenderBiasedLaws': 62, 'whore': 60, 'R@ndi': 60, '#SCSTAct': 57, '#reservation': 55, '#DomesticViolence': 50, 'Presstitutes': 50, '#sullideals': 50, 'love jihad': 50}\n",
      "token,slur : #mentoo #MenToo\n",
      "71\n",
      "original tweet : @bergerbeebs @MrToddMarshall1 @BleedingMarine Why do you think the only 2 who are standing by him, Qanon darling Marjorie Taylor Green &amp; Gym Jordan.  birds of a feather pees in a pod whatever, Gym Jordan is guilty in Court of public opinion, he &amp;Gaetz are scumbags, MTG off her rocker, it's the norm of the GQP⬇️  https://t.co/KhzJ6fTt3g\n",
      "{'scumbags': 100, '#Dowry': 60, 'whore': 60, 'Rice bags': 56, '#ArrestRanaAyyub': 53, '#MenToo': 50, 'nationalists': 50, 'गांड': 50, 'Rape': 50, 'R@pe': 50}\n",
      "token,slur : scumbags, scumbags\n",
      "94\n",
      "token,slur : who whore\n",
      "75\n",
      "original tweet : @BDUTT @Chikisarkar Fiction writers have now new competitor!!!\n",
      "{'chinky': 67, 'whore': 60, 'R@ndi': 60, 'Rice bags': 56, '#womenaretrash': 54, '#feministsaretrash': 53, '#HiteshaChandranee': 53, '#MenToo': 50, 'nationalists': 50, 'गांड': 50}\n",
      "original tweet : @francediplo_EN @JY_LeDrian @FranceenTurquie Muslim haters is u r government, banning of burka and hijab\n",
      "{'Muzlim': 83, '#MenToo': 67, 'buzlim': 67, '#MensLivesMatter': 60, 'R@ndi': 60, 'Sissy': 60, 'love jihad': 50, 'गांड': 50, 'Rape': 50, 'भांड': 50}\n",
      "token,slur : Muslim Muzlim\n",
      "83\n",
      "original tweet : I told my maid not to come this month and I ended up cleaning my whole house yesterday even on my knees cleaning the base boards. I said never again will I have her not come. Idk wtf I was thinking 😐\n",
      "{'whore': 80, 'sekoolar': 62, 'secular': 57, 'dented-painted': 57, 'Rice bags': 56, '#reservation': 55, '#FalseCases': 50, '#MenToo': 50, 'R@pe': 50, 'sickular': 50}\n",
      "token,slur : whole whore\n",
      "80\n",
      "original tweet : @4chanGreentxts And that's why #womenaretrash\n",
      "{'#womenaretrash': 100, 'whore': 60, 'R@ndi': 60, '#feministsaretrash': 59, 'toxic aunty': 55, 'Characterless woman': 53, '#498A': 50, '#carryminatiroast': 50, '#MenToo': 50, 'Sanghans': 50}\n",
      "token,slur : #womenaretrash #womenaretrash\n",
      "100\n",
      "original tweet : @fayedsouza Thank you so much Faye, that’s so very nice of you. As do you. Keep inspiring\n",
      "{'R@ndi': 80, 'Rice bags': 56, 'love jihad': 50, 'R@pe': 50, 'R@p3': 50, 'கூFire': 50, 'chinky': 50, 'Jersey cow': 50, '#RanaAyyub': 44, '#lovejihad': 44}\n",
      "original tweet : Please Watch and Share.  Political Prophecy.  1984 by George Orwell (published 1949)  Slogan of \"Party\" WAR IS PEACE FREEDOM IS SLAVERY IGNORANCE IS STRENGTH  ....1984  SN 360 Episode # 2  The Two Minute Hate, George Orwell in India  https://t.co/JToUDhVwTx via @YouTube\n",
      "{'கூFire': 67, 'ola u uber': 60, 'liberal': 57, 'libtard': 57, 'Rice bags': 56, '#498A': 50, '#MenToo': 50, 'Sanghans': 50, 'love jihad': 50, 'Rape': 50}\n",
      "original tweet : If you enjoyed this when it came out, I hope it’s because your memory has been clouded to where you don’t remember the incessant attempts to make statutory r*pe comedic, and please, just take my word for it. It’s that bad.\n",
      "{'R@pe': 75, '#FalseCases': 60, 'whore': 60, '#SCSTAct': 57, 'pheminist': 56, '#GenderBiasedLaws': 50, '#MenToo': 50, 'Presstitutes': 50, '#PussyPower': 50, 'Rape': 50}\n",
      "token,slur : where whore\n",
      "80\n",
      "original tweet : Me when I don't get attention anywhere\n",
      "{'whore': 80, '#MenToo': 67, 'toxic aunty': 55, 'nationalists': 50, 'Rape': 50, 'R@pe': 50, 'Pak agents': 50, 'dented-painted': 50, 'anti national tukde': 47, '#reservation': 45}\n",
      "original tweet : @SundaeDivine @thehill Dumb bimbo.  It’s called Ivermectin.  This is why you emotional creatures shouldn’t serve government or the military.\n",
      "{'bimbo': 100, 'libtard': 71, '#Misandry': 62, '#Rheality_today': 57, 'dull-it': 57, 'sc0undrel': 56, '#womenaretrash': 54, 'anti national tukde': 53, 'Characterless woman': 53, 'Presstitutes': 50}\n",
      "token,slur : bimbo. bimbo\n",
      "91\n",
      "original tweet : @mehartweets 26 verses of Quran petitioned in Supreme Court by Wasim Rizwi, why no shows on it? Analysis on each verse would be a great feat, please oblige..\n",
      "{'R@pe': 75, 'R@ndi': 60, 'Katwa': 60, 'Jersey cow': 60, 'secular': 57, '#RandiKutiya': 55, '#SaveOurSons': 55, 'toilet saaf': 55, 'Toilet + saaf': 54, 'anti national tukde': 53}\n",
      "original tweet : Sadji before every riot giving instruction to his team!  https://t.co/idlMuV2ZR6\n",
      "{'R@pe': 75, 'liberal': 57, 'pheminist': 56, '#reservation': 55, '#MenToo': 50, 'Sanghans': 50, 'nationalists': 50, 'Rape': 50, 'R@p3': 50, '#piddilover': 50}\n",
      "original tweet : @OTOmotorsNFTs thanks for giving us such a great opportunity. I am supporting it. always success for the development team to the moon @rndi_r  @FADLYFIRJATULL1 @Ndit92231242   0x1D34898b0C73C865F732155c62bF484875c6829d\n",
      "{'R@ndi': 80, 'Katwa': 60, 'dull-it': 57, '#superstraight': 54, 'Toilet + saaf': 54, '#498A': 50, '#FalseCases': 50, '#MenToo': 50, '#SpeakUpMen': 50, '#PussyPower': 50}\n",
      "original tweet : Give our healthcare workers PPEs please !  #DocsNeedGear #docsneedcare\n",
      "{'R@pe': 75, 'whore': 60, 'libtard': 57, 'secular': 57, 'sc0undrel': 56, '#RheaChakraborty': 53, '#FalseCases': 50, '#sullideals': 50, 'love jihad': 50, 'Rape': 50}\n",
      "original tweet : @Zaki_4Humanity Pissfull religion people are protesting in the whole world because pislam cannot live with any other human....but always with terrorists😒\n",
      "{'pissfull': 100, 'Ferrorists': 90, 'whore': 80, 'R@pe': 75, 'Izzlam': 67, 'sekoolar': 62, '#sullideals': 60, 'love jihad': 60, 'Bitch': 60, 'Gasti': 60}\n",
      "token,slur : Pissfull pissfull\n",
      "88\n",
      "token,slur : whole whore\n",
      "80\n",
      "original tweet : @seemi_pasha They are testing positive and instead of indulging in whataboutery I think we should all focus on telling everyone who attended that gathering to voluntarily come out and get themselves tested. That’s the ONLY responsible thing to do instead of indulging in conspiracy theories\n",
      "{'chinky': 67, 'whore': 60, 'Bitch': 60, 'R@ndi': 60, 'pseudohindus': 58, '#pseudohindus': 58, 'dull-it': 57, '#reservation': 55, '#RandiKutiya': 55, 'toxic aunty': 55}\n",
      "token,slur : who whore\n",
      "75\n",
      "original tweet : @SafooraZargar Well..He is the one who started.\n",
      "{'R@pe': 75, 'libtard': 57, '#SCSTAct': 57, 'pheminist': 56, 'गांड': 50, 'Rape': 50, 'R@p3': 50, 'sekoolar': 50, 'Chinese corona': 50, 'भांड': 50}\n",
      "original tweet : @TigerRajaSingh @theanuragkts Present and Future PM. Fir to secular hanuman chalisa bhi padenge\n",
      "{'secular': 100, 'sickular': 75, 'கூFire': 67, 'sekoolar': 62, 'R@ndi': 60, 'Gasti': 60, 'ma ki chui': 60, 'liberal': 57, '#reservation': 55, 'naachne waali': 54}\n",
      "token,slur : secular secular\n",
      "100\n",
      "token,slur : secular sickular\n",
      "80\n",
      "original tweet : Raje first reaction to Pilot’s revolt\n"
     ]
    },
    {
     "name": "stdout",
     "output_type": "stream",
     "text": [
      "{'Rape': 75, 'கூFire': 67, '#reservation': 64, 'Gasti': 60, '#SCSTAct': 57, '#superstraight': 54, '#MenToo': 50, 'nationalists': 50, 'R@pe': 50, 'R@p3': 50}\n",
      "token,slur : Raje Rape\n",
      "75\n",
      "original tweet : Military terrorists raided houses of a former village administrators in Bawpyin village, GanGaw due to informants yesterday. They also destroyed properties and looted furnitures, rice bags, cash and other items. #June21Coup #WhatsHappeningInMyanmar  https://t.co/bxsrl286b1\n",
      "{'Rice bags': 100, 'libtard': 71, '#Misandry': 62, '#feministsaretrash': 59, 'pheminist': 56, '#FeministMafia': 54, '#MensLivesMatter': 53, '#carryminatiroast': 50, '#MenToo': 50, 'Presstitutes': 50}\n",
      "original tweet : @VABVOX Someone put bitch creamer in her coffee on the day she wrote that column, pretty sure. 🙃\n",
      "{'Bitch': 100, 'whore': 60, 'R@ndi': 60, 'Presstitutes': 58, 'dull-it': 57, '#reservation': 55, '#MenToo': 50, '#SpeakUpMen': 50, 'Rape': 50, 'R@pe': 50}\n",
      "token,slur : bitch Bitch\n",
      "80\n",
      "original tweet : @MissSingh04 @DeepikaBhardwaj And where are those so called feminists morons like rituparna, sonam mohapatra who were attacking kartik aryaan for tiktok videos. Ab kya ye sab dekhke enjoy kar rahi hai ya mar gaye???\n",
      "{'whore': 80, 'pheminist': 78, 'Feminazi': 75, '#FeministMafia': 69, '#feministsaretrash': 65, 'R@ndi': 60, 'Katwa': 60, 'libtard': 57, 'Chinese corona': 57, 'toilet saaf': 55}\n",
      "token,slur : where whore\n",
      "80\n",
      "token,slur : who whore\n",
      "75\n",
      "original tweet : I really feel pity for the sickular hindoos (esp mallus) who sermonize us on hindutva,hinduism, religion, religiousness etc. The pic below depicts their life.  https://t.co/0BTBnM8bKD\n",
      "{'sickular': 100, 'secular': 71, 'sekoolar': 62, 'whore': 60, 'R@ndi': 60, 'bimbo': 60, 'pseudohindus': 58, '#pseudohindus': 58, '#SCSTAct': 57, 'pheminist': 56}\n",
      "token,slur : sickular sickular\n",
      "100\n",
      "token,slur : sickular secular\n",
      "80\n",
      "token,slur : who whore\n",
      "75\n",
      "original tweet : @Nagaraj91241208 Never.\n",
      "{'Rape': 50, 'R@pe': 50, 'R@ndi': 40, 'Gasti': 40, 'Katwa': 40, 'Sanghans': 38, '#Sanghans': 38, '#HiteshaChandranee': 35, 'Black Pepper': 35, '#RanaAyyub': 33}\n",
      "original tweet : The housing system that exists now is not made for first home-owners or renters, it’s made for the property speculators and developers.\n",
      "{'Rape': 75, 'R@pe': 75, 'secular': 71, 'கூFire': 67, 'sickular': 62, 'whore': 60, 'R@ndi': 60, 'Ferrorists': 60, 'toilet saaf': 55, '#RheaChakraborty': 53}\n",
      "token,slur : speculators secular\n",
      "78\n",
      "original tweet : \"I survived #Ebola\"   One of the last Ebola patients leaving the treatment centre in Katwa, #DRC🇨🇩 today.  https://t.co/Nu71m37Yvv\n",
      "{'Katwa': 100, '#MenToo': 67, 'Scumreds': 62, 'ola u uber': 60, 'Pak agents': 60, 'toilet saaf': 55, 'nationalists': 50, 'गांड': 50, 'Rape': 50, 'R@pe': 50}\n",
      "token,slur : Katwa, Katwa\n",
      "91\n",
      "original tweet : @sarcasmtica Had same happened in bjp rule state then entire liberal gang would have done swara rona 🙄\n",
      "{'liberal': 100, 'Gasti': 80, 'Rape': 75, 'Bitch': 60, 'R@ndi': 60, 'Chinese corona': 57, '#SCSTAct': 57, 'dull-it': 57, '#SaveOurSons': 55, 'toilet saaf': 55}\n",
      "token,slur : liberal liberal\n",
      "100\n",
      "original tweet : @MahuaMoitra Don't worry. Very soon, RSS-sponsored lawyers will slap sedition charges against the lawyers and rights activists protesting the Haridwar Hate Speech of Hindutva Leaders\n",
      "{'#superstraight': 62, '#Misandry': 62, '#Dowry': 60, '#FalseCases': 60, 'whore': 60, 'R@ndi': 60, 'Gasti': 60, '#SCSTAct': 57, 'Rice bags': 56, '#reservation': 55}\n",
      "original tweet : Just because we haven’t mastered the art yet, there is no reason to stop practising, now, is there?  Why we need not be apologetic about the Munawar saga: Cancel culture is here to stay, non-left just needs to get better at it  #Replug    https://t.co/2Fri6LWvZO\n",
      "{'toxic aunty': 64, 'whore': 60, 'Bitch': 60, 'secular': 57, 'dented-painted': 57, '#lovejihad': 56, 'toilet saaf': 55, '#MenToo': 50, '#SpeakUpMen': 50, 'Sanghans': 50}\n",
      "original tweet : @nandtara Oh no. Sorry to hear about your dad. Best wishes am sure they will all recover quickly\n",
      "{'#RheaChakraborty': 60, 'whore': 60, 'R@ndi': 60, 'Gasti': 60, 'Presstitutes': 50, 'love jihad': 50, 'Rape': 50, 'R@pe': 50, 'R@p3': 50, 'sickular': 50}\n",
      "original tweet : @_sayema Muslims are muslims not Hindustani Muslims or Pakistani Muslims.\n",
      "{'Muzlim': 83, 'R@pe': 75, 'R@p3': 75, 'pseudohindus': 67, '#pseudohindus': 67, 'buzlim': 67, 'Sissy': 60, 'libtard': 57, 'pheminist': 56, '#PussyPower': 50}\n",
      "token,slur : Muslims Muzlim\n",
      "77\n",
      "token,slur : Muslims Muzlim\n",
      "25\n",
      "token,slur : Muslims. Muzlim\n",
      "71\n",
      "original tweet : @LavanyaBallal Its looks like kuvempu sir home\n",
      "{'dull-it': 71, 'whore': 60, '#MenToo': 50, 'nationalists': 50, 'R@pe': 50, 'R@p3': 50, 'கூFire': 50, 'Muzlim': 50, 'naachne waali': 46, '#RanaAyyub': 44}\n",
      "original tweet : No. We should not thank her. She does her job only when it suits the agenda of the BJP. Have we forgotten her 'love-jihad' spectacle, or her misogynistic tweets making fun of mental health and women politicians? We need to stop thanking people for the bare minimum.\n",
      "{'love jihad': 100, '#lovejihad': 89, '#MenToo': 67, 'Sissy': 60, 'ma ki chui': 60, 'libtard': 57, '#SCSTAct': 57, 'pheminist': 56, '#FeministMafia': 54, 'Dynast Sycophants': 53}\n",
      "original tweet : If U think that #Saudi, #UAE n many other Gulf countries are rich coz of more oil wells, then u are wrong. #Venezuela is having more oil wells than any other country n it’s most poor country in the world. #Dubai is a world class country without oil wells also coz of clever ruler.\n",
      "{'chinky': 67, 'whore': 60, 'Katwa': 60, 'dull-it': 57, 'secular': 57, 'sc0undrel': 56, '#MenToo': 50, '#sullideals': 50, 'nationalists': 50, 'love jihad': 50}\n",
      "original tweet : UP #Woman Accuses Rape By 39 People; Villagers Protest Claiming #FakeCases Filed To Not Repay Borrowed Money  #GenderBiasedLaws @timesofindia  @DainikBhaskar @ANI  https://t.co/G7sh00lcVh via @swarajyamag\n",
      "{'#GenderBiasedLaws': 100, 'Rape': 100, '#FalseCases': 80, 'R@pe': 75, 'கூFire': 67, 'FakeCaseWaliBiwi': 56, '#womenaretrash': 54, '#MenToo': 50, '#SpeakUpMen': 50, '#PussyPower': 50}\n",
      "token,slur : #GenderBiasedLaws #GenderBiasedLaws\n",
      "100\n",
      "token,slur : Rape Rape\n",
      "100\n",
      "token,slur : #FakeCases #FalseCases\n",
      "86\n",
      "token,slur : Rape R@pe\n",
      "75\n",
      "original tweet : @Samanthaprabhu2 @govind_vasantha Samantha broke / continues to break every stereotype out there.  She is tenacious, successful. She broke and continues to break the stereotype of the ‘married’ heroine. Shines in her roles. Gives her all.   She makes a statement with every activity she’s involved in.\n",
      "{'Sanghans': 75, '#Sanghans': 75, 'pissfull': 62, 'Jersey cow': 60, 'Deshdrohi Chinese': 59, 'Black Pepper': 58, 'Chinese corona': 57, '#MensLivesMatter': 53, 'Dynast Sycophants': 53, '#DomesticViolence': 50}\n",
      "original tweet : There will be never be an Indian version of the Netflix show #LoveIsBlind because we already have #ArrangedMarriage and #ChatMangniPatByah\n",
      "{'R@ndi': 80, 'samlaingik': 60, '#lovejihad': 56, '#RandiKutiya': 55, '#SaveOurSons': 55, '#FalseCases': 50, '#sullideals': 50, '#PussyPower': 50, 'Sanghans': 50, 'love jihad': 50}\n",
      "original tweet : @krystalball All you do is bitch about CNN!  Get over it and pick a new topic already!  How about something original and not some right-wing BS disguised as progressive?  And, why the F would anyone have issue with the documentary arm of a network celebrating the 1st black and female VP?\n",
      "{'Bitch': 100, 'love jihad': 60, 'R@ndi': 60, 'liberal': 57, 'libtard': 57, '#lovejihad': 56, '#RandiKutiya': 55, 'toxic aunty': 55, '#womenaretrash': 54, '#superstraight': 54}\n",
      "token,slur : bitch Bitch\n",
      "80\n",
      "original tweet : @RanaAyyub Rather than focusing this shit u must focus on Bangladeshi Hindus. Shame on your journalism\n",
      "{'#RanaAyyub': 100, 'Gasti': 60, 'Sissy': 60, 'Deshdrohi Chinese': 59, 'pseudohindus': 58, '#pseudohindus': 58, '#ArrestRanaAyyub': 53, '#JusticeForSwapnilPandey': 52, '#FalseCases': 50, '#save_Hindu_Girls': 50}\n",
      "original tweet : @AmyKazmin @Nawazuddin_S @RasikaDugal @TahirRajBhasin @Viacom18Studios @AlephBookCo Time flies! But glad films remain to tell the stories that need to be told.\n",
      "{'கூFire': 67, 'sickular': 62, 'Gasti': 60, 'Katwa': 60, 'dull-it': 57, 'pheminist': 56, '#RandiKutiya': 55, '#PotentialLegalTerrorist': 52, '#DomesticViolence': 50, '#MenToo': 50}\n",
      "original tweet : The Big State &amp; Liberties - Sagarika Ghose at Manthan Samvaad 2019 . My talk on state power and citizens freedoms at Manthan. For your listening pleasure  https://t.co/ksShfhbjmb via @YouTube\n",
      "{'Sanghans': 75, '#Sanghans': 75, 'liberal': 71, 'Toilet + saaf': 69, 'கூFire': 67, 'toilet saaf': 64, '#Dowry': 60, 'R@ndi': 60, 'Gasti': 60, 'ola u uber': 60}\n",
      "original tweet : @FCBTohamy Mendy got more r*pe cases than city got UCls 😭😭\n",
      "{'R@pe': 100, 'Rape': 75, 'R@p3': 75, '#FalseCases': 60, 'whore': 60, 'Bitch': 60, '#MenToo': 50, 'Sanghans': 50, 'faggot': 50, 'atrocity_act': 50}\n",
      "original tweet : @shubh0110 @TajinderBagga @Punitspeaks @indiantweeter @RubikaLiyaquat @ashokepandit @DrKumarVishwas @MukeshPathakji @ManMundra @GautamGambhir Sene me details , patient name, contact number, bed and ward no of Gtb hospital\n",
      "{'R@ndi': 80, '#SpeakUpMen': 60, 'whore': 60, 'Katwa': 60, 'ola u uber': 60, '#RandiKutiya': 55, 'Dynast Sycophants': 53, '#sullideals': 50, '#PussyPower': 50, 'faggot': 50}\n",
      "original tweet : “sounds like the studio version” BITCH SHE IS IN THE STUDIO?!?!\n",
      "{'Bitch': 100, 'Gasti': 60, '#piddilover': 60, 'sc0undrel': 56, '#SaveOurSons': 55, '#DomesticViolence': 50, 'R@pe': 50, 'கூFire': 50, 'Sunflowerண்டை': 50, 'Scumreds': 50}\n",
      "original tweet : Vaccines according to left lobby 😂  https://t.co/ypSe9DWFRL\n",
      "{'Chinese corona': 64, '#Dowry': 60, 'R@ndi': 60, 'toilet saaf': 55, '#MenToo': 50, 'Rape': 50, 'R@pe': 50, 'chinky': 50, 'Scumreds': 50, 'Jersey cow': 50}\n",
      "original tweet : Such heinous Crimes against women have become rampant, MP has always been a hot spot. But the administration is now using JCBs to break down the houses and shops of the prime accused. Similar actions in UP by the administration. What is this new practice? Is it permissible by law\n",
      "{'pheminist': 67, 'Rice bags': 67, '#reservation': 64, '#FeministMafia': 62, 'Sanghans': 62, 'sickular': 62, '#Sanghans': 62, 'whore': 60, 'R@ndi': 60, 'Gasti': 60}\n",
      "original tweet : Where is Narendra Modi? Nobody is asking this. #Thread\n"
     ]
    },
    {
     "name": "stdout",
     "output_type": "stream",
     "text": [
      "{'whore': 80, 'R@ndi': 60, 'Gasti': 60, 'Sanghans': 50, 'Rape': 50, 'R@pe': 50, 'R@p3': 50, '#Misandry': 50, '#Sanghans': 50, 'கூFire': 50}\n",
      "original tweet : @rishibagree @ the cost of Indian pride n yes i dont wanna loook at bigger picture\n",
      "{'R@ndi': 80, '#BoycottFabIndia': 60, 'Gasti': 60, 'Katwa': 60, 'libtard': 57, 'Rice bags': 56, '#MenToo': 50, 'गांड': 50, 'Rape': 50, 'R@pe': 50}\n",
      "original tweet : Must watch\n",
      "{'Bitch': 60, 'Katwa': 60, '#SCSTAct': 57, 'dull-it': 43, '#FeministMafia': 40, '#JusticeForSwapnilPandey': 40, '#DomesticViolence': 40, '#feministsaretrash': 40, '#HiteshaChandranee': 40, '#justiceforcabdriver': 40}\n",
      "original tweet : Understanding Halal and it's Implications | Part 1  https://t.co/8963n4uBYZ via @YouTube\n",
      "{'#superstraight': 62, 'R@ndi': 60, 'Gasti': 60, 'ola u uber': 60, 'dull-it': 57, 'Sanghans': 50, 'nationalists': 50, 'Rape': 50, 'Feminazi': 50, '#Sanghans': 50}\n",
      "original tweet : @Naina5harma Took you to one corner and wat r*ndi?? Wat did they do with ur oversized g**nd??\n",
      "{'R@ndi': 100, '#MenToo': 67, '#Dowry': 60, 'Bitch': 60, '#lovejihad': 56, 'Rice bags': 56, 'Sanghans': 50, 'गांड': 50, 'Rape': 50, 'R@pe': 50}\n",
      "original tweet : @sherryontopp Rising population of Rice Bags....\n",
      "{'Rice bags': 100, 'scumbags': 62, 'Gasti': 60, '#MenToo': 50, 'nationalists': 50, 'Rape': 50, 'R@pe': 50, 'R@p3': 50, 'கூFire': 50, 'buzlim': 50}\n",
      "original tweet : @Sykotkhan426 @Mastersgt10 @Elmenor_cikario @WaseemHayder12 @KapilMishra_IND The 1984 riot was done by a political party not a specific community. A lot of them who involved in rape, murder, loot are pissfull. Paid goons created this riot.  Every hindu org condemned this riot, not like muxlim org who support financial n physically 2 create riot. Any diff?  https://t.co/5GZYdiSFPb\n",
      "{'#MenToo': 67, 'toxic aunty': 64, 'Bitch': 60, 'Pak agents': 60, 'libtard': 57, '#498A': 50, '#MensCommission': 50, 'pseudohindus': 50, 'Sanghans': 50, 'faggot': 50}\n",
      "original tweet : That's so kind of him 😍  https://t.co/EoSgxfs9ux\n",
      "{'गांड': 50, 'R@pe': 50, 'भांड': 50, 'रांड': 50, 'கூFire': 50, 'जा नाली साफ़ करके आ': 47, 'जोरू का गुलाम': 46, 'toilet saaf': 45, 'रंडीखाना': 43, 'ங்கோத்தா': 43}\n",
      "original tweet : @rohini_sgh @thewire_in @newslaundry @scroll_in @newsclickin Forgot mentioning the The Quint and your fact checkers Alt news?\n",
      "{'#MenToo': 83, '#Misandry': 75, 'faggot': 67, '#Dowry': 60, 'whore': 60, 'liberal': 57, 'libtard': 57, 'anti national tukde': 53, 'गांड': 50, 'R@pe': 50}\n",
      "original tweet : 2. Name: - sukdeb pramanik Age: - 33yrs Date: - 13th December,2020 Place: - katwa,purba bardhaman.   Sukdeb pramanik, bjp worker, from katwa, was allegedly murdered by TMC activists. He participated in the protests against the attack on the convoy of J.P Nadda , president of BJP.\n",
      "{'Katwa': 100, 'whore': 80, 'Gasti': 60, 'samlaingik': 60, 'nationalists': 58, '#SCSTAct': 57, 'dented-painted': 57, '#RandiKutiya': 55, 'naachne waali': 54, '#sullideals': 50}\n",
      "token,slur : katwa, Katwa\n",
      "73\n",
      "original tweet : @SRamasahayam Haha I’m quite amused at the responses. Of course it’s sarcastic 🙄\n",
      "{'Gasti': 80, 'whore': 60, 'R@ndi': 60, '#SCSTAct': 57, 'dull-it': 57, '#RanaAyyub': 56, '#SaveOurSons': 55, 'toilet saaf': 55, 'Toilet + saaf': 54, '#MensLivesMatter': 53}\n",
      "original tweet : @PRASHAN72707503 This footage has been converted into a tiktok video. The visuals are real though.\n",
      "{'Sanghans': 62, 'sickular': 62, '#Sanghans': 62, 'dull-it': 57, 'secular': 57, 'dented-painted': 57, 'anti national tukde': 53, '#FalseCases': 50, '#MenToo': 50, '#sullideals': 50}\n",
      "original tweet : @Armaansjain @KirenRijiju @RijijuOffice @Uppolice @UPGovt @narendramodi @HMOIndia @AmitShahOffice @myogiadityanath @PIB_India @dgpup After 15 days of the incident(with clear cctv 📹recording )till, now no justice to Cab Driver - Sahadat Ali ?  Is our law system, slow and weak???   Priyadarshini Narayana Yadav -The 3rd Grade woman  #Thethirdgradelady  #ArrestLucknowGirl #justiceforcabdriver\n",
      "{'#justiceforcabdriver': 100, 'arrestlucknowgirl': 100, 'Bitch': 60, 'R@ndi': 60, '#JusticeForSwapnilPandey': 57, 'pheminist': 56, '#womenaretrash': 54, 'Toilet + saaf': 54, 'Characterless woman': 53, 'love jihad': 50}\n",
      "token,slur : #justiceforcabdriver #justiceforcabdriver\n",
      "100\n",
      "original tweet : @parvatweets @thenewsminute Great gesture, Parvathy. Real news do need support these days.\n",
      "{'Gasti': 60, 'Katwa': 60, 'pheminist': 56, '#MensLivesMatter': 53, '#MenToo': 50, 'Presstitutes': 50, 'गांड': 50, 'Rape': 50, 'R@pe': 50, 'R@p3': 50}\n",
      "original tweet : extremely biased &amp; disgusting mindset👇 ... Almost 100,000 ppl martyred on religious places till date including shia,sunni &amp; other religious groups while offering their religious rituals but they didn't say 👇 nor play sectarian card while these ppl only play shia victim card\n",
      "{'Victim_card': 91, 'Gasti': 80, 'whore': 60, 'libtard': 57, '#FalseCases': 50, 'Sanghans': 50, 'nationalists': 50, 'faggot': 50, 'love jihad': 50, 'गांड': 50}\n",
      "original tweet : @madhukishwar Yes....it looks so, he's creating all the recipe &amp; cooking up all that needed for separatism, I'm sure creating minipapisatan is not possible.but it definitely a cocktail for massacre of Hindus in the name ....\n",
      "{'R@pe': 75, 'pseudohindus': 67, '#pseudohindus': 67, 'Feminazi': 62, '#Dowry': 60, 'Gasti': 60, 'dull-it': 57, 'काला टेंट': 56, 'मोटी भैंस': 56, '#reservation': 55}\n",
      "original tweet : I came to #Berlin for an excellent &amp; timely international symposium on thinking together through the projects of the global right in different countries. A fairly immersive set of panels over two days, ideas presented by many lovely thoughtful people concerned about the world..  https://t.co/F2kRvBL6B8\n",
      "{'nationalists': 75, '#MenToo': 67, 'chinky': 67, 'R@ndi': 60, 'ola u uber': 60, 'anti national tukde': 58, 'liberal': 57, 'libtard': 57, 'dented-painted': 57, 'sc0undrel': 56}\n",
      "original tweet : @Bothina_ Netflix support LGBT. My question is : can you as Muslims stop watching Netflix??? I don't think so.   They knew how to control people and make them accept the reality or at least dont care about what's happening around them\n",
      "{'Muzlim': 83, 'chinky': 67, 'Bitch': 60, 'Gasti': 60, 'Katwa': 60, 'liberal': 57, 'pheminist': 56, '#reservation': 55, '#superstraight': 54, 'Toilet + saaf': 54}\n",
      "token,slur : Muslims Muzlim\n",
      "77\n",
      "original tweet : @taslimanasreen Greetings for you with lots of sweet ❤️\n",
      "{'Sanghans': 62, '#Sanghans': 62, '#Dowry': 60, 'Bitch': 60, 'Gasti': 60, 'dull-it': 57, '#reservation': 55, '#sullideals': 50, 'Rape': 50, 'R@pe': 50}\n",
      "original tweet : @rohini_sgh Love the way how u defend congress... Thanks for that......You are one of the strongest journalist in our side ,Congress\n",
      "{'burnol': 67, 'whore': 60, 'love jihad': 60, 'R@ndi': 60, 'nationalists': 58, 'Chinese corona': 57, '#lovejihad': 56, 'pheminist': 56, 'Rape': 50, 'R@pe': 50}\n",
      "original tweet : @ishwarsha27 Perfect 👌🏻\n",
      "{'R@pe': 75, 'Sanghans': 50, 'Rape': 50, 'R@p3': 50, '#Misandry': 50, '#Sanghans': 50, 'கூFire': 50, 'libtard': 43, 'secular': 43, 'Black Pepper': 42}\n",
      "original tweet : Mall goers are the Sunday church crowd drivers of the secular world\n",
      "{'secular': 100, 'sickular': 75, 'sekoolar': 62, 'whore': 60, 'R@ndi': 60, '#piddilover': 60, '#womenaretrash': 54, 'love jihad': 50, 'Rape': 50, 'R@pe': 50}\n",
      "token,slur : secular secular\n",
      "100\n",
      "token,slur : secular sickular\n",
      "80\n",
      "original tweet : literally no ones stopping jaebeom from dropping cock music now bitch do it\n",
      "{'Bitch': 100, 'liberal': 86, 'libtard': 57, 'dull-it': 57, '#MenToo': 50, 'love jihad': 50, 'Rape': 50, 'R@pe': 50, 'கூFire': 50, 'Muzlim': 50}\n",
      "token,slur : bitch Bitch\n",
      "80\n",
      "token,slur : literally liberal\n",
      "75\n",
      "original tweet : @priyankagandhi @nabijanansari12 Shat shat Naman 🙏\n",
      "{'Sanghans': 62, '#Sanghans': 62, 'R@ndi': 60, 'Katwa': 60, '#RanaAyyub': 56, 'Dynast Sycophants': 53, 'nationalists': 50, 'गांड': 50, 'Rape': 50, 'Feminazi': 50}\n",
      "original tweet : @suhasinih Oh there comes a SiCKular Convert giving her Expert Asmani opinion  #UrbanNaxals  #CongressMuktBharat\n",
      "{'sickular': 100, 'secular': 71, 'whore': 60, 'R@ndi': 60, 'Jersey cow': 60, 'anti national tukde': 53, '#SpeakUpMen': 50, 'Sanghans': 50, 'love jihad': 50, 'Rape': 50}\n",
      "original tweet : Now, police will again investigate this... #CBIForSSRHomicideCase #CBIInvestigationForSushant #SushantSinghRajput #RheaChakraborty #Bollywood  https://t.co/XUXm2OEs1M\n",
      "{'#RheaChakraborty': 100, '#reservation': 64, 'Sanghans': 62, '#Sanghans': 62, '#Dowry': 60, 'Gasti': 60, 'bimbo': 60, 'nationalists': 58, '#SCSTAct': 57, 'Rice bags': 56}\n",
      "token,slur : #RheaChakraborty #RheaChakraborty\n",
      "100\n",
      "original tweet : @Janu_Bhaskar_ It became evident when popular tweeters participated in NeeyaNaana and performed badly\n",
      "{'whore': 60, 'R@ndi': 60, 'dull-it': 57, 'secular': 57, 'Rice bags': 56, '#MenToo': 50, 'Presstitutes': 50, 'Rape': 50, 'R@pe': 50, 'R@p3': 50}\n",
      "original tweet : @CakedUpHealer All they need is a third bimbo to join their ranks.   That Tier woman of Hueco sounds lovely.\n",
      "{'bimbo': 100, 'liberal': 71, 'Gasti': 60, 'ma ki chui': 60, 'Characterless woman': 58, 'dull-it': 57, 'sc0undrel': 56, '#SaveOurSons': 55, '#MenToo': 50, 'Rape': 50}\n",
      "token,slur : bimbo bimbo\n",
      "100\n",
      "original tweet : At today’s Senate hearing into media diversity in Australia I asked the CEO of Sky News about Sky viewers feeling compelled to send me racist abuse after watching the channel.   #mediadiversity  https://t.co/ZjMFXtUNMt\n"
     ]
    },
    {
     "name": "stdout",
     "output_type": "stream",
     "text": [
      "{'Bitch': 60, 'R@ndi': 60, '#piddilover': 60, '#HiteshaChandranee': 59, '#SCSTAct': 57, 'dented-painted': 57, '#reservation': 55, '#carryminatiroast': 50, '#MenToo': 50, 'nationalists': 50}\n",
      "original tweet : @aresminaj he got accused of r@pe\n",
      "{'R@pe': 100, 'Rape': 75, 'R@p3': 75, 'Feminazi': 62, '#carryminatiroast': 50, 'faggot': 50, 'sekoolar': 50, 'கூFire': 50, 'Scumreds': 50, '#feministsaretrash': 47}\n",
      "token,slur : r@pe R@pe\n",
      "75\n",
      "original tweet : @payalbhayana I'm having constipation..... Mudi must resign.\n",
      "{'Muzlim': 67, 'R@ndi': 60, 'Gasti': 60, '#SCSTAct': 57, '#reservation': 55, 'anti national tukde': 53, 'Sanghans': 50, 'nationalists': 50, 'गांड': 50, 'Rape': 50}\n",
      "original tweet : @vibhasraina Feel better soon #HindutvaTroll, seeing as you are oblivious of academic work and won’t stop posting random comments on my tweets on human rights, on women’s day.\n",
      "{'#MenToo': 67, 'Gasti': 60, '#MensCommission': 57, '#FalseCases': 50, 'chrislamocommies': 50, 'Sanghans': 50, 'Rape': 50, 'R@pe': 50, 'sekoolar': 50, '#Misandry': 50}\n",
      "time: 943 ms (started: 2022-02-10 14:14:10 +05:30)\n"
     ]
    }
   ],
   "source": [
    "import csv\n",
    "import timeit\n",
    "\n",
    "fields = ['tweet_id','original_tweet','replaced_tweet','slur']\n",
    "\n",
    "with open('slur_replace_results_70_update6.csv','w') as csv_file:\n",
    "    \n",
    "    csvwriter = csv.writer(csv_file)\n",
    "    csvwriter.writerow(fields)\n",
    "    \n",
    "    final_row = []\n",
    "    execution_time = 0\n",
    "    \n",
    "    for tweet in en_lang_data.iterrows():\n",
    "        \n",
    "        row = []\n",
    "        \n",
    "        row.append(tweet[1]['Tweet ID'])\n",
    "        row.append(tweet[1]['Tweet'])\n",
    "        \n",
    "\n",
    "        #start = timeit.default_timer()\n",
    "        row.append(replace_slurs_score_v6(tweet[1]['Tweet'],slurs_list_updated,70))\n",
    "        #stop = timeit.default_timer()\n",
    "        \n",
    "        #execution_time += (stop - start)\n",
    "        \n",
    "        row.append(tweet[1]['Search'])\n",
    "        \n",
    "        final_row.append(row)\n",
    "        \n",
    "    csvwriter.writerows(final_row)\n",
    "\n",
    "#print(f'execution time for slur replacement : {execution_time}')"
   ]
  },
  {
   "cell_type": "code",
   "execution_count": 103,
   "metadata": {},
   "outputs": [
    {
     "data": {
      "text/html": [
       "<div>\n",
       "<style scoped>\n",
       "    .dataframe tbody tr th:only-of-type {\n",
       "        vertical-align: middle;\n",
       "    }\n",
       "\n",
       "    .dataframe tbody tr th {\n",
       "        vertical-align: top;\n",
       "    }\n",
       "\n",
       "    .dataframe thead th {\n",
       "        text-align: right;\n",
       "    }\n",
       "</style>\n",
       "<table border=\"1\" class=\"dataframe\">\n",
       "  <thead>\n",
       "    <tr style=\"text-align: right;\">\n",
       "      <th></th>\n",
       "      <th>tweet_id</th>\n",
       "      <th>original_tweet</th>\n",
       "      <th>replaced_tweet</th>\n",
       "      <th>slur</th>\n",
       "    </tr>\n",
       "  </thead>\n",
       "  <tbody>\n",
       "    <tr>\n",
       "      <th>0</th>\n",
       "      <td>1213518026693316608</td>\n",
       "      <td>What really is #genderequality personally and ...</td>\n",
       "      <td>What really is #genderequality personally and ...</td>\n",
       "      <td>#MenToo</td>\n",
       "    </tr>\n",
       "    <tr>\n",
       "      <th>1</th>\n",
       "      <td>1405955933252079626</td>\n",
       "      <td>You'd expect a movement respecting individual ...</td>\n",
       "      <td>You'd expect a movement respecting individual ...</td>\n",
       "      <td>Bitch</td>\n",
       "    </tr>\n",
       "    <tr>\n",
       "      <th>2</th>\n",
       "      <td>1402976130081058822</td>\n",
       "      <td>@digpatra Dnt know how sir but I had known thi...</td>\n",
       "      <td>@digpatra Dnt know how sir but I had known thi...</td>\n",
       "      <td>sickular</td>\n",
       "    </tr>\n",
       "    <tr>\n",
       "      <th>3</th>\n",
       "      <td>1471730688072183810</td>\n",
       "      <td>@KerriSackville @Dom_Perrottet Perrotet is a d...</td>\n",
       "      <td>@KerriSackville @Dom_Perrottet Perrotet is a d...</td>\n",
       "      <td>liberal</td>\n",
       "    </tr>\n",
       "    <tr>\n",
       "      <th>4</th>\n",
       "      <td>1467480861004075010</td>\n",
       "      <td>@bainjal What's New? Journalists do all sorts ...</td>\n",
       "      <td>&lt;replace&gt; What's New? Journalists do all sorts...</td>\n",
       "      <td>bainjal</td>\n",
       "    </tr>\n",
       "  </tbody>\n",
       "</table>\n",
       "</div>"
      ],
      "text/plain": [
       "              tweet_id                                     original_tweet  \\\n",
       "0  1213518026693316608  What really is #genderequality personally and ...   \n",
       "1  1405955933252079626  You'd expect a movement respecting individual ...   \n",
       "2  1402976130081058822  @digpatra Dnt know how sir but I had known thi...   \n",
       "3  1471730688072183810  @KerriSackville @Dom_Perrottet Perrotet is a d...   \n",
       "4  1467480861004075010  @bainjal What's New? Journalists do all sorts ...   \n",
       "\n",
       "                                      replaced_tweet      slur  \n",
       "0  What really is #genderequality personally and ...   #MenToo  \n",
       "1  You'd expect a movement respecting individual ...     Bitch  \n",
       "2  @digpatra Dnt know how sir but I had known thi...  sickular  \n",
       "3  @KerriSackville @Dom_Perrottet Perrotet is a d...   liberal  \n",
       "4  <replace> What's New? Journalists do all sorts...   bainjal  "
      ]
     },
     "execution_count": 103,
     "metadata": {},
     "output_type": "execute_result"
    },
    {
     "name": "stdout",
     "output_type": "stream",
     "text": [
      "time: 44.1 ms (started: 2022-02-10 12:26:32 +05:30)\n"
     ]
    }
   ],
   "source": [
    "import pandas as pd \n",
    "\n",
    "eng_slur_replace = pd.read_csv('slur_replace_results.csv')\n",
    "eng_slur_replace.head()"
   ]
  },
  {
   "cell_type": "code",
   "execution_count": 104,
   "metadata": {},
   "outputs": [
    {
     "data": {
      "text/html": [
       "<div>\n",
       "<style scoped>\n",
       "    .dataframe tbody tr th:only-of-type {\n",
       "        vertical-align: middle;\n",
       "    }\n",
       "\n",
       "    .dataframe tbody tr th {\n",
       "        vertical-align: top;\n",
       "    }\n",
       "\n",
       "    .dataframe thead th {\n",
       "        text-align: right;\n",
       "    }\n",
       "</style>\n",
       "<table border=\"1\" class=\"dataframe\">\n",
       "  <thead>\n",
       "    <tr style=\"text-align: right;\">\n",
       "      <th></th>\n",
       "      <th>tweet_id</th>\n",
       "      <th>original_tweet</th>\n",
       "      <th>replaced_tweet</th>\n",
       "      <th>slur</th>\n",
       "    </tr>\n",
       "  </thead>\n",
       "  <tbody>\n",
       "    <tr>\n",
       "      <th>0</th>\n",
       "      <td>1213518026693316608</td>\n",
       "      <td>What really is #genderequality personally and ...</td>\n",
       "      <td>What really is #genderequality personally and ...</td>\n",
       "      <td>#MenToo</td>\n",
       "    </tr>\n",
       "    <tr>\n",
       "      <th>1</th>\n",
       "      <td>1405955933252079626</td>\n",
       "      <td>You'd expect a movement respecting individual ...</td>\n",
       "      <td>You'd expect a movement respecting individual ...</td>\n",
       "      <td>Bitch</td>\n",
       "    </tr>\n",
       "    <tr>\n",
       "      <th>2</th>\n",
       "      <td>1402976130081058822</td>\n",
       "      <td>@digpatra Dnt know how sir but I had known thi...</td>\n",
       "      <td>@digpatra Dnt know how sir but I had known thi...</td>\n",
       "      <td>sickular</td>\n",
       "    </tr>\n",
       "    <tr>\n",
       "      <th>3</th>\n",
       "      <td>1471730688072183810</td>\n",
       "      <td>@KerriSackville @Dom_Perrottet Perrotet is a d...</td>\n",
       "      <td>@KerriSackville @Dom_Perrottet Perrotet is a d...</td>\n",
       "      <td>liberal</td>\n",
       "    </tr>\n",
       "    <tr>\n",
       "      <th>4</th>\n",
       "      <td>1467480861004075010</td>\n",
       "      <td>@bainjal What's New? Journalists do all sorts ...</td>\n",
       "      <td>@bainjal &lt;replace&gt;'s New? Journalists do &lt;repl...</td>\n",
       "      <td>bainjal</td>\n",
       "    </tr>\n",
       "  </tbody>\n",
       "</table>\n",
       "</div>"
      ],
      "text/plain": [
       "              tweet_id                                     original_tweet  \\\n",
       "0  1213518026693316608  What really is #genderequality personally and ...   \n",
       "1  1405955933252079626  You'd expect a movement respecting individual ...   \n",
       "2  1402976130081058822  @digpatra Dnt know how sir but I had known thi...   \n",
       "3  1471730688072183810  @KerriSackville @Dom_Perrottet Perrotet is a d...   \n",
       "4  1467480861004075010  @bainjal What's New? Journalists do all sorts ...   \n",
       "\n",
       "                                      replaced_tweet      slur  \n",
       "0  What really is #genderequality personally and ...   #MenToo  \n",
       "1  You'd expect a movement respecting individual ...     Bitch  \n",
       "2  @digpatra Dnt know how sir but I had known thi...  sickular  \n",
       "3  @KerriSackville @Dom_Perrottet Perrotet is a d...   liberal  \n",
       "4  @bainjal <replace>'s New? Journalists do <repl...   bainjal  "
      ]
     },
     "execution_count": 104,
     "metadata": {},
     "output_type": "execute_result"
    },
    {
     "name": "stdout",
     "output_type": "stream",
     "text": [
      "time: 19.2 ms (started: 2022-02-10 12:26:32 +05:30)\n"
     ]
    }
   ],
   "source": [
    "eng_slur_replace = pd.read_csv('slur_replace_results_50.csv')\n",
    "eng_slur_replace.head()"
   ]
  },
  {
   "cell_type": "markdown",
   "metadata": {},
   "source": [
    "#### After adding the threshold \n",
    "\n",
    "Threshold - 50"
   ]
  },
  {
   "cell_type": "code",
   "execution_count": 105,
   "metadata": {},
   "outputs": [
    {
     "data": {
      "text/html": [
       "<div>\n",
       "<style scoped>\n",
       "    .dataframe tbody tr th:only-of-type {\n",
       "        vertical-align: middle;\n",
       "    }\n",
       "\n",
       "    .dataframe tbody tr th {\n",
       "        vertical-align: top;\n",
       "    }\n",
       "\n",
       "    .dataframe thead th {\n",
       "        text-align: right;\n",
       "    }\n",
       "</style>\n",
       "<table border=\"1\" class=\"dataframe\">\n",
       "  <thead>\n",
       "    <tr style=\"text-align: right;\">\n",
       "      <th></th>\n",
       "      <th>tweet_id</th>\n",
       "      <th>original_tweet</th>\n",
       "      <th>replaced_tweet</th>\n",
       "      <th>slur</th>\n",
       "    </tr>\n",
       "  </thead>\n",
       "  <tbody>\n",
       "    <tr>\n",
       "      <th>0</th>\n",
       "      <td>1213518026693316608</td>\n",
       "      <td>What really is #genderequality personally and ...</td>\n",
       "      <td>What really is #genderequality personally and ...</td>\n",
       "      <td>#MenToo</td>\n",
       "    </tr>\n",
       "    <tr>\n",
       "      <th>1</th>\n",
       "      <td>1405955933252079626</td>\n",
       "      <td>You'd expect a movement respecting individual ...</td>\n",
       "      <td>You'd expect a movement respecting individual ...</td>\n",
       "      <td>Bitch</td>\n",
       "    </tr>\n",
       "    <tr>\n",
       "      <th>2</th>\n",
       "      <td>1402976130081058822</td>\n",
       "      <td>@digpatra Dnt know how sir but I had known thi...</td>\n",
       "      <td>@digpatra Dnt know how sir but I had known thi...</td>\n",
       "      <td>sickular</td>\n",
       "    </tr>\n",
       "    <tr>\n",
       "      <th>3</th>\n",
       "      <td>1471730688072183810</td>\n",
       "      <td>@KerriSackville @Dom_Perrottet Perrotet is a d...</td>\n",
       "      <td>@KerriSackville @Dom_Perrottet Perrotet is a d...</td>\n",
       "      <td>liberal</td>\n",
       "    </tr>\n",
       "    <tr>\n",
       "      <th>4</th>\n",
       "      <td>1467480861004075010</td>\n",
       "      <td>@bainjal What's New? Journalists do all sorts ...</td>\n",
       "      <td>@bainjal &lt;replace&gt;'s New? Journalists do &lt;repl...</td>\n",
       "      <td>bainjal</td>\n",
       "    </tr>\n",
       "  </tbody>\n",
       "</table>\n",
       "</div>"
      ],
      "text/plain": [
       "              tweet_id                                     original_tweet  \\\n",
       "0  1213518026693316608  What really is #genderequality personally and ...   \n",
       "1  1405955933252079626  You'd expect a movement respecting individual ...   \n",
       "2  1402976130081058822  @digpatra Dnt know how sir but I had known thi...   \n",
       "3  1471730688072183810  @KerriSackville @Dom_Perrottet Perrotet is a d...   \n",
       "4  1467480861004075010  @bainjal What's New? Journalists do all sorts ...   \n",
       "\n",
       "                                      replaced_tweet      slur  \n",
       "0  What really is #genderequality personally and ...   #MenToo  \n",
       "1  You'd expect a movement respecting individual ...     Bitch  \n",
       "2  @digpatra Dnt know how sir but I had known thi...  sickular  \n",
       "3  @KerriSackville @Dom_Perrottet Perrotet is a d...   liberal  \n",
       "4  @bainjal <replace>'s New? Journalists do <repl...   bainjal  "
      ]
     },
     "execution_count": 105,
     "metadata": {},
     "output_type": "execute_result"
    },
    {
     "name": "stdout",
     "output_type": "stream",
     "text": [
      "time: 32.2 ms (started: 2022-02-10 12:26:35 +05:30)\n"
     ]
    }
   ],
   "source": [
    "eng_slur_replace = pd.read_csv('slur_replace_results_50_1.csv')\n",
    "eng_slur_replace.head()"
   ]
  },
  {
   "cell_type": "markdown",
   "metadata": {},
   "source": [
    "Threshold - 70"
   ]
  },
  {
   "cell_type": "code",
   "execution_count": 106,
   "metadata": {},
   "outputs": [
    {
     "data": {
      "text/html": [
       "<div>\n",
       "<style scoped>\n",
       "    .dataframe tbody tr th:only-of-type {\n",
       "        vertical-align: middle;\n",
       "    }\n",
       "\n",
       "    .dataframe tbody tr th {\n",
       "        vertical-align: top;\n",
       "    }\n",
       "\n",
       "    .dataframe thead th {\n",
       "        text-align: right;\n",
       "    }\n",
       "</style>\n",
       "<table border=\"1\" class=\"dataframe\">\n",
       "  <thead>\n",
       "    <tr style=\"text-align: right;\">\n",
       "      <th></th>\n",
       "      <th>tweet_id</th>\n",
       "      <th>original_tweet</th>\n",
       "      <th>replaced_tweet</th>\n",
       "      <th>slur</th>\n",
       "    </tr>\n",
       "  </thead>\n",
       "  <tbody>\n",
       "    <tr>\n",
       "      <th>0</th>\n",
       "      <td>1213518026693316608</td>\n",
       "      <td>What really is #genderequality personally and ...</td>\n",
       "      <td>What really is #genderequality personally and ...</td>\n",
       "      <td>#MenToo</td>\n",
       "    </tr>\n",
       "    <tr>\n",
       "      <th>1</th>\n",
       "      <td>1405955933252079626</td>\n",
       "      <td>You'd expect a movement respecting individual ...</td>\n",
       "      <td>You'd expect a movement respecting individual ...</td>\n",
       "      <td>Bitch</td>\n",
       "    </tr>\n",
       "    <tr>\n",
       "      <th>2</th>\n",
       "      <td>1402976130081058822</td>\n",
       "      <td>@digpatra Dnt know how sir but I had known thi...</td>\n",
       "      <td>@digpatra Dnt know how sir but I had known thi...</td>\n",
       "      <td>sickular</td>\n",
       "    </tr>\n",
       "    <tr>\n",
       "      <th>3</th>\n",
       "      <td>1471730688072183810</td>\n",
       "      <td>@KerriSackville @Dom_Perrottet Perrotet is a d...</td>\n",
       "      <td>@KerriSackville @Dom_Perrottet Perrotet is a d...</td>\n",
       "      <td>liberal</td>\n",
       "    </tr>\n",
       "    <tr>\n",
       "      <th>4</th>\n",
       "      <td>1467480861004075010</td>\n",
       "      <td>@bainjal What's New? Journalists do all sorts ...</td>\n",
       "      <td>@bainjal What's New? Journalists do all sorts ...</td>\n",
       "      <td>bainjal</td>\n",
       "    </tr>\n",
       "  </tbody>\n",
       "</table>\n",
       "</div>"
      ],
      "text/plain": [
       "              tweet_id                                     original_tweet  \\\n",
       "0  1213518026693316608  What really is #genderequality personally and ...   \n",
       "1  1405955933252079626  You'd expect a movement respecting individual ...   \n",
       "2  1402976130081058822  @digpatra Dnt know how sir but I had known thi...   \n",
       "3  1471730688072183810  @KerriSackville @Dom_Perrottet Perrotet is a d...   \n",
       "4  1467480861004075010  @bainjal What's New? Journalists do all sorts ...   \n",
       "\n",
       "                                      replaced_tweet      slur  \n",
       "0  What really is #genderequality personally and ...   #MenToo  \n",
       "1  You'd expect a movement respecting individual ...     Bitch  \n",
       "2  @digpatra Dnt know how sir but I had known thi...  sickular  \n",
       "3  @KerriSackville @Dom_Perrottet Perrotet is a d...   liberal  \n",
       "4  @bainjal What's New? Journalists do all sorts ...   bainjal  "
      ]
     },
     "execution_count": 106,
     "metadata": {},
     "output_type": "execute_result"
    },
    {
     "name": "stdout",
     "output_type": "stream",
     "text": [
      "time: 24.9 ms (started: 2022-02-10 12:26:35 +05:30)\n"
     ]
    }
   ],
   "source": [
    "eng_slur_replace = pd.read_csv('slur_replace_results_70.csv')\n",
    "eng_slur_replace.head()"
   ]
  },
  {
   "cell_type": "markdown",
   "metadata": {},
   "source": [
    "Threshold - 70 + Muslim exception"
   ]
  },
  {
   "cell_type": "code",
   "execution_count": 107,
   "metadata": {},
   "outputs": [
    {
     "data": {
      "text/html": [
       "<div>\n",
       "<style scoped>\n",
       "    .dataframe tbody tr th:only-of-type {\n",
       "        vertical-align: middle;\n",
       "    }\n",
       "\n",
       "    .dataframe tbody tr th {\n",
       "        vertical-align: top;\n",
       "    }\n",
       "\n",
       "    .dataframe thead th {\n",
       "        text-align: right;\n",
       "    }\n",
       "</style>\n",
       "<table border=\"1\" class=\"dataframe\">\n",
       "  <thead>\n",
       "    <tr style=\"text-align: right;\">\n",
       "      <th></th>\n",
       "      <th>tweet_id</th>\n",
       "      <th>original_tweet</th>\n",
       "      <th>replaced_tweet</th>\n",
       "      <th>slur</th>\n",
       "    </tr>\n",
       "  </thead>\n",
       "  <tbody>\n",
       "    <tr>\n",
       "      <th>0</th>\n",
       "      <td>1213518026693316608</td>\n",
       "      <td>What really is #genderequality personally and ...</td>\n",
       "      <td>What really is #genderequality personally and ...</td>\n",
       "      <td>#MenToo</td>\n",
       "    </tr>\n",
       "    <tr>\n",
       "      <th>1</th>\n",
       "      <td>1405955933252079626</td>\n",
       "      <td>You'd expect a movement respecting individual ...</td>\n",
       "      <td>You'd expect a movement respecting individual ...</td>\n",
       "      <td>Bitch</td>\n",
       "    </tr>\n",
       "    <tr>\n",
       "      <th>2</th>\n",
       "      <td>1402976130081058822</td>\n",
       "      <td>@digpatra Dnt know how sir but I had known thi...</td>\n",
       "      <td>@digpatra Dnt know how sir but I had known thi...</td>\n",
       "      <td>sickular</td>\n",
       "    </tr>\n",
       "    <tr>\n",
       "      <th>3</th>\n",
       "      <td>1471730688072183810</td>\n",
       "      <td>@KerriSackville @Dom_Perrottet Perrotet is a d...</td>\n",
       "      <td>@KerriSackville @Dom_Perrottet Perrotet is a d...</td>\n",
       "      <td>liberal</td>\n",
       "    </tr>\n",
       "    <tr>\n",
       "      <th>4</th>\n",
       "      <td>1467480861004075010</td>\n",
       "      <td>@bainjal What's New? Journalists do all sorts ...</td>\n",
       "      <td>@bainjal What's New? Journalists do all sorts ...</td>\n",
       "      <td>bainjal</td>\n",
       "    </tr>\n",
       "  </tbody>\n",
       "</table>\n",
       "</div>"
      ],
      "text/plain": [
       "              tweet_id                                     original_tweet  \\\n",
       "0  1213518026693316608  What really is #genderequality personally and ...   \n",
       "1  1405955933252079626  You'd expect a movement respecting individual ...   \n",
       "2  1402976130081058822  @digpatra Dnt know how sir but I had known thi...   \n",
       "3  1471730688072183810  @KerriSackville @Dom_Perrottet Perrotet is a d...   \n",
       "4  1467480861004075010  @bainjal What's New? Journalists do all sorts ...   \n",
       "\n",
       "                                      replaced_tweet      slur  \n",
       "0  What really is #genderequality personally and ...   #MenToo  \n",
       "1  You'd expect a movement respecting individual ...     Bitch  \n",
       "2  @digpatra Dnt know how sir but I had known thi...  sickular  \n",
       "3  @KerriSackville @Dom_Perrottet Perrotet is a d...   liberal  \n",
       "4  @bainjal What's New? Journalists do all sorts ...   bainjal  "
      ]
     },
     "execution_count": 107,
     "metadata": {},
     "output_type": "execute_result"
    },
    {
     "name": "stdout",
     "output_type": "stream",
     "text": [
      "time: 11.8 ms (started: 2022-02-10 12:26:39 +05:30)\n"
     ]
    }
   ],
   "source": [
    "eng_slur_replace = pd.read_csv('slur_replace_results_70.csv')\n",
    "eng_slur_replace.head()"
   ]
  },
  {
   "cell_type": "markdown",
   "metadata": {},
   "source": [
    "#### Corrections"
   ]
  },
  {
   "cell_type": "markdown",
   "metadata": {},
   "source": [
    "#### r@pe"
   ]
  },
  {
   "cell_type": "code",
   "execution_count": 108,
   "metadata": {},
   "outputs": [
    {
     "name": "stdout",
     "output_type": "stream",
     "text": [
      "{'R@pe': 100, 'Rape': 75, 'R@p3': 75, 'Feminazi': 62, '#carryminatiroast': 50, 'faggot': 50, 'sekoolar': 50, 'கூFire': 50, 'Scumreds': 50, '#feministsaretrash': 47}\n",
      "[(1, [('r@pe', 'R@pe')]), (2, [('r@pe', 'Rape'), ('r@pe', 'R@p3')]), (3, [('he', 'R@pe'), ('he', 'Rape'), ('got', 'faggot')]), (4, [('got', 'R@pe'), ('of', 'R@pe'), ('got', 'Rape'), ('of', 'Rape'), ('he', 'R@p3'), ('got', 'R@p3'), ('of', 'R@p3')]), (5, [('of', 'faggot'), ('he', 'கூFire'), ('r@pe', 'கூFire'), ('accused', 'Scumreds')]), (6, [('accused', 'R@pe'), ('accused', 'Rape'), ('@aresminaj', 'Feminazi'), ('he', 'faggot'), ('r@pe', 'faggot'), ('got', 'கூFire'), ('accused', 'கூFire'), ('of', 'கூFire')]), (7, [('accused', 'R@p3'), ('he', 'Feminazi'), ('accused', 'faggot'), ('he', 'sekoolar'), ('got', 'sekoolar'), ('of', 'sekoolar'), ('he', 'Scumreds'), ('r@pe', 'Scumreds')]), (8, [('@aresminaj', 'Rape'), ('got', 'Feminazi'), ('accused', 'Feminazi'), ('of', 'Feminazi'), ('r@pe', 'Feminazi'), ('@aresminaj', 'sekoolar'), ('accused', 'sekoolar'), ('r@pe', 'sekoolar'), ('got', 'Scumreds'), ('of', 'Scumreds')]), (9, [('@aresminaj', 'R@pe'), ('@aresminaj', 'faggot'), ('@aresminaj', 'கூFire'), ('@aresminaj', 'Scumreds')]), (10, [('@aresminaj', 'R@p3')]), (11, [('@aresminaj', '#carryminatiroast')]), (15, [('got', '#carryminatiroast'), ('@aresminaj', '#feministsaretrash')]), (16, [('accused', '#carryminatiroast'), ('of', '#carryminatiroast'), ('r@pe', '#carryminatiroast'), ('accused', '#feministsaretrash')]), (17, [('he', '#carryminatiroast'), ('he', '#feministsaretrash'), ('got', '#feministsaretrash'), ('of', '#feministsaretrash'), ('r@pe', '#feministsaretrash')])]\n"
     ]
    },
    {
     "data": {
      "text/plain": [
       "'@aresminaj he got accused of <replace>'"
      ]
     },
     "execution_count": 108,
     "metadata": {},
     "output_type": "execute_result"
    },
    {
     "name": "stdout",
     "output_type": "stream",
     "text": [
      "time: 8.76 ms (started: 2022-02-10 12:26:39 +05:30)\n"
     ]
    }
   ],
   "source": [
    "tweet = '@aresminaj he got accused of r@pe'\n",
    "\n",
    "replace_slurs_score_v4(tweet,slurs_list_updated,70)"
   ]
  },
  {
   "cell_type": "code",
   "execution_count": 109,
   "metadata": {},
   "outputs": [
    {
     "name": "stdout",
     "output_type": "stream",
     "text": [
      "{'R@pe': 100, 'Rape': 75, 'R@p3': 75, 'Feminazi': 62, '#carryminatiroast': 50, 'faggot': 50, 'sekoolar': 50, 'கூFire': 50, 'Scumreds': 50, '#feministsaretrash': 47}\n",
      "[(1, [('r@pe', 'R@pe')]), (2, [('r@pe', 'Rape'), ('r@pe', 'R@p3')]), (3, [('he', 'R@pe'), ('he', 'Rape'), ('got', 'faggot')]), (4, [('got', 'R@pe'), ('of', 'R@pe'), ('got', 'Rape'), ('of', 'Rape'), ('he', 'R@p3'), ('got', 'R@p3'), ('of', 'R@p3')]), (5, [('of', 'faggot'), ('he', 'கூFire'), ('r@pe', 'கூFire'), ('accused', 'Scumreds')]), (6, [('accused', 'R@pe'), ('accused', 'Rape'), ('@aresminaj', 'Feminazi'), ('he', 'faggot'), ('r@pe', 'faggot'), ('got', 'கூFire'), ('accused', 'கூFire'), ('of', 'கூFire')]), (7, [('accused', 'R@p3'), ('he', 'Feminazi'), ('accused', 'faggot'), ('he', 'sekoolar'), ('got', 'sekoolar'), ('of', 'sekoolar'), ('he', 'Scumreds'), ('r@pe', 'Scumreds')]), (8, [('@aresminaj', 'Rape'), ('got', 'Feminazi'), ('accused', 'Feminazi'), ('of', 'Feminazi'), ('r@pe', 'Feminazi'), ('@aresminaj', 'sekoolar'), ('accused', 'sekoolar'), ('r@pe', 'sekoolar'), ('got', 'Scumreds'), ('of', 'Scumreds')]), (9, [('@aresminaj', 'R@pe'), ('@aresminaj', 'faggot'), ('@aresminaj', 'கூFire'), ('@aresminaj', 'Scumreds')]), (10, [('@aresminaj', 'R@p3')]), (11, [('@aresminaj', '#carryminatiroast')]), (15, [('got', '#carryminatiroast'), ('@aresminaj', '#feministsaretrash')]), (16, [('accused', '#carryminatiroast'), ('of', '#carryminatiroast'), ('r@pe', '#carryminatiroast'), ('accused', '#feministsaretrash')]), (17, [('he', '#carryminatiroast'), ('he', '#feministsaretrash'), ('got', '#feministsaretrash'), ('of', '#feministsaretrash'), ('r@pe', '#feministsaretrash')])]\n"
     ]
    },
    {
     "data": {
      "text/plain": [
       "'@aresminaj he got accused of <replace>'"
      ]
     },
     "execution_count": 109,
     "metadata": {},
     "output_type": "execute_result"
    },
    {
     "name": "stdout",
     "output_type": "stream",
     "text": [
      "time: 13 ms (started: 2022-02-10 12:26:39 +05:30)\n"
     ]
    }
   ],
   "source": [
    "replace_slurs_score_v4(tweet,slurs_list_updated,70)"
   ]
  },
  {
   "cell_type": "markdown",
   "metadata": {},
   "source": [
    "#### Updating the csv after expanding the slurs list"
   ]
  },
  {
   "cell_type": "code",
   "execution_count": 110,
   "metadata": {},
   "outputs": [
    {
     "data": {
      "text/html": [
       "<div>\n",
       "<style scoped>\n",
       "    .dataframe tbody tr th:only-of-type {\n",
       "        vertical-align: middle;\n",
       "    }\n",
       "\n",
       "    .dataframe tbody tr th {\n",
       "        vertical-align: top;\n",
       "    }\n",
       "\n",
       "    .dataframe thead th {\n",
       "        text-align: right;\n",
       "    }\n",
       "</style>\n",
       "<table border=\"1\" class=\"dataframe\">\n",
       "  <thead>\n",
       "    <tr style=\"text-align: right;\">\n",
       "      <th></th>\n",
       "      <th>tweet_id</th>\n",
       "      <th>original_tweet</th>\n",
       "      <th>replaced_tweet</th>\n",
       "      <th>slur</th>\n",
       "    </tr>\n",
       "  </thead>\n",
       "  <tbody>\n",
       "    <tr>\n",
       "      <th>0</th>\n",
       "      <td>1352279144722173953</td>\n",
       "      <td>@SunSuzSunTzuing Autobiography of Doland Trump</td>\n",
       "      <td>@SunSuzSunTzuing Autobiography &lt;replace&gt; Dolan...</td>\n",
       "      <td>Urban_Chanakya</td>\n",
       "    </tr>\n",
       "    <tr>\n",
       "      <th>1</th>\n",
       "      <td>1364619620045348867</td>\n",
       "      <td>@madhukishwar @PMOIndia @AmitShahOffice So inv...</td>\n",
       "      <td>@madhukishwar @PMOIndia @AmitShahOffice So inv...</td>\n",
       "      <td>madhukishwar</td>\n",
       "    </tr>\n",
       "    <tr>\n",
       "      <th>2</th>\n",
       "      <td>1238133202536955904</td>\n",
       "      <td>Didn’t know Range Rovers didn’t have air condi...</td>\n",
       "      <td>Didn’t know Range Rovers didn’t have air condi...</td>\n",
       "      <td>rohini_sgh</td>\n",
       "    </tr>\n",
       "    <tr>\n",
       "      <th>3</th>\n",
       "      <td>1362712488739889153</td>\n",
       "      <td>@salonayy @AkhillesTook Thankyou sal 🥰🤗❤️</td>\n",
       "      <td>@salonayy @AkhillesTook Thankyou sal 🥰🤗❤️</td>\n",
       "      <td>salonayy</td>\n",
       "    </tr>\n",
       "    <tr>\n",
       "      <th>4</th>\n",
       "      <td>1372589213133107201</td>\n",
       "      <td>@MamataOfficial @AITCofficial will you comment...</td>\n",
       "      <td>@MamataOfficial @AITCofficial will you comment...</td>\n",
       "      <td>MamataOfficial</td>\n",
       "    </tr>\n",
       "  </tbody>\n",
       "</table>\n",
       "</div>"
      ],
      "text/plain": [
       "              tweet_id                                     original_tweet  \\\n",
       "0  1352279144722173953     @SunSuzSunTzuing Autobiography of Doland Trump   \n",
       "1  1364619620045348867  @madhukishwar @PMOIndia @AmitShahOffice So inv...   \n",
       "2  1238133202536955904  Didn’t know Range Rovers didn’t have air condi...   \n",
       "3  1362712488739889153          @salonayy @AkhillesTook Thankyou sal 🥰🤗❤️   \n",
       "4  1372589213133107201  @MamataOfficial @AITCofficial will you comment...   \n",
       "\n",
       "                                      replaced_tweet            slur  \n",
       "0  @SunSuzSunTzuing Autobiography <replace> Dolan...  Urban_Chanakya  \n",
       "1  @madhukishwar @PMOIndia @AmitShahOffice So inv...    madhukishwar  \n",
       "2  Didn’t know Range Rovers didn’t have air condi...      rohini_sgh  \n",
       "3          @salonayy @AkhillesTook Thankyou sal 🥰🤗❤️        salonayy  \n",
       "4  @MamataOfficial @AITCofficial will you comment...  MamataOfficial  "
      ]
     },
     "execution_count": 110,
     "metadata": {},
     "output_type": "execute_result"
    },
    {
     "name": "stdout",
     "output_type": "stream",
     "text": [
      "time: 15.2 ms (started: 2022-02-10 12:26:40 +05:30)\n"
     ]
    }
   ],
   "source": [
    "eng_slur_replace = pd.read_csv('slur_replace_results_70_1.csv')\n",
    "eng_slur_replace.head()"
   ]
  },
  {
   "cell_type": "markdown",
   "metadata": {},
   "source": [
    "#### SiCKular"
   ]
  },
  {
   "cell_type": "code",
   "execution_count": 148,
   "metadata": {},
   "outputs": [
    {
     "name": "stdout",
     "output_type": "stream",
     "text": [
      "time: 656 µs (started: 2022-02-10 12:47:57 +05:30)\n"
     ]
    }
   ],
   "source": [
    "tweet = '@suhasinih Oh there comes a SiCKular Convert giving her Expert Asmani opinion  #UrbanNaxals  #CongressMuktBharat'"
   ]
  },
  {
   "cell_type": "code",
   "execution_count": 112,
   "metadata": {},
   "outputs": [
    {
     "name": "stdout",
     "output_type": "stream",
     "text": [
      "{'sickular': 100, 'secular': 71, 'whore': 60, 'R@ndi': 60, 'Jersey cow': 60, 'anti national tukde': 53, '#SpeakUpMen': 50, 'Sanghans': 50, 'love jihad': 50, 'Rape': 50}\n",
      "distance : 3\n",
      "[(2, [('there', 'whore')]), (3, [('SiCKular', 'sickular'), ('her', 'whore'), ('a', 'Rape')]), (4, [('SiCKular', 'secular'), ('Oh', 'whore'), ('comes', 'whore'), ('Oh', 'Rape'), ('there', 'Rape'), ('comes', 'Rape'), ('her', 'Rape'), ('Expert', 'Rape'), ('', 'Rape')]), (5, [('her', 'secular'), ('a', 'whore'), ('Expert', 'whore'), ('', 'whore'), ('Oh', 'R@ndi'), ('there', 'R@ndi'), ('comes', 'R@ndi'), ('a', 'R@ndi'), ('her', 'R@ndi'), ('Asmani', 'R@ndi'), ('', 'R@ndi'), ('Asmani', 'Rape')]), (6, [('comes', 'secular'), ('a', 'secular'), ('Convert', 'whore'), ('giving', 'whore'), ('Asmani', 'whore'), ('Convert', 'R@ndi'), ('giving', 'R@ndi'), ('Expert', 'R@ndi'), ('opinion', 'R@ndi'), ('Asmani', 'Sanghans'), ('Convert', 'Rape'), ('giving', 'Rape')]), (7, [('comes', 'sickular'), ('a', 'sickular'), ('giving', 'sickular'), ('her', 'sickular'), ('Oh', 'secular'), ('there', 'secular'), ('Convert', 'secular'), ('giving', 'secular'), ('Expert', 'secular'), ('Asmani', 'secular'), ('opinion', 'secular'), ('', 'secular'), ('opinion', 'whore'), ('Oh', 'Sanghans'), ('there', 'Sanghans'), ('comes', 'Sanghans'), ('a', 'Sanghans'), ('SiCKular', 'Sanghans'), ('Convert', 'Sanghans'), ('giving', 'Sanghans'), ('her', 'Sanghans'), ('opinion', 'Sanghans'), ('opinion', 'Rape')]), (8, [('Oh', 'sickular'), ('there', 'sickular'), ('Convert', 'sickular'), ('Expert', 'sickular'), ('Asmani', 'sickular'), ('opinion', 'sickular'), ('', 'sickular'), ('SiCKular', 'whore'), ('SiCKular', 'R@ndi'), ('there', 'Jersey cow'), ('her', 'Jersey cow'), ('@suhasinih', 'Sanghans'), ('Expert', 'Sanghans'), ('', 'Sanghans'), ('#UrbanNaxals', 'Sanghans'), ('comes', 'love jihad'), ('Convert', 'love jihad'), ('giving', 'love jihad'), ('opinion', 'love jihad'), ('SiCKular', 'Rape')]), (9, [('@suhasinih', 'sickular'), ('@suhasinih', 'secular'), ('@suhasinih', 'whore'), ('@suhasinih', 'R@ndi'), ('comes', 'Jersey cow'), ('Convert', 'Jersey cow'), ('Expert', 'Jersey cow'), ('Asmani', 'Jersey cow'), ('opinion', 'Jersey cow'), ('there', '#SpeakUpMen'), ('Expert', '#SpeakUpMen'), ('opinion', '#SpeakUpMen'), ('@suhasinih', 'love jihad'), ('Oh', 'love jihad'), ('there', 'love jihad'), ('a', 'love jihad'), ('SiCKular', 'love jihad'), ('her', 'love jihad'), ('Expert', 'love jihad'), ('Asmani', 'love jihad'), ('@suhasinih', 'Rape')]), (10, [('@suhasinih', 'Jersey cow'), ('Oh', 'Jersey cow'), ('a', 'Jersey cow'), ('SiCKular', 'Jersey cow'), ('giving', 'Jersey cow'), ('', 'Jersey cow'), ('@suhasinih', '#SpeakUpMen'), ('comes', '#SpeakUpMen'), ('a', '#SpeakUpMen'), ('SiCKular', '#SpeakUpMen'), ('her', '#SpeakUpMen'), ('Asmani', '#SpeakUpMen'), ('#UrbanNaxals', '#SpeakUpMen'), ('', 'love jihad')]), (11, [('#UrbanNaxals', 'sickular'), ('#UrbanNaxals', 'secular'), ('#UrbanNaxals', 'R@ndi'), ('#UrbanNaxals', 'Jersey cow'), ('Oh', '#SpeakUpMen'), ('Convert', '#SpeakUpMen'), ('giving', '#SpeakUpMen'), ('', '#SpeakUpMen'), ('#UrbanNaxals', 'love jihad'), ('#UrbanNaxals', 'Rape')]), (12, [('#UrbanNaxals', 'whore')]), (14, [('opinion', 'anti national tukde')]), (15, [('#CongressMuktBharat', 'sickular'), ('#CongressMuktBharat', 'secular'), ('#CongressMuktBharat', 'Sanghans'), ('#CongressMuktBharat', 'love jihad')]), (16, [('#CongressMuktBharat', 'whore'), ('@suhasinih', 'anti national tukde'), ('Convert', 'anti national tukde'), ('giving', 'anti national tukde'), ('#UrbanNaxals', 'anti national tukde'), ('#CongressMuktBharat', '#SpeakUpMen')]), (17, [('#CongressMuktBharat', 'Jersey cow'), ('there', 'anti national tukde'), ('SiCKular', 'anti national tukde'), ('Asmani', 'anti national tukde')]), (18, [('#CongressMuktBharat', 'R@ndi'), ('comes', 'anti national tukde'), ('a', 'anti national tukde'), ('Expert', 'anti national tukde'), ('#CongressMuktBharat', 'Rape')]), (19, [('Oh', 'anti national tukde'), ('her', 'anti national tukde'), ('', 'anti national tukde'), ('#CongressMuktBharat', 'anti national tukde')])]\n"
     ]
    },
    {
     "data": {
      "text/plain": [
       "'@suhasinih Oh there comes a SiCKular Convert giving her Expert Asmani opinion  #UrbanNaxals  #CongressMuktBharat'"
      ]
     },
     "execution_count": 112,
     "metadata": {},
     "output_type": "execute_result"
    },
    {
     "name": "stdout",
     "output_type": "stream",
     "text": [
      "time: 22.9 ms (started: 2022-02-10 12:26:42 +05:30)\n"
     ]
    }
   ],
   "source": [
    "replace_slurs_score_v4(tweet,slurs_list_updated,70)"
   ]
  },
  {
   "cell_type": "markdown",
   "metadata": {},
   "source": [
    "### Update 5\n",
    "\n",
    "- replace slur only if first char matches"
   ]
  },
  {
   "cell_type": "code",
   "execution_count": 152,
   "metadata": {},
   "outputs": [
    {
     "name": "stdout",
     "output_type": "stream",
     "text": [
      "time: 4.13 ms (started: 2022-02-10 12:51:28 +05:30)\n"
     ]
    }
   ],
   "source": [
    "def replace_slurs_score_v5_0(tweet,slurs_list,threshold_score):\n",
    "    \n",
    "    print(f'original tweet : {tweet}')\n",
    "    check = 0\n",
    "     \n",
    "    #print(process.extract(tweet,slurs_list,limit = 10,scorer=fuzz.partial_ratio))\n",
    "    \n",
    "    match_dict = dict(process.extract(tweet,slurs_list,limit = 10,scorer=fuzz.partial_ratio))\n",
    "    \n",
    "    print(match_dict)\n",
    "    matches = match_dict.keys()\n",
    "    \n",
    "    # to compare the distance of top 10 matching slurs to find the right matching\n",
    "    dis_dict = {}\n",
    "    token_slur_dict = {}\n",
    "    \n",
    "    \n",
    "    for slur in matches:\n",
    "        \n",
    "        for token in tweet.split(' '):\n",
    "            \n",
    "            \"\"\"\n",
    "            Can add memoization here\n",
    "            \n",
    "            -Check if the distance b/w token and match is already calculated\n",
    "            \"\"\"\n",
    "            \n",
    "            if (token,slur) not in token_slur_dict:\n",
    "                \n",
    "                dis = lev.distance(token,slur)\n",
    "                            \n",
    "                token_slur_dict[(token,slur)] = dis\n",
    "            \n",
    "                if dis in dis_dict:\n",
    "                    dis_dict[dis].append((token,slur))\n",
    "            \n",
    "                else:\n",
    "                    dis_dict[dis] = [(token,slur)]\n",
    "            \n",
    "    \n",
    "    dist_sort = dict(sorted(dis_dict.items()))\n",
    "   \n",
    "    \n",
    "    for dist,match in dist_sort.items():\n",
    "        \n",
    "        print(dist,match)\n",
    "        loop_break = 0\n",
    "        \n",
    "        for token,slur in match:\n",
    "            \n",
    "            #does it work for hin and tamil?\n",
    "            if token:\n",
    "                \n",
    "#                 simi_score = fuzz.partial_ratio(slur,token)\n",
    "#                 if token == 'SiCKular':\n",
    "#                     print(f'slur,token : {slur} {token}')\n",
    "#                     print(simi_score)\n",
    "\n",
    "\n",
    "                if (slur[0].lower() == token[0].lower()) and (match_dict[slur] >= threshold_score) and (token.lower() not in ['muslim','muslims']):\n",
    "                    \n",
    "                    print(f'slur,token : {slur} {token}')\n",
    "                    #print(fuzz.partial_ratio(slur,token))\n",
    "                    tweet = tweet.replace(token,'<replace>')\n",
    "                    \n",
    "                    # to iterate all the matches in that dict\n",
    "                    loop_break = 1\n",
    "                    \n",
    "        if loop_break:\n",
    "            break\n",
    "                \n",
    "    return tweet"
   ]
  },
  {
   "cell_type": "code",
   "execution_count": 146,
   "metadata": {},
   "outputs": [
    {
     "name": "stdout",
     "output_type": "stream",
     "text": [
      "time: 2.64 ms (started: 2022-02-10 12:47:25 +05:30)\n"
     ]
    }
   ],
   "source": [
    "def replace_slurs_score_v5(tweet,slurs_list,threshold_score):\n",
    "    \n",
    "    print(f'original tweet : {tweet}')\n",
    "    check = 0\n",
    "     \n",
    "    #print(process.extract(tweet,slurs_list,limit = 10,scorer=fuzz.partial_ratio))\n",
    "    \n",
    "    match_dict = dict(process.extract(tweet,slurs_list,limit = 10,scorer=fuzz.partial_ratio))\n",
    "    \n",
    "    print(match_dict)\n",
    "    matches = match_dict.keys()\n",
    "    \n",
    "    # to compare the distance of top 10 matching slurs to find the right matching\n",
    "    dis_dict = {}\n",
    "    token_slur_dict = {}\n",
    "    \n",
    "    \n",
    "    for slur in matches:\n",
    "        \n",
    "        for token in tweet.split(' '):\n",
    "            \n",
    "            \"\"\"\n",
    "            Can add memoization here\n",
    "            \n",
    "            -Check if the distance b/w token and match is already calculated\n",
    "            \"\"\"\n",
    "            \n",
    "            if (token,slur) not in token_slur_dict:\n",
    "                \n",
    "                dis = lev.distance(token,slur)\n",
    "                            \n",
    "                token_slur_dict[(token,slur)] = dis\n",
    "            \n",
    "                if dis in dis_dict:\n",
    "                    dis_dict[dis].append((token,slur))\n",
    "            \n",
    "                else:\n",
    "                    dis_dict[dis] = [(token,slur)]\n",
    "            \n",
    "    \n",
    "    dist_sort = dict(sorted(dis_dict.items()))\n",
    "   \n",
    "    \n",
    "    for dist,match in dist_sort.items():\n",
    "        \n",
    "        print(dist,match)\n",
    "        loop_break = 0\n",
    "        \n",
    "        for token,slur in match:\n",
    "            \n",
    "            #does it work for hin and tamil?\n",
    "            if token:\n",
    "                \n",
    "                simi_score = fuzz.partial_ratio(slur,token)\n",
    "                if token == 'SiCKular':\n",
    "                    print(f'slur,token : {slur} {token}')\n",
    "                    print(simi_score)\n",
    "                    \n",
    "                if (slur[0].lower() == token[0].lower()) and (match_dict[slur] >= threshold_score) and simi_score >= threshold_score and (token not in ['Muslim','muslim','Muslims','muslims']):\n",
    "                    \n",
    "                    print(f'slur,token : {slur} {token}')\n",
    "                    #print(fuzz.partial_ratio(slur,token))\n",
    "                    tweet = tweet.replace(token,'<replace>')\n",
    "                    \n",
    "                    # to iterate all the matches in that dict\n",
    "                    loop_break = 1\n",
    "                    \n",
    "        if loop_break:\n",
    "            break\n",
    "                \n",
    "    return tweet"
   ]
  },
  {
   "cell_type": "code",
   "execution_count": 114,
   "metadata": {},
   "outputs": [
    {
     "name": "stdout",
     "output_type": "stream",
     "text": [
      "{'sickular': 100, 'secular': 71, 'whore': 60, 'R@ndi': 60, 'Jersey cow': 60, 'anti national tukde': 53, '#SpeakUpMen': 50, 'Sanghans': 50, 'love jihad': 50, 'Rape': 50}\n",
      "distance : 3\n",
      "[(2, [('there', 'whore')]), (3, [('SiCKular', 'sickular'), ('her', 'whore'), ('a', 'Rape')]), (4, [('SiCKular', 'secular'), ('Oh', 'whore'), ('comes', 'whore'), ('Oh', 'Rape'), ('there', 'Rape'), ('comes', 'Rape'), ('her', 'Rape'), ('Expert', 'Rape'), ('', 'Rape')]), (5, [('her', 'secular'), ('a', 'whore'), ('Expert', 'whore'), ('', 'whore'), ('Oh', 'R@ndi'), ('there', 'R@ndi'), ('comes', 'R@ndi'), ('a', 'R@ndi'), ('her', 'R@ndi'), ('Asmani', 'R@ndi'), ('', 'R@ndi'), ('Asmani', 'Rape')]), (6, [('comes', 'secular'), ('a', 'secular'), ('Convert', 'whore'), ('giving', 'whore'), ('Asmani', 'whore'), ('Convert', 'R@ndi'), ('giving', 'R@ndi'), ('Expert', 'R@ndi'), ('opinion', 'R@ndi'), ('Asmani', 'Sanghans'), ('Convert', 'Rape'), ('giving', 'Rape')]), (7, [('comes', 'sickular'), ('a', 'sickular'), ('giving', 'sickular'), ('her', 'sickular'), ('Oh', 'secular'), ('there', 'secular'), ('Convert', 'secular'), ('giving', 'secular'), ('Expert', 'secular'), ('Asmani', 'secular'), ('opinion', 'secular'), ('', 'secular'), ('opinion', 'whore'), ('Oh', 'Sanghans'), ('there', 'Sanghans'), ('comes', 'Sanghans'), ('a', 'Sanghans'), ('SiCKular', 'Sanghans'), ('Convert', 'Sanghans'), ('giving', 'Sanghans'), ('her', 'Sanghans'), ('opinion', 'Sanghans'), ('opinion', 'Rape')]), (8, [('Oh', 'sickular'), ('there', 'sickular'), ('Convert', 'sickular'), ('Expert', 'sickular'), ('Asmani', 'sickular'), ('opinion', 'sickular'), ('', 'sickular'), ('SiCKular', 'whore'), ('SiCKular', 'R@ndi'), ('there', 'Jersey cow'), ('her', 'Jersey cow'), ('@suhasinih', 'Sanghans'), ('Expert', 'Sanghans'), ('', 'Sanghans'), ('#UrbanNaxals', 'Sanghans'), ('comes', 'love jihad'), ('Convert', 'love jihad'), ('giving', 'love jihad'), ('opinion', 'love jihad'), ('SiCKular', 'Rape')]), (9, [('@suhasinih', 'sickular'), ('@suhasinih', 'secular'), ('@suhasinih', 'whore'), ('@suhasinih', 'R@ndi'), ('comes', 'Jersey cow'), ('Convert', 'Jersey cow'), ('Expert', 'Jersey cow'), ('Asmani', 'Jersey cow'), ('opinion', 'Jersey cow'), ('there', '#SpeakUpMen'), ('Expert', '#SpeakUpMen'), ('opinion', '#SpeakUpMen'), ('@suhasinih', 'love jihad'), ('Oh', 'love jihad'), ('there', 'love jihad'), ('a', 'love jihad'), ('SiCKular', 'love jihad'), ('her', 'love jihad'), ('Expert', 'love jihad'), ('Asmani', 'love jihad'), ('@suhasinih', 'Rape')]), (10, [('@suhasinih', 'Jersey cow'), ('Oh', 'Jersey cow'), ('a', 'Jersey cow'), ('SiCKular', 'Jersey cow'), ('giving', 'Jersey cow'), ('', 'Jersey cow'), ('@suhasinih', '#SpeakUpMen'), ('comes', '#SpeakUpMen'), ('a', '#SpeakUpMen'), ('SiCKular', '#SpeakUpMen'), ('her', '#SpeakUpMen'), ('Asmani', '#SpeakUpMen'), ('#UrbanNaxals', '#SpeakUpMen'), ('', 'love jihad')]), (11, [('#UrbanNaxals', 'sickular'), ('#UrbanNaxals', 'secular'), ('#UrbanNaxals', 'R@ndi'), ('#UrbanNaxals', 'Jersey cow'), ('Oh', '#SpeakUpMen'), ('Convert', '#SpeakUpMen'), ('giving', '#SpeakUpMen'), ('', '#SpeakUpMen'), ('#UrbanNaxals', 'love jihad'), ('#UrbanNaxals', 'Rape')]), (12, [('#UrbanNaxals', 'whore')]), (14, [('opinion', 'anti national tukde')]), (15, [('#CongressMuktBharat', 'sickular'), ('#CongressMuktBharat', 'secular'), ('#CongressMuktBharat', 'Sanghans'), ('#CongressMuktBharat', 'love jihad')]), (16, [('#CongressMuktBharat', 'whore'), ('@suhasinih', 'anti national tukde'), ('Convert', 'anti national tukde'), ('giving', 'anti national tukde'), ('#UrbanNaxals', 'anti national tukde'), ('#CongressMuktBharat', '#SpeakUpMen')]), (17, [('#CongressMuktBharat', 'Jersey cow'), ('there', 'anti national tukde'), ('SiCKular', 'anti national tukde'), ('Asmani', 'anti national tukde')]), (18, [('#CongressMuktBharat', 'R@ndi'), ('comes', 'anti national tukde'), ('a', 'anti national tukde'), ('Expert', 'anti national tukde'), ('#CongressMuktBharat', 'Rape')]), (19, [('Oh', 'anti national tukde'), ('her', 'anti national tukde'), ('', 'anti national tukde'), ('#CongressMuktBharat', 'anti national tukde')])]\n"
     ]
    },
    {
     "data": {
      "text/plain": [
       "'@suhasinih Oh there comes a SiCKular Convert giving her Expert Asmani opinion  #UrbanNaxals  #CongressMuktBharat'"
      ]
     },
     "execution_count": 114,
     "metadata": {},
     "output_type": "execute_result"
    },
    {
     "name": "stdout",
     "output_type": "stream",
     "text": [
      "time: 17.8 ms (started: 2022-02-10 12:26:43 +05:30)\n"
     ]
    }
   ],
   "source": [
    "replace_slurs_score_v4(tweet,slurs_list_updated,70)"
   ]
  },
  {
   "cell_type": "code",
   "execution_count": 115,
   "metadata": {},
   "outputs": [
    {
     "name": "stdout",
     "output_type": "stream",
     "text": [
      "original tweet : @suhasinih Oh there comes a SiCKular Convert giving her Expert Asmani opinion  #UrbanNaxals  #CongressMuktBharat\n",
      "{'sickular': 100, 'secular': 71, 'whore': 60, 'R@ndi': 60, 'Jersey cow': 60, 'anti national tukde': 53, '#SpeakUpMen': 50, 'Sanghans': 50, 'love jihad': 50, 'Rape': 50}\n",
      "2 [('there', 'whore')]\n",
      "3 [('SiCKular', 'sickular'), ('her', 'whore'), ('a', 'Rape')]\n",
      "4 [('SiCKular', 'secular'), ('Oh', 'whore'), ('comes', 'whore'), ('Oh', 'Rape'), ('there', 'Rape'), ('comes', 'Rape'), ('her', 'Rape'), ('Expert', 'Rape'), ('', 'Rape')]\n",
      "5 [('her', 'secular'), ('a', 'whore'), ('Expert', 'whore'), ('', 'whore'), ('Oh', 'R@ndi'), ('there', 'R@ndi'), ('comes', 'R@ndi'), ('a', 'R@ndi'), ('her', 'R@ndi'), ('Asmani', 'R@ndi'), ('', 'R@ndi'), ('Asmani', 'Rape')]\n",
      "6 [('comes', 'secular'), ('a', 'secular'), ('Convert', 'whore'), ('giving', 'whore'), ('Asmani', 'whore'), ('Convert', 'R@ndi'), ('giving', 'R@ndi'), ('Expert', 'R@ndi'), ('opinion', 'R@ndi'), ('Asmani', 'Sanghans'), ('Convert', 'Rape'), ('giving', 'Rape')]\n",
      "7 [('comes', 'sickular'), ('a', 'sickular'), ('giving', 'sickular'), ('her', 'sickular'), ('Oh', 'secular'), ('there', 'secular'), ('Convert', 'secular'), ('giving', 'secular'), ('Expert', 'secular'), ('Asmani', 'secular'), ('opinion', 'secular'), ('', 'secular'), ('opinion', 'whore'), ('Oh', 'Sanghans'), ('there', 'Sanghans'), ('comes', 'Sanghans'), ('a', 'Sanghans'), ('SiCKular', 'Sanghans'), ('Convert', 'Sanghans'), ('giving', 'Sanghans'), ('her', 'Sanghans'), ('opinion', 'Sanghans'), ('opinion', 'Rape')]\n",
      "8 [('Oh', 'sickular'), ('there', 'sickular'), ('Convert', 'sickular'), ('Expert', 'sickular'), ('Asmani', 'sickular'), ('opinion', 'sickular'), ('', 'sickular'), ('SiCKular', 'whore'), ('SiCKular', 'R@ndi'), ('there', 'Jersey cow'), ('her', 'Jersey cow'), ('@suhasinih', 'Sanghans'), ('Expert', 'Sanghans'), ('', 'Sanghans'), ('#UrbanNaxals', 'Sanghans'), ('comes', 'love jihad'), ('Convert', 'love jihad'), ('giving', 'love jihad'), ('opinion', 'love jihad'), ('SiCKular', 'Rape')]\n",
      "9 [('@suhasinih', 'sickular'), ('@suhasinih', 'secular'), ('@suhasinih', 'whore'), ('@suhasinih', 'R@ndi'), ('comes', 'Jersey cow'), ('Convert', 'Jersey cow'), ('Expert', 'Jersey cow'), ('Asmani', 'Jersey cow'), ('opinion', 'Jersey cow'), ('there', '#SpeakUpMen'), ('Expert', '#SpeakUpMen'), ('opinion', '#SpeakUpMen'), ('@suhasinih', 'love jihad'), ('Oh', 'love jihad'), ('there', 'love jihad'), ('a', 'love jihad'), ('SiCKular', 'love jihad'), ('her', 'love jihad'), ('Expert', 'love jihad'), ('Asmani', 'love jihad'), ('@suhasinih', 'Rape')]\n",
      "10 [('@suhasinih', 'Jersey cow'), ('Oh', 'Jersey cow'), ('a', 'Jersey cow'), ('SiCKular', 'Jersey cow'), ('giving', 'Jersey cow'), ('', 'Jersey cow'), ('@suhasinih', '#SpeakUpMen'), ('comes', '#SpeakUpMen'), ('a', '#SpeakUpMen'), ('SiCKular', '#SpeakUpMen'), ('her', '#SpeakUpMen'), ('Asmani', '#SpeakUpMen'), ('#UrbanNaxals', '#SpeakUpMen'), ('', 'love jihad')]\n",
      "11 [('#UrbanNaxals', 'sickular'), ('#UrbanNaxals', 'secular'), ('#UrbanNaxals', 'R@ndi'), ('#UrbanNaxals', 'Jersey cow'), ('Oh', '#SpeakUpMen'), ('Convert', '#SpeakUpMen'), ('giving', '#SpeakUpMen'), ('', '#SpeakUpMen'), ('#UrbanNaxals', 'love jihad'), ('#UrbanNaxals', 'Rape')]\n",
      "12 [('#UrbanNaxals', 'whore')]\n",
      "14 [('opinion', 'anti national tukde')]\n",
      "15 [('#CongressMuktBharat', 'sickular'), ('#CongressMuktBharat', 'secular'), ('#CongressMuktBharat', 'Sanghans'), ('#CongressMuktBharat', 'love jihad')]\n",
      "16 [('#CongressMuktBharat', 'whore'), ('@suhasinih', 'anti national tukde'), ('Convert', 'anti national tukde'), ('giving', 'anti national tukde'), ('#UrbanNaxals', 'anti national tukde'), ('#CongressMuktBharat', '#SpeakUpMen')]\n",
      "17 [('#CongressMuktBharat', 'Jersey cow'), ('there', 'anti national tukde'), ('SiCKular', 'anti national tukde'), ('Asmani', 'anti national tukde')]\n",
      "18 [('#CongressMuktBharat', 'R@ndi'), ('comes', 'anti national tukde'), ('a', 'anti national tukde'), ('Expert', 'anti national tukde'), ('#CongressMuktBharat', 'Rape')]\n",
      "19 [('Oh', 'anti national tukde'), ('her', 'anti national tukde'), ('', 'anti national tukde'), ('#CongressMuktBharat', 'anti national tukde')]\n"
     ]
    },
    {
     "data": {
      "text/plain": [
       "'@suhasinih Oh there comes a SiCKular Convert giving her Expert Asmani opinion  #UrbanNaxals  #CongressMuktBharat'"
      ]
     },
     "execution_count": 115,
     "metadata": {},
     "output_type": "execute_result"
    },
    {
     "name": "stdout",
     "output_type": "stream",
     "text": [
      "time: 20.1 ms (started: 2022-02-10 12:26:43 +05:30)\n"
     ]
    }
   ],
   "source": [
    "replace_slurs_score_v5(tweet,slurs_list_updated,70)"
   ]
  },
  {
   "cell_type": "code",
   "execution_count": 116,
   "metadata": {},
   "outputs": [
    {
     "name": "stdout",
     "output_type": "stream",
     "text": [
      "original tweet : @suhasinih Oh there comes a SiCKular Convert giving her Expert Asmani opinion  #UrbanNaxals  #CongressMuktBharat\n",
      "{'sickular': 100, 'secular': 71, 'whore': 60, 'R@ndi': 60, 'Jersey cow': 60, 'anti national tukde': 53, '#SpeakUpMen': 50, 'Sanghans': 50, 'love jihad': 50, 'Rape': 50}\n",
      "2 [('there', 'whore')]\n",
      "3 [('SiCKular', 'sickular'), ('her', 'whore'), ('a', 'Rape')]\n",
      "slur,token : sickular SiCKular\n"
     ]
    },
    {
     "data": {
      "text/plain": [
       "'@suhasinih Oh there comes a <replace> Convert giving her Expert Asmani opinion  #UrbanNaxals  #CongressMuktBharat'"
      ]
     },
     "execution_count": 116,
     "metadata": {},
     "output_type": "execute_result"
    },
    {
     "name": "stdout",
     "output_type": "stream",
     "text": [
      "time: 15 ms (started: 2022-02-10 12:26:44 +05:30)\n"
     ]
    }
   ],
   "source": [
    "replace_slurs_score_v5(tweet,slurs_list_updated,20)"
   ]
  },
  {
   "cell_type": "code",
   "execution_count": 149,
   "metadata": {},
   "outputs": [
    {
     "data": {
      "text/plain": [
       "'@suhasinih Oh there comes a SiCKular Convert giving her Expert Asmani opinion  #UrbanNaxals  #CongressMuktBharat'"
      ]
     },
     "execution_count": 149,
     "metadata": {},
     "output_type": "execute_result"
    },
    {
     "name": "stdout",
     "output_type": "stream",
     "text": [
      "time: 4.41 ms (started: 2022-02-10 12:48:05 +05:30)\n"
     ]
    }
   ],
   "source": [
    "tweet"
   ]
  },
  {
   "cell_type": "code",
   "execution_count": 151,
   "metadata": {},
   "outputs": [
    {
     "name": "stdout",
     "output_type": "stream",
     "text": [
      "original tweet : @suhasinih Oh there comes a SiCKular Convert giving her Expert Asmani opinion  #UrbanNaxals  #CongressMuktBharat\n",
      "{'sickular': 100, 'secular': 71, 'whore': 60, 'R@ndi': 60, 'Jersey cow': 60, 'anti national tukde': 53, '#SpeakUpMen': 50, 'Sanghans': 50, 'love jihad': 50, 'Rape': 50}\n",
      "2 [('there', 'whore')]\n",
      "3 [('SiCKular', 'sickular'), ('her', 'whore'), ('a', 'Rape')]\n",
      "slur,token : sickular SiCKular\n",
      "62\n",
      "slur,token : sickular SiCKular\n"
     ]
    },
    {
     "data": {
      "text/plain": [
       "'@suhasinih Oh there comes a <replace> Convert giving her Expert Asmani opinion  #UrbanNaxals  #CongressMuktBharat'"
      ]
     },
     "execution_count": 151,
     "metadata": {},
     "output_type": "execute_result"
    },
    {
     "name": "stdout",
     "output_type": "stream",
     "text": [
      "time: 15 ms (started: 2022-02-10 12:48:33 +05:30)\n"
     ]
    }
   ],
   "source": [
    "replace_slurs_score_v5(tweet,slurs_list_updated,60)"
   ]
  },
  {
   "cell_type": "code",
   "execution_count": 117,
   "metadata": {},
   "outputs": [
    {
     "name": "stdout",
     "output_type": "stream",
     "text": [
      "original tweet : @suhasinih Oh there comes a SiCKular Convert giving her Expert Asmani opinion  #UrbanNaxals  #CongressMuktBharat\n",
      "{'sickular': 100, 'secular': 71, 'whore': 60, 'R@ndi': 60, 'Jersey cow': 60, 'anti national tukde': 53, '#SpeakUpMen': 50, 'Sanghans': 50, 'love jihad': 50, 'Rape': 50}\n",
      "token,slur : SiCKular sickular\n",
      "62\n",
      "token,slur : SiCKular secular\n",
      "53\n"
     ]
    },
    {
     "data": {
      "text/plain": [
       "'@suhasinih Oh there comes a <replace> Convert giving her Expert Asmani opinion  #UrbanNaxals  #CongressMuktBharat'"
      ]
     },
     "execution_count": 117,
     "metadata": {},
     "output_type": "execute_result"
    },
    {
     "name": "stdout",
     "output_type": "stream",
     "text": [
      "time: 22.7 ms (started: 2022-02-10 12:26:44 +05:30)\n"
     ]
    }
   ],
   "source": [
    "replace_slurs_score_v6(tweet,slurs_list_updated,50)"
   ]
  },
  {
   "cell_type": "markdown",
   "metadata": {},
   "source": [
    "#### Corrections"
   ]
  },
  {
   "cell_type": "code",
   "execution_count": 118,
   "metadata": {},
   "outputs": [
    {
     "name": "stdout",
     "output_type": "stream",
     "text": [
      "time: 571 µs (started: 2022-02-10 12:26:46 +05:30)\n"
     ]
    }
   ],
   "source": [
    "tweet = \"@madhukishwar Yes....it looks so, he's creating all the recipe &amp; cooking up all that needed for separatism, I'm sure creating minipapisatan is not possible.but it definitely a cocktail for massacre of Hindus in the name ....\""
   ]
  },
  {
   "cell_type": "code",
   "execution_count": 119,
   "metadata": {},
   "outputs": [
    {
     "name": "stdout",
     "output_type": "stream",
     "text": [
      "original tweet : @madhukishwar Yes....it looks so, he's creating all the recipe &amp; cooking up all that needed for separatism, I'm sure creating minipapisatan is not possible.but it definitely a cocktail for massacre of Hindus in the name ....\n",
      "{'R@pe': 75, 'pseudohindus': 67, '#pseudohindus': 67, 'Feminazi': 62, '#Dowry': 60, 'Gasti': 60, 'dull-it': 57, 'काला टेंट': 56, 'मोटी भैंस': 56, '#reservation': 55}\n",
      "3 [('the', 'R@pe'), ('up', 'R@pe'), ('sure', 'R@pe'), ('name', 'R@pe')]\n",
      "4 [('so,', 'R@pe'), (\"he's\", 'R@pe'), ('all', 'R@pe'), ('recipe', 'R@pe'), ('&amp;', 'R@pe'), ('that', 'R@pe'), ('for', 'R@pe'), (\"I'm\", 'R@pe'), ('is', 'R@pe'), ('not', 'R@pe'), ('it', 'R@pe'), ('a', 'R@pe'), ('of', 'R@pe'), ('in', 'R@pe'), ('....', 'R@pe'), ('for', '#Dowry'), ('so,', 'Gasti'), ('all', 'Gasti'), ('&amp;', 'Gasti'), ('that', 'Gasti'), ('is', 'Gasti'), ('not', 'Gasti'), ('it', 'Gasti'), ('a', 'Gasti'), ('name', 'Gasti')]\n",
      "5 [('looks', 'R@pe'), ('needed', 'R@pe'), ('looks', '#Dowry'), ('so,', '#Dowry'), ('sure', '#Dowry'), ('not', '#Dowry'), ('of', '#Dowry'), ('looks', 'Gasti'), (\"he's\", 'Gasti'), ('the', 'Gasti'), ('up', 'Gasti'), ('for', 'Gasti'), (\"I'm\", 'Gasti'), ('sure', 'Gasti'), ('of', 'Gasti'), ('in', 'Gasti'), ('....', 'Gasti'), ('all', 'dull-it'), ('it', 'dull-it')]\n",
      "6 [('Hindus', 'R@pe'), ('recipe', 'Feminazi'), ('Hindus', 'Feminazi'), ('in', 'Feminazi'), ('name', 'Feminazi'), (\"he's\", '#Dowry'), ('all', '#Dowry'), ('the', '#Dowry'), ('recipe', '#Dowry'), ('&amp;', '#Dowry'), ('cooking', '#Dowry'), ('up', '#Dowry'), ('that', '#Dowry'), ('needed', '#Dowry'), (\"I'm\", '#Dowry'), ('is', '#Dowry'), ('it', '#Dowry'), ('a', '#Dowry'), ('Hindus', '#Dowry'), ('in', '#Dowry'), ('name', '#Dowry'), ('....', '#Dowry'), ('creating', 'Gasti'), ('recipe', 'Gasti'), ('cooking', 'Gasti'), ('needed', 'Gasti'), ('cocktail', 'Gasti'), ('massacre', 'Gasti'), ('Hindus', 'Gasti'), ('looks', 'dull-it'), ('up', 'dull-it'), ('that', 'dull-it'), ('sure', 'dull-it'), ('is', 'dull-it'), ('not', 'dull-it'), ('in', 'dull-it')]\n",
      "7 [('cooking', 'R@pe'), ('massacre', 'R@pe'), ('Hindus', 'pseudohindus'), ('Yes....it', 'Feminazi'), (\"he's\", 'Feminazi'), ('creating', 'Feminazi'), ('all', 'Feminazi'), ('&amp;', 'Feminazi'), ('cooking', 'Feminazi'), ('that', 'Feminazi'), ('needed', 'Feminazi'), (\"I'm\", 'Feminazi'), ('is', 'Feminazi'), ('not', 'Feminazi'), ('it', 'Feminazi'), ('definitely', 'Feminazi'), ('a', 'Feminazi'), ('cocktail', 'Feminazi'), ('massacre', '#Dowry'), ('Yes....it', 'Gasti'), ('Yes....it', 'dull-it'), ('so,', 'dull-it'), (\"he's\", 'dull-it'), ('creating', 'dull-it'), ('the', 'dull-it'), ('recipe', 'dull-it'), ('&amp;', 'dull-it'), ('cooking', 'dull-it'), ('needed', 'dull-it'), ('for', 'dull-it'), (\"I'm\", 'dull-it'), ('definitely', 'dull-it'), ('a', 'dull-it'), ('cocktail', 'dull-it'), ('of', 'dull-it'), ('Hindus', 'dull-it'), ('name', 'dull-it'), ('....', 'dull-it'), ('creating', '#reservation')]\n",
      "8 [('creating', 'R@pe'), ('cocktail', 'R@pe'), ('Hindus', '#pseudohindus'), ('looks', 'Feminazi'), ('so,', 'Feminazi'), ('the', 'Feminazi'), ('up', 'Feminazi'), ('for', 'Feminazi'), ('separatism,', 'Feminazi'), ('sure', 'Feminazi'), ('massacre', 'Feminazi'), ('of', 'Feminazi'), ('....', 'Feminazi'), ('creating', '#Dowry'), ('cocktail', '#Dowry'), ('separatism,', 'Gasti'), ('massacre', 'dull-it'), ('separatism,', '#reservation')]\n",
      "9 [('Yes....it', 'R@pe'), ('definitely', 'R@pe'), ('creating', 'pseudohindus'), ('cooking', 'pseudohindus'), ('needed', 'pseudohindus'), ('Yes....it', '#Dowry'), ('definitely', '#Dowry'), ('definitely', 'Gasti'), ('Yes....it', 'काला टेंट'), ('looks', 'काला टेंट'), ('so,', 'काला टेंट'), (\"he's\", 'काला टेंट'), ('creating', 'काला टेंट'), ('all', 'काला टेंट'), ('the', 'काला टेंट'), ('recipe', 'काला टेंट'), ('&amp;', 'काला टेंट'), ('cooking', 'काला टेंट'), ('up', 'काला टेंट'), ('that', 'काला टेंट'), ('needed', 'काला टेंट'), ('for', 'काला टेंट'), (\"I'm\", 'काला टेंट'), ('sure', 'काला टेंट'), ('is', 'काला टेंट'), ('not', 'काला टेंट'), ('it', 'काला टेंट'), ('a', 'काला टेंट'), ('cocktail', 'काला टेंट'), ('massacre', 'काला टेंट'), ('of', 'काला टेंट'), ('Hindus', 'काला टेंट'), ('in', 'काला टेंट'), ('name', 'काला टेंट'), ('....', 'काला टेंट'), ('Yes....it', 'मोटी भैंस'), ('looks', 'मोटी भैंस'), ('so,', 'मोटी भैंस'), (\"he's\", 'मोटी भैंस'), ('creating', 'मोटी भैंस'), ('all', 'मोटी भैंस'), ('the', 'मोटी भैंस'), ('recipe', 'मोटी भैंस'), ('&amp;', 'मोटी भैंस'), ('cooking', 'मोटी भैंस'), ('up', 'मोटी भैंस'), ('that', 'मोटी भैंस'), ('needed', 'मोटी भैंस'), ('for', 'मोटी भैंस'), (\"I'm\", 'मोटी भैंस'), ('sure', 'मोटी भैंस'), ('is', 'मोटी भैंस'), ('not', 'मोटी भैंस'), ('it', 'मोटी भैंस'), ('a', 'मोटी भैंस'), ('cocktail', 'मोटी भैंस'), ('massacre', 'मोटी भैंस'), ('of', 'मोटी भैंस'), ('Hindus', 'मोटी भैंस'), ('in', 'मोटी भैंस'), ('name', 'मोटी भैंस'), ('....', 'मोटी भैंस'), ('Yes....it', '#reservation'), ('recipe', '#reservation')]\n",
      "10 [('separatism,', 'R@pe'), ('looks', 'pseudohindus'), ('so,', 'pseudohindus'), (\"he's\", 'pseudohindus'), ('recipe', 'pseudohindus'), ('separatism,', 'pseudohindus'), ('sure', 'pseudohindus'), ('is', 'pseudohindus'), ('possible.but', 'pseudohindus'), ('definitely', 'pseudohindus'), ('in', 'pseudohindus'), ('creating', '#pseudohindus'), ('cooking', '#pseudohindus'), ('needed', '#pseudohindus'), ('minipapisatan', 'Feminazi'), ('separatism,', '#Dowry'), ('minipapisatan', 'Gasti'), ('possible.but', 'Gasti'), ('separatism,', 'dull-it'), ('possible.but', 'dull-it'), ('definitely', 'काला टेंट'), ('definitely', 'मोटी भैंस'), ('so,', '#reservation'), ('that', '#reservation'), ('needed', '#reservation'), ('sure', '#reservation'), ('definitely', '#reservation'), ('cocktail', '#reservation'), ('massacre', '#reservation'), ('in', '#reservation')]\n",
      "11 [('possible.but', 'R@pe'), ('Yes....it', 'pseudohindus'), ('the', 'pseudohindus'), ('up', 'pseudohindus'), ('that', 'pseudohindus'), ('for', 'pseudohindus'), ('not', 'pseudohindus'), ('it', 'pseudohindus'), ('cocktail', 'pseudohindus'), ('of', 'pseudohindus'), ('name', 'pseudohindus'), ('Yes....it', '#pseudohindus'), ('looks', '#pseudohindus'), ('so,', '#pseudohindus'), (\"he's\", '#pseudohindus'), ('recipe', '#pseudohindus'), ('separatism,', '#pseudohindus'), ('sure', '#pseudohindus'), ('is', '#pseudohindus'), ('possible.but', '#pseudohindus'), ('definitely', '#pseudohindus'), ('in', '#pseudohindus'), ('possible.but', 'Feminazi'), ('@madhukishwar', 'Gasti'), ('@madhukishwar', 'dull-it'), ('minipapisatan', 'dull-it'), ('separatism,', 'काला टेंट'), ('separatism,', 'मोटी भैंस'), (\"he's\", '#reservation'), ('all', '#reservation'), ('the', '#reservation'), ('&amp;', '#reservation'), ('cooking', '#reservation'), ('for', '#reservation'), ('minipapisatan', '#reservation'), ('is', '#reservation'), ('not', '#reservation'), ('possible.but', '#reservation'), ('it', '#reservation'), ('a', '#reservation'), ('of', '#reservation'), ('name', '#reservation')]\n",
      "12 [('minipapisatan', 'R@pe'), ('@madhukishwar', 'pseudohindus'), ('all', 'pseudohindus'), ('&amp;', 'pseudohindus'), (\"I'm\", 'pseudohindus'), ('minipapisatan', 'pseudohindus'), ('a', 'pseudohindus'), ('massacre', 'pseudohindus'), ('....', 'pseudohindus'), ('the', '#pseudohindus'), ('up', '#pseudohindus'), ('that', '#pseudohindus'), ('for', '#pseudohindus'), ('not', '#pseudohindus'), ('it', '#pseudohindus'), ('cocktail', '#pseudohindus'), ('massacre', '#pseudohindus'), ('of', '#pseudohindus'), ('name', '#pseudohindus'), ('@madhukishwar', 'Feminazi'), ('@madhukishwar', '#Dowry'), ('possible.but', '#Dowry'), ('possible.but', 'काला टेंट'), ('possible.but', 'मोटी भैंस'), ('looks', '#reservation'), ('up', '#reservation'), (\"I'm\", '#reservation'), ('Hindus', '#reservation'), ('....', '#reservation')]\n",
      "13 [('@madhukishwar', 'R@pe'), ('@madhukishwar', '#pseudohindus'), ('all', '#pseudohindus'), ('&amp;', '#pseudohindus'), (\"I'm\", '#pseudohindus'), ('minipapisatan', '#pseudohindus'), ('a', '#pseudohindus'), ('....', '#pseudohindus'), ('minipapisatan', '#Dowry'), ('@madhukishwar', 'काला टेंट'), ('minipapisatan', 'काला टेंट'), ('@madhukishwar', 'मोटी भैंस'), ('minipapisatan', 'मोटी भैंस'), ('@madhukishwar', '#reservation')]\n"
     ]
    },
    {
     "data": {
      "text/plain": [
       "\"@madhukishwar Yes....it looks so, he's creating all the recipe &amp; cooking up all that needed for separatism, I'm sure creating minipapisatan is not possible.but it definitely a cocktail for massacre of Hindus in the name ....\""
      ]
     },
     "execution_count": 119,
     "metadata": {},
     "output_type": "execute_result"
    },
    {
     "name": "stdout",
     "output_type": "stream",
     "text": [
      "time: 18.7 ms (started: 2022-02-10 12:26:46 +05:30)\n"
     ]
    }
   ],
   "source": [
    "replace_slurs_score_v5(tweet,slurs_list_updated,70)"
   ]
  },
  {
   "cell_type": "code",
   "execution_count": 120,
   "metadata": {},
   "outputs": [
    {
     "name": "stdout",
     "output_type": "stream",
     "text": [
      "time: 316 µs (started: 2022-02-10 12:26:46 +05:30)\n"
     ]
    }
   ],
   "source": [
    "#replace_slurs_score_v6(tweet,slurs_list_updated,70)"
   ]
  },
  {
   "cell_type": "code",
   "execution_count": 121,
   "metadata": {},
   "outputs": [
    {
     "name": "stdout",
     "output_type": "stream",
     "text": [
      "{'R@pe': 75, 'pseudohindus': 67, '#pseudohindus': 67, 'Feminazi': 62, '#Dowry': 60, 'Gasti': 60, 'dull-it': 57, 'काला टेंट': 56, 'मोटी भैंस': 56, '#reservation': 55}\n",
      "[(3, [('the', 'R@pe'), ('up', 'R@pe'), ('sure', 'R@pe'), ('name', 'R@pe')]), (4, [('so,', 'R@pe'), (\"he's\", 'R@pe'), ('all', 'R@pe'), ('recipe', 'R@pe'), ('&amp;', 'R@pe'), ('that', 'R@pe'), ('for', 'R@pe'), (\"I'm\", 'R@pe'), ('is', 'R@pe'), ('not', 'R@pe'), ('it', 'R@pe'), ('a', 'R@pe'), ('of', 'R@pe'), ('in', 'R@pe'), ('....', 'R@pe'), ('for', '#Dowry'), ('so,', 'Gasti'), ('all', 'Gasti'), ('&amp;', 'Gasti'), ('that', 'Gasti'), ('is', 'Gasti'), ('not', 'Gasti'), ('it', 'Gasti'), ('a', 'Gasti'), ('name', 'Gasti')]), (5, [('looks', 'R@pe'), ('needed', 'R@pe'), ('looks', '#Dowry'), ('so,', '#Dowry'), ('sure', '#Dowry'), ('not', '#Dowry'), ('of', '#Dowry'), ('looks', 'Gasti'), (\"he's\", 'Gasti'), ('the', 'Gasti'), ('up', 'Gasti'), ('for', 'Gasti'), (\"I'm\", 'Gasti'), ('sure', 'Gasti'), ('of', 'Gasti'), ('in', 'Gasti'), ('....', 'Gasti'), ('all', 'dull-it'), ('it', 'dull-it')]), (6, [('Hindus', 'R@pe'), ('recipe', 'Feminazi'), ('Hindus', 'Feminazi'), ('in', 'Feminazi'), ('name', 'Feminazi'), (\"he's\", '#Dowry'), ('all', '#Dowry'), ('the', '#Dowry'), ('recipe', '#Dowry'), ('&amp;', '#Dowry'), ('cooking', '#Dowry'), ('up', '#Dowry'), ('that', '#Dowry'), ('needed', '#Dowry'), (\"I'm\", '#Dowry'), ('is', '#Dowry'), ('it', '#Dowry'), ('a', '#Dowry'), ('Hindus', '#Dowry'), ('in', '#Dowry'), ('name', '#Dowry'), ('....', '#Dowry'), ('creating', 'Gasti'), ('recipe', 'Gasti'), ('cooking', 'Gasti'), ('needed', 'Gasti'), ('cocktail', 'Gasti'), ('massacre', 'Gasti'), ('Hindus', 'Gasti'), ('looks', 'dull-it'), ('up', 'dull-it'), ('that', 'dull-it'), ('sure', 'dull-it'), ('is', 'dull-it'), ('not', 'dull-it'), ('in', 'dull-it')]), (7, [('cooking', 'R@pe'), ('massacre', 'R@pe'), ('Hindus', 'pseudohindus'), ('Yes....it', 'Feminazi'), (\"he's\", 'Feminazi'), ('creating', 'Feminazi'), ('all', 'Feminazi'), ('&amp;', 'Feminazi'), ('cooking', 'Feminazi'), ('that', 'Feminazi'), ('needed', 'Feminazi'), (\"I'm\", 'Feminazi'), ('is', 'Feminazi'), ('not', 'Feminazi'), ('it', 'Feminazi'), ('definitely', 'Feminazi'), ('a', 'Feminazi'), ('cocktail', 'Feminazi'), ('massacre', '#Dowry'), ('Yes....it', 'Gasti'), ('Yes....it', 'dull-it'), ('so,', 'dull-it'), (\"he's\", 'dull-it'), ('creating', 'dull-it'), ('the', 'dull-it'), ('recipe', 'dull-it'), ('&amp;', 'dull-it'), ('cooking', 'dull-it'), ('needed', 'dull-it'), ('for', 'dull-it'), (\"I'm\", 'dull-it'), ('definitely', 'dull-it'), ('a', 'dull-it'), ('cocktail', 'dull-it'), ('of', 'dull-it'), ('Hindus', 'dull-it'), ('name', 'dull-it'), ('....', 'dull-it'), ('creating', '#reservation')]), (8, [('creating', 'R@pe'), ('cocktail', 'R@pe'), ('Hindus', '#pseudohindus'), ('looks', 'Feminazi'), ('so,', 'Feminazi'), ('the', 'Feminazi'), ('up', 'Feminazi'), ('for', 'Feminazi'), ('separatism,', 'Feminazi'), ('sure', 'Feminazi'), ('massacre', 'Feminazi'), ('of', 'Feminazi'), ('....', 'Feminazi'), ('creating', '#Dowry'), ('cocktail', '#Dowry'), ('separatism,', 'Gasti'), ('massacre', 'dull-it'), ('separatism,', '#reservation')]), (9, [('Yes....it', 'R@pe'), ('definitely', 'R@pe'), ('creating', 'pseudohindus'), ('cooking', 'pseudohindus'), ('needed', 'pseudohindus'), ('Yes....it', '#Dowry'), ('definitely', '#Dowry'), ('definitely', 'Gasti'), ('Yes....it', 'काला टेंट'), ('looks', 'काला टेंट'), ('so,', 'काला टेंट'), (\"he's\", 'काला टेंट'), ('creating', 'काला टेंट'), ('all', 'काला टेंट'), ('the', 'काला टेंट'), ('recipe', 'काला टेंट'), ('&amp;', 'काला टेंट'), ('cooking', 'काला टेंट'), ('up', 'काला टेंट'), ('that', 'काला टेंट'), ('needed', 'काला टेंट'), ('for', 'काला टेंट'), (\"I'm\", 'काला टेंट'), ('sure', 'काला टेंट'), ('is', 'काला टेंट'), ('not', 'काला टेंट'), ('it', 'काला टेंट'), ('a', 'काला टेंट'), ('cocktail', 'काला टेंट'), ('massacre', 'काला टेंट'), ('of', 'काला टेंट'), ('Hindus', 'काला टेंट'), ('in', 'काला टेंट'), ('name', 'काला टेंट'), ('....', 'काला टेंट'), ('Yes....it', 'मोटी भैंस'), ('looks', 'मोटी भैंस'), ('so,', 'मोटी भैंस'), (\"he's\", 'मोटी भैंस'), ('creating', 'मोटी भैंस'), ('all', 'मोटी भैंस'), ('the', 'मोटी भैंस'), ('recipe', 'मोटी भैंस'), ('&amp;', 'मोटी भैंस'), ('cooking', 'मोटी भैंस'), ('up', 'मोटी भैंस'), ('that', 'मोटी भैंस'), ('needed', 'मोटी भैंस'), ('for', 'मोटी भैंस'), (\"I'm\", 'मोटी भैंस'), ('sure', 'मोटी भैंस'), ('is', 'मोटी भैंस'), ('not', 'मोटी भैंस'), ('it', 'मोटी भैंस'), ('a', 'मोटी भैंस'), ('cocktail', 'मोटी भैंस'), ('massacre', 'मोटी भैंस'), ('of', 'मोटी भैंस'), ('Hindus', 'मोटी भैंस'), ('in', 'मोटी भैंस'), ('name', 'मोटी भैंस'), ('....', 'मोटी भैंस'), ('Yes....it', '#reservation'), ('recipe', '#reservation')]), (10, [('separatism,', 'R@pe'), ('looks', 'pseudohindus'), ('so,', 'pseudohindus'), (\"he's\", 'pseudohindus'), ('recipe', 'pseudohindus'), ('separatism,', 'pseudohindus'), ('sure', 'pseudohindus'), ('is', 'pseudohindus'), ('possible.but', 'pseudohindus'), ('definitely', 'pseudohindus'), ('in', 'pseudohindus'), ('creating', '#pseudohindus'), ('cooking', '#pseudohindus'), ('needed', '#pseudohindus'), ('minipapisatan', 'Feminazi'), ('separatism,', '#Dowry'), ('minipapisatan', 'Gasti'), ('possible.but', 'Gasti'), ('separatism,', 'dull-it'), ('possible.but', 'dull-it'), ('definitely', 'काला टेंट'), ('definitely', 'मोटी भैंस'), ('so,', '#reservation'), ('that', '#reservation'), ('needed', '#reservation'), ('sure', '#reservation'), ('definitely', '#reservation'), ('cocktail', '#reservation'), ('massacre', '#reservation'), ('in', '#reservation')]), (11, [('possible.but', 'R@pe'), ('Yes....it', 'pseudohindus'), ('the', 'pseudohindus'), ('up', 'pseudohindus'), ('that', 'pseudohindus'), ('for', 'pseudohindus'), ('not', 'pseudohindus'), ('it', 'pseudohindus'), ('cocktail', 'pseudohindus'), ('of', 'pseudohindus'), ('name', 'pseudohindus'), ('Yes....it', '#pseudohindus'), ('looks', '#pseudohindus'), ('so,', '#pseudohindus'), (\"he's\", '#pseudohindus'), ('recipe', '#pseudohindus'), ('separatism,', '#pseudohindus'), ('sure', '#pseudohindus'), ('is', '#pseudohindus'), ('possible.but', '#pseudohindus'), ('definitely', '#pseudohindus'), ('in', '#pseudohindus'), ('possible.but', 'Feminazi'), ('@madhukishwar', 'Gasti'), ('@madhukishwar', 'dull-it'), ('minipapisatan', 'dull-it'), ('separatism,', 'काला टेंट'), ('separatism,', 'मोटी भैंस'), (\"he's\", '#reservation'), ('all', '#reservation'), ('the', '#reservation'), ('&amp;', '#reservation'), ('cooking', '#reservation'), ('for', '#reservation'), ('minipapisatan', '#reservation'), ('is', '#reservation'), ('not', '#reservation'), ('possible.but', '#reservation'), ('it', '#reservation'), ('a', '#reservation'), ('of', '#reservation'), ('name', '#reservation')]), (12, [('minipapisatan', 'R@pe'), ('@madhukishwar', 'pseudohindus'), ('all', 'pseudohindus'), ('&amp;', 'pseudohindus'), (\"I'm\", 'pseudohindus'), ('minipapisatan', 'pseudohindus'), ('a', 'pseudohindus'), ('massacre', 'pseudohindus'), ('....', 'pseudohindus'), ('the', '#pseudohindus'), ('up', '#pseudohindus'), ('that', '#pseudohindus'), ('for', '#pseudohindus'), ('not', '#pseudohindus'), ('it', '#pseudohindus'), ('cocktail', '#pseudohindus'), ('massacre', '#pseudohindus'), ('of', '#pseudohindus'), ('name', '#pseudohindus'), ('@madhukishwar', 'Feminazi'), ('@madhukishwar', '#Dowry'), ('possible.but', '#Dowry'), ('possible.but', 'काला टेंट'), ('possible.but', 'मोटी भैंस'), ('looks', '#reservation'), ('up', '#reservation'), (\"I'm\", '#reservation'), ('Hindus', '#reservation'), ('....', '#reservation')]), (13, [('@madhukishwar', 'R@pe'), ('@madhukishwar', '#pseudohindus'), ('all', '#pseudohindus'), ('&amp;', '#pseudohindus'), (\"I'm\", '#pseudohindus'), ('minipapisatan', '#pseudohindus'), ('a', '#pseudohindus'), ('....', '#pseudohindus'), ('minipapisatan', '#Dowry'), ('@madhukishwar', 'काला टेंट'), ('minipapisatan', 'काला टेंट'), ('@madhukishwar', 'मोटी भैंस'), ('minipapisatan', 'मोटी भैंस'), ('@madhukishwar', '#reservation')])]\n"
     ]
    },
    {
     "data": {
      "text/plain": [
       "\"@madhukishwar Yes....it looks so, he's creating all <replace> recipe &amp; cooking <replace> all that needed for separatism, I'm <replace> creating minipapisatan is not possible.but it definitely a cocktail for massacre of Hindus in <replace> <replace> ....\""
      ]
     },
     "execution_count": 121,
     "metadata": {},
     "output_type": "execute_result"
    },
    {
     "name": "stdout",
     "output_type": "stream",
     "text": [
      "time: 15.9 ms (started: 2022-02-10 12:26:47 +05:30)\n"
     ]
    }
   ],
   "source": [
    "replace_slurs_score_v4(tweet,slurs_list_updated,70)"
   ]
  },
  {
   "cell_type": "code",
   "execution_count": 122,
   "metadata": {},
   "outputs": [
    {
     "name": "stdout",
     "output_type": "stream",
     "text": [
      "time: 543 µs (started: 2022-02-10 12:26:47 +05:30)\n"
     ]
    }
   ],
   "source": [
    "tweet = \"extremely biased &amp; disgusting mindset👇 ... Almost 100,000 ppl martyred on religious places till date including shia,sunni &amp; other religious groups while offering their religious rituals but they didn't say 👇 nor play sectarian card while these ppl only play shia victim card\""
   ]
  },
  {
   "cell_type": "code",
   "execution_count": 123,
   "metadata": {},
   "outputs": [
    {
     "name": "stdout",
     "output_type": "stream",
     "text": [
      "original tweet : extremely biased &amp; disgusting mindset👇 ... Almost 100,000 ppl martyred on religious places till date including shia,sunni &amp; other religious groups while offering their religious rituals but they didn't say 👇 nor play sectarian card while these ppl only play shia victim card\n",
      "{'Victim_card': 91, 'Gasti': 80, 'whore': 60, 'libtard': 57, '#FalseCases': 50, 'Sanghans': 50, 'nationalists': 50, 'faggot': 50, 'love jihad': 50, 'गांड': 50}\n",
      "2 [('while', 'whore')]\n",
      "3 [('date', 'Gasti'), ('nor', 'whore'), ('these', 'whore')]\n",
      "4 [('biased', 'Gasti'), ('&amp;', 'Gasti'), ('but', 'Gasti'), ('say', 'Gasti'), ('card', 'Gasti'), ('shia', 'Gasti'), ('victim', 'Gasti'), ('on', 'whore'), ('date', 'whore'), ('other', 'whore'), ('their', 'whore'), ('they', 'whore'), ('card', 'whore'), ('shia', 'whore'), ('card', 'libtard'), ('...', 'गांड'), ('ppl', 'गांड'), ('on', 'गांड'), ('till', 'गांड'), ('date', 'गांड'), ('but', 'गांड'), ('they', 'गांड'), ('say', 'गांड'), ('👇', 'गांड'), ('nor', 'गांड'), ('play', 'गांड'), ('card', 'गांड'), ('only', 'गांड'), ('shia', 'गांड')]\n",
      "5 [('...', 'Gasti'), ('Almost', 'Gasti'), ('ppl', 'Gasti'), ('on', 'Gasti'), ('places', 'Gasti'), ('till', 'Gasti'), ('other', 'Gasti'), ('while', 'Gasti'), ('their', 'Gasti'), ('they', 'Gasti'), ('👇', 'Gasti'), ('nor', 'Gasti'), ('play', 'Gasti'), ('these', 'Gasti'), ('only', 'Gasti'), ('biased', 'whore'), ('&amp;', 'whore'), ('...', 'whore'), ('Almost', 'whore'), ('ppl', 'whore'), ('places', 'whore'), ('till', 'whore'), ('groups', 'whore'), ('but', 'whore'), ('say', 'whore'), ('👇', 'whore'), ('play', 'whore'), ('only', 'whore'), ('biased', 'libtard'), ('martyred', 'libtard'), ('rituals', 'libtard'), ('victim', 'libtard'), ('&amp;', 'faggot'), ('Almost', 'faggot'), ('on', 'faggot'), ('date', 'faggot'), ('but', 'faggot'), (\"didn't\", 'faggot'), ('say', 'faggot'), ('nor', 'faggot'), ('card', 'faggot'), ('&amp;', 'गांड'), ('other', 'गांड'), ('while', 'गांड'), ('their', 'गांड'), ('these', 'गांड')]\n",
      "6 [('victim', 'Victim_card'), ('mindset👇', 'Gasti'), ('martyred', 'Gasti'), ('groups', 'Gasti'), (\"didn't\", 'Gasti'), ('martyred', 'whore'), (\"didn't\", 'whore'), ('victim', 'whore'), ('till', 'libtard'), ('date', 'libtard'), ('other', 'libtard'), ('their', 'libtard'), ('but', 'libtard'), ('they', 'libtard'), (\"didn't\", 'libtard'), ('say', 'libtard'), ('nor', 'libtard'), ('play', 'libtard'), ('sectarian', 'libtard'), ('shia', 'libtard'), ('rituals', 'Sanghans'), ('biased', 'faggot'), ('...', 'faggot'), ('ppl', 'faggot'), ('places', 'faggot'), ('till', 'faggot'), ('other', 'faggot'), ('groups', 'faggot'), ('while', 'faggot'), ('their', 'faggot'), ('they', 'faggot'), ('👇', 'faggot'), ('play', 'faggot'), ('these', 'faggot'), ('only', 'faggot'), ('shia', 'faggot'), ('victim', 'faggot'), ('biased', 'गांड'), ('Almost', 'गांड'), ('places', 'गांड'), ('groups', 'गांड'), (\"didn't\", 'गांड'), ('victim', 'गांड')]\n",
      "slur,token : Victim_card victim\n"
     ]
    },
    {
     "data": {
      "text/plain": [
       "\"extremely biased &amp; disgusting mindset👇 ... Almost 100,000 ppl martyred on religious places till date including shia,sunni &amp; other religious groups while offering their religious rituals but they didn't say 👇 nor play sectarian card while these ppl only play shia <replace> card\""
      ]
     },
     "execution_count": 123,
     "metadata": {},
     "output_type": "execute_result"
    },
    {
     "name": "stdout",
     "output_type": "stream",
     "text": [
      "time: 29.5 ms (started: 2022-02-10 12:26:48 +05:30)\n"
     ]
    }
   ],
   "source": [
    "replace_slurs_score_v5(tweet,slurs_list_updated,70)"
   ]
  },
  {
   "cell_type": "code",
   "execution_count": 124,
   "metadata": {},
   "outputs": [
    {
     "name": "stdout",
     "output_type": "stream",
     "text": [
      "original tweet : extremely biased &amp; disgusting mindset👇 ... Almost 100,000 ppl martyred on religious places till date including shia,sunni &amp; other religious groups while offering their religious rituals but they didn't say 👇 nor play sectarian card while these ppl only play shia victim card\n",
      "{'Victim_card': 91, 'Gasti': 80, 'whore': 60, 'libtard': 57, '#FalseCases': 50, 'Sanghans': 50, 'nationalists': 50, 'faggot': 50, 'love jihad': 50, 'गांड': 50}\n",
      "2 [('while', 'whore')]\n",
      "3 [('date', 'Gasti'), ('nor', 'whore'), ('these', 'whore')]\n",
      "4 [('biased', 'Gasti'), ('&amp;', 'Gasti'), ('but', 'Gasti'), ('say', 'Gasti'), ('card', 'Gasti'), ('shia', 'Gasti'), ('victim', 'Gasti'), ('on', 'whore'), ('date', 'whore'), ('other', 'whore'), ('their', 'whore'), ('they', 'whore'), ('card', 'whore'), ('shia', 'whore'), ('card', 'libtard'), ('...', 'गांड'), ('ppl', 'गांड'), ('on', 'गांड'), ('till', 'गांड'), ('date', 'गांड'), ('but', 'गांड'), ('they', 'गांड'), ('say', 'गांड'), ('👇', 'गांड'), ('nor', 'गांड'), ('play', 'गांड'), ('card', 'गांड'), ('only', 'गांड'), ('shia', 'गांड')]\n",
      "5 [('...', 'Gasti'), ('Almost', 'Gasti'), ('ppl', 'Gasti'), ('on', 'Gasti'), ('places', 'Gasti'), ('till', 'Gasti'), ('other', 'Gasti'), ('while', 'Gasti'), ('their', 'Gasti'), ('they', 'Gasti'), ('👇', 'Gasti'), ('nor', 'Gasti'), ('play', 'Gasti'), ('these', 'Gasti'), ('only', 'Gasti'), ('biased', 'whore'), ('&amp;', 'whore'), ('...', 'whore'), ('Almost', 'whore'), ('ppl', 'whore'), ('places', 'whore'), ('till', 'whore'), ('groups', 'whore'), ('but', 'whore'), ('say', 'whore'), ('👇', 'whore'), ('play', 'whore'), ('only', 'whore'), ('biased', 'libtard'), ('martyred', 'libtard'), ('rituals', 'libtard'), ('victim', 'libtard'), ('&amp;', 'faggot'), ('Almost', 'faggot'), ('on', 'faggot'), ('date', 'faggot'), ('but', 'faggot'), (\"didn't\", 'faggot'), ('say', 'faggot'), ('nor', 'faggot'), ('card', 'faggot'), ('&amp;', 'गांड'), ('other', 'गांड'), ('while', 'गांड'), ('their', 'गांड'), ('these', 'गांड')]\n",
      "6 [('victim', 'Victim_card'), ('mindset👇', 'Gasti'), ('martyred', 'Gasti'), ('groups', 'Gasti'), (\"didn't\", 'Gasti'), ('martyred', 'whore'), (\"didn't\", 'whore'), ('victim', 'whore'), ('till', 'libtard'), ('date', 'libtard'), ('other', 'libtard'), ('their', 'libtard'), ('but', 'libtard'), ('they', 'libtard'), (\"didn't\", 'libtard'), ('say', 'libtard'), ('nor', 'libtard'), ('play', 'libtard'), ('sectarian', 'libtard'), ('shia', 'libtard'), ('rituals', 'Sanghans'), ('biased', 'faggot'), ('...', 'faggot'), ('ppl', 'faggot'), ('places', 'faggot'), ('till', 'faggot'), ('other', 'faggot'), ('groups', 'faggot'), ('while', 'faggot'), ('their', 'faggot'), ('they', 'faggot'), ('👇', 'faggot'), ('play', 'faggot'), ('these', 'faggot'), ('only', 'faggot'), ('shia', 'faggot'), ('victim', 'faggot'), ('biased', 'गांड'), ('Almost', 'गांड'), ('places', 'गांड'), ('groups', 'गांड'), (\"didn't\", 'गांड'), ('victim', 'गांड')]\n",
      "slur,token : Victim_card victim\n"
     ]
    },
    {
     "data": {
      "text/plain": [
       "\"extremely biased &amp; disgusting mindset👇 ... Almost 100,000 ppl martyred on religious places till date including shia,sunni &amp; other religious groups while offering their religious rituals but they didn't say 👇 nor play sectarian card while these ppl only play shia <replace> card\""
      ]
     },
     "execution_count": 124,
     "metadata": {},
     "output_type": "execute_result"
    },
    {
     "name": "stdout",
     "output_type": "stream",
     "text": [
      "time: 19.5 ms (started: 2022-02-10 12:26:48 +05:30)\n"
     ]
    }
   ],
   "source": [
    "replace_slurs_score_v5(tweet,slurs_list_updated,70)"
   ]
  },
  {
   "cell_type": "markdown",
   "metadata": {},
   "source": [
    "#### Update v6 - Only score; No dist\n",
    "\n"
   ]
  },
  {
   "cell_type": "code",
   "execution_count": null,
   "metadata": {},
   "outputs": [],
   "source": []
  },
  {
   "cell_type": "code",
   "execution_count": 154,
   "metadata": {},
   "outputs": [
    {
     "name": "stdout",
     "output_type": "stream",
     "text": [
      "time: 2.69 ms (started: 2022-02-10 12:57:09 +05:30)\n"
     ]
    }
   ],
   "source": [
    "def replace_slurs_score_v6(tweet,slurs_list,threshold_score):\n",
    "    \n",
    "    print(f'original tweet : {tweet}')\n",
    "    check = 0\n",
    "    \n",
    "    original_tweet = tweet\n",
    "        \n",
    "    #print(process.extract(tweet,slurs_list,limit = 10,scorer=fuzz.partial_ratio))\n",
    "    \n",
    "    match_dict = dict(process.extract(tweet,slurs_list,limit = 10,scorer=fuzz.partial_ratio))\n",
    "    \n",
    "    print(match_dict)\n",
    "    matches = match_dict.keys()\n",
    "    \n",
    "    score_dict = {}\n",
    "    token_slur_dict = {} # to store simi score\n",
    "    \n",
    "    for slur in matches:\n",
    "        \n",
    "        for token in original_tweet.split(' '):\n",
    "            \n",
    "            if token:\n",
    "                \n",
    "                if (token,slur) not in token_slur_dict:\n",
    "\n",
    "                    simi_score = fuzz.ratio(token,slur)\n",
    "#                     print(f'token,slur : {token} {slur}')\n",
    "#                     print(simi_score)\n",
    "                    \n",
    "                    token_slur_dict[(token,slur)] = simi_score\n",
    "\n",
    "                    if simi_score >= threshold_score and token[0].lower()==slur[0].lower():\n",
    "                        print(f'token,slur : {token} {slur}')\n",
    "                        print(simi_score)\n",
    "                        tweet = tweet.replace(token,'<replace>')\n",
    "\n",
    "                else:\n",
    "\n",
    "                    if token_slur_dict[(token,slur)] >= threshold_score and token[0].lower()==slur[0].lower():\n",
    "                        print(f'token,slur : {token} {slur}')\n",
    "                        print(simi_score)\n",
    "\n",
    "                        tweet = tweet.replace(token,'<replace>')\n",
    "\n",
    "\n",
    "    return tweet     \n",
    "                \n",
    "# #             if (token,slur) not in token_slur_dict:\n",
    "                \n",
    "# #                 simi_score = fuzz.partial_ratio(token,slur)\n",
    "                \n",
    "# #                 token_slur_dict[(token,slur)] = simi_score\n",
    "            \n",
    "# #                 if simi_score in :\n",
    "                    \n",
    "                    \n",
    "         \n",
    "        \n",
    "    \n",
    "    \n",
    "    \n",
    "    \n",
    "#     ---------------------------\n",
    "#     # to compare the distance of top 10 matching slurs to find the right matching\n",
    "#     dis_dict = {}\n",
    "#     token_slur_dict = {}\n",
    "    \n",
    "    \n",
    "#     for slur in matches:\n",
    "        \n",
    "#         for token in tweet.split(' '):\n",
    "            \n",
    "#             \"\"\"\n",
    "#             Can add memoization here\n",
    "            \n",
    "#             -Check if the distance b/w token and match is already calculated\n",
    "#             \"\"\"\n",
    "            \n",
    "#             if (token,slur) not in token_slur_dict:\n",
    "                \n",
    "#                 dis = lev.distance(token,slur)\n",
    "                            \n",
    "#                 token_slur_dict[(token,slur)] = dis\n",
    "            \n",
    "#                 if dis in dis_dict:\n",
    "#                     dis_dict[dis].append((token,slur))\n",
    "            \n",
    "#                 else:\n",
    "#                     dis_dict[dis] = [(token,slur)]\n",
    "            \n",
    "    \n",
    "#     dist_sort = dict(sorted(dis_dict.items()))\n",
    "   \n",
    "    \n",
    "#     for dist,match in dist_sort.items():\n",
    "        \n",
    "#         print(dist,match)\n",
    "#         loop_break = 0\n",
    "        \n",
    "#         for token,slur in match:\n",
    "            \n",
    "#             #does it work for hin and tamil?\n",
    "#             if token:\n",
    "                \n",
    "#                 simi_score = fuzz.partial_ratio(slur,token)\n",
    "                \n",
    "#                 if (slur[0].lower() == token[0].lower()) and (match_dict[slur] >= threshold_score) and simi_score >= threshold_score and (token not in ['Muslim','muslim','Muslims','muslims']):\n",
    "                    \n",
    "#                     print(f'slur,token : {slur} {token}')\n",
    "#                     #print(fuzz.partial_ratio(slur,token))\n",
    "#                     tweet = tweet.replace(token,'<replace>')\n",
    "                    \n",
    "#                     # to iterate all the matches in that dict\n",
    "#                     loop_break = 1\n",
    "                    \n",
    "#         if loop_break:\n",
    "#             break\n",
    "                \n",
    "#     return tweet"
   ]
  },
  {
   "cell_type": "code",
   "execution_count": 126,
   "metadata": {},
   "outputs": [
    {
     "name": "stdout",
     "output_type": "stream",
     "text": [
      "original tweet : extremely biased &amp; disgusting mindset👇 ... Almost 100,000 ppl martyred on religious places till date including shia,sunni &amp; other religious groups while offering their religious rituals but they didn't say 👇 nor play sectarian card while these ppl only play shia victim card\n",
      "{'Victim_card': 91, 'Gasti': 80, 'whore': 60, 'libtard': 57, '#FalseCases': 50, 'Sanghans': 50, 'nationalists': 50, 'faggot': 50, 'love jihad': 50, 'गांड': 50}\n"
     ]
    },
    {
     "data": {
      "text/plain": [
       "\"extremely biased &amp; disgusting mindset👇 ... Almost 100,000 ppl martyred on religious places till date including shia,sunni &amp; other religious groups while offering their religious rituals but they didn't say 👇 nor play sectarian card while these ppl only play shia victim card\""
      ]
     },
     "execution_count": 126,
     "metadata": {},
     "output_type": "execute_result"
    },
    {
     "name": "stdout",
     "output_type": "stream",
     "text": [
      "time: 15.2 ms (started: 2022-02-10 12:26:53 +05:30)\n"
     ]
    }
   ],
   "source": [
    "replace_slurs_score_v6(tweet,slurs_list_updated,90)"
   ]
  },
  {
   "cell_type": "code",
   "execution_count": 127,
   "metadata": {},
   "outputs": [
    {
     "name": "stdout",
     "output_type": "stream",
     "text": [
      "original tweet : extremely biased &amp; disgusting mindset👇 ... Almost 100,000 ppl martyred on religious places till date including shia,sunni &amp; other religious groups while offering their religious rituals but they didn't say 👇 nor play sectarian card while these ppl only play shia victim card\n",
      "{'Victim_card': 91, 'Gasti': 80, 'whore': 60, 'libtard': 57, '#FalseCases': 50, 'Sanghans': 50, 'nationalists': 50, 'faggot': 50, 'love jihad': 50, 'गांड': 50}\n"
     ]
    },
    {
     "data": {
      "text/plain": [
       "\"extremely biased &amp; disgusting mindset👇 ... Almost 100,000 ppl martyred on religious places till date including shia,sunni &amp; other religious groups while offering their religious rituals but they didn't say 👇 nor play sectarian card while these ppl only play shia victim card\""
      ]
     },
     "execution_count": 127,
     "metadata": {},
     "output_type": "execute_result"
    },
    {
     "name": "stdout",
     "output_type": "stream",
     "text": [
      "time: 16.2 ms (started: 2022-02-10 12:26:54 +05:30)\n"
     ]
    }
   ],
   "source": [
    "replace_slurs_score_v6(tweet,slurs_list_updated,90)"
   ]
  },
  {
   "cell_type": "code",
   "execution_count": 128,
   "metadata": {},
   "outputs": [
    {
     "name": "stdout",
     "output_type": "stream",
     "text": [
      "original tweet : extremely biased &amp; disgusting mindset👇 ... Almost 100,000 ppl martyred on religious places till date including shia,sunni &amp; other religious groups while offering their religious rituals but they didn't say 👇 nor play sectarian card while these ppl only play shia victim card\n",
      "{'Victim_card': 91, 'Gasti': 80, 'whore': 60, 'libtard': 57, '#FalseCases': 50, 'Sanghans': 50, 'nationalists': 50, 'faggot': 50, 'love jihad': 50, 'गांड': 50}\n"
     ]
    },
    {
     "data": {
      "text/plain": [
       "\"extremely biased &amp; disgusting mindset👇 ... Almost 100,000 ppl martyred on religious places till date including shia,sunni &amp; other religious groups while offering their religious rituals but they didn't say 👇 nor play sectarian card while these ppl only play shia victim card\""
      ]
     },
     "execution_count": 128,
     "metadata": {},
     "output_type": "execute_result"
    },
    {
     "name": "stdout",
     "output_type": "stream",
     "text": [
      "time: 17 ms (started: 2022-02-10 12:26:54 +05:30)\n"
     ]
    }
   ],
   "source": [
    "replace_slurs_score_v6(tweet,slurs_list_updated,70)"
   ]
  },
  {
   "cell_type": "code",
   "execution_count": null,
   "metadata": {},
   "outputs": [],
   "source": []
  },
  {
   "cell_type": "code",
   "execution_count": 297,
   "metadata": {},
   "outputs": [
    {
     "name": "stdout",
     "output_type": "stream",
     "text": [
      "original tweet : extremely biased &amp; disgusting mindset👇 ... Almost 100,000 ppl martyred on religious places till date including shia,sunni &amp; other religious groups while offering their religious rituals but they didn't say 👇 nor play sectarian card while these ppl only play shia victim card\n",
      "{'Victim_card': 91, 'Gasti': 80, 'whore': 60, 'libtard': 57, '#FalseCases': 50, 'Sanghans': 50, 'nationalists': 50, 'faggot': 50, 'love jihad': 50, 'गांड': 50}\n",
      "2 [('while', 'whore')]\n",
      "3 [('date', 'Gasti'), ('nor', 'whore'), ('these', 'whore')]\n",
      "4 [('biased', 'Gasti'), ('&amp;', 'Gasti'), ('but', 'Gasti'), ('say', 'Gasti'), ('card', 'Gasti'), ('shia', 'Gasti'), ('victim', 'Gasti'), ('on', 'whore'), ('date', 'whore'), ('other', 'whore'), ('their', 'whore'), ('they', 'whore'), ('card', 'whore'), ('shia', 'whore'), ('card', 'libtard'), ('...', 'गांड'), ('ppl', 'गांड'), ('on', 'गांड'), ('till', 'गांड'), ('date', 'गांड'), ('but', 'गांड'), ('they', 'गांड'), ('say', 'गांड'), ('👇', 'गांड'), ('nor', 'गांड'), ('play', 'गांड'), ('card', 'गांड'), ('only', 'गांड'), ('shia', 'गांड')]\n",
      "5 [('...', 'Gasti'), ('Almost', 'Gasti'), ('ppl', 'Gasti'), ('on', 'Gasti'), ('places', 'Gasti'), ('till', 'Gasti'), ('other', 'Gasti'), ('while', 'Gasti'), ('their', 'Gasti'), ('they', 'Gasti'), ('👇', 'Gasti'), ('nor', 'Gasti'), ('play', 'Gasti'), ('these', 'Gasti'), ('only', 'Gasti'), ('biased', 'whore'), ('&amp;', 'whore'), ('...', 'whore'), ('Almost', 'whore'), ('ppl', 'whore'), ('places', 'whore'), ('till', 'whore'), ('groups', 'whore'), ('but', 'whore'), ('say', 'whore'), ('👇', 'whore'), ('play', 'whore'), ('only', 'whore'), ('biased', 'libtard'), ('martyred', 'libtard'), ('rituals', 'libtard'), ('victim', 'libtard'), ('&amp;', 'faggot'), ('Almost', 'faggot'), ('on', 'faggot'), ('date', 'faggot'), ('but', 'faggot'), (\"didn't\", 'faggot'), ('say', 'faggot'), ('nor', 'faggot'), ('card', 'faggot'), ('&amp;', 'गांड'), ('other', 'गांड'), ('while', 'गांड'), ('their', 'गांड'), ('these', 'गांड')]\n",
      "6 [('victim', 'Victim_card'), ('mindset👇', 'Gasti'), ('martyred', 'Gasti'), ('groups', 'Gasti'), (\"didn't\", 'Gasti'), ('martyred', 'whore'), (\"didn't\", 'whore'), ('victim', 'whore'), ('till', 'libtard'), ('date', 'libtard'), ('other', 'libtard'), ('their', 'libtard'), ('but', 'libtard'), ('they', 'libtard'), (\"didn't\", 'libtard'), ('say', 'libtard'), ('nor', 'libtard'), ('play', 'libtard'), ('sectarian', 'libtard'), ('shia', 'libtard'), ('rituals', 'Sanghans'), ('biased', 'faggot'), ('...', 'faggot'), ('ppl', 'faggot'), ('places', 'faggot'), ('till', 'faggot'), ('other', 'faggot'), ('groups', 'faggot'), ('while', 'faggot'), ('their', 'faggot'), ('they', 'faggot'), ('👇', 'faggot'), ('play', 'faggot'), ('these', 'faggot'), ('only', 'faggot'), ('shia', 'faggot'), ('victim', 'faggot'), ('biased', 'गांड'), ('Almost', 'गांड'), ('places', 'गांड'), ('groups', 'गांड'), (\"didn't\", 'गांड'), ('victim', 'गांड')]\n",
      "slur,token : Victim_card victim\n"
     ]
    },
    {
     "data": {
      "text/plain": [
       "\"extremely biased &amp; disgusting mindset👇 ... Almost 100,000 ppl martyred on religious places till date including shia,sunni &amp; other religious groups while offering their religious rituals but they didn't say 👇 nor play sectarian card while these ppl only play shia <replace> card\""
      ]
     },
     "execution_count": 297,
     "metadata": {},
     "output_type": "execute_result"
    },
    {
     "name": "stdout",
     "output_type": "stream",
     "text": [
      "time: 23.2 ms (started: 2022-02-10 00:00:51 +05:30)\n"
     ]
    }
   ],
   "source": [
    "replace_slurs_score_v5(tweet,slurs_list_updated,70)"
   ]
  },
  {
   "cell_type": "markdown",
   "metadata": {},
   "source": [
    "### Hindi Slur Replace"
   ]
  },
  {
   "cell_type": "code",
   "execution_count": 165,
   "metadata": {},
   "outputs": [
    {
     "data": {
      "text/plain": [
       "(100, 40)"
      ]
     },
     "execution_count": 165,
     "metadata": {},
     "output_type": "execute_result"
    },
    {
     "name": "stdout",
     "output_type": "stream",
     "text": [
      "time: 2.94 ms (started: 2022-02-10 14:39:51 +05:30)\n"
     ]
    }
   ],
   "source": [
    "hi_lang_data.shape"
   ]
  },
  {
   "cell_type": "code",
   "execution_count": 167,
   "metadata": {},
   "outputs": [
    {
     "name": "stdout",
     "output_type": "stream",
     "text": [
      "original tweet : @memenist_ Waah Bhau Kahi Ahmed Shah mat bann Jaana\n",
      "{'#MenToo': 67, 'pheminist': 67, '#FeministMafia': 62, 'ma ki chui': 60, '#feministsaretrash': 53, 'Rape': 50, 'Feminazi': 50, 'Izzlam': 50, 'Scumreds': 50, '#HiteshaChandranee': 47}\n",
      "3 [('Waah', 'Rape'), ('Kahi', 'Rape'), ('mat', 'Rape'), ('bann', 'Rape')]\n",
      "4 [('@memenist_', 'pheminist'), ('Bhau', 'Rape'), ('Ahmed', 'Rape'), ('Shah', 'Rape'), ('Jaana', 'Rape')]\n",
      "5 [('Waah', 'Izzlam'), ('Bhau', 'Izzlam'), ('Shah', 'Izzlam'), ('mat', 'Izzlam'), ('Jaana', 'Izzlam'), ('Ahmed', 'Scumreds')]\n",
      "6 [('bann', '#MenToo'), ('Jaana', '#MenToo'), ('Kahi', 'Feminazi'), ('mat', 'Feminazi'), ('Jaana', 'Feminazi'), ('Kahi', 'Izzlam'), ('Ahmed', 'Izzlam'), ('bann', 'Izzlam')]\n",
      "7 [('Waah', '#MenToo'), ('Bhau', '#MenToo'), ('Kahi', '#MenToo'), ('Ahmed', '#MenToo'), ('Shah', '#MenToo'), ('mat', '#MenToo'), ('Ahmed', 'pheminist'), ('mat', 'pheminist'), ('Kahi', 'ma ki chui'), ('@memenist_', 'Feminazi'), ('Waah', 'Feminazi'), ('Bhau', 'Feminazi'), ('Ahmed', 'Feminazi'), ('Shah', 'Feminazi'), ('bann', 'Feminazi'), ('Shah', 'Scumreds'), ('mat', 'Scumreds')]\n",
      "8 [('@memenist_', '#MenToo'), ('Bhau', 'pheminist'), ('Kahi', 'pheminist'), ('Shah', 'pheminist'), ('bann', 'pheminist'), ('Jaana', 'pheminist'), ('@memenist_', '#FeministMafia'), ('Waah', 'ma ki chui'), ('mat', 'ma ki chui'), ('@memenist_', 'Scumreds'), ('Waah', 'Scumreds'), ('Bhau', 'Scumreds'), ('Kahi', 'Scumreds'), ('bann', 'Scumreds'), ('Jaana', 'Scumreds')]\n",
      "9 [('Waah', 'pheminist'), ('Bhau', 'ma ki chui'), ('Shah', 'ma ki chui'), ('bann', 'ma ki chui'), ('Jaana', 'ma ki chui'), ('@memenist_', 'Rape')]\n",
      "10 [('@memenist_', 'ma ki chui'), ('Ahmed', 'ma ki chui'), ('@memenist_', 'Izzlam')]\n",
      "12 [('Kahi', '#FeministMafia'), ('mat', '#FeministMafia'), ('Jaana', '#FeministMafia'), ('@memenist_', '#feministsaretrash')]\n",
      "13 [('Waah', '#FeministMafia'), ('Bhau', '#FeministMafia'), ('Ahmed', '#FeministMafia'), ('Shah', '#FeministMafia'), ('bann', '#FeministMafia')]\n",
      "14 [('Jaana', '#HiteshaChandranee')]\n",
      "15 [('Waah', '#feministsaretrash'), ('mat', '#feministsaretrash'), ('Shah', '#HiteshaChandranee'), ('bann', '#HiteshaChandranee')]\n",
      "16 [('Ahmed', '#feministsaretrash'), ('Shah', '#feministsaretrash'), ('Jaana', '#feministsaretrash'), ('@memenist_', '#HiteshaChandranee'), ('Waah', '#HiteshaChandranee'), ('Bhau', '#HiteshaChandranee'), ('Kahi', '#HiteshaChandranee'), ('Ahmed', '#HiteshaChandranee')]\n",
      "17 [('Bhau', '#feministsaretrash'), ('Kahi', '#feministsaretrash'), ('bann', '#feministsaretrash'), ('mat', '#HiteshaChandranee')]\n",
      "original tweet : @Deepakshakya378 @Mihirku06512065 @Gajjusay जब जीतो तो EVM ठीक जब हारो तो EVM खराब.... बहोत अच्छे....!!\n",
      "{'कंजर': 75, 'महार': 75, 'रांड': 75, 'हरामी': 75, 'हिजरा': 75, 'म्लेच्छा': 71, 'जूता खायेगी': 70, 'बाज़ारू औरत': 70, 'बेहूदा औरत': 70, 'रंडी': 67}\n",
      "2 [('हारो', 'महार')]\n",
      "3 [('जब', 'कंजर'), ('बहोत', 'महार'), ('हारो', 'रांड'), ('हारो', 'हरामी'), ('हारो', 'हिजरा')]\n",
      "slur,token : हरामी हारो\n",
      "slur,token : हिजरा हारो\n",
      "original tweet : @TheDeepak2020In भेया इन का कुतिया से तुलना करे तो  कुतिया का बेज्जती  हो जाए गा\n",
      "{'कुतिया': 100, 'कुत्ती': 80, 'छुतीये': 80, 'हिजड़ा': 75, 'भांड': 75, 'रांड': 75, 'हिजरा': 75, '#छक्का': 75, 'काले तवे': 71, 'भूतनी के': 71}\n",
      "0 [('कुतिया', 'कुतिया')]\n",
      "slur,token : कुतिया कुतिया\n",
      "original tweet : @Aasma__khan_786 @NaseerRaain जोरू का गुलाम\n",
      "{'जोरू का गुलाम': 100, 'गांड': 75, 'मुजरा': 75, 'कंजर': 75, 'जंगली': 75, 'दोगली': 75, 'रांड': 75, 'हिजरा': 75, 'चुस्लामि': 71, 'चुस्लिम': 71}\n",
      "3 [('का', 'गांड'), ('का', 'कंजर'), ('का', 'रांड')]\n",
      "slur,token : कंजर का\n",
      "original tweet : बधाइयाँ सर... पाठकों को। 🤓🤓🤓👏🏽👏🏽👏🏽\n",
      "{'ख़ुसरा': 75, 'रांड': 75, 'रंडी': 67, 'चूस': 67, 'धोबी': 67, 'पेल': 67, 'पॉटी': 67, 'बीबी': 67, 'साली': 67, 'जोरू का गुलाम': 62}\n",
      "3 [('को।', 'चूस'), ('को।', 'धोबी'), ('को।', 'पेल')]\n",
      "4 [('सर...', 'रांड'), ('को।', 'रांड'), ('सर...', 'रंडी'), ('को।', 'रंडी'), ('को।', 'पॉटी'), ('को।', 'बीबी'), ('सर...', 'साली'), ('को।', 'साली')]\n",
      "5 [('सर...', 'ख़ुसरा'), ('को।', 'ख़ुसरा'), ('पाठकों', 'रांड'), ('सर...', 'चूस'), ('सर...', 'धोबी'), ('सर...', 'पेल'), ('पाठकों', 'पेल'), ('सर...', 'पॉटी'), ('पाठकों', 'पॉटी'), ('सर...', 'बीबी'), ('पाठकों', 'साली')]\n",
      "6 [('बधाइयाँ', 'ख़ुसरा'), ('पाठकों', 'ख़ुसरा'), ('बधाइयाँ', 'रांड'), ('पाठकों', 'रंडी'), ('पाठकों', 'चूस'), ('बधाइयाँ', 'धोबी'), ('पाठकों', 'धोबी'), ('बधाइयाँ', 'बीबी'), ('पाठकों', 'बीबी'), ('बधाइयाँ', 'साली')]\n",
      "7 [('बधाइयाँ', 'रंडी'), ('बधाइयाँ', 'चूस'), ('बधाइयाँ', 'पेल'), ('बधाइयाँ', 'पॉटी')]\n",
      "9 [('🤓🤓🤓👏🏽👏🏽👏🏽', 'ख़ुसरा'), ('🤓🤓🤓👏🏽👏🏽👏🏽', 'रांड'), ('🤓🤓🤓👏🏽👏🏽👏🏽', 'रंडी'), ('🤓🤓🤓👏🏽👏🏽👏🏽', 'चूस'), ('🤓🤓🤓👏🏽👏🏽👏🏽', 'धोबी'), ('🤓🤓🤓👏🏽👏🏽👏🏽', 'पेल'), ('🤓🤓🤓👏🏽👏🏽👏🏽', 'पॉटी'), ('🤓🤓🤓👏🏽👏🏽👏🏽', 'बीबी'), ('🤓🤓🤓👏🏽👏🏽👏🏽', 'साली')]\n",
      "11 [('बधाइयाँ', 'जोरू का गुलाम')]\n",
      "12 [('सर...', 'जोरू का गुलाम'), ('पाठकों', 'जोरू का गुलाम'), ('को।', 'जोरू का गुलाम')]\n",
      "13 [('🤓🤓🤓👏🏽👏🏽👏🏽', 'जोरू का गुलाम')]\n",
      "original tweet : @rohit_chahal “कलमूंही” की बेज्जति न करें\n",
      "{'कलमुंही': 100, 'Bitch': 80, 'मुँह मैं ले': 80, 'कमीनी': 75, 'मर क्यों नहीं जाती': 71, 'पैर की जूती': 70, 'कचरा': 67, 'काला टेंट': 67, 'किन्नर': 67, 'धोबी': 67}\n",
      "3 [('“कलमूंही”', 'कलमुंही'), ('की', 'कमीनी'), ('की', 'कचरा'), ('करें', 'कचरा'), ('की', 'धोबी')]\n",
      "slur,token : कमीनी की\n",
      "original tweet : @yadavakhilesh सैफई में भांड ओर नचनिया नाचते थे सरकारी पैसे पर, उसपर भी ज्ञान दो टोंटीछोर\n",
      "{'भांड': 100, 'काला टेंट': 78, 'मोटी भैंस': 78, 'गांड': 75, 'कंजर': 75, 'भांड औरत': 75, 'टट्टी': 75, 'रंडीखाना': 71, 'चाटुकार': 71, 'भोस्डीके': 71}\n",
      "0 [('भांड', 'भांड')]\n",
      "slur,token : भांड भांड\n",
      "original tweet : @bainjal @_pallavighosh अभी और जलील होना है पल्लवी ma'am को.. 🤣😂\n",
      "{'जली': 100, 'लुल्ली': 80, 'बुल्ली': 80, 'सुल्ली': 80, 'जंगली': 75, 'दलाल': 75, 'नल्ली': 75, 'भांड': 75, 'हलाला': 75, 'मुँह मैं ले': 70}\n",
      "1 [('जलील', 'जली')]\n",
      "slur,token : जली जलील\n",
      "original tweet : महारानी संयोगिता का बलात्कार किसने करवाया था और उनकी बेटियों ने किस पापी का अंत किया था? यह हर हिंदुस्तानी को पता होनी चाहिए।\n",
      "{'बलात्कार': 100, 'महार': 100, 'जिहादी': 80, 'काला टेंट': 78, 'गांड': 75, 'कमीनी': 75, 'मुजरा': 75, 'कंजर': 75, 'कटा लुंड': 75, 'रांड': 75}\n",
      "0 [('बलात्कार', 'बलात्कार')]\n",
      "slur,token : बलात्कार बलात्कार\n",
      "original tweet : महिष्मति साम्राज्य के विश्वसनीय गुप्तसूत्रों से पता चला है की.....  मोदीजी इटली में उस महान स्थान बियरबार को भी देखने गये थे जहा चम्मचों की अम्मा राजमाता मुजरा करती थी...!💃💃💃💃   🤣😂🤣😂\n",
      "{'कुत्ती': 80, 'गांड': 75, 'कमीनी': 75, 'चुसल्मान': 75, 'पनौती': 75, 'भांड': 75, 'महार': 75, 'रांड': 75, 'मादरजात': 71, 'जूता खायेगी': 70}\n",
      "1 [('महान', 'महार')]\n",
      "slur,token : महार महान\n",
      "original tweet : @DeepikaSRajawat चमची #deepika के गांड में 🔥🔥🔥🔥 लगी हुई हैं 😜😜😜😜\n",
      "{'गांड': 100, 'चमचा': 100, 'मुँह मैं ले': 80, 'कटा लुंड': 75, 'चमार': 75, 'भांड': 75, 'रांड': 75, 'रंडी': 67, 'काला टेंट': 67, 'चूची': 67}\n",
      "0 [('गांड', 'गांड')]\n",
      "slur,token : गांड गांड\n",
      "original tweet : @shahsi_shashi @KapilMishra_IND @Devanam_priya आंदोलन था या मंडियों का रण्डी रोना....\n",
      "{'रण्डी': 100, 'रण्डी रोना': 100, 'गांड': 75, 'कंजर': 75, 'दलाल': 75, 'दोगली': 75, 'भांड': 75, 'रांड': 75, 'रंडीखाना': 71, 'चाटुकार': 71}\n",
      "0 [('रण्डी', 'रण्डी')]\n",
      "slur,token : रण्डी रण्डी\n",
      "original tweet : @tHe_Ladlee ऐसे ही लड़कियो को मेरे जैसा कसाई मिलता है जो मिले उसी में सेकरीफ़ई\n",
      "{'मुलिया': 80, 'गांड': 75, 'मुजरा': 75, 'चमार': 75, 'भांड': 75, 'महार': 75, 'रांड': 75, 'हलाला': 75, 'मादरजात': 71, 'म्लेच्छा': 71}\n",
      "3 [('मिलता', 'मुलिया'), ('में', 'गांड'), ('मेरे', 'मुजरा'), ('मिलता', 'मुजरा'), ('मेरे', 'चमार'), ('कसाई', 'चमार'), ('में', 'चमार'), ('में', 'भांड'), ('ही', 'महार'), ('मेरे', 'महार'), ('कसाई', 'महार'), ('है', 'महार'), ('मिले', 'महार'), ('में', 'महार'), ('में', 'रांड')]\n",
      "slur,token : मुलिया मिलता\n",
      "slur,token : मुजरा मेरे\n",
      "slur,token : मुजरा मिलता\n",
      "slur,token : महार मेरे\n",
      "slur,token : महार मिले\n",
      "slur,token : महार में\n",
      "original tweet : @AcharyaPramodk ऐसे हरामखोर... मादरजात कुत्तों को तुम लोगों ने पार्टी में जगह जो दे रखी है सुअर... इसी से क्यूँ नहीं पूछता bsdk....  https://t.co/5QGRjCW78F\n",
      "{'कुत्ती': 100, 'मादरजात': 100, 'सूअर': 100, 'हरामी': 100, 'मर क्यों नहीं जाती': 82, 'जिहादी': 80, 'कुतिया': 80, 'मुलिया': 80, 'हिज़रापंती': 78, 'गांड': 75}\n",
      "0 [('मादरजात', 'मादरजात')]\n",
      "slur,token : मादरजात मादरजात\n",
      "original tweet : @Arnab5222 अब मुझे ज्योतिषियों की उस बात पर विश्वास होने लगा है कि एक गणिका को भी नाम बदलने से राजसी ठाठ बाट मिल जाते हैं  अच्छा तो मित्रों इस मधुर गीत के साथ शुभ रात्रि नाच मेरी बुलबुल के पैसा मिलेगा\n",
      "{'गणिका': 100, 'छुतीये': 80, 'भोंकना': 80, 'मुलिया': 80, 'चरित्रहीन': 78, 'गांड': 75, 'कटा लुंड': 75, 'दलाल': 75, 'नल्ली': 75, 'भांड': 75}\n",
      "0 [('गणिका', 'गणिका')]\n",
      "slur,token : गणिका गणिका\n",
      "original tweet : मेरा दिल जिस दिल पर फिदा हैं  फिलहाल वो कमीनी लापता हैं.....😬 😝😝😝\n",
      "{'कमीनी': 100, 'जिहादी': 80, 'छिनाल': 80, 'सुल्ली': 80, 'मुजरा': 75, 'दलाल': 75, 'दोगली': 75, 'नल्ली': 75, 'महार': 75, 'रांड': 75}\n",
      "0 [('कमीनी', 'कमीनी')]\n",
      "slur,token : कमीनी कमीनी\n",
      "original tweet : बहु हिन्दू चाहिए, पर दामाद नहीं.... #loveJihad  https://t.co/EgwJPDQJ9Y\n",
      "{'#lovejihad': 100, 'love jihad': 90, 'रांड': 75, 'मुँह मैं ले': 70, 'रंडी': 67, 'रण्डी रोना': 67, 'कलमुंही': 67, 'चूची': 67, 'चूड़ा': 67, 'चूस': 67}\n",
      "1 [('#loveJihad', '#lovejihad')]\n",
      "slur,token : #lovejihad #loveJihad\n",
      "original tweet : @salonayy y*varathnaa\n",
      "{'#RanaAyyub': 56, 'Sanghans': 50, 'गांड': 50, 'Rape': 50, '#Sanghans': 50, 'भांड': 50, 'रांड': 50, 'naachne waali': 46, 'secular': 43, '#ArrestRanaAyyub': 40}\n",
      "7 [('@salonayy', '#RanaAyyub'), ('@salonayy', 'Sanghans'), ('@salonayy', '#Sanghans'), ('@salonayy', 'secular')]\n",
      "8 [('@salonayy', 'Rape')]\n",
      "9 [('y*varathnaa', '#RanaAyyub'), ('y*varathnaa', 'Sanghans'), ('@salonayy', 'गांड'), ('y*varathnaa', '#Sanghans'), ('@salonayy', 'भांड'), ('@salonayy', 'रांड')]\n",
      "10 [('y*varathnaa', 'Rape'), ('@salonayy', 'naachne waali'), ('y*varathnaa', 'naachne waali'), ('y*varathnaa', 'secular')]\n",
      "11 [('y*varathnaa', 'गांड'), ('y*varathnaa', 'भांड'), ('y*varathnaa', 'रांड'), ('@salonayy', '#ArrestRanaAyyub')]\n",
      "13 [('y*varathnaa', '#ArrestRanaAyyub')]\n",
      "original tweet : @sonugehlot3 @ChouhanShivraj @OfficeofSSC @vdsharmabjp @BJP4MP @SuhasBhagatBJP @bjpanilfirojiya @TCGEHLOT @vinay1011 @AmitShah @BJP4India @bjp4ujjain @JM_Scindia @JPNadda @Dharmen97371285 बहुत-बहुत धन्यवाद आदरणीय @sonugehlot3  सर    10 दिनों से जो कचरा सड़क पर पड़ा था आज निगम के कचरा संग्रहण वाहन द्वारा उठा लिया गया।  मेरे एक अनुरोध पर आपने संबंधित को आदेशित कर के यह कार्य पूर्ण करवाया। और यह आपके सहयोग के द्वारा हो पाया है।   इसके लिए एक बार फिर दिल से धन्यवाद।\n",
      "{'कचरा': 100, 'कुतिया': 80, 'मुलिया': 80, 'सुल्ली': 80, 'रण्डी': 75, 'ख़ुसरा': 75, 'गणिका': 75, 'भांड': 75, 'रांड': 75, 'लेस्बियन': 75}\n",
      "0 [('कचरा', 'कचरा')]\n",
      "slur,token : कचरा कचरा\n",
      "original tweet : @Rekha_Famaily @UmeshJhaJi जय श्री राम बहनजी शुभ प्रभात🙏🌻🙏🌻🙏🌻\n",
      "{'बहनजी': 100, 'भांड': 75, 'रांड': 75, 'शरिया': 75, 'बहन चोद': 71, 'बहन की लोड़ी': 70, 'रंडी': 67, 'धोबी': 67, 'नाल': 67, 'पेल': 67}\n",
      "0 [('बहनजी', 'बहनजी')]\n",
      "slur,token : बहनजी बहनजी\n",
      "original tweet : जानते है कसाई की सबसे बड़ी खूबी क्या होती है? वो क्रूर तो होता है पर बहादुर नहीं। वो शिकार को बांधकर बेबस करके मारता है।\n",
      "{'कसाई': 100, 'जिहादी': 80, 'गांड': 75, 'मुजरा': 75, 'कंजर': 75, 'चमार': 75, 'भांड': 75, 'रांड': 75, 'लानती': 75, 'चाटुकार': 71}\n",
      "0 [('कसाई', 'कसाई')]\n",
      "slur,token : कसाई कसाई\n",
      "original tweet : @ArvindKejriwal शर्म करो ढोंगी ! एक तरफ निर्भया के बल्तकारी को अब भी बचने के कोशिस कर रहे हो, हलाला के पैदाइस आतंकी अफरोज को शिलाई मशीन और दस हजार पुरस्कार के तौर पर देते हो !  अब झूठइ सहानुभूति किस लिए ! बलत्कारियों का यार केजरीवाल\n",
      "{'हलाला': 100, 'बलात्कार': 88, 'लुल्ली': 80, 'बुल्ली': 80, 'भोंकना': 80, 'सुल्ली': 80, 'हिज़रापंती': 78, 'गांड': 75, 'कमीनी': 75, 'मुजरा': 75}\n",
      "0 [('हलाला', 'हलाला')]\n",
      "slur,token : हलाला हलाला\n",
      "original tweet : @srinivasiyc @smritiirani कुछ बोलो मैडम जी\n",
      "{'मेडम जी': 100, 'छिनाल': 80, 'बुल्ली': 80, 'गांड': 75, 'मुजरा': 75, 'भांड': 75, 'रांड': 75, 'चुस्लामि': 71, 'चुस्लिम': 71, 'रंडी': 67}\n",
      "3 [('मैडम', 'रंडी'), ('जी', 'रंडी')]\n",
      "4 [('मैडम', 'मेडम जी'), ('बोलो', 'बुल्ली'), ('कुछ', 'गांड'), ('बोलो', 'गांड'), ('मैडम', 'गांड'), ('जी', 'गांड'), ('कुछ', 'मुजरा'), ('मैडम', 'मुजरा'), ('जी', 'मुजरा'), ('कुछ', 'भांड'), ('बोलो', 'भांड'), ('मैडम', 'भांड'), ('जी', 'भांड'), ('कुछ', 'रांड'), ('बोलो', 'रांड'), ('मैडम', 'रांड'), ('जी', 'रांड'), ('कुछ', 'रंडी'), ('बोलो', 'रंडी')]\n",
      "slur,token : मेडम जी मैडम\n",
      "slur,token : बुल्ली बोलो\n",
      "slur,token : मुजरा मैडम\n",
      "original tweet : @q01veDLkTFJxwlL @unitedilove @DChaurasia2312 गद्दारों का गांड कितनी इमानदारी चाटनी है ! ये तो कोई चमन चुतिया चमचा ही जाने ! हम अंधभक्त ही सही ! गद्दारों से दुर दुर तक कोई वास्ता ही नहीं ! साले ये चमचे कितने कमीने होते हैं ये इनकी DP से पता चलता ! DP🇮🇳 देशभक्तों की लगाते हैं तल्वे देशद्रोही और गद्दारों की चाटते हैं,🐷🐷\n",
      "{'गांड': 100, 'गद्दार': 100, 'साली': 100, 'कुतिया': 80, 'कुत्ती': 80, 'मुलिया': 80, 'सुल्ली': 80, 'काला टेंट': 78, 'कमीनी': 75, 'कटा लुंड': 75}\n",
      "0 [('गांड', 'गांड')]\n",
      "slur,token : गांड गांड\n",
      "original tweet : और ये क्या है भोंसड़ी के हिजड़ा, जिन्हे तेरे मुस्लिम बापो ने मारा , तब तेरे मुंह में गटर का पानी भरा था।😠 @Sirji7211  https://t.co/pJuo7nab9S\n"
     ]
    },
    {
     "name": "stdout",
     "output_type": "stream",
     "text": [
      "{'साली': 100, 'मुँह मैं ले': 90, 'चुस्लामि': 86, 'चुस्लिम': 86, 'मा के भोसड़े': 80, 'सुल्ली': 80, 'हिजड़ा': 75, 'चमार': 75, 'चुसल्मान': 75, 'भांड': 75}\n",
      "1 [('मुस्लिम', 'चुस्लिम')]\n",
      "2 [('पानी', 'साली'), ('मारा', 'चमार')]\n",
      "3 [('बापो', 'साली'), ('मारा', 'साली'), ('का', 'साली'), ('था।😠', 'साली'), ('मुस्लिम', 'चुस्लामि'), ('हिजड़ा,', 'हिजड़ा'), ('और', 'चमार'), ('में', 'चमार'), ('गटर', 'चमार'), ('का', 'चमार'), ('भरा', 'चमार'), ('बापो', 'भांड'), ('मारा', 'भांड'), ('मुंह', 'भांड'), ('में', 'भांड'), ('का', 'भांड'), ('पानी', 'भांड'), ('भरा', 'भांड'), ('था।😠', 'भांड')]\n",
      "slur,token : हिजड़ा हिजड़ा,\n",
      "slur,token : भांड भरा\n",
      "original tweet : का पर करूँ सिंगार पिया मोर हिजड़ा\n",
      "{'गांड': 75, 'मुजरा': 75, 'हिजड़ा': 75, 'चमार': 75, 'महार': 75, 'रांड': 75, 'हिजरा': 75, 'पैर की जूती': 70, 'मुँह मैं ले': 70, 'रंडी': 67}\n",
      "2 [('हिजड़ा', 'हिजड़ा'), ('मोर', 'चमार'), ('मोर', 'महार'), ('हिजड़ा', 'हिजरा')]\n",
      "slur,token : हिजड़ा हिजड़ा\n",
      "slur,token : महार मोर\n",
      "slur,token : हिजरा हिजड़ा\n",
      "original tweet : जो लोग कुत्ता पालने को \"मॉडर्न\" और गाय पालने को \"पिछड़ापन\" समझते हैं उनको मेरी सलाह है कि वे... दूध भी कुतिया का ही पिया करें......😡  #जय_श्रीराम🙏🚩\n",
      "{'कुत्ती': 100, 'पेल': 100, 'कुतिया': 80, 'छुतीये': 80, 'भोंकना': 80, 'गांड': 75, 'मुजरा': 75, 'कटा लुंड': 75, 'गणिका': 75, 'चमार': 75}\n",
      "0 [('कुतिया', 'कुतिया')]\n",
      "slur,token : कुतिया कुतिया\n",
      "original tweet : @Mayawati Ap hi kuch kroo ab\n",
      "{'Gasti': 60, 'Katwa': 60, 'ma ki chui': 60, 'Rape': 50, 'R@pe': 50, 'R@p3': 50, 'sekoolar': 50, 'Chinese corona': 50, 'chinky': 50, '#RheaChakraborty': 47}\n",
      "3 [('Ap', 'Rape'), ('ab', 'Rape'), ('Ap', 'R@pe'), ('Ap', 'R@p3')]\n",
      "4 [('hi', 'Gasti'), ('ab', 'Gasti'), ('ab', 'Katwa'), ('hi', 'Rape'), ('kuch', 'Rape'), ('kroo', 'Rape'), ('hi', 'R@pe'), ('kuch', 'R@pe'), ('kroo', 'R@pe'), ('ab', 'R@pe'), ('hi', 'R@p3'), ('kuch', 'R@p3'), ('kroo', 'R@p3'), ('ab', 'R@p3'), ('hi', 'chinky')]\n",
      "5 [('Ap', 'Gasti'), ('kuch', 'Gasti'), ('kroo', 'Gasti'), ('Ap', 'Katwa'), ('hi', 'Katwa'), ('kuch', 'Katwa'), ('kroo', 'Katwa')]\n",
      "6 [('@Mayawati', 'Gasti'), ('@Mayawati', 'Katwa'), ('kroo', 'sekoolar'), ('Ap', 'chinky'), ('kuch', 'chinky'), ('kroo', 'chinky'), ('ab', 'chinky')]\n",
      "7 [('kuch', 'ma ki chui'), ('kuch', 'sekoolar'), ('ab', 'sekoolar')]\n",
      "8 [('hi', 'ma ki chui'), ('@Mayawati', 'Rape'), ('@Mayawati', 'sekoolar'), ('Ap', 'sekoolar'), ('hi', 'sekoolar')]\n",
      "9 [('@Mayawati', 'ma ki chui'), ('kroo', 'ma ki chui'), ('ab', 'ma ki chui'), ('@Mayawati', 'R@pe'), ('@Mayawati', 'R@p3'), ('@Mayawati', 'chinky')]\n",
      "10 [('Ap', 'ma ki chui')]\n",
      "12 [('hi', 'Chinese corona'), ('kroo', 'Chinese corona'), ('@Mayawati', '#RheaChakraborty')]\n",
      "13 [('kuch', 'Chinese corona'), ('kroo', '#RheaChakraborty')]\n",
      "14 [('@Mayawati', 'Chinese corona'), ('Ap', 'Chinese corona'), ('ab', 'Chinese corona'), ('ab', '#RheaChakraborty')]\n",
      "15 [('hi', '#RheaChakraborty'), ('kuch', '#RheaChakraborty')]\n",
      "16 [('Ap', '#RheaChakraborty')]\n",
      "original tweet : @Real_Anuj ब्रेकिंग न्यूज!!! यूनेस्को ने साध्वी प्रज्ञा ठाकुर आंटी से कोरोना को \"श्राप देने\" की अपील की।\n",
      "{'पेल': 100, 'आंटी': 100, 'गांड': 75, 'रांड': 75, 'शरिया': 75, 'चाटुकार': 71, 'जूता खायेगी': 70, 'पैर की जूती': 70, 'मुँह मैं ले': 70, 'जोरू का गुलाम': 69}\n",
      "0 [('आंटी', 'आंटी')]\n",
      "slur,token : आंटी आंटी\n",
      "original tweet : @kanhaiyakumar आज़ादी की लड़ाई में क्या पगलेट पहली गोली तुम्हीं ने चलाई थी क्या,,,जो ईतना ज्ञान पेल रहे हो----जय भारत,,,,, #मेड_इन_झाबुआ  https://t.co/EEQ9RlAshW\n",
      "{'जिहादी': 80, 'गांड': 75, 'कटा लुंड': 75, 'जंगली': 75, 'दोगली': 75, 'भांड': 75, 'रांड': 75, 'हलाला': 75, 'काले तवे': 71, 'भूतनी के': 71}\n",
      "2 [('गोली', 'दोगली')]\n",
      "3 [('आज़ादी', 'जिहादी'), ('में', 'गांड'), ('गोली', 'गांड'), ('पहली', 'जंगली'), ('गोली', 'जंगली'), ('पहली', 'दोगली'), ('में', 'भांड'), ('में', 'रांड'), ('रहे', 'रांड'), ('चलाई', 'हलाला')]\n",
      "slur,token : गांड गोली\n",
      "slur,token : रांड रहे\n",
      "original tweet : @jagishaarora पढ़ी नही पड़ी, पढ़ी-लिखी!!\n",
      "{'गांड': 75, 'भांड': 75, 'रांड': 75, 'मुँह मैं ले': 70, 'रंडी': 67, 'नंगी_पुंगी': 67, 'नाल': 67, 'पेल': 67, 'पॉटी': 67, 'लोड़ू': 67}\n",
      "2 [('नही', 'नाल'), ('पढ़ी', 'पॉटी')]\n",
      "3 [('पढ़ी', 'रंडी'), ('नही', 'रंडी'), ('पढ़ी', 'पेल'), ('नही', 'पेल'), ('नही', 'पॉटी'), ('पड़ी,', 'पॉटी')]\n",
      "4 [('पढ़ी', 'गांड'), ('नही', 'गांड'), ('पढ़ी', 'भांड'), ('नही', 'भांड'), ('पढ़ी', 'रांड'), ('नही', 'रांड'), ('पड़ी,', 'रंडी'), ('पढ़ी', 'नाल'), ('पड़ी,', 'पेल'), ('पढ़ी', 'लोड़ू'), ('नही', 'लोड़ू')]\n",
      "5 [('पड़ी,', 'गांड'), ('पड़ी,', 'भांड'), ('पड़ी,', 'रांड'), ('पड़ी,', 'नाल'), ('पड़ी,', 'लोड़ू')]\n",
      "8 [('पढ़ी', 'नंगी_पुंगी'), ('नही', 'नंगी_पुंगी')]\n",
      "9 [('पड़ी,', 'नंगी_पुंगी'), ('पढ़ी-लिखी!!', 'पेल'), ('पढ़ी-लिखी!!', 'पॉटी')]\n",
      "10 [('नही', 'मुँह मैं ले'), ('पढ़ी-लिखी!!', 'रंडी'), ('पढ़ी-लिखी!!', 'नंगी_पुंगी'), ('पढ़ी-लिखी!!', 'नाल'), ('पढ़ी-लिखी!!', 'लोड़ू')]\n",
      "11 [('पढ़ी-लिखी!!', 'गांड'), ('पढ़ी-लिखी!!', 'भांड'), ('पढ़ी-लिखी!!', 'रांड'), ('पढ़ी', 'मुँह मैं ले'), ('पड़ी,', 'मुँह मैं ले'), ('पढ़ी-लिखी!!', 'मुँह मैं ले')]\n",
      "13 [('@jagishaarora', 'गांड'), ('@jagishaarora', 'भांड'), ('@jagishaarora', 'रांड'), ('@jagishaarora', 'मुँह मैं ले'), ('@jagishaarora', 'रंडी'), ('@jagishaarora', 'नंगी_पुंगी'), ('@jagishaarora', 'नाल'), ('@jagishaarora', 'पेल'), ('@jagishaarora', 'पॉटी'), ('@jagishaarora', 'लोड़ू')]\n",
      "original tweet : @anjanaomkashyap बीजेपी की सरकार जिस राज्य में भी रही खून की होली हुई हैं और तुम जैसे दलाल उसी की दलाली करते हो  धिक्कार😠😠😠😠😠\n",
      "{'दलाल': 100, 'रंडीखाना': 86, 'लुल्ली': 80, 'देहाती औरत': 80, 'बेहूदा औरत': 80, 'सुल्ली': 80, 'मोटी भैंस': 78, 'मुजरा': 75, 'कंजर': 75, 'ख़ुसरा': 75}\n",
      "0 [('दलाल', 'दलाल')]\n",
      "slur,token : दलाल दलाल\n",
      "original tweet : @AbhijatMishr @hariompandeyMP देश में गंदीनस्लों की तादात बढ़ाते हैं_  मांगने पर कागज नहीं दिखा पाते हैं_ राशन की कतार में सबसे आगे पाये जाते हैं _ पढाई में फिसड्डी हैं लेकिन बम बनाने में अव्वल पाये जाते हैं _ आगजनी-पत्थरबाजी में सबसे आगे पाये जाते हैं _   पुलिस कुटती है तो विक्टिम कार्ड खेलते पायें जाते हैं\n",
      "{'विक्टिम कार्ड': 100, 'साली': 100, 'रंडीखाना': 86, 'जिहादी': 80, 'कुतिया': 80, 'कुत्ती': 80, 'छिनाल': 80, 'सुल्ली': 80, 'काली कलूटी': 78, 'गांड': 75}\n",
      "2 [('कुटती', 'कुत्ती')]\n",
      "slur,token : कुत्ती कुटती\n",
      "original tweet : @vinodkapri डफोल ढपोरशंख व्यक्ति जब ये चूतिये मिलकर आजादी लेगे छीनकर लेगे आज़ादी कश्मीर को दिलाएंगे आजादी तो कोई आजादी देने वाला एक ही आया सबकी गाँड़ फटकर हाथ में आ गई अगर 15 ,20 आते ak47 लेके तो 😂😕समझो सबको साथ दे देते आजादी ये खाली ट्रेलर रिलीज किया है गाँड़ फट गई सालो की 😜भंगी साले\n",
      "{'गांड': 100, 'भंगी': 100, 'साली': 100, 'कुतिया': 80, 'कुत्ती': 80, 'मोटी भैंस': 78, 'दलाल': 75, 'दोगली': 75, 'भांड': 75, 'रांड': 75}\n",
      "1 [('😜भंगी', 'भंगी'), ('खाली', 'साली'), ('सालो', 'साली'), ('साले', 'साली')]\n",
      "slur,token : साली सालो\n",
      "slur,token : साली साले\n",
      "original tweet : @Shiva__1 यह राजस्थानी नृत्य नहीं है 😛😂 यहां भी घोटाला 😛 यह मुजरा है मुजरा 😛😛😂😂\n",
      "{'मुजरा': 100, 'कुतिया': 80, 'छुतीये': 80, 'कंजर': 75, 'चमार': 75, 'पनौती': 75, 'भांड': 75, 'महार': 75, 'लानती': 75, 'हरामी': 75}\n",
      "0 [('मुजरा', 'मुजरा')]\n",
      "slur,token : मुजरा मुजरा\n",
      "original tweet : @aajtak अर्नब गोस्वामी को गिरफ्तार करके ये महाराष्ट्र की ये #भड़वी सरकार ने खुद ही साबित कर दिया कि #उद्धव भड़वा ठाकरे सरकार जो कल तक थी आज से #हिजड़ा सरकार बन चुकी है #BlackDay4Press\n",
      "{'महार': 100, 'कुतिया': 80, 'गांड': 75, 'रांड': 75, 'लानती': 75, 'सूअर': 75, 'हरामी': 75, 'हिजरा': 75, 'चुस्लामि': 71, 'चुस्लिम': 71}\n",
      "3 [('सरकार', 'महार'), ('ही', 'महार'), ('कर', 'महार'), ('है', 'महार'), ('दिया', 'कुतिया'), ('सरकार', 'सूअर'), ('कर', 'सूअर'), ('से', 'सूअर'), ('ही', 'हरामी'), ('दिया', 'हिजरा'), ('#हिजड़ा', 'हिजरा')]\n",
      "slur,token : सूअर सरकार\n",
      "slur,token : सूअर से\n",
      "slur,token : हरामी ही\n",
      "original tweet : तुम चमार हो मटके का पानी नहीं पी सकते हो, जाओ हैंडपंप का पानी पियो..... सिर्फ गांधी और कलाम का नाम ले सकते हो #अम्बेडकर का नहीं...! बच्चों ने 'जय अम्बेडकर' क्या कहा   #मनुवादी_शिक्षक भड़क गया और  बच्चों को स्कूल से बाहर कर दिया।  #जय_भीम  https://t.co/pYJgOSUkRL\n",
      "{'चमार': 100, 'गांड': 75, 'कमीनी': 75, 'ख़ुसरा': 75, 'पनौती': 75, 'रांड': 75, 'हरामी': 75, '#छक्का': 75, 'जोरू का गुलाम': 69, 'रंडी': 67}\n",
      "0 [('चमार', 'चमार')]\n",
      "slur,token : चमार चमार\n",
      "original tweet : अंधभक्त दुनिया का सबसे गधा इंसान है उसकी गाड़ मारो तो  उसे लगता कि विकास हो रही है उसकी भलाई कि बात करो तो उसे लगता है कि हमारी गांड मारी जा रही है\n",
      "{'गधी': 100, 'कुतिया': 80, 'कुत्ती': 80, 'गांड': 75, 'मुजरा': 75, 'बलात्कार': 75, 'चमार': 75, 'भांड': 75, 'महार': 75, 'रांड': 75}\n",
      "0 [('गांड', 'गांड')]\n",
      "slur,token : गांड गांड\n",
      "original tweet : @ABDULKH67002999 @beingarun28 सुना है चुस्लमान धुराडो को पढ़कर अपनी ही बेटी से निकाय कर लेते है\n",
      "{'रंडी': 100, 'चूस': 100, 'साली': 100, 'चुसल्मान': 88, 'चुस्लामि': 86, 'चुस्लिम': 86, 'चंडाल': 80, 'सुल्ली': 80, 'रण्डी': 75, 'गांड': 75}\n",
      "2 [('चुस्लमान', 'चुसल्मान')]\n",
      "slur,token : चुसल्मान चुस्लमान\n",
      "original tweet : Biden:Modiji aapke deshvasiyon ko bolo na mujhe gaaliya dena bandh kare 🤣🤣  https://t.co/rSSjnulkA3\n",
      "{'Rape': 75, '#reservation': 64, 'naachne waali': 62, 'Gasti': 60, 'Sissy': 60, 'libtard': 57, 'secular': 57, '#sullideals': 50, 'Sanghans': 50, 'love jihad': 50}\n",
      "2 [('aapke', 'Rape'), ('kare', 'Rape')]\n",
      "3 [('na', 'Rape')]\n",
      "4 [('ko', 'Rape'), ('bolo', 'Rape'), ('mujhe', 'Rape'), ('dena', 'Rape'), ('bandh', 'Rape'), ('🤣🤣', 'Rape'), ('', 'Rape'), ('aapke', 'Gasti'), ('na', 'Gasti'), ('bandh', 'Gasti'), ('kare', 'Gasti')]\n",
      "5 [('ko', 'Gasti'), ('bolo', 'Gasti'), ('mujhe', 'Gasti'), ('gaaliya', 'Gasti'), ('dena', 'Gasti'), ('🤣🤣', 'Gasti'), ('', 'Gasti'), ('aapke', 'Sissy'), ('ko', 'Sissy'), ('bolo', 'Sissy'), ('na', 'Sissy'), ('mujhe', 'Sissy'), ('dena', 'Sissy'), ('bandh', 'Sissy'), ('kare', 'Sissy'), ('🤣🤣', 'Sissy'), ('', 'Sissy'), ('bandh', 'libtard'), ('kare', 'libtard'), ('dena', 'secular'), ('bandh', 'Sanghans')]\n",
      "6 [('gaaliya', 'Rape'), ('deshvasiyon', '#reservation'), ('gaaliya', 'Sissy'), ('bolo', 'libtard'), ('na', 'libtard'), ('dena', 'libtard'), ('bolo', 'secular'), ('na', 'secular'), ('mujhe', 'secular'), ('kare', 'secular'), ('na', 'Sanghans'), ('dena', 'Sanghans')]\n",
      "7 [('aapke', 'libtard'), ('ko', 'libtard'), ('mujhe', 'libtard'), ('gaaliya', 'libtard'), ('🤣🤣', 'libtard'), ('', 'libtard'), ('aapke', 'secular'), ('ko', 'secular'), ('gaaliya', 'secular'), ('bandh', 'secular'), ('🤣🤣', 'secular'), ('', 'secular'), ('aapke', 'Sanghans'), ('mujhe', 'Sanghans'), ('gaaliya', 'Sanghans'), ('kare', 'Sanghans')]\n",
      "8 [('deshvasiyon', 'Sissy'), ('gaaliya', '#sullideals'), ('ko', 'Sanghans'), ('bolo', 'Sanghans'), ('🤣🤣', 'Sanghans'), ('', 'Sanghans'), ('mujhe', 'love jihad'), ('gaaliya', 'love jihad'), ('dena', 'love jihad')]\n",
      "9 [('deshvasiyon', 'Gasti'), ('deshvasiyon', 'secular'), ('mujhe', '#sullideals'), ('dena', '#sullideals'), ('ko', 'love jihad'), ('bolo', 'love jihad'), ('na', 'love jihad'), ('bandh', 'love jihad'), ('kare', 'love jihad')]\n",
      "10 [('deshvasiyon', 'Rape'), ('gaaliya', '#reservation'), ('dena', '#reservation'), ('aapke', 'naachne waali'), ('gaaliya', 'naachne waali'), ('Biden:Modiji', 'libtard'), ('deshvasiyon', 'libtard'), ('aapke', '#sullideals'), ('bolo', '#sullideals'), ('na', '#sullideals'), ('bandh', '#sullideals'), ('kare', '#sullideals'), ('deshvasiyon', 'Sanghans'), ('aapke', 'love jihad'), ('deshvasiyon', 'love jihad'), ('🤣🤣', 'love jihad'), ('', 'love jihad')]\n",
      "11 [('Biden:Modiji', 'Rape'), ('Biden:Modiji', '#reservation'), ('aapke', '#reservation'), ('ko', '#reservation'), ('bolo', '#reservation'), ('na', '#reservation'), ('mujhe', '#reservation'), ('bandh', '#reservation'), ('kare', '#reservation'), ('Biden:Modiji', 'naachne waali'), ('na', 'naachne waali'), ('mujhe', 'naachne waali'), ('dena', 'naachne waali'), ('bandh', 'naachne waali'), ('kare', 'naachne waali'), ('Biden:Modiji', 'Gasti'), ('Biden:Modiji', 'Sissy'), ('Biden:Modiji', 'secular'), ('deshvasiyon', '#sullideals'), ('ko', '#sullideals'), ('🤣🤣', '#sullideals'), ('', '#sullideals'), ('Biden:Modiji', 'Sanghans'), ('Biden:Modiji', 'love jihad')]\n",
      "12 [('🤣🤣', '#reservation'), ('', '#reservation'), ('deshvasiyon', 'naachne waali'), ('bolo', 'naachne waali'), ('Biden:Modiji', '#sullideals')]\n",
      "13 [('ko', 'naachne waali'), ('🤣🤣', 'naachne waali'), ('', 'naachne waali')]\n",
      "19 [('https://t.co/rSSjnulkA3', 'secular')]\n",
      "20 [('https://t.co/rSSjnulkA3', '#reservation')]\n",
      "21 [('https://t.co/rSSjnulkA3', 'naachne waali'), ('https://t.co/rSSjnulkA3', 'Gasti'), ('https://t.co/rSSjnulkA3', 'libtard'), ('https://t.co/rSSjnulkA3', '#sullideals'), ('https://t.co/rSSjnulkA3', 'Sanghans'), ('https://t.co/rSSjnulkA3', 'love jihad')]\n",
      "22 [('https://t.co/rSSjnulkA3', 'Rape'), ('https://t.co/rSSjnulkA3', 'Sissy')]\n",
      "original tweet : #GodMorningWednesday दोजक की रहा, किसी भी पशु को मारना और कहना कि हम तो हलाल कर रहे हैं इस दोगली नीति का आपको महा कष्ट भोगना पड़ेगा पूर्ण परमात्मा की भक्ति के लिए देखें साधना टीवी शाम 7:30 बजे  https://t.co/rpmBXJHRHi\n",
      "{'दोगली': 100, 'मूत': 100, 'हलाला': 100, 'लुल्ली': 80, 'बुल्ली': 80, 'मुँह मैं ले': 80, 'सुल्ली': 80, 'गांड': 75, 'कमीनी': 75, 'मुजरा': 75}\n",
      "0 [('दोगली', 'दोगली')]\n",
      "slur,token : दोगली दोगली\n",
      "original tweet : गन्ना के घर कंगना रनौत के ऑफिस ऑफिस टूटने के बाद रोने वाले दलाल इस गरीब की झोपड़ी टूट रहा है दिल्ली में तुम्हारा आंख में पुलिया मार दिया क्या शर्म करो गरीबों के बारे में दिखाओ उनको तो रहने का कारण भी नहीं उसका तो ऑफिस टूटा है शर्म करो  https://t.co/SSu4HLQD08\n",
      "{'जिहादी': 80, 'लुल्ली': 80, 'भोंकना': 80, 'मुलिया': 80, 'बुरखे वाली': 78, 'रण्डी': 75, 'दोगली': 75, 'भांड': 75, 'महार': 75, 'रांड': 75}\n",
      "1 [('पुलिया', 'मुलिया'), ('मार', 'महार')]\n",
      "slur,token : महार मार\n",
      "original tweet : अगर चीखना,चिल्लाना,शोर मचाना, वीडियों बनवाने के लिए'कैमरामैन'के सामने 10 मीटर के दायरे में गोलगोल घूमना,नाचना,कभी हाथ नचाना कभी उछलकूद करना,मालिक को छोड़कर हर किसी पर भौंकना,काटने दौड़ना ही पत्रकारिता है:-तो मेरी गली का हर कुत्ता पत्रकार है। जी हां,मैं रिपब्लिक भारत ही हूं।\n",
      "{'जिहादी': 80, 'लुल्ली': 80, 'कुत्ती': 80, 'कुल्टा': 80, 'सुल्ली': 80, 'काली कलूटी': 78, 'गांड': 75, 'कमीनी': 75, 'बलात्कार': 75, 'कटा लुंड': 75}\n",
      "1 [('कुत्ता', 'कुत्ती')]\n",
      "slur,token : कुत्ती कुत्ता\n",
      "original tweet : एक सवाल अगर कोई पति अपनी पत्नी का त्याग करे तो उसके समर्थक उसके \"राम\" होने का दावा करते हैं और अगर कोई पत्नी अपने पति का त्याग करे तो सब मिलकर उसे कुल्टा, छिनान इत्यादि सिद्ध करने में जुट जाते हैं। आखिर क्यों??? #FridayThoughts #FridayFeeling\n",
      "{'कुल्टा': 100, 'कुतिया': 80, 'छिनाल': 80, 'छुतीये': 80, 'बुल्ली': 80, 'मुँह मैं ले': 80, 'सुल्ली': 80, 'काला टेंट': 78, 'कसाई': 75, 'गणिका': 75}\n",
      "1 [('कुल्टा,', 'कुल्टा'), ('छिनान', 'छिनाल')]\n",
      "slur,token : कुल्टा कुल्टा,\n",
      "slur,token : छिनाल छिनान\n",
      "original tweet : @ArvindKejriwal लुल्ली कब कटवाए, बताए नही?\n",
      "{'लुल्ली': 100, 'बुल्ली': 80, 'सुल्ली': 80, 'काली कलूटी': 78, 'दलाल': 75, 'नल्ली': 75, 'हलाला': 75, '#छक्का': 75, 'काला टेंट': 67, 'धोबी': 67}\n",
      "0 [('लुल्ली', 'लुल्ली')]\n",
      "slur,token : लुल्ली लुल्ली\n",
      "original tweet : @mishrasobhnath5 @kaashimishra इन्हे ये पता होना चाहिए कि धोबिन को धोबी ने खूब पीटा रा रामायण में।\n",
      "{'धोबी': 100, 'पॉटी': 100, 'रांड': 75, 'चाटुकार': 71, 'बहन चोद': 71, 'रंडी': 67, 'काला टेंट': 67, 'चरित्रहीन': 67, 'चूची': 67, 'चूड़ा': 67}\n",
      "0 [('धोबी', 'धोबी')]\n",
      "slur,token : धोबी धोबी\n",
      "original tweet : @SanatanITCell Bahut bahut dhanyawad @SanatanITCell. 🙏🏽🚩\n",
      "{'Rice bags': 67, 'Sanghans': 62, '#Sanghans': 62, 'Bitch': 60, 'Gasti': 60, 'Katwa': 60, 'toxic aunty': 55, 'nationalists': 50, 'Pak agents': 50, 'dented-painted': 50}\n",
      "4 [('Bahut', 'Bitch'), ('Bahut', 'Gasti'), ('bahut', 'Gasti'), ('Bahut', 'Katwa'), ('bahut', 'Katwa')]\n",
      "5 [('bahut', 'Bitch'), ('🙏🏽🚩', 'Bitch'), ('🙏🏽🚩', 'Gasti'), ('🙏🏽🚩', 'Katwa')]\n",
      "6 [('Bahut', 'Sanghans'), ('bahut', 'Sanghans'), ('dhanyawad', 'Katwa')]\n",
      "7 [('dhanyawad', 'Sanghans'), ('Bahut', '#Sanghans'), ('bahut', '#Sanghans'), ('dhanyawad', '#Sanghans')]\n",
      "8 [('bahut', 'Rice bags'), ('🙏🏽🚩', 'Sanghans'), ('dhanyawad', 'Gasti'), ('Bahut', 'Pak agents'), ('bahut', 'Pak agents')]\n",
      "9 [('Bahut', 'Rice bags'), ('dhanyawad', 'Rice bags'), ('🙏🏽🚩', 'Rice bags'), ('@SanatanITCell', 'Sanghans'), ('@SanatanITCell', '#Sanghans'), ('🙏🏽🚩', '#Sanghans'), ('dhanyawad', 'Bitch'), ('Bahut', 'toxic aunty'), ('bahut', 'toxic aunty'), ('dhanyawad', 'Pak agents')]\n",
      "10 [('@SanatanITCell.', 'Sanghans'), ('@SanatanITCell.', '#Sanghans'), ('dhanyawad', 'toxic aunty'), ('Bahut', 'nationalists'), ('bahut', 'nationalists'), ('🙏🏽🚩', 'Pak agents')]\n",
      "11 [('🙏🏽🚩', 'toxic aunty'), ('@SanatanITCell', 'nationalists'), ('dhanyawad', 'nationalists'), ('dhanyawad', 'dented-painted')]\n",
      "12 [('@SanatanITCell', 'Gasti'), ('@SanatanITCell', 'Katwa'), ('@SanatanITCell.', 'nationalists'), ('🙏🏽🚩', 'nationalists'), ('@SanatanITCell', 'Pak agents'), ('@SanatanITCell.', 'Pak agents'), ('Bahut', 'dented-painted'), ('bahut', 'dented-painted')]\n",
      "13 [('@SanatanITCell', 'Rice bags'), ('@SanatanITCell', 'Bitch'), ('@SanatanITCell.', 'Gasti'), ('@SanatanITCell.', 'Katwa'), ('@SanatanITCell', 'toxic aunty')]\n",
      "14 [('@SanatanITCell.', 'Rice bags'), ('@SanatanITCell.', 'Bitch'), ('@SanatanITCell.', 'toxic aunty'), ('@SanatanITCell', 'dented-painted'), ('@SanatanITCell.', 'dented-painted'), ('🙏🏽🚩', 'dented-painted')]\n",
      "original tweet : @JhaSanjay भारत को इस्लामी मुल्क बनाएंगे यहॉ पर शरिया नाफ़िज़ कराएंगे लव जिहाद फैलाएंगे रोडों को बंधक बनाएंगे ये अपनी मर्जी चलाएंगे पर कागज़ नहीं दिखाएंगे।\n",
      "{'जिहादी': 100, 'रंडी': 100, 'शरिया': 100, 'साली': 100, 'चुस्लामि': 86, 'चुस्लिम': 86, 'मुलिया': 80, 'सुल्ली': 80, 'रण्डी': 75, 'गांड': 75}\n",
      "0 [('शरिया', 'शरिया')]\n",
      "slur,token : शरिया शरिया\n",
      "original tweet : @priyankaMP_BBK मैडम जी पीयूष जैन आपके बाबा का लहास आदमी था, तभी तो ये प्रूफ होते ही मीडिया से ये खबर ही गायब हो गयी । आपके आकाओ के लिए धन जमा हो रहा था ये सब\n",
      "{'बीबी': 100, 'मेडम जी': 100, 'कुतिया': 80, 'छुतीये': 80, 'मुजरा': 75, 'कटा लुंड': 75, 'फेमिनिजम': 75, 'भांड': 75, 'रांड': 75, 'हरामी': 75}\n",
      "2 [('बाबा', 'बीबी')]\n",
      "slur,token : बीबी बाबा\n",
      "original tweet : @MahuaMoitra महुआ मोइत्रा दम है तो तो टोपी वाले राक्षस बोल सकती हो\n",
      "{'देहाती औरत': 80, 'बुल्ली': 80, 'सुल्ली': 80, 'महार': 75, 'रांड': 75, 'मुँह मैं ले': 70, 'जोरू का गुलाम': 69, 'रंडी': 67, 'लिब्राण्डू': 67, 'कलमुंही': 67}\n",
      "2 [('महुआ', 'महार')]\n",
      "slur,token : महार महुआ\n",
      "original tweet : सुअर,गाय,भैंस,कीड़े, घड़ियाल,भेड़िया, ऑक्टोपस,काकरोच,सांप,चमगादड, कुत्ते बिल्ली,और कनखजूरे तक के मांस खाने वाला चीन आज कह रहा है #शाकाहार ही बचा सकता है।  शाकाहार का हमेशा उपहास उड़ाया जाता रहा  संसार में सभी जीवों को जीने का अधिकार प्रकृति ने दिया है प्रकृति से खिलवाड़ न करे 🙏\n"
     ]
    },
    {
     "name": "stdout",
     "output_type": "stream",
     "text": [
      "{'कुत्ती': 100, 'चूस': 100, 'बुल्ली': 100, 'सूअर': 100, 'लुल्ली': 80, 'कुतिया': 80, 'बुरखे वाली': 78, 'मोटी भैंस': 78, 'जोरू का गुलाम': 77, 'गांड': 75}\n",
      "1 [('कुत्ते', 'कुत्ती')]\n",
      "slur,token : कुत्ती कुत्ते\n",
      "original tweet : @uppolitics2022 yeh @AamAadmiParty aur @aimim_national party vote katwa hi hai, aur maze ki baat hai ki yeh sirf @INCIndia ka nukshaan aur bjp ko faayeda karta hai\n",
      "{'Katwa': 100, 'nationalists': 67, 'Feminazi': 62, '#Misandry': 62, 'Bitch': 60, 'R@ndi': 60, 'ma ki chui': 60, 'anti national tukde': 58, '#carryminatiroast': 56, '#RanaAyyub': 56}\n",
      "1 [('katwa', 'Katwa')]\n",
      "slur,token : Katwa katwa\n",
      "original tweet : सिद्धू बनाना पड़ेगा तुझे @deepikapadukone  ना कपिल शर्मा का ना सोनी टीवी का, ना पाकिस्तान का ना हिंदुस्तान का, बस धोबी का कुत्ता ना घर का ना घाट का !!  #BoycottDeepikaPadukoneMovies  #bycottchhapaak  #BycottDeepikaPadukone  #DeepikaWithTukdeTukdeGang\n",
      "{'पेल': 100, 'जिहादी': 80, 'कुल्टा': 80, 'मा के भोसड़े': 80, 'काला टेंट': 78, 'गांड': 75, 'कमीनी': 75, 'भांड': 75, 'रांड': 75, 'शरिया': 75}\n",
      "2 [('कपिल', 'पेल'), ('कुत्ता', 'कुल्टा'), ('शर्मा', 'शरिया')]\n",
      "slur,token : कुल्टा कुत्ता\n",
      "slur,token : शरिया शर्मा\n",
      "original tweet : मोदी, ममता , पप्पू ___ महामारी के ईस कांड के सभी बागड़बिल्ले दोषी है  या राजनीति कुत्ती चिज है और पब्लिक चुतीया जो हर बार ईनके झंडे ठाके खडी हो ज्या सै 😡  #CORONABREAKING  https://t.co/yfFmI47Lp7\n",
      "{'बुल्ली': 100, 'जिहादी': 80, 'लुल्ली': 80, 'कुतिया': 80, 'सुल्ली': 80, 'बैल बुद्धि': 78, 'हिज़रापंती': 78, 'गांड': 75, 'कसाई': 75, 'चमार': 75}\n",
      "1 [('कांड', 'गांड')]\n",
      "2 [('चुतीया', 'कुतिया'), ('बार', 'चमार')]\n",
      "3 [('कुत्ती', 'बुल्ली'), ('कुत्ती', 'लुल्ली'), ('कुत्ती', 'कुतिया'), ('कुत्ती', 'सुल्ली'), ('या', 'गांड'), ('बार', 'गांड'), ('झंडे', 'गांड'), ('ठाके', 'गांड'), ('के', 'कसाई'), ('ईस', 'कसाई'), ('कांड', 'कसाई'), ('सभी', 'कसाई'), ('या', 'कसाई'), ('बार', 'कसाई'), ('सै', 'कसाई'), ('ममता', 'चमार'), ('या', 'चमार'), ('चिज', 'चमार'), ('और', 'चमार'), ('हर', 'चमार')]\n",
      "slur,token : कुतिया कुत्ती\n",
      "slur,token : कसाई के\n",
      "slur,token : कसाई कांड\n",
      "slur,token : चमार चिज\n",
      "original tweet : @shaziailmi जब तक आप आप पार्टी में थी तब तक आपकी जबान से हक की बात निकलती थी जिस दिन से आपने  भारतीय जनता पार्टी ज्वाइन किया है तब से आप की भाषा बदल गई है जो किसी भी दशा में देश हित में नहीं\n",
      "{'जिहादी': 80, 'कुतिया': 80, 'कुत्ती': 80, 'छिनाल': 80, 'छुतीये': 80, 'दलाल': 75, 'रांड': 75, 'शरिया': 75, 'भूतनी के': 71, 'पैर की जूती': 70}\n",
      "2 [('किया', 'कुतिया'), ('दशा', 'दलाल'), ('किया', 'शरिया')]\n",
      "slur,token : कुतिया किया\n",
      "slur,token : दलाल दशा\n",
      "original tweet : @sitaram74378829 @VishalYadavSP @ARajesh_SP @ErPrvn108 @drpreetiyadav9 @MayankYadavAdv @AnilYadav7276 @anjuydv @Anuyadav88 @anuragspparty @yadavmanish65 बेटा समय आने पर तुम्हारा पिछवाड़ा ऐसा लाल करेंगे कि देखते ही बनेगा\n",
      "{'पिछवाड़ा': 83, 'लुल्ली': 80, 'बुल्ली': 80, 'सुल्ली': 80, 'गांड': 75, 'Rape': 75, 'गणिका': 75, 'दलाल': 75, 'नल्ली': 75, 'पनौती': 75}\n",
      "1 [('लाल', 'दलाल')]\n",
      "2 [('पिछवाड़ा', 'पिछवाड़ा')]\n",
      "slur,token : पिछवाड़ा पिछवाड़ा\n",
      "original tweet : अर्नब  झट से पोल खोल देता है उन देश विरोधियों, धर्म विरोधियों की, जो विगत अनेक दशकों से बड़े आराम से परजीवी जोंक बनकर राष्ट्र के रक्त को चूस रहे हैं। #SupportArnab\n",
      "{'चूस': 100, 'पेल': 100, 'लुल्ली': 80, 'गांड': 75, 'कमीनी': 75, 'भांड': 75, 'रांड': 75, 'हरामी': 75, 'काले तवे': 71, 'मर क्यों नहीं जाती': 71}\n",
      "0 [('चूस', 'चूस')]\n",
      "slur,token : चूस चूस\n",
      "original tweet : @salonayyy Neeraj hua madhham se 🤣🤣\n",
      "{'#RanaAyyub': 56, 'Sanghans': 50, 'Rape': 50, 'R@pe': 50, 'R@p3': 50, '#Sanghans': 50, '#Love_Nahi_Jeehad_Hai': 45, '#lovejihad': 44, 'liberal': 43, 'secular': 43}\n",
      "3 [('se', 'Rape'), ('se', 'R@pe')]\n",
      "4 [('hua', 'Rape'), ('🤣🤣', 'Rape'), ('hua', 'R@pe'), ('🤣🤣', 'R@pe'), ('hua', 'R@p3'), ('se', 'R@p3'), ('🤣🤣', 'R@p3'), ('Neeraj', 'liberal')]\n",
      "5 [('madhham', 'Sanghans'), ('Neeraj', 'secular'), ('hua', 'secular'), ('se', 'secular')]\n",
      "6 [('Neeraj', 'Rape'), ('madhham', 'Rape'), ('Neeraj', 'R@pe'), ('Neeraj', 'R@p3'), ('madhham', '#Sanghans'), ('hua', 'liberal'), ('madhham', 'liberal'), ('se', 'liberal'), ('madhham', 'secular')]\n",
      "7 [('@salonayyy', '#RanaAyyub'), ('Neeraj', 'Sanghans'), ('hua', 'Sanghans'), ('madhham', 'R@pe'), ('madhham', 'R@p3'), ('🤣🤣', 'liberal'), ('🤣🤣', 'secular')]\n",
      "8 [('@salonayyy', 'Sanghans'), ('se', 'Sanghans'), ('🤣🤣', 'Sanghans'), ('@salonayyy', '#Sanghans'), ('Neeraj', '#Sanghans'), ('hua', '#Sanghans'), ('Neeraj', '#lovejihad'), ('madhham', '#lovejihad'), ('@salonayyy', 'secular')]\n",
      "9 [('Neeraj', '#RanaAyyub'), ('hua', '#RanaAyyub'), ('madhham', '#RanaAyyub'), ('@salonayyy', 'Rape'), ('se', '#Sanghans'), ('🤣🤣', '#Sanghans'), ('hua', '#lovejihad'), ('se', '#lovejihad'), ('@salonayyy', 'liberal')]\n",
      "10 [('se', '#RanaAyyub'), ('🤣🤣', '#RanaAyyub'), ('@salonayyy', 'R@pe'), ('@salonayyy', 'R@p3'), ('@salonayyy', '#lovejihad'), ('🤣🤣', '#lovejihad')]\n",
      "17 [('Neeraj', '#Love_Nahi_Jeehad_Hai')]\n",
      "18 [('madhham', '#Love_Nahi_Jeehad_Hai')]\n",
      "19 [('@salonayyy', '#Love_Nahi_Jeehad_Hai'), ('hua', '#Love_Nahi_Jeehad_Hai')]\n",
      "20 [('se', '#Love_Nahi_Jeehad_Hai')]\n",
      "21 [('🤣🤣', '#Love_Nahi_Jeehad_Hai')]\n",
      "original tweet : @rushtbhramin @GaurangBhardwa1 पैसे देकर खुद मुजरा करना सेहत के लिए\n",
      "{'मुजरा': 100, 'भोंकना': 80, 'कंजर': 75, 'चमार': 75, 'महार': 75, 'रांड': 75, 'हिजरा': 75, 'भोस्डीके': 71, 'बहन की लोड़ी': 70, 'मुँह मैं ले': 70}\n",
      "0 [('मुजरा', 'मुजरा')]\n",
      "slur,token : मुजरा मुजरा\n",
      "original tweet : @zisugour फिलहाल तू अखिलेश का लौरा चुस\n",
      "{'चूस': 100, 'लुल्ली': 80, 'कुल्टा': 80, 'बुल्ली': 80, 'सुल्ली': 80, 'दलाल': 75, 'नल्ली': 75, 'रांड': 75, 'लानती': 75, 'हलाला': 75}\n",
      "1 [('चुस', 'चूस')]\n",
      "slur,token : चूस चुस\n",
      "original tweet : मादरजात चाइना वायरस\n",
      "{'मादरजात': 100, 'मुजरा': 75, 'महार': 75, 'मादरचोद': 71, 'जूता खायेगी': 70, 'रंडी': 67, 'चरित्रहीन': 67, 'चूची': 67, 'चूड़ा': 67, 'चूस': 67}\n",
      "0 [('मादरजात', 'मादरजात')]\n",
      "slur,token : मादरजात मादरजात\n",
      "original tweet : @ChoudhryAnish @JagranNews ओए सूअर की औलाद तुझे वीडियो दिखाओ तब यकीन होगा तुझे क्या वीडियो में चैता मारते हुए कलेक्टर सीधी दिखाई दे रही है तू झूठ क्या बोल रहा है\n",
      "{'सूअर': 100, 'सूअर की औलाद': 100, 'गांड': 75, 'मुजरा': 75, 'कटा लुंड': 75, 'चमार': 75, 'भांड': 75, 'रांड': 75, 'काले तवे': 71, 'चुस्लामि': 71}\n",
      "0 [('सूअर', 'सूअर')]\n",
      "slur,token : सूअर सूअर\n",
      "original tweet : #RamRajya_Is_Coming  राम नाम के सुमरत्या अध्म तिरे अपार,अजामेल गणिका सुपप्च सदना सबरी नार। राम नाम से मतलब प्रमात्मा का नाम और नाम दीक्षा लेने के बाद सेवा जरूर है। नाम मिलेगा तत्वदर्शी संत रामपाल जी महाराज जी से। #MustListon_Satsang  https://t.co/wsnnlQTOrL\n",
      "{'गणिका': 100, 'चूस': 100, 'मुलिया': 80, 'फेमिनिजम': 75, 'रांड': 75, 'सूअर': 75, 'हरामी': 75, 'हिजरा': 75, 'चुस्लामि': 71, 'चुस्लिम': 71}\n",
      "0 [('गणिका', 'गणिका')]\n",
      "slur,token : गणिका गणिका\n",
      "original tweet : @suryapsingh_IAS रुपया लानै का काम विकास दुबे का इनवेस्टमेंट करने का काम बीबी का भागीदारो से लेनदेन बीबी के हाथ मे। विकास दुबे का एनकाउंटर हुआ है लेखाजोखा बीबी के पास लालडायरी मे लिखा है।\n",
      "{'भंगी': 100, 'गद्दार': 83, 'कुल्टा': 80, 'मुलिया': 80, 'गांड': 75, 'Rape': 75, 'भांड': 75, 'लानती': 75, 'शरिया': 75, 'हरामी': 75}\n",
      "2 [('लानै', 'लानती')]\n",
      "slur,token : लानती लानै\n",
      "original tweet : गाय का मूत पी लेंगे,गोबर खा लेंगे लेकिन दलित का छुआ भोजन  खायेंगे तो अपवित्र हो जायेंगे,इनका धर्म भ्रष्ट हो जायेगा...वाह क्या धर्म है।😠😠 #भारत_का_शर्मनाक_सच_छुआछूत  https://t.co/qUfgf1osce\n",
      "{'मूत': 100, 'जूता खायेगी': 80, 'गांड': 75, 'कमीनी': 75, 'हिजड़ा': 75, 'बलात्कार': 75, 'दलाल': 75, 'नल्ली': 75, 'रांड': 75, 'लानती': 75}\n",
      "0 [('मूत', 'मूत')]\n",
      "slur,token : मूत मूत\n",
      "original tweet : @BAK6H0D_DUNIYA @NasirRajaka @manojku5162 @MustaqeemMewati @prof_shak @Induba744744 @Rofl_Lalu @MahilaCongress @_garrywalia @Kush_voice @PragpuraPilot रण्डी के पेशाब यूंही रह जा\n",
      "{'रण्डी': 100, 'रण्डी रोना': 78, 'हिजड़ा': 75, 'महार': 75, 'रांड': 75, 'हिजरा': 75, 'रंडीखाना': 71, 'रंडी': 67, 'काला टेंट': 67, 'धोबी': 67}\n",
      "0 [('रण्डी', 'रण्डी')]\n",
      "slur,token : रण्डी रण्डी\n",
      "original tweet : दिमाग पुरा खाली हो चुका है,@KapilMishra #bmc में बहुत कचरा इक्कठा हो गया है,थोड़ा अपने दिमाग में भर लो,क्युकी खाली दिमाग शैतान का घर होता है।\n",
      "{'कचरा': 100, 'गांड': 75, 'बलात्कार': 75, 'पनौती': 75, 'रांड': 75, 'रंडीखाना': 71, 'भूतनी के': 71, 'भोस्डीके': 71, 'पैर की जूती': 70, 'मुँह मैं ले': 70}\n",
      "0 [('कचरा', 'कचरा')]\n",
      "slur,token : कचरा कचरा\n",
      "original tweet : कितनी पागल लड़की है,मैं बदसूरत हु पर झूठा नहीं,मुझे झूठ बोलने की दरकार ही नहीं, पर वो पागल लड़की तो मान बैठी है कि बदसूरत लड़के प्यार करने के लिए नहीं होते,रात मे चमकादड़ शोर करते हैं पर इंसान सुन थोड़े सकते,खैर!...मेरा दिल भी शोर करता अगर तुम्हारे पास दिल होता तो तुम सुन सकते..!\n",
      "{'बदसूरत': 100, 'लुल्ली': 80, 'कुतिया': 80, 'कुत्ती': 80, 'बुल्ली': 80, 'मर क्यों नहीं जाती': 76, 'कमीनी': 75, 'चमार': 75, 'जंगली': 75, 'दोगली': 75}\n",
      "0 [('बदसूरत', 'बदसूरत')]\n",
      "slur,token : बदसूरत बदसूरत\n",
      "original tweet : वो चमचा सूजे मुंह वाला हस्ताक्षर कर रहा है और उनके मंदबुद्धि मालिक विदेश में एंजोय हद कर दी... 😂 @INCIndia 👆🤔\n",
      "{'चमचा': 100, 'मुँह मैं ले': 80, 'बैल बुद्धि': 78, 'बलात्कार': 75, 'कंजर': 75, 'चमार': 75, 'आतंकवादी': 71, 'काले तवे': 71, 'चाटुकार': 71, 'मादरचोद': 71}\n",
      "0 [('चमचा', 'चमचा')]\n",
      "slur,token : चमचा चमचा\n",
      "original tweet : @REAL___HINDUVT 🇮🇳🚩हिन्दुस्तान जिन्दाबाद🚩🇮🇳\n",
      "{'जिहादी': 80, 'भूतनी के': 71, 'मुँह मैं ले': 70, 'बदसूरत': 67, 'चूस': 67, 'देहातन': 67, 'धोबी': 67, 'नाजायज़': 67, 'नाल': 67, 'बीबी': 67}\n",
      "8 [('जिन्दाबाद🚩🇮🇳', 'जिहादी')]\n",
      "slur,token : जिहादी जिन्दाबाद🚩🇮🇳\n",
      "original tweet : जब पडोसी की बेटी मोहल्ले के धोबी के साथ भाग जाए तब ऐसा ही लगता है थरूर जी\n",
      "{'धोबी': 100, 'भंगी': 100, 'हलाला': 100, 'लुल्ली': 80, 'बुल्ली': 80, 'मुलिया': 80, 'सुल्ली': 80, 'सौ टका टंच माल': 79, 'काला टेंट': 78, 'गांड': 75}\n",
      "0 [('धोबी', 'धोबी')]\n",
      "slur,token : धोबी धोबी\n",
      "original tweet : #GodMorningThursday •भांग तमाखू पीवैं ही, सुरापान से हेत। गोसत मिट्टी खायकर जंगली बनैं प्रेत।। Most watching sadhna tv on 7:30 pm @aajtak  @cmohry  https://t.co/0wdJmEXpMq\n",
      "{'जंगली': 100, 'कंजर': 75, 'ख़ुसरा': 75, 'दोगली': 75, 'भांड': 75, 'रांड': 75, 'सूअर': 75, 'टट्टी': 75, 'बाज़ारू औरत': 70, 'बेहूदा औरत': 70}\n",
      "0 [('जंगली', 'जंगली')]\n",
      "slur,token : जंगली जंगली\n",
      "original tweet : \"पहले प्रोमिस करो थप्पड़ नहीं मारोगे, तब आऊंगा नीचे\"  https://t.co/pjL9m5qyW7\n",
      "{'गांड': 75, 'महार': 75, 'रांड': 75, 'सूअर': 75, 'हरामी': 75, 'हलाला': 75, 'रंडीखाना': 71, 'पैर की जूती': 70, 'मुँह मैं ले': 70, 'रंडी': 67}\n",
      "3 [('नहीं', 'महार')]\n",
      "4 [('करो', 'गांड'), ('नहीं', 'गांड'), ('तब', 'गांड'), ('आऊंगा', 'गांड'), ('', 'गांड'), ('\"पहले', 'महार'), ('करो', 'महार'), ('तब', 'महार'), ('', 'महार'), ('करो', 'रांड'), ('नहीं', 'रांड'), ('तब', 'रांड'), ('आऊंगा', 'रांड'), ('', 'रांड'), ('करो', 'सूअर'), ('नहीं', 'सूअर'), ('तब', 'सूअर'), ('', 'सूअर'), ('करो', 'हरामी'), ('\"पहले', 'हलाला'), ('आऊंगा', 'हलाला'), ('करो', 'रंडी'), ('नहीं', 'रंडी'), ('तब', 'रंडी'), ('आऊंगा', 'रंडी'), ('', 'रंडी')]\n",
      "5 [('\"पहले', 'गांड'), ('थप्पड़', 'गांड'), ('नीचे\"', 'गांड'), ('मारोगे,', 'महार'), ('आऊंगा', 'महार'), ('नीचे\"', 'महार'), ('\"पहले', 'रांड'), ('थप्पड़', 'रांड'), ('नीचे\"', 'रांड'), ('\"पहले', 'सूअर'), ('आऊंगा', 'सूअर'), ('नीचे\"', 'सूअर'), ('\"पहले', 'हरामी'), ('प्रोमिस', 'हरामी'), ('नहीं', 'हरामी'), ('तब', 'हरामी'), ('आऊंगा', 'हरामी'), ('नीचे\"', 'हरामी'), ('', 'हरामी'), ('करो', 'हलाला'), ('नहीं', 'हलाला'), ('तब', 'हलाला'), ('नीचे\"', 'हलाला'), ('', 'हलाला'), ('\"पहले', 'रंडी'), ('थप्पड़', 'रंडी'), ('नीचे\"', 'रंडी')]\n",
      "slur,token : महार मारोगे,\n",
      "original tweet : @richaanirudh @PMOIndia @richaanirudh दीदी आप अभी भी 27 साल की लगती हो।अगर कोई आपको आंटी कहे तो समझिए गा की उसका आंख खराब है।मै आपका शो बहुत देखता था स्कूल लाइफ में। आशीर्वाद के रूप में फ़ॉलोबैक दे दीजिए ना🇮🇳माता की जय जय बिहार जय श्री राम🕉️🚩मेरी💓बड़ी बहन @richaanirudh दीदी(लेडी सिंघम)👇  https://t.co/5Y0zoXY21D\n",
      "{'साली': 100, 'आंटी': 100, 'कुतिया': 80, 'कुत्ती': 80, 'बुल्ली': 80, 'सुल्ली': 80, 'काला टेंट': 78, 'गांड': 75, 'कटा लुंड': 75, 'गणिका': 75}\n",
      "0 [('आंटी', 'आंटी')]\n",
      "slur,token : आंटी आंटी\n",
      "original tweet : @Anuj_Singh34 @myogiadityanath @Uppolice @dgpup @shalabhmani @hariompandeyMP @AmanChopra_ योगी जी एक बब्बर शेर है तुम जेसी कुतिया से नहीं डरता जय हो योगी\n",
      "{'कुतिया': 100, 'बीबी': 100, 'छुतीये': 80, 'गांड': 75, 'मुजरा': 75, 'भांड': 75, 'रांड': 75, 'शरिया': 75, 'मर क्यों नहीं जाती': 71, 'भोस्डीके': 71}\n",
      "0 [('कुतिया', 'कुतिया')]\n",
      "slur,token : कुतिया कुतिया\n",
      "original tweet : @AcharyaPramodk मौलाना पीएफआई के दलाल क्या आप उसके प्रवक्ता हो कितनी कीमत मिलती है पीएफआई को डिफेंड करने की? अपने गधे नेता की तरह तुम भी गधे ही हो।\n",
      "{'गधी': 100, 'दलाल': 100, 'भूतनी के': 86, 'लुल्ली': 80, 'कुतिया': 80, 'कुत्ती': 80, 'मुलिया': 80, 'गांड': 75, 'Rape': 75, 'कटा लुंड': 75}\n",
      "0 [('दलाल', 'दलाल')]\n",
      "slur,token : दलाल दलाल\n",
      "original tweet : @mkatju सारी उम्र स्वतंत्र भारत में लोकतंत्र के दो महत्वपूर्ण स्तंभ - न्याय पालिका एवं मिडिया - को अंदर से दीमक का तरह ध्वस्त करने के बाद यह उद्गार...  शास्त्रों में इसे ही 'विधवा विलाप' या 'रण्डी रोना' कहा गया है...\n",
      "{'पेल': 100, 'कुतिया': 80, 'कुत्ती': 80, 'भोंकना': 80, 'गांड': 75, 'मुजरा': 75, 'बलात्कार': 75, 'ख़ुसरा': 75, 'चमार': 75, 'दोगली': 75}\n",
      "2 [('में', 'पेल'), ('के', 'पेल'), ('से', 'पेल'), ('उम्र', 'चमार')]\n",
      "3 [('दो', 'पेल'), ('-', 'पेल'), ('एवं', 'पेल'), ('को', 'पेल'), ('का', 'पेल'), ('तरह', 'पेल'), ('बाद', 'पेल'), ('यह', 'पेल'), ('', 'पेल'), ('इसे', 'पेल'), ('ही', 'पेल'), ('या', 'पेल'), ('कहा', 'पेल'), ('गया', 'पेल'), ('मिडिया', 'कुतिया'), ('सारी', 'गांड'), ('भारत', 'गांड'), ('में', 'गांड'), ('एवं', 'गांड'), ('का', 'गांड'), ('बाद', 'गांड'), ('या', 'गांड'), ('गया', 'गांड'), ('सारी', 'चमार'), ('भारत', 'चमार'), ('में', 'चमार'), ('अंदर', 'चमार'), ('का', 'चमार'), ('बाद', 'चमार'), ('या', 'चमार'), ('कहा', 'चमार'), ('गया', 'चमार'), ('दो', 'दोगली')]\n",
      "slur,token : गांड गया\n",
      "slur,token : दोगली दो\n",
      "original tweet : 1. शिवसेना अपने मूल एजेण्डे पर अभी भी कायम है, इसलिए इन्होंने नागरिकता संशोधन बिल पर केन्द्र सरकार का साथ दिया और अब सावरकर को भी लेकर इनको कांग्रेस का रवैया बर्दाश्त नहीं है।\n",
      "{'बुल्ली': 80, 'भोंकना': 80, 'मुलिया': 80, 'रण्डी रोना': 78, 'रण्डी': 75, 'पनौती': 75, 'भांड': 75, 'स्कर्ट वाली बाई': 73, 'भूतनी के': 71, 'म्लेच्छा': 71}\n",
      "3 [('दिया', 'मुलिया'), ('भी', 'भांड'), ('कायम', 'भांड'), ('का', 'भांड'), ('साथ', 'भांड')]\n",
      "slur,token : भांड भी\n",
      "original tweet : चुप बत्तमीज इंसान..... 🤫🤫\n",
      "{'बत्तमीज़': 86, 'कुत्ती': 80, 'मुजरा': 75, 'पनौती': 75, 'चूची': 67, 'चूड़ा': 67, 'चूस': 67, 'धोबी': 67, 'पेल': 67, 'पॉटी': 67}\n",
      "1 [('बत्तमीज', 'बत्तमीज़')]\n",
      "slur,token : बत्तमीज़ बत्तमीज\n",
      "original tweet : @iMac_too अमेठी में मोदी के मंत्री से हारने वाला चीन से MOU करने वाला कांग्रेस को जिहादियों की पार्टी बनाने वाला एंटोनियो पुत्र वायनाड की जगह वाराणसी से मोदी के खिलाफ चुनाव लड़ ले  कुछ जिहादी कहेंगे मोदी क्यू वायनाड जाकर नही लड़ता इसके खिलाफ,तो मोदी ने इस्लाम को भारत छोड़ने का कहा है क्या?\n"
     ]
    },
    {
     "name": "stdout",
     "output_type": "stream",
     "text": [
      "{'जिहादी': 100, 'मूत': 100, 'मुँह मैं ले': 80, 'रण्डी रोना': 78, 'बुरखे वाली': 78, 'जोरू का गुलाम': 77, 'गांड': 75, 'पनौती': 75, 'भांड': 75, 'महार': 75}\n",
      "0 [('जिहादी', 'जिहादी')]\n",
      "slur,token : जिहादी जिहादी\n",
      "original tweet : @priyankagandhi कांग्रेस ने ऐक बार भी इस बिटिया को सुना होता, तो कन्हैया कुमार आज कांग्रेस मे ना होता?  #GandhiJayanti  #LalBahadurShastriJayanti  https://t.co/LDYoeTqqSP\n",
      "{'Gasti': 80, 'गांड': 75, 'कमीनी': 75, 'मुजरा': 75, 'चमार': 75, 'चुसल्मान': 75, 'भांड': 75, 'महार': 75, 'रांड': 75, 'चाटुकार': 71}\n",
      "2 [('बार', 'चमार'), ('कुमार', 'चमार'), ('बार', 'महार')]\n",
      "3 [('बार', 'गांड'), ('ना', 'गांड'), ('सुना', 'मुजरा'), ('मे', 'चमार'), ('ना', 'चमार'), ('बार', 'भांड'), ('भी', 'भांड'), ('ना', 'भांड'), ('कुमार', 'महार'), ('मे', 'महार'), ('ना', 'महार'), ('बार', 'रांड'), ('ना', 'रांड')]\n",
      "slur,token : भांड भी\n",
      "slur,token : महार मे\n",
      "original tweet : जो भारतकी वेक्सीन को मोदी वेक्सीन कहते हें उनके लिए, ओर जो मोदीजीको गालियां देतेहै ,उनकोभी मोदीजी वेक्सीन लगानेका अनुरोध करतेहें..  भले तु(पप्पू) मोदीजीका विरोध कर रहाहे, पर वेक्सीन लगा लेना,वरना मोदीजीको हर चुनाव में जिताएगा कौन?😊  https://t.co/lZJhFUgwkq\n",
      "{'मुलिया': 80, 'जोरू का गुलाम': 77, 'गांड': 75, 'कटा लुंड': 75, 'जंगली': 75, 'दोगली': 75, 'भूतनी के': 71, 'भोस्डीके': 71, 'पैर की जूती': 70, 'मा के भोसड़े': 70}\n",
      "3 [('गालियां', 'मुलिया'), ('हें', 'गांड'), ('लगा', 'गांड'), ('में', 'गांड'), ('मोदी', 'दोगली')]\n",
      "4 [('लिए,', 'मुलिया'), ('लगा', 'मुलिया'), ('जो', 'गांड'), ('को', 'गांड'), ('मोदी', 'गांड'), ('कहते', 'गांड'), ('उनके', 'गांड'), ('लिए,', 'गांड'), ('ओर', 'गांड'), ('', 'गांड'), ('भले', 'गांड'), ('कर', 'गांड'), ('पर', 'गांड'), ('हर', 'गांड'), ('जो', 'जंगली'), ('मोदी', 'जंगली'), ('भले', 'जंगली'), ('लगा', 'जंगली'), ('जो', 'दोगली'), ('को', 'दोगली'), ('मोदीजी', 'दोगली'), ('भले', 'दोगली'), ('लगा', 'दोगली')]\n",
      "slur,token : जंगली जो\n",
      "original tweet : अकाल मृत्यु वह मरे जो कर्म करे चंडाल का काल भी उसका क्या करे जो भक्त हो महाकाल का।🙏 जय श्री महाकाल 🙏\n",
      "{'चंडाल': 100, 'मूत': 100, 'काले तवे': 86, 'कुतिया': 80, 'कुल्टा': 80, 'छुतीये': 80, 'मुलिया': 80, 'गांड': 75, 'भांड': 75, 'महार': 75}\n",
      "0 [('चंडाल', 'चंडाल')]\n",
      "slur,token : चंडाल चंडाल\n",
      "original tweet : कौन भडवा हिंदू टेरर की बात फिर कर रहा है। ये कुत्ते भूँकते रहेंगे।\n",
      "{'जिहादी': 80, 'पैर की जूती': 80, 'कमीनी': 75, 'बलात्कार': 75, 'काले तवे': 71, 'जूता खायेगी': 70, 'बेहूदा औरत': 70, 'मुँह मैं ले': 70, 'रंडी': 67, 'किन्नर': 67}\n",
      "3 [('कौन', 'कमीनी'), ('की', 'कमीनी'), ('की', 'रंडी'), ('रहा', 'रंडी')]\n",
      "slur,token : कमीनी कौन\n",
      "slur,token : कमीनी की\n",
      "original tweet : @aajtak @ReporterRavish लाइम लाइट में आने के लिए सनातन धर्म पर प्रहार करते है यही घटिया और घटियापन की निशानी है इस वाहियात औरत पर केस होना चाहिये इसके साथ जो भी इस गाने को बनाने से लेकर रिलीज करने सब पर केस करना चाहिए अब सनातन धर्म पर प्रहार नही सहेंगे !! जय सनातन धर्म की\n",
      "{'घटिया औरत': 89, 'कुल्टा': 80, 'मुलिया': 80, 'मोटी भैंस': 78, 'गांड': 75, 'कटा लुंड': 75, 'चमार': 75, 'पनौती': 75, 'भांड': 75, 'महार': 75}\n",
      "2 [('गाने', 'गांड')]\n",
      "slur,token : गांड गाने\n",
      "original tweet : @KanganaTeam भक्ति में लीन  संघी नारी...  पागल औरत कभी तो दिमाग इस्तेमाल कर लिया कर। कोई मौका नहीं छोड़ती तू अपनी औकात दिखने में.., ❗😜🤓🤓\n",
      "{'पागल औरत': 100, 'कुतिया': 80, 'कुत्ती': 80, 'मुलिया': 80, 'गांड': 75, 'कसाई': 75, 'चालू औरत': 75, 'जंगली': 75, 'भांड': 75, 'रांड': 75}\n",
      "2 [('लिया', 'मुलिया'), ('कोई', 'कसाई')]\n",
      "slur,token : कसाई कोई\n",
      "original tweet : @MimrotReena अबी गधी, भक्त हैं, अड़ना मत, पेल देंगे। इज्जत देने वाले को इज्जत देते हैं और धमकाने वालों को पेल देते हैं।\n",
      "{'गधी': 100, 'पेल': 100, 'कुतिया': 80, 'कुत्ती': 80, 'पैर की जूती': 80, 'गांड': 75, 'दोगली': 75, 'भांड': 75, 'हरामी': 75, 'भूतनी के': 71}\n",
      "0 [('पेल', 'पेल')]\n",
      "slur,token : पेल पेल\n",
      "original tweet : @Profdilipmandal हरामी पना नही जाएगा,कुत्ते दलाल\n",
      "{'कुत्ती': 100, 'दलाल': 100, 'हरामी': 100, 'लुल्ली': 80, 'कुतिया': 80, 'बुल्ली': 80, 'सुल्ली': 80, 'गांड': 75, 'गणिका': 75, 'जंगली': 75}\n",
      "0 [('दलाल', 'दलाल'), ('हरामी', 'हरामी')]\n",
      "slur,token : दलाल दलाल\n",
      "slur,token : हरामी हरामी\n",
      "original tweet : @BhagalSanju कंगना का अनुसरण करना जरूरी है,वो भी नंगी ये भी नंगी,बाकी अमीश देवगन पूरा कर देता है,भडवा।\n",
      "{'भोंकना': 80, 'रण्डी': 75, 'गांड': 75, 'कमीनी': 75, 'मुजरा': 75, 'कंजर': 75, 'ख़ुसरा': 75, 'गणिका': 75, 'दोगली': 75, 'भांड': 75}\n",
      "2 [('कर', 'कंजर')]\n",
      "slur,token : कंजर कर\n",
      "original tweet : Kya ye sahi hai ??\n",
      "{'Sanghans': 50, 'love jihad': 50, 'Rape': 50, 'R@pe': 50, '#Sanghans': 50, 'ma ki chui': 50, 'naachne waali': 46, 'toilet saaf': 45, '#lovejihad': 44, 'FakeCaseWaliBiwi': 41}\n",
      "3 [('ye', 'Rape'), ('sahi', 'Rape'), ('hai', 'Rape'), ('ye', 'R@pe')]\n",
      "4 [('Kya', 'Rape'), ('??', 'Rape'), ('Kya', 'R@pe'), ('sahi', 'R@pe'), ('hai', 'R@pe'), ('??', 'R@pe')]\n",
      "6 [('sahi', 'Sanghans'), ('hai', 'Sanghans')]\n",
      "7 [('Kya', 'Sanghans'), ('sahi', '#Sanghans'), ('hai', '#Sanghans'), ('sahi', 'ma ki chui')]\n",
      "8 [('ye', 'Sanghans'), ('??', 'Sanghans'), ('hai', 'love jihad'), ('Kya', '#Sanghans'), ('hai', 'ma ki chui'), ('hai', '#lovejihad')]\n",
      "9 [('Kya', 'love jihad'), ('ye', 'love jihad'), ('sahi', 'love jihad'), ('ye', '#Sanghans'), ('??', '#Sanghans'), ('sahi', 'toilet saaf'), ('Kya', '#lovejihad'), ('ye', '#lovejihad'), ('sahi', '#lovejihad')]\n",
      "10 [('??', 'love jihad'), ('Kya', 'ma ki chui'), ('ye', 'ma ki chui'), ('??', 'ma ki chui'), ('sahi', 'naachne waali'), ('hai', 'naachne waali'), ('Kya', 'toilet saaf'), ('ye', 'toilet saaf'), ('hai', 'toilet saaf'), ('??', '#lovejihad')]\n",
      "11 [('??', 'toilet saaf')]\n",
      "12 [('Kya', 'naachne waali'), ('ye', 'naachne waali')]\n",
      "13 [('??', 'naachne waali'), ('sahi', 'FakeCaseWaliBiwi')]\n",
      "14 [('hai', 'FakeCaseWaliBiwi')]\n",
      "15 [('Kya', 'FakeCaseWaliBiwi'), ('ye', 'FakeCaseWaliBiwi')]\n",
      "16 [('??', 'FakeCaseWaliBiwi')]\n",
      "original tweet : @Report_Hate21 MOODI\"'S FORECAST NOT by मौन मुस्लिममोहिनी sickular राष्ट्रीय अर्थशास्त्री \"यहाँ लौंडों से गलती नहीं होती\"  https://t.co/aHsMw2BnrY\n",
      "{'sickular': 100, 'साली': 100, 'चुस्लामि': 86, 'चुस्लिम': 86, 'सुल्ली': 80, 'कमीनी': 75, 'कटा लुंड': 75, 'चुसल्मान': 75, 'जंगली': 75, 'दोगली': 75}\n",
      "0 [('sickular', 'sickular')]\n",
      "slur,token : sickular sickular\n",
      "original tweet : अब आप ले रहे हो आंटी की\n",
      "{'पेल': 100, 'आंटी': 100, 'रांड': 75, 'मुँह मैं ले': 70, 'रंडी': 67, 'लिब्राण्डू': 67, 'कलमुंही': 67, 'काला टेंट': 67, 'नाल': 67, 'पॉटी': 67}\n",
      "0 [('आंटी', 'आंटी')]\n",
      "slur,token : आंटी आंटी\n",
      "original tweet : @_sayema यूं अपने गमों की नुमाइश न कर जो तेरा है तेरे पास चलकर आयेगा\n",
      "{'गांड': 75, 'कमीनी': 75, 'पनौती': 75, 'रांड': 75, 'शरिया': 75, 'जूता खायेगी': 70, 'पैर की जूती': 70, 'मा के भोसड़े': 70, 'मुँह मैं ले': 70, 'रंडी': 67}\n",
      "3 [('यूं', 'गांड'), ('गमों', 'गांड'), ('पास', 'गांड'), ('की', 'कमीनी'), ('यूं', 'रांड'), ('पास', 'रांड'), ('की', 'रंडी')]\n",
      "slur,token : गांड गमों\n",
      "slur,token : कमीनी की\n",
      "original tweet : कांग्रेस में रहने के लिए गुलाम होना और नेता बनने के लिए भौंकना उनकी मजबूरी है  https://t.co/wC7pPqNBdl\n",
      "{'भोंकना': 100, 'बहन की लोड़ी': 80, 'जोरू का गुलाम': 77, 'गांड': 75, 'कटा लुंड': 75, 'चुसल्मान': 75, 'पनौती': 75, 'भांड': 75, 'रांड': 75, 'लानती': 75}\n",
      "1 [('भौंकना', 'भोंकना')]\n",
      "slur,token : भोंकना भौंकना\n",
      "original tweet : आकाल मृत्यु ओ मरे, जो कर्म करे चंडाल का,    अरे काल भी उसका क्या करे जो भक्त हो महाकाल का ........         🙏  हर हर महादेव🙏  आप को और आप के पूरे परिवार को मेरे तरफ से #महाशिवरात्रि पर्व की बहुत बहुत बधाई एवं शुभकामनाएं  #Mahashivratri #Mahashivaratri2020 #Shivratri  https://t.co/Q1JsALHcEC\n",
      "{'चंडाल': 100, 'मूत': 100, 'हरामी': 100, 'काले तवे': 86, 'हरामजादी': 86, 'जिहादी': 80, 'कुतिया': 80, 'कुल्टा': 80, 'छुतीये': 80, 'मुलिया': 80}\n",
      "0 [('चंडाल', 'चंडाल')]\n",
      "slur,token : चंडाल चंडाल\n",
      "original tweet : @kavita_krishnan @tripura_cmo @AilajHq @clifroz तुम लोग ऐसी ही हीन भावना मे जियो वैसा भी इस्लाम वामपंथी साथ होते है\n",
      "{'साली': 100, 'चुस्लामि': 86, 'चुस्लिम': 86, 'मुलिया': 80, 'सुल्ली': 80, 'म्लेच्छा': 71, 'मुँह मैं ले': 70, 'जोरू का गुलाम': 69, 'चूस': 67, 'देहातन': 67}\n",
      "2 [('साथ', 'साली')]\n",
      "slur,token : साली साथ\n",
      "original tweet : @Shekhawat_Rj23 @aajtak रास्ते मैं है\n",
      "{'Katwa': 80, 'रांड': 75, 'चुस्लामि': 71, 'चुस्लिम': 71, 'मुँह मैं ले': 70, 'रंडी': 67, 'कलमुंही': 67, 'चूस': 67, 'मूत': 67, 'साली': 67}\n",
      "2 [('मैं', 'मूत')]\n",
      "3 [('मैं', 'रांड'), ('मैं', 'चूस'), ('है', 'चूस'), ('है', 'मूत')]\n",
      "4 [('रास्ते', 'रांड'), ('है', 'रांड'), ('मैं', 'रंडी'), ('है', 'रंडी'), ('मैं', 'साली'), ('है', 'साली')]\n",
      "slur,token : रांड रास्ते\n",
      "original tweet : @kunalkamra88 साले dkbose... किसके हलाला से पैदा हुआ था तु???\n",
      "{'साली': 100, 'हलाला': 100, 'लुल्ली': 80, 'सुल्ली': 80, 'कटा लुंड': 75, '#छक्का': 75, 'चुस्लामि': 71, 'चुस्लिम': 71, 'मुँह मैं ले': 70, 'जोरू का गुलाम': 69}\n",
      "0 [('हलाला', 'हलाला')]\n",
      "slur,token : हलाला हलाला\n",
      "original tweet : @lerandomanon @MonaSharmapr Pehele mujhe hazam hone do baat ko.\n",
      "{'R@pe': 100, 'Rape': 75, 'R@ndi': 60, 'liberal': 57, '#MenToo': 50, 'Sanghans': 50, 'love jihad': 50, 'गांड': 50, '#Sanghans': 50, 'भांड': 50}\n",
      "3 [('hone', 'R@pe'), ('hone', 'Rape'), ('baat', 'Rape')]\n",
      "4 [('mujhe', 'R@pe'), ('do', 'R@pe'), ('baat', 'R@pe'), ('ko.', 'R@pe'), ('mujhe', 'Rape'), ('hazam', 'Rape'), ('do', 'Rape'), ('ko.', 'Rape'), ('hone', 'R@ndi'), ('do', 'R@ndi'), ('hone', 'गांड'), ('do', 'गांड'), ('baat', 'गांड'), ('ko.', 'गांड'), ('hone', 'भांड'), ('do', 'भांड'), ('baat', 'भांड'), ('ko.', 'भांड')]\n",
      "5 [('Pehele', 'R@pe'), ('hazam', 'R@pe'), ('Pehele', 'Rape'), ('mujhe', 'R@ndi'), ('hazam', 'R@ndi'), ('baat', 'R@ndi'), ('ko.', 'R@ndi'), ('baat', 'liberal'), ('mujhe', 'गांड'), ('hazam', 'गांड'), ('mujhe', 'भांड'), ('hazam', 'भांड')]\n",
      "6 [('Pehele', 'R@ndi'), ('Pehele', 'liberal'), ('hazam', 'liberal'), ('hone', 'liberal'), ('Pehele', '#MenToo'), ('hone', '#MenToo'), ('do', '#MenToo'), ('ko.', '#MenToo'), ('hazam', 'Sanghans'), ('hone', 'Sanghans'), ('baat', 'Sanghans'), ('Pehele', 'गांड'), ('Pehele', 'भांड')]\n",
      "7 [('mujhe', 'liberal'), ('do', 'liberal'), ('ko.', 'liberal'), ('mujhe', '#MenToo'), ('hazam', '#MenToo'), ('baat', '#MenToo'), ('Pehele', 'Sanghans'), ('mujhe', 'Sanghans'), ('hazam', '#Sanghans'), ('hone', '#Sanghans'), ('baat', '#Sanghans')]\n",
      "8 [('do', 'Sanghans'), ('ko.', 'Sanghans'), ('mujhe', 'love jihad'), ('hone', 'love jihad'), ('Pehele', '#Sanghans'), ('mujhe', '#Sanghans')]\n",
      "9 [('@lerandomanon', '#MenToo'), ('@lerandomanon', 'Sanghans'), ('Pehele', 'love jihad'), ('hazam', 'love jihad'), ('do', 'love jihad'), ('baat', 'love jihad'), ('ko.', 'love jihad'), ('@lerandomanon', '#Sanghans'), ('do', '#Sanghans'), ('ko.', '#Sanghans')]\n",
      "10 [('@MonaSharmapr', 'Sanghans'), ('@MonaSharmapr', '#Sanghans')]\n",
      "11 [('@MonaSharmapr', 'Rape'), ('@lerandomanon', 'R@ndi'), ('@lerandomanon', 'liberal'), ('@MonaSharmapr', 'liberal'), ('@MonaSharmapr', '#MenToo'), ('@lerandomanon', 'love jihad'), ('@MonaSharmapr', 'love jihad')]\n",
      "12 [('@lerandomanon', 'R@pe'), ('@MonaSharmapr', 'R@pe'), ('@lerandomanon', 'Rape'), ('@MonaSharmapr', 'R@ndi')]\n",
      "13 [('@lerandomanon', 'गांड'), ('@MonaSharmapr', 'गांड'), ('@lerandomanon', 'भांड'), ('@MonaSharmapr', 'भांड')]\n",
      "original tweet : @Mayawati मेडम,  आपका,  गहलोत ने राजस्थान में सूपड़ा साफ कर दिया और आप बस खाली टूविटर से ज्ञान पेल रहीं हैं।  कुछ पल आप भी गुजार के देखो राजस्थान में।\n",
      "{'काला टेंट': 89, 'मेडम जी': 83, 'कुल्टा': 80, 'भांड': 75, 'लानती': 75, 'हलाला': 75, 'काले तवे': 71, 'भूतनी के': 71, 'भोस्डीके': 71, 'पैर की जूती': 70}\n",
      "3 [('मेडम,', 'मेडम जी'), ('में', 'भांड'), ('साफ', 'भांड'), ('खाली', 'भांड'), ('हैं।', 'भांड'), ('भी', 'भांड'), ('में।', 'भांड'), ('खाली', 'लानती'), ('खाली', 'हलाला')]\n",
      "slur,token : मेडम जी मेडम,\n",
      "slur,token : भांड भी\n",
      "time: 860 ms (started: 2022-02-10 14:42:56 +05:30)\n"
     ]
    }
   ],
   "source": [
    "import csv\n",
    "import timeit\n",
    "\n",
    "fields = ['tweet_id','original_tweet','replaced_tweet','slur']\n",
    "\n",
    "with open('slur_replace_results_hindi_v5_0.csv','w') as csv_file:\n",
    "    \n",
    "    csvwriter = csv.writer(csv_file)\n",
    "    csvwriter.writerow(fields)\n",
    "    \n",
    "    final_row = []\n",
    "    execution_time = 0\n",
    "    \n",
    "    for tweet in hi_lang_data.iterrows():\n",
    "        \n",
    "        row = []\n",
    "        \n",
    "        row.append(tweet[1]['Tweet ID'])\n",
    "        row.append(tweet[1]['Tweet'])\n",
    "        \n",
    "        #start = timeit.default_timer()\n",
    "        row.append(replace_slurs_score_v5_0(tweet[1]['Tweet'],slurs_list_updated,70))\n",
    "        #stop = timeit.default_timer()\n",
    "        \n",
    "        #execution_time += (stop - start)\n",
    "        \n",
    "        row.append(tweet[1]['Search'])\n",
    "        \n",
    "        final_row.append(row)\n",
    "        \n",
    "    csvwriter.writerows(final_row)\n"
   ]
  },
  {
   "cell_type": "markdown",
   "metadata": {},
   "source": [
    "### WorkFlow :\n",
    "\n",
    "Exact Matching -> Approx Matching\n",
    "\n"
   ]
  },
  {
   "cell_type": "code",
   "execution_count": null,
   "metadata": {},
   "outputs": [],
   "source": [
    "\n",
    "    \n",
    "    \n",
    "    \n",
    "    \n",
    "    \n",
    "    \n",
    "    "
   ]
  }
 ],
 "metadata": {
  "kernelspec": {
   "display_name": "nlp",
   "language": "python",
   "name": "nlp"
  },
  "language_info": {
   "codemirror_mode": {
    "name": "ipython",
    "version": 3
   },
   "file_extension": ".py",
   "mimetype": "text/x-python",
   "name": "python",
   "nbconvert_exporter": "python",
   "pygments_lexer": "ipython3",
   "version": "3.7.11"
  }
 },
 "nbformat": 4,
 "nbformat_minor": 2
}
